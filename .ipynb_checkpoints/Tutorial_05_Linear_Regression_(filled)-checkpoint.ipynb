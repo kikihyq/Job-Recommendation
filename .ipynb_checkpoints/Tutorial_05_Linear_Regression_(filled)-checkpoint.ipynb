{
 "cells": [
  {
   "cell_type": "markdown",
   "metadata": {
    "id": "wF5mcXIWy7wL"
   },
   "source": [
    "# Tutorial 5 (Week 6) - Linear Regression\n",
    "\n",
    "## Learning Objectives\n",
    "\n",
    "After completing this tutorial, you should be able to:\n",
    "\n",
    "+ Use `statsmodels` to perform linear regression\n",
    "+ Implement Simple Linear Regression\n",
    "+ Estimate coefficients and analyze the model\n",
    "+ Apply the model for hypothesis testing\n",
    "+ Implement Multiple Linear Regression\n",
    "\n",
    "This tutorial uses the case study covered in the textbook \"An Introduction to Statistical Learning: with Applications in R\" by James G. et al. ([link](https://link-springer-com.libproxy1.nus.edu.sg/book/10.1007/978-1-4614-7138-7)). The codes are written using this [notebook](https://github.com/justmarkham/DAT4/blob/master/notebooks/08_linear_regression.ipynb) and this [notebook](https://nbviewer.jupyter.org/github/JWarmenhoven/ISL-python/blob/master/Notebooks/Chapter%203.ipynb)."
   ]
  },
  {
   "cell_type": "code",
   "execution_count": 2,
   "metadata": {
    "id": "A9KmErcOy7wQ",
    "scrolled": false
   },
   "outputs": [],
   "source": [
    "import pandas as pd\n",
    "import numpy as np\n",
    "import matplotlib.pyplot as plt\n",
    "import seaborn as sns\n",
    "\n",
    "%matplotlib inline\n",
    "#plt.style.use('seaborn-v0_8-white')"
   ]
  },
  {
   "cell_type": "markdown",
   "metadata": {
    "id": "qukyJI3qy7wP"
   },
   "source": [
    "## Dataset\n",
    "\n",
    "The Advertising data set consists of the _sales_ (in thousands on units) of a certain product in 200 different markets, along with _advertising budgets_ (in thousands of dollars) for the product in each of those markets for three different media: TV, radio, and newspaper. \n",
    "\n",
    "Suppose you are a data analyst hired to provide advice on how to improve sales of this product.\n",
    "\n",
    "It is not possible for your client to directly increase sales of the product. On the other hand, they can control the advertising expenditure in each of the three media. Therefore, if you determine that there is an association between advertising and sales, then you can instruct your client to adjust advertising budgets, thereby indirectly increasing sales.\n",
    "In other words, your goal is to develop an __accurate model that can be used to predict sales on the basis of the three media budgets__.\n",
    "\n",
    "As usual, load the data into pandas, and obtain a summary statistics to start exploring. You can specify `index_col` to treat the first column as index values."
   ]
  },
  {
   "cell_type": "code",
   "execution_count": 4,
   "metadata": {
    "id": "-Ehb3aJdy7wS",
    "scrolled": true
   },
   "outputs": [
    {
     "data": {
      "text/html": [
       "<div>\n",
       "<style scoped>\n",
       "    .dataframe tbody tr th:only-of-type {\n",
       "        vertical-align: middle;\n",
       "    }\n",
       "\n",
       "    .dataframe tbody tr th {\n",
       "        vertical-align: top;\n",
       "    }\n",
       "\n",
       "    .dataframe thead th {\n",
       "        text-align: right;\n",
       "    }\n",
       "</style>\n",
       "<table border=\"1\" class=\"dataframe\">\n",
       "  <thead>\n",
       "    <tr style=\"text-align: right;\">\n",
       "      <th></th>\n",
       "      <th>TV</th>\n",
       "      <th>Radio</th>\n",
       "      <th>Newspaper</th>\n",
       "      <th>Sales</th>\n",
       "    </tr>\n",
       "  </thead>\n",
       "  <tbody>\n",
       "    <tr>\n",
       "      <th>count</th>\n",
       "      <td>200.000000</td>\n",
       "      <td>200.000000</td>\n",
       "      <td>200.000000</td>\n",
       "      <td>200.000000</td>\n",
       "    </tr>\n",
       "    <tr>\n",
       "      <th>mean</th>\n",
       "      <td>147.042500</td>\n",
       "      <td>23.264000</td>\n",
       "      <td>30.554000</td>\n",
       "      <td>14.022500</td>\n",
       "    </tr>\n",
       "    <tr>\n",
       "      <th>std</th>\n",
       "      <td>85.854236</td>\n",
       "      <td>14.846809</td>\n",
       "      <td>21.778621</td>\n",
       "      <td>5.217457</td>\n",
       "    </tr>\n",
       "    <tr>\n",
       "      <th>min</th>\n",
       "      <td>0.700000</td>\n",
       "      <td>0.000000</td>\n",
       "      <td>0.300000</td>\n",
       "      <td>1.600000</td>\n",
       "    </tr>\n",
       "    <tr>\n",
       "      <th>25%</th>\n",
       "      <td>74.375000</td>\n",
       "      <td>9.975000</td>\n",
       "      <td>12.750000</td>\n",
       "      <td>10.375000</td>\n",
       "    </tr>\n",
       "    <tr>\n",
       "      <th>50%</th>\n",
       "      <td>149.750000</td>\n",
       "      <td>22.900000</td>\n",
       "      <td>25.750000</td>\n",
       "      <td>12.900000</td>\n",
       "    </tr>\n",
       "    <tr>\n",
       "      <th>75%</th>\n",
       "      <td>218.825000</td>\n",
       "      <td>36.525000</td>\n",
       "      <td>45.100000</td>\n",
       "      <td>17.400000</td>\n",
       "    </tr>\n",
       "    <tr>\n",
       "      <th>max</th>\n",
       "      <td>296.400000</td>\n",
       "      <td>49.600000</td>\n",
       "      <td>114.000000</td>\n",
       "      <td>27.000000</td>\n",
       "    </tr>\n",
       "  </tbody>\n",
       "</table>\n",
       "</div>"
      ],
      "text/plain": [
       "               TV       Radio   Newspaper       Sales\n",
       "count  200.000000  200.000000  200.000000  200.000000\n",
       "mean   147.042500   23.264000   30.554000   14.022500\n",
       "std     85.854236   14.846809   21.778621    5.217457\n",
       "min      0.700000    0.000000    0.300000    1.600000\n",
       "25%     74.375000    9.975000   12.750000   10.375000\n",
       "50%    149.750000   22.900000   25.750000   12.900000\n",
       "75%    218.825000   36.525000   45.100000   17.400000\n",
       "max    296.400000   49.600000  114.000000   27.000000"
      ]
     },
     "execution_count": 4,
     "metadata": {},
     "output_type": "execute_result"
    }
   ],
   "source": [
    "# TODO\n",
    "advertising = pd.read_csv( 'Advertising-T5.csv', index_col=0 )\n",
    "advertising.describe()"
   ]
  },
  {
   "cell_type": "markdown",
   "metadata": {
    "id": "_qyjFBSHy7wU"
   },
   "source": [
    "# Introduction to Statsmodels\n",
    "\n",
    "As the name implies, `statsmodels` is a Python library built specifically for statistics. It is built on top of NumPy, SciPy, and matplotlib, but it contains more advanced functions for statistical testing and modeling that you won't find in numerical libraries like NumPy or SciPy. To know more about this package, follow the tutorials in this [link](https://www.statsmodels.org/stable/user-guide.html).\n",
    "\n",
    "The `statsmodels` package is included in the Anaconda distribution."
   ]
  },
  {
   "cell_type": "code",
   "execution_count": 5,
   "metadata": {
    "id": "BOKitXn-y7wV",
    "scrolled": false
   },
   "outputs": [],
   "source": [
    "import statsmodels.api as sm\n",
    "import statsmodels.formula.api as smf"
   ]
  },
  {
   "cell_type": "markdown",
   "metadata": {
    "id": "Twg3YIM_y7wW"
   },
   "source": [
    "`statsmodels` allows users to fit statistical models using R-style formulas. The `formula.api` module is a convenience interface for specifying models using formula strings and DataFrames. It hosts lowercase counterparts for many of the same functions found in the `api` module (e.g., `ols` corresponding to `api.OLS`, `glm` corresponding to `api.GLM`). In general, the lowercase models accept `formula` and `df` arguments, whereas uppercase ones take [`endog` and `exog`](https://www.statsmodels.org/stable/endog_exog.html) design matrices."
   ]
  },
  {
   "cell_type": "markdown",
   "metadata": {
    "id": "CKnr1tD7y7wX"
   },
   "source": [
    "## Simple Linear Regression\n",
    "\n",
    "Simple Linear Regression (SLR) predicts a response _Y_ on the basis of a single predictor variable _X_. It assumes an approximately linear relationship between _X_ and _Y_. \n",
    "\n",
    "We can regress sales (Y) onto TV (X) by fitting the model:\n",
    "$sales \\approx \\beta_{0} + \\beta_{1} \\times TV$\n",
    "\n",
    "$\\beta_{0}$ (_intercept_) and $\\beta_{1}$ (_coefficient of X_) are the model coefficients. We must estimate their values, using our data, to be able to make predictions with the model.\n",
    " \n",
    "Let us first plot the regression of sales onto TV, using seaborn `regplot`."
   ]
  },
  {
   "cell_type": "code",
   "execution_count": null,
   "metadata": {
    "id": "8dtlqPl2y7wX",
    "scrolled": false
   },
   "outputs": [],
   "source": [
    "# TODO\n",
    "sns.regplot( x=advertising.TV, y=advertising.Sales, ci=None, scatter_kws={'color':'r', 's':9}  )\n",
    "\n",
    "# Start the x-axis at 0 to make the intercept clear\n",
    "plt.xlim( xmin=0 )"
   ]
  },
  {
   "cell_type": "markdown",
   "metadata": {
    "id": "5dIOf0ZBCBgC"
   },
   "source": [
    "We will use the _least squares_ method to estimate the coefficients. We look at two ways to perform the regression, one using the uppercase model `OLS` from `api` and the other using the lowercase model `ols` from `formula.api`.\n",
    "\n",
    "### `api.OLS`\n",
    "\n",
    "The required inputs to [`OLS`](https://www.statsmodels.org/stable/generated/statsmodels.regression.linear_model.OLS.html) are `endog` (the response y) and `exog` (the predictor x). \n",
    "\n",
    "An intercept is not included in `exog` by default and should be added by users. This is achieved by calling `statsmodels` function `add_constant`, which adds a column of ones to the `exog` array."
   ]
  },
  {
   "cell_type": "code",
   "execution_count": null,
   "metadata": {
    "id": "J0medLwey7wY",
    "scrolled": false
   },
   "outputs": [],
   "source": [
    "X = advertising[['TV']]\n",
    "y = advertising[['Sales']]\n",
    "\n",
    "est = sm.OLS( y, sm.add_constant(X) ).fit() \n",
    "est.summary()"
   ]
  },
  {
   "cell_type": "markdown",
   "metadata": {},
   "source": [
    "### `formula.api.ols`\n",
    "\n",
    "The required inputs to [`ols`](https://www.statsmodels.org/stable/generated/statsmodels.formula.api.ols.html) are the formula string and the data. The formula syntax follows the framework of the [`patsy`](https://patsy.readthedocs.io/en/latest/formulas.html#the-formula-language) package."
   ]
  },
  {
   "cell_type": "code",
   "execution_count": null,
   "metadata": {
    "id": "WruqItm_y7wZ",
    "scrolled": false
   },
   "outputs": [],
   "source": [
    "est = smf.ols( formula='Sales ~ TV', data=advertising ).fit()\n",
    "est.summary()"
   ]
  },
  {
   "cell_type": "markdown",
   "metadata": {
    "id": "fv1iIcQ6y7wZ"
   },
   "source": [
    "From the results obtained above, we can see the coefficient estimates as follows:\n",
    "+ $\\hat{\\beta_{0}} = 7.03$\n",
    "+ $\\hat{\\beta_{1}} = 0.0475$\n",
    "\n",
    "In other words, an additional 1,000 dollars spent on TV advertising is associated with selling approximately 47.5 additional units of the product. This is because $\\beta_{1}$ is the slope - the average increase in sales associated with a one-unit\n",
    "increase in TV budget (which is in thousands of dollars)."
   ]
  },
  {
   "cell_type": "code",
   "execution_count": null,
   "metadata": {
    "id": "aPjPLdoiUhIg",
    "scrolled": false
   },
   "outputs": [],
   "source": [
    "est.params"
   ]
  },
  {
   "cell_type": "markdown",
   "metadata": {},
   "source": [
    "We can use the model coefficients to manually make a sales prediction. Suppose the company spends \\$25,000 in a new market, how much sales can we predict that market will have? "
   ]
  },
  {
   "cell_type": "code",
   "execution_count": null,
   "metadata": {},
   "outputs": [],
   "source": [
    "# TODO\n",
    "est.params[0] + est.params[1] * 25"
   ]
  },
  {
   "cell_type": "markdown",
   "metadata": {
    "id": "xp_wyvQKy7wa"
   },
   "source": [
    "You can refer to the [`OLSResults` reference](https://www.statsmodels.org/devel/generated/statsmodels.regression.linear_model.OLSResults.html) for other accessible attributes."
   ]
  },
  {
   "cell_type": "markdown",
   "metadata": {
    "id": "fv1iIcQ6y7wZ"
   },
   "source": [
    "## Residuals and Assessing Model Accuracy\n",
    "\n",
    "### Residual and RSS\n",
    "\n",
    "__Residual__ ($e_{i} = y_{i}-\\hat{y_{i}}$) is the difference between the $i^{th}$ observed response value and the $i^{th}$ response value that is predicted by our linear model. \n",
    "\n",
    "The least squares approach chooses the values for $\\hat{\\beta_{0}}$ and $\\hat{\\beta_{1}}$ to minimize the __residual sum of squares (RSS)__ ($ e^{2}_{1} + e^{2}_{2} + ...$).\n",
    "\n",
    "We can use the model coefficients to manually calculate the RSS, by summing the squared residuals. Recall that the predicted value $\\hat{y_{i}}$ is $\\beta_{0} + \\beta_{1} \\times TV_{i}$."
   ]
  },
  {
   "cell_type": "code",
   "execution_count": null,
   "metadata": {
    "id": "-jlKwx_Yy7wa",
    "scrolled": true
   },
   "outputs": [],
   "source": [
    "# TODO\n",
    "((advertising.Sales - (est.params[0] + est.params[1] * advertising.TV))**2).sum()"
   ]
  },
  {
   "cell_type": "markdown",
   "metadata": {},
   "source": [
    "We can check our calculation against the RSS value computed by OLS, which is given by the attribute `ssr` (sum of squared residuals) in the OLS result."
   ]
  },
  {
   "cell_type": "code",
   "execution_count": null,
   "metadata": {
    "id": "dz5ev_dty7wa",
    "scrolled": true
   },
   "outputs": [],
   "source": [
    "est.ssr"
   ]
  },
  {
   "cell_type": "markdown",
   "metadata": {
    "id": "3ylVxJNny7wb"
   },
   "source": [
    "### Residual Standard Error\n",
    "\n",
    "The RSS value can be used to compute the residual standard error (RSE), which is given by the formula: $RSE = \\sqrt{\\frac{RSS}{n-2}}$ where $n$ is the number of samples."
   ]
  },
  {
   "cell_type": "code",
   "execution_count": null,
   "metadata": {
    "id": "3w_Le_JPldO8",
    "scrolled": false
   },
   "outputs": [],
   "source": [
    "# TODO\n",
    "np.sqrt( est.ssr / (len(advertising.TV) - 2) )"
   ]
  },
  {
   "cell_type": "markdown",
   "metadata": {
    "id": "H0FKBSyJy7wc"
   },
   "source": [
    "The RSE is found to be 3.26. In other words, actual sales in each market deviate from the true regression line by approximately 3.26 units, on average."
   ]
  },
  {
   "cell_type": "markdown",
   "metadata": {
    "id": "xp_wyvQKy7wa"
   },
   "source": [
    "The OLS results also show us the standard errors of the model coefficients, which are the standard deviation over these coefficients learned from the samples. They are shown in the summary and also accessible from the attribute `bse`."
   ]
  },
  {
   "cell_type": "code",
   "execution_count": null,
   "metadata": {},
   "outputs": [],
   "source": [
    "# TODO\n",
    "est.bse"
   ]
  },
  {
   "cell_type": "markdown",
   "metadata": {
    "id": "xp_wyvQKy7wa"
   },
   "source": [
    "### Confidence Interval and Hypothesis Testing\n",
    "\n",
    "We can call the function [`conf_int`](https://www.statsmodels.org/devel/generated/statsmodels.regression.linear_model.OLSResults.conf_int.html) from the OLS results to get the 95% confidence interval of the model coefficients."
   ]
  },
  {
   "cell_type": "code",
   "execution_count": null,
   "metadata": {
    "id": "rPfLfOyMuw4Q",
    "scrolled": false
   },
   "outputs": [],
   "source": [
    "# TODO\n",
    "est.conf_int( alpha = .05 )"
   ]
  },
  {
   "cell_type": "markdown",
   "metadata": {
    "id": "xp_wyvQKy7wa"
   },
   "source": [
    "As it relates to model coefficients, the conventional hypothesis test is as follows:\n",
    "\n",
    "+ Null hypothesis: There is no relationship between TV ads and Sales (that is, $\\beta_{1} = 0$)\n",
    "\n",
    "+ Alternative hypothesis: There is a relationship between TV ads and Sales (that is, $\\beta_{1} \\neq 0$)\n",
    "\n",
    "Intuitively, we reject the null hypothesis if the 95% confidence interval of $\\beta_{1}$ does not include zero. We can check the p-value, the probability that the coefficient is actually zero, from the OLS results as well."
   ]
  },
  {
   "cell_type": "code",
   "execution_count": null,
   "metadata": {},
   "outputs": [],
   "source": [
    "# TODO\n",
    "est.pvalues"
   ]
  },
  {
   "cell_type": "markdown",
   "metadata": {
    "id": "kQFUKUU2ld4C"
   },
   "source": [
    "As the p-value for TV is less than 0.05, we reject the null hypothesis that there is no relationship between TV ads and Sales.\n",
    "\n",
    "Note that the p-value for the intercept is generally not used."
   ]
  },
  {
   "cell_type": "markdown",
   "metadata": {
    "id": "YImtjFdBhc3z"
   },
   "source": [
    "### R-squared statistic\n",
    "The $R^{2}$ statistic provides an alternative measure of fit. It takes the form of a proportion—the proportion of variance\n",
    "explained—and so it always takes on a value between 0 and 1, and is independent of the scale of Y.\n",
    "\n",
    "$ R^{2} = 1 - \\frac{RSS}{TSS}$\n",
    "\n",
    "The __Total Sum of Squares (TSS)__ measures the total variance in the response Y, and can be thought of as the amount of variability inherent in the response before the regression is performed. In contrast, RSS measures the amount of variability that is left unexplained after performing the regression. An $R^{2}$ statistic that is close to 1 indicates that a large proportion of the variability in the response has been explained by the regression.\n",
    "\n",
    "The OLS result already provides us with the $R^{2}$ value, and we can access it from its attributes."
   ]
  },
  {
   "cell_type": "code",
   "execution_count": null,
   "metadata": {
    "id": "nwWvIPzly7wb",
    "scrolled": true
   },
   "outputs": [],
   "source": [
    "# TODO\n",
    "est.rsquared"
   ]
  },
  {
   "cell_type": "markdown",
   "metadata": {
    "id": "Ewz7OZU6y7wc"
   },
   "source": [
    "Now let us plot the residuals with respect to the predicted values.  \n",
    "\n",
    "For this plot, we can use [`sns.residplot`](https://seaborn.pydata.org/generated/seaborn.residplot.html) which will regress y on x and then draw a scatterplot of the residuals. So the graph we will obtain will be a scatterplot for the residuals with the predictor variable.\n",
    "\n",
    "We can set the `lowess` parameter to add a LOWESS (Locally Weighted Scatterplot Smoothing) curve, to help emphasize structure in the scatterplot."
   ]
  },
  {
   "cell_type": "code",
   "execution_count": null,
   "metadata": {
    "id": "yscfpAQIy7wc",
    "scrolled": false
   },
   "outputs": [],
   "source": [
    "# TODO\n",
    "sns.residplot( x=advertising['TV'], y=advertising['Sales'], lowess=True, order=1, line_kws=dict(color=\"r\") )"
   ]
  },
  {
   "cell_type": "markdown",
   "metadata": {
    "id": "voLx0EiTy7wd"
   },
   "source": [
    " Ideally, this should look like a random scatter plot with zero mean and constant variance for all predicted values. Our residual plot doesn't look like an ideal residual plot. This is because the mean line of the residuals is not close to zero for all values of  $\\hat{y}$ and the variance seems to be increasing with the predictor, TV. This means that our model assumptions are being violated.\n",
    " \n",
    "Among many possible reasons for this violation, the following are usual suspects:\n",
    "+ There is another feature other than TV that affects sales.\n",
    "+ The relation between TV and sales is not linear. \n",
    "\n",
    "We will implement the first fix using Multiple Linear Regression. But first let's break the model linearity assumption."
   ]
  },
  {
   "cell_type": "markdown",
   "metadata": {
    "id": "UT-bRKBfy7wd"
   },
   "source": [
    "## Polynomial Regression and Heteroscedasticity\n",
    "\n",
    "As we see, the assumption of linearity between TV and sales might not hold. However, from the residual plot, we observe more clearly that the standard deviation of residual keeps on increasing as the magnitude of predicted response increases. This issue is called __heteroscedasticity__. \n",
    "\n",
    "To address this issue, we could transform our response variable y with functions such as $\\sqrt y$, $\\log(y)$ or represent a new variable, $TV^2$. \n",
    "\n",
    "To differentiate the arithmetic operators we want to perform on our variables (such as $TV^2$) from Patsy operators inside the formula, we can enclose the operation in Patsy's built-in identity function `I()`."
   ]
  },
  {
   "cell_type": "code",
   "execution_count": null,
   "metadata": {
    "id": "t7ctPacMy7wd",
    "scrolled": false
   },
   "outputs": [],
   "source": [
    "poly_est = smf.ols( 'np.log(Sales) ~ TV + I(TV**2)', data=advertising ).fit()\n",
    "poly_est.summary()"
   ]
  },
  {
   "cell_type": "markdown",
   "metadata": {
    "id": "5J9Brn2DLP2U"
   },
   "source": [
    "To see the values in the model:"
   ]
  },
  {
   "cell_type": "code",
   "execution_count": null,
   "metadata": {
    "id": "gJ4_da05LN6d",
    "scrolled": false
   },
   "outputs": [],
   "source": [
    "smf.ols( 'np.log(Sales) ~ TV + I(TV**2)', data=advertising ).exog[:5,]"
   ]
  },
  {
   "cell_type": "markdown",
   "metadata": {},
   "source": [
    "Plotting the residuals, note that the order is 2."
   ]
  },
  {
   "cell_type": "code",
   "execution_count": null,
   "metadata": {
    "id": "h_GiK3d0y7wd",
    "scrolled": false
   },
   "outputs": [],
   "source": [
    "sns.residplot( x=advertising[\"TV\"], y=np.log(advertising['Sales'] ), lowess=True, order=2, line_kws=dict(color=\"r\") )"
   ]
  },
  {
   "cell_type": "markdown",
   "metadata": {
    "id": "PPNECQ_hy7we"
   },
   "source": [
    "## Performing Model Prediction\n",
    "\n",
    "In an earlier section, we manually calculated the sales prediction for a TV ad spending of \\$25,000. We can use the multiple linear regression model we have estimated to do the prediction for us.\n",
    "\n",
    "NOTE: The sklearn library also has implementation of linear regression which can be used for such prediction. The API is the same one you are already familiar with - the `fit`, `transform` and `fit_transform` methods for the `sklearn.linear_model.LinearRegression`."
   ]
  },
  {
   "cell_type": "code",
   "execution_count": null,
   "metadata": {
    "id": "oNJCWjgey7we",
    "scrolled": false
   },
   "outputs": [],
   "source": [
    "# Construct a DataFrame, which is the format expected by the statsmodels interface \n",
    "X_test = pd.DataFrame( {'TV': [25]} )\n",
    "\n",
    "est.predict( X_test )"
   ]
  },
  {
   "cell_type": "markdown",
   "metadata": {},
   "source": [
    "Linear models rely upon a lot of assumptions (such as the features being independent), and if those assumptions are violated (which they usually are), R-squared and p-values are less reliable. R-squared will always increase as we add more features to the model, even if they are unrelated to the response. Thus, selecting the model with the highest R-squared is not a reliable approach for choosing the best linear model. There is an alternative to R-squared called _adjusted R-squared_ that penalizes model complexity (to control for overfitting).\n",
    "\n",
    "In general, to select the best model to use for prediction, you might want to resort to the classical _cross validation_. This is easily possible using the `sklearn` API."
   ]
  },
  {
   "cell_type": "markdown",
   "metadata": {
    "id": "d-KKk-7uy7wg"
   },
   "source": [
    "## Multiple Linear Regression\n",
    "\n",
    "When we have more than one predictor variables, we use multiple linear regression. It essentially gives each predictor a separate slope coefficient in a single model. So, if we want to analyze whether radio ads and newspaper ads are also associated with sales, we can do a multiple linear regression as:\n",
    "\n",
    "$sales \\approx \\beta_{0} + \\beta_{1} \\times TV + \\beta_{2} \\times radio + \\beta_{3} \\times newspaper$"
   ]
  },
  {
   "cell_type": "markdown",
   "metadata": {
    "id": "wvuMt4Szy7wh"
   },
   "source": [
    "Let us first do a simple linear regression using `ols` on these features independently."
   ]
  },
  {
   "cell_type": "code",
   "execution_count": null,
   "metadata": {
    "id": "Uidffm_Dy7wh",
    "scrolled": false
   },
   "outputs": [],
   "source": [
    "# TODO: Regress sales onto radio\n",
    "est = smf.ols( formula='Sales ~ Radio', data=advertising ).fit()\n",
    "est.summary().tables[1]"
   ]
  },
  {
   "cell_type": "code",
   "execution_count": null,
   "metadata": {
    "id": "0ml9Wdlhy7wh",
    "scrolled": false
   },
   "outputs": [],
   "source": [
    "# TODO: Regress sales onto newspaper\n",
    "est = smf.ols( formula='Sales ~ Newspaper', data=advertising ).fit()\n",
    "est.summary().tables[1]"
   ]
  },
  {
   "cell_type": "markdown",
   "metadata": {
    "id": "aKntAXsRy7wh"
   },
   "source": [
    "From the simple linear regression, we can say that a 1,000-dollars increase in spending on radio advertising is associated with an average increase in sales by around 203 units, while the same increase in spending on newspaper advertising is associated with an average increase in sales by around 55 units.\n",
    "\n",
    "Now let us use `ols` to create a model with all three features, that is, the union of (TV + radio + newspaper)."
   ]
  },
  {
   "cell_type": "code",
   "execution_count": null,
   "metadata": {
    "id": "mlJeZZWny7wh",
    "scrolled": false
   },
   "outputs": [],
   "source": [
    "# TODO\n",
    "mul_est = smf.ols( formula='Sales ~ TV + Radio + Newspaper', data=advertising ).fit()\n",
    "mul_est.summary()"
   ]
  },
  {
   "cell_type": "markdown",
   "metadata": {
    "id": "Mn3qaKPBy7wi"
   },
   "source": [
    "We notice that the multiple regression coefficient estimates for TV and Radio are pretty similar to the simple linear regression coefficients. However, while the newspaper regression coefficient estimate in SLR was significantly non-zero, the coefficient estimate for newspaper in the multiple regression model is close to zero, and the corresponding p-value is no longer significant, with a value around 0.86.\n",
    "\n",
    "Let us check the correlation matrix of the Advertising data."
   ]
  },
  {
   "cell_type": "code",
   "execution_count": null,
   "metadata": {
    "id": "1hW37idAy7wi",
    "scrolled": false
   },
   "outputs": [],
   "source": [
    "advertising.corr()"
   ]
  },
  {
   "cell_type": "markdown",
   "metadata": {
    "id": "qcfcXyWVy7wi"
   },
   "source": [
    "From the correlation matrix, we notice that the correlation between radio and newspaper is 0.35. This reveals a tendency to spend more on newspaper advertising in markets where more is spent on radio advertising. \n",
    "\n",
    "Now suppose that the multiple regression is correct and newspaper advertising has no direct impact on sales, but radio advertising does increase sales. Then in markets where we spend more on radio our sales will tend to be higher, and as our correlation matrix shows, we also tend to spend more on newspaper advertising in those same markets. Hence, in a simple linear regression which only examines sales versus newspaper, we will observe that higher values of newspaper tend to be associated with higher values of sales, *even though newspaper advertising does not actually affect sales*. So newspaper sales are a surrogate for radio advertising; newspaper gets “credit” for the effect of radio on sales."
   ]
  },
  {
   "cell_type": "markdown",
   "metadata": {
    "id": "dP2vgEZNy7wi"
   },
   "source": [
    "### F-statistic\n",
    "\n",
    "The F value is the ratio of the mean regression sum of squares divided by the mean error sum of squares. Its value will range from zero to an arbitrarily large number. In multiple linear regression, the null hypothesis we look at is if there is a relationship between the response and predictor.\n",
    "\n",
    "+ $H_{0}: \\beta_{1} = \\beta_{2} = \\beta_{3} = ... = 0$\n",
    "\n",
    "We can assess the accuracy of the multiple regression model."
   ]
  },
  {
   "cell_type": "code",
   "execution_count": null,
   "metadata": {
    "id": "Ic1aLWBey7wj",
    "scrolled": false
   },
   "outputs": [],
   "source": [
    "print( \"RSE:\", mul_est.resid.std() )\n",
    "print( \"R squared:\", mul_est.rsquared )\n",
    "print( \"F-statistic:\", mul_est.fvalue )\n",
    "print( \"F-test pvalue:\", mul_est.f_pvalue )"
   ]
  },
  {
   "cell_type": "markdown",
   "metadata": {
    "id": "12PmCu1Iy7wj"
   },
   "source": [
    "The large F-statistic suggests that *at least one of the advertising media must be related to sales* (at least one is non-zero). We see that the probability of the f-statistic is close to zero, so we have extremely strong evidence that at least one of the media is associated with increased sales.\n",
    "\n",
    "Suppose our null hypothesis is that specific coefficients are zero. The t-statistic for each predictor provide information about whether each individual predictor is related to the response, after adjusting for the other\n",
    "predictors."
   ]
  },
  {
   "cell_type": "markdown",
   "metadata": {
    "id": "IZAyAkGLy7wj"
   },
   "source": [
    "### Residual Plots for the Multiple Linear Regression\n",
    "\n",
    "Let us again plot the residual plots to visualize the trend in residuals as we did for simple linear regression. \n",
    "\n",
    "As the `residplot` function is not designed for multiple linear regression, but only for simple linear regression, we will write a helper function `get_vis_dataframe` to get predictions from the model to plot. \n",
    "\n",
    "We make use of the function [`wls_prediction_std`](https://www.adamsmith.haus/python/docs/statsmodels.graphics.regressionplots.wls_prediction_std) from `statsmodels` sandbox module, which takes the regression result object and provides the lower and upper values within which the prediction will lie with 95% confidence."
   ]
  },
  {
   "cell_type": "code",
   "execution_count": null,
   "metadata": {},
   "outputs": [],
   "source": [
    "from statsmodels.sandbox.regression.predstd import wls_prediction_std\n",
    "\n",
    "def get_vis_dataframe( est, X, y, ylabel='yobs', yhlabel='ypred' ):\n",
    "    \n",
    "    # Prepare the dataframe: copy the predictors\n",
    "    rvis = X.copy()\n",
    "    \n",
    "    # Observed response and predicted response\n",
    "    rvis[ylabel], rvis[yhlabel] = y, est.predict( X )\n",
    "    \n",
    "    # Residuals obtained from OLS\n",
    "    rvis['resid'] = est.resid\n",
    "\n",
    "    # Obtain lower und upper confidence bounds using wls_prediction_std (standard error is not used)\n",
    "    std, upper, lower = wls_prediction_std( est )\n",
    "    rvis['upper'], rvis['lower'] = upper, lower\n",
    "  \n",
    "    return rvis"
   ]
  },
  {
   "cell_type": "markdown",
   "metadata": {},
   "source": [
    "Applying it on the three features:"
   ]
  },
  {
   "cell_type": "code",
   "execution_count": null,
   "metadata": {
    "id": "VjqikHlqy7wj"
   },
   "outputs": [],
   "source": [
    "X = advertising[[\"TV\", \"Radio\", \"Newspaper\"]]\n",
    "y = advertising[[\"Sales\"]]\n",
    "\n",
    "mulvis = get_vis_dataframe( mul_est, X, y )\n",
    "mulvis.head()"
   ]
  },
  {
   "cell_type": "markdown",
   "metadata": {},
   "source": [
    "Now using `residplot` to plot the residuals:"
   ]
  },
  {
   "cell_type": "code",
   "execution_count": null,
   "metadata": {
    "id": "VjqikHlqy7wj",
    "scrolled": false
   },
   "outputs": [],
   "source": [
    "sns.residplot( x=mulvis[\"ypred\"], y=mulvis.resid, lowess=True, order=1, line_kws=dict(color=\"r\") )"
   ]
  },
  {
   "cell_type": "markdown",
   "metadata": {},
   "source": [
    "### Multiple Polynomial Regression\n",
    "\n",
    "Lastly, let us add polynomial terms to the multiple linear regression. We use a loop to construct the polynomial terms over the three features."
   ]
  },
  {
   "cell_type": "code",
   "execution_count": null,
   "metadata": {
    "id": "AJk_yaaty7wj",
    "scrolled": false
   },
   "outputs": [],
   "source": [
    "predictors = [\"TV\", \"Radio\", \"Newspaper\"]\n",
    "\n",
    "poly2_predictors = []\n",
    "for p in predictors:\n",
    "    poly2_predictors.append( '{} + I({}**2)'.format(p, p) )\n",
    "\n",
    "print( poly2_predictors )"
   ]
  },
  {
   "cell_type": "markdown",
   "metadata": {},
   "source": [
    "We can then construct the formula to pass to `ols`."
   ]
  },
  {
   "cell_type": "code",
   "execution_count": null,
   "metadata": {},
   "outputs": [],
   "source": [
    "poly2_formula = 'Sales ~ '+ ' + '.join( poly2_predictors )\n",
    "poly2_formula"
   ]
  },
  {
   "cell_type": "markdown",
   "metadata": {},
   "source": [
    "Now run `ols` with this formula."
   ]
  },
  {
   "cell_type": "code",
   "execution_count": null,
   "metadata": {
    "id": "4V4IO07ky7wk",
    "scrolled": false
   },
   "outputs": [],
   "source": [
    "# TODO\n",
    "poly_mul_est = smf.ols( formula=poly2_formula, data=advertising ).fit()\n",
    "poly_mul_est.summary()"
   ]
  },
  {
   "cell_type": "markdown",
   "metadata": {
    "id": "fn5FIUBj4D-0"
   },
   "source": [
    "We can again use our `get_vis_dataframe` function and `residplot` to plot the residual plot of the multiple polynomial regression."
   ]
  },
  {
   "cell_type": "code",
   "execution_count": null,
   "metadata": {
    "id": "9lVzVEfgy7wk"
   },
   "outputs": [],
   "source": [
    "# TODO\n",
    "mulvis = get_vis_dataframe( poly_mul_est, X, y )\n",
    "mulvis.head()"
   ]
  },
  {
   "cell_type": "code",
   "execution_count": null,
   "metadata": {
    "id": "9lVzVEfgy7wk",
    "scrolled": false
   },
   "outputs": [],
   "source": [
    "# TODO\n",
    "sns.residplot( x=mulvis[\"ypred\"], y=mulvis[\"yobs\"], lowess=True, line_kws=dict(color=\"r\") )"
   ]
  },
  {
   "cell_type": "markdown",
   "metadata": {
    "id": "zwYsS0D329bg"
   },
   "source": [
    "This plot is equivalent to:"
   ]
  },
  {
   "cell_type": "code",
   "execution_count": null,
   "metadata": {
    "id": "D5zaTaMUdRSG",
    "scrolled": false
   },
   "outputs": [],
   "source": [
    "plt.scatter( mulvis.ypred, mulvis.resid )"
   ]
  },
  {
   "cell_type": "markdown",
   "metadata": {
    "id": "7Raa2P2K4W_p"
   },
   "source": [
    "We also plot the residual plot of the multiple linear regression. Will the residual plot with ```order = 2``` be the same as that of the polynomial regression above?"
   ]
  },
  {
   "cell_type": "code",
   "execution_count": null,
   "metadata": {
    "id": "ZltYaAt4y7wk",
    "scrolled": false
   },
   "outputs": [],
   "source": [
    "mulvis = get_vis_dataframe( mul_est, X, y )\n",
    "sns.residplot( x=mulvis[\"ypred\"], y=mulvis[\"yobs\"], lowess=True, order=2, line_kws=dict(color=\"r\") )"
   ]
  },
  {
   "cell_type": "markdown",
   "metadata": {},
   "source": [
    "This plot is equivalent to:"
   ]
  },
  {
   "cell_type": "code",
   "execution_count": null,
   "metadata": {
    "id": "pBkPI-N8_f8s"
   },
   "outputs": [],
   "source": [
    "values = mulvis.resid - np.polyval( np.polyfit(mulvis.ypred, mulvis.resid, 2), mulvis.ypred )\n",
    "\n",
    "plt.scatter( mulvis.ypred, values )"
   ]
  }
 ],
 "metadata": {
  "colab": {
   "provenance": []
  },
  "kernelspec": {
   "display_name": "Python 3 (ipykernel)",
   "language": "python",
   "name": "python3"
  },
  "language_info": {
   "codemirror_mode": {
    "name": "ipython",
    "version": 3
   },
   "file_extension": ".py",
   "mimetype": "text/x-python",
   "name": "python",
   "nbconvert_exporter": "python",
   "pygments_lexer": "ipython3",
   "version": "3.9.12"
  }
 },
 "nbformat": 4,
 "nbformat_minor": 1
}
