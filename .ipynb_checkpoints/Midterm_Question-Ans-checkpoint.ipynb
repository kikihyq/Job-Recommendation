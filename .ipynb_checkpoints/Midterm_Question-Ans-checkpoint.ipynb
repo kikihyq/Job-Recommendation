{
 "cells": [
  {
   "cell_type": "markdown",
   "metadata": {
    "id": "mszc4cJebE3Q"
   },
   "source": [
    "## Midterm Exam (IT5006 AY 23/24 Sem 1)\n",
    "\n",
    "You have been given a data set *(secret_function.csv)* that comprises of three columns `x1`, `x2` and `y`. Your job is to identify the function `f` that such that `y = f(x1, x2)`. Isn't this machine learning afterall!\n",
    "\n",
    "- Being an open-internet exam, you are allowed to refer to the online resoures.\n",
    "- We have imported some libraries for you. You import additional libraries, if needed."
   ]
  },
  {
   "cell_type": "code",
   "execution_count": 1,
   "metadata": {
    "id": "VwSYxmVIemIy"
   },
   "outputs": [],
   "source": [
    "import numpy as np\n",
    "import pandas as pd\n",
    "import matplotlib.pyplot as plt\n",
    "import seaborn as sns"
   ]
  },
  {
   "cell_type": "markdown",
   "metadata": {
    "id": "yxMDBYOfbOCi"
   },
   "source": [
    "## Question 1: Data Loading and Preprocessing (3 points)"
   ]
  },
  {
   "cell_type": "markdown",
   "metadata": {
    "id": "MaBy8ClUbwVD"
   },
   "source": [
    "Load the dataset in panadas dataframe `df`.\n",
    "<div align=\"right\"> (1 point) </div>"
   ]
  },
  {
   "cell_type": "code",
   "execution_count": 2,
   "metadata": {
    "id": "OSFACWerbyNV"
   },
   "outputs": [
    {
     "data": {
      "text/html": [
       "<div>\n",
       "<style scoped>\n",
       "    .dataframe tbody tr th:only-of-type {\n",
       "        vertical-align: middle;\n",
       "    }\n",
       "\n",
       "    .dataframe tbody tr th {\n",
       "        vertical-align: top;\n",
       "    }\n",
       "\n",
       "    .dataframe thead th {\n",
       "        text-align: right;\n",
       "    }\n",
       "</style>\n",
       "<table border=\"1\" class=\"dataframe\">\n",
       "  <thead>\n",
       "    <tr style=\"text-align: right;\">\n",
       "      <th></th>\n",
       "      <th>x1</th>\n",
       "      <th>x2</th>\n",
       "      <th>y</th>\n",
       "    </tr>\n",
       "  </thead>\n",
       "  <tbody>\n",
       "    <tr>\n",
       "      <th>0</th>\n",
       "      <td>3.243325</td>\n",
       "      <td>Yes</td>\n",
       "      <td>15.929805</td>\n",
       "    </tr>\n",
       "    <tr>\n",
       "      <th>1</th>\n",
       "      <td>4.849958</td>\n",
       "      <td>No</td>\n",
       "      <td>39.157627</td>\n",
       "    </tr>\n",
       "    <tr>\n",
       "      <th>2</th>\n",
       "      <td>0.980653</td>\n",
       "      <td>Yes</td>\n",
       "      <td>0.382081</td>\n",
       "    </tr>\n",
       "    <tr>\n",
       "      <th>3</th>\n",
       "      <td>0.665635</td>\n",
       "      <td>No</td>\n",
       "      <td>0.909939</td>\n",
       "    </tr>\n",
       "    <tr>\n",
       "      <th>4</th>\n",
       "      <td>0.418376</td>\n",
       "      <td>Yes</td>\n",
       "      <td>-2.040419</td>\n",
       "    </tr>\n",
       "    <tr>\n",
       "      <th>...</th>\n",
       "      <td>...</td>\n",
       "      <td>...</td>\n",
       "      <td>...</td>\n",
       "    </tr>\n",
       "    <tr>\n",
       "      <th>145</th>\n",
       "      <td>3.708937</td>\n",
       "      <td>Yes</td>\n",
       "      <td>20.920379</td>\n",
       "    </tr>\n",
       "    <tr>\n",
       "      <th>146</th>\n",
       "      <td>2.900344</td>\n",
       "      <td>No</td>\n",
       "      <td>14.642426</td>\n",
       "    </tr>\n",
       "    <tr>\n",
       "      <th>147</th>\n",
       "      <td>2.631953</td>\n",
       "      <td>No</td>\n",
       "      <td>12.577587</td>\n",
       "    </tr>\n",
       "    <tr>\n",
       "      <th>148</th>\n",
       "      <td>0.962157</td>\n",
       "      <td>No</td>\n",
       "      <td>1.768329</td>\n",
       "    </tr>\n",
       "    <tr>\n",
       "      <th>149</th>\n",
       "      <td>2.634737</td>\n",
       "      <td>Yes</td>\n",
       "      <td>10.035397</td>\n",
       "    </tr>\n",
       "  </tbody>\n",
       "</table>\n",
       "<p>150 rows × 3 columns</p>\n",
       "</div>"
      ],
      "text/plain": [
       "           x1   x2          y\n",
       "0    3.243325  Yes  15.929805\n",
       "1    4.849958   No  39.157627\n",
       "2    0.980653  Yes   0.382081\n",
       "3    0.665635   No   0.909939\n",
       "4    0.418376  Yes  -2.040419\n",
       "..        ...  ...        ...\n",
       "145  3.708937  Yes  20.920379\n",
       "146  2.900344   No  14.642426\n",
       "147  2.631953   No  12.577587\n",
       "148  0.962157   No   1.768329\n",
       "149  2.634737  Yes  10.035397\n",
       "\n",
       "[150 rows x 3 columns]"
      ]
     },
     "execution_count": 2,
     "metadata": {},
     "output_type": "execute_result"
    }
   ],
   "source": [
    "\n",
    "# -0.5 marks: if index is not handled\n",
    "\n",
    "df = pd.read_csv(\"secret_function.csv\", index_col=0)\n",
    "df"
   ]
  },
  {
   "cell_type": "markdown",
   "metadata": {
    "id": "UZv6YrGXbyxG"
   },
   "source": [
    "Display a meaningful scatter plot. (You are free to choose the appropriate predictor on the `x`-axis).\n",
    "\n",
    "<div align=\"right\"> (1 point) </div>"
   ]
  },
  {
   "cell_type": "code",
   "execution_count": 3,
   "metadata": {
    "id": "Paq_TGzOcQFr"
   },
   "outputs": [
    {
     "data": {
      "text/plain": [
       "<AxesSubplot:xlabel='x1', ylabel='y'>"
      ]
     },
     "execution_count": 3,
     "metadata": {},
     "output_type": "execute_result"
    },
    {
     "data": {
      "image/png": "[encoded data removed]",
      "text/plain": [
       "<Figure size 432x288 with 1 Axes>"
      ]
     },
     "metadata": {
      "needs_background": "light"
     },
     "output_type": "display_data"
    }
   ],
   "source": [
    "# -0.5 marks if x2 is not shown\n",
    "\n",
    "sns.scatterplot(data=df, x='x1', y='y', hue='x2')"
   ]
  },
  {
   "cell_type": "markdown",
   "metadata": {
    "id": "qwZcwLemd-tE"
   },
   "source": [
    "We need to transform `x2` to numerical form to regression format. Encode *No* as $0$ and *Yes* as $1$.\n",
    "\n",
    "<div align=\"right\"> (1 point) </div>"
   ]
  },
  {
   "cell_type": "code",
   "execution_count": 4,
   "metadata": {
    "id": "dDijl4znea4P"
   },
   "outputs": [],
   "source": [
    "# 1 mark for any possible correct answer\n",
    "\n",
    "\n",
    "df = df.replace({'Yes':1, \"No\":0})"
   ]
  },
  {
   "cell_type": "markdown",
   "metadata": {
    "id": "pKt2hy4JcPap"
   },
   "source": [
    "## Question 2: Multiple Linear Regression (5 points)"
   ]
  },
  {
   "cell_type": "markdown",
   "metadata": {
    "id": "svHDCbyTca5L"
   },
   "source": [
    "Split your dataset into two parts: 80% data should be training data and 20% data should be left to testing. Please use 12 as the `random_state` to ensure the reproducibility of the experiment.\n",
    "\n",
    "<div align=\"right\"> (2 points) </div>"
   ]
  },
  {
   "cell_type": "code",
   "execution_count": 5,
   "metadata": {
    "id": "bdMgnr2Lc1_8"
   },
   "outputs": [],
   "source": [
    "from sklearn.model_selection import train_test_split\n",
    "\n",
    "# 1 mark for using the random state\n",
    "# 1 mark for the correct split\n",
    "\n",
    "train, test = train_test_split(df, test_size=0.2, random_state=12)"
   ]
  },
  {
   "cell_type": "markdown",
   "metadata": {
    "id": "I4UVPb16dT60"
   },
   "source": [
    "Train the OLS regression on the data. Let's call this `model1`. Report the mean squared error on the training and testing dataset.\n",
    "\n",
    "<div align=\"right\"> (3 points) </div>"
   ]
  },
  {
   "cell_type": "code",
   "execution_count": 11,
   "metadata": {
    "id": "NJv1PekKdTN5"
   },
   "outputs": [
    {
     "name": "stdout",
     "output_type": "stream",
     "text": [
      "                            OLS Regression Results                            \n",
      "==============================================================================\n",
      "Dep. Variable:                      y   R-squared:                       0.921\n",
      "Model:                            OLS   Adj. R-squared:                  0.920\n",
      "Method:                 Least Squares   F-statistic:                     681.7\n",
      "Date:                Sat, 07 Oct 2023   Prob (F-statistic):           3.31e-65\n",
      "Time:                        14:35:05   Log-Likelihood:                -315.63\n",
      "No. Observations:                 120   AIC:                             637.3\n",
      "Df Residuals:                     117   BIC:                             645.6\n",
      "Df Model:                           2                                         \n",
      "Covariance Type:            nonrobust                                         \n",
      "==============================================================================\n",
      "                 coef    std err          t      P>|t|      [0.025      0.975]\n",
      "------------------------------------------------------------------------------\n",
      "Intercept     -6.8718      0.765     -8.983      0.000      -8.387      -5.357\n",
      "x1             8.1856      0.224     36.516      0.000       7.742       8.629\n",
      "x2            -1.5704      0.646     -2.429      0.017      -2.851      -0.290\n",
      "==============================================================================\n",
      "Omnibus:                       11.600   Durbin-Watson:                   1.715\n",
      "Prob(Omnibus):                  0.003   Jarque-Bera (JB):               10.915\n",
      "Skew:                           0.671   Prob(JB):                      0.00426\n",
      "Kurtosis:                       2.381   Cond. No.                         8.61\n",
      "==============================================================================\n",
      "\n",
      "Notes:\n",
      "[1] Standard Errors assume that the covariance matrix of the errors is correctly specified.\n",
      "Testing:  10.665600886941716\n",
      "Training:  11.275013729510233\n"
     ]
    }
   ],
   "source": [
    "import statsmodels.formula.api as smf\n",
    "\n",
    "# 1 mark for fitting (sklearn or statsmodels either is fine)\n",
    "# 1 mark for training MSE\n",
    "# 1 mark for testing MSE\n",
    "\n",
    "# -1 mark if reported some other error than MSE\n",
    "\n",
    "model1 = smf.ols('y ~ x1 + x2', train).fit()\n",
    "print(model1.summary())\n",
    "\n",
    "def MSE(y1, y2):\n",
    "    return np.sum(np.square(y1-y2)) / len(y1)\n",
    "\n",
    "print(\"Testing: \", MSE(model1.predict(test[['x1', 'x2']]), test['y']))\n",
    "print(\"Training: \", MSE(model1.predict(train[['x1', 'x2']]), train['y']))"
   ]
  },
  {
   "cell_type": "markdown",
   "metadata": {
    "id": "-6LyjrGpexa1"
   },
   "source": [
    "***Answer the MCQ in the Canvas Quiz based on the residual plot.*** (which of the following is the reason for non linearity)"
   ]
  },
  {
   "cell_type": "markdown",
   "metadata": {
    "id": "7wQxJAkTe7t9"
   },
   "source": [
    "## Question 3: Polynomial Regression (6 points)\n",
    "\n",
    "The residual plot points to the existence of non-linear relationship between the predictors and the response. Let us check for the quadratic relationship."
   ]
  },
  {
   "cell_type": "markdown",
   "metadata": {
    "id": "KArHSi0Ie-JL"
   },
   "source": [
    "Check for the interaction term? Perform the OLS by adding the interaction term between `x1` and `x2`.\n",
    "\n",
    "<div align='right'>(1 mark)</div>"
   ]
  },
  {
   "cell_type": "code",
   "execution_count": 9,
   "metadata": {
    "id": "C1nMfsxhhwJA"
   },
   "outputs": [
    {
     "data": {
      "text/html": [
       "<table class=\"simpletable\">\n",
       "<caption>OLS Regression Results</caption>\n",
       "<tr>\n",
       "  <th>Dep. Variable:</th>            <td>y</td>        <th>  R-squared:         </th> <td>   0.921</td>\n",
       "</tr>\n",
       "<tr>\n",
       "  <th>Model:</th>                   <td>OLS</td>       <th>  Adj. R-squared:    </th> <td>   0.919</td>\n",
       "</tr>\n",
       "<tr>\n",
       "  <th>Method:</th>             <td>Least Squares</td>  <th>  F-statistic:       </th> <td>   453.4</td>\n",
       "</tr>\n",
       "<tr>\n",
       "  <th>Date:</th>             <td>Thu, 05 Oct 2023</td> <th>  Prob (F-statistic):</th> <td>7.08e-64</td>\n",
       "</tr>\n",
       "<tr>\n",
       "  <th>Time:</th>                 <td>16:22:34</td>     <th>  Log-Likelihood:    </th> <td> -315.29</td>\n",
       "</tr>\n",
       "<tr>\n",
       "  <th>No. Observations:</th>      <td>   120</td>      <th>  AIC:               </th> <td>   638.6</td>\n",
       "</tr>\n",
       "<tr>\n",
       "  <th>Df Residuals:</th>          <td>   116</td>      <th>  BIC:               </th> <td>   649.7</td>\n",
       "</tr>\n",
       "<tr>\n",
       "  <th>Df Model:</th>              <td>     3</td>      <th>                     </th>     <td> </td>   \n",
       "</tr>\n",
       "<tr>\n",
       "  <th>Covariance Type:</th>      <td>nonrobust</td>    <th>                     </th>     <td> </td>   \n",
       "</tr>\n",
       "</table>\n",
       "<table class=\"simpletable\">\n",
       "<tr>\n",
       "      <td></td>         <th>coef</th>     <th>std err</th>      <th>t</th>      <th>P>|t|</th>  <th>[0.025</th>    <th>0.975]</th>  \n",
       "</tr>\n",
       "<tr>\n",
       "  <th>Intercept</th> <td>   -7.5499</td> <td>    1.137</td> <td>   -6.641</td> <td> 0.000</td> <td>   -9.802</td> <td>   -5.298</td>\n",
       "</tr>\n",
       "<tr>\n",
       "  <th>x1</th>        <td>    8.4533</td> <td>    0.400</td> <td>   21.109</td> <td> 0.000</td> <td>    7.660</td> <td>    9.246</td>\n",
       "</tr>\n",
       "<tr>\n",
       "  <th>x2</th>        <td>   -0.6109</td> <td>    1.353</td> <td>   -0.451</td> <td> 0.653</td> <td>   -3.292</td> <td>    2.070</td>\n",
       "</tr>\n",
       "<tr>\n",
       "  <th>x1:x2</th>     <td>   -0.3904</td> <td>    0.484</td> <td>   -0.807</td> <td> 0.421</td> <td>   -1.348</td> <td>    0.567</td>\n",
       "</tr>\n",
       "</table>\n",
       "<table class=\"simpletable\">\n",
       "<tr>\n",
       "  <th>Omnibus:</th>       <td>12.006</td> <th>  Durbin-Watson:     </th> <td>   1.719</td>\n",
       "</tr>\n",
       "<tr>\n",
       "  <th>Prob(Omnibus):</th> <td> 0.002</td> <th>  Jarque-Bera (JB):  </th> <td>  11.273</td>\n",
       "</tr>\n",
       "<tr>\n",
       "  <th>Skew:</th>          <td> 0.682</td> <th>  Prob(JB):          </th> <td> 0.00357</td>\n",
       "</tr>\n",
       "<tr>\n",
       "  <th>Kurtosis:</th>      <td> 2.371</td> <th>  Cond. No.          </th> <td>    19.9</td>\n",
       "</tr>\n",
       "</table><br/><br/>Notes:<br/>[1] Standard Errors assume that the covariance matrix of the errors is correctly specified."
      ],
      "text/latex": [
       "\\begin{center}\n",
       "\\begin{tabular}{lclc}\n",
       "\\toprule\n",
       "\\textbf{Dep. Variable:}    &        y         & \\textbf{  R-squared:         } &     0.921   \\\\\n",
       "\\textbf{Model:}            &       OLS        & \\textbf{  Adj. R-squared:    } &     0.919   \\\\\n",
       "\\textbf{Method:}           &  Least Squares   & \\textbf{  F-statistic:       } &     453.4   \\\\\n",
       "\\textbf{Date:}             & Thu, 05 Oct 2023 & \\textbf{  Prob (F-statistic):} &  7.08e-64   \\\\\n",
       "\\textbf{Time:}             &     16:22:34     & \\textbf{  Log-Likelihood:    } &   -315.29   \\\\\n",
       "\\textbf{No. Observations:} &         120      & \\textbf{  AIC:               } &     638.6   \\\\\n",
       "\\textbf{Df Residuals:}     &         116      & \\textbf{  BIC:               } &     649.7   \\\\\n",
       "\\textbf{Df Model:}         &           3      & \\textbf{                     } &             \\\\\n",
       "\\textbf{Covariance Type:}  &    nonrobust     & \\textbf{                     } &             \\\\\n",
       "\\bottomrule\n",
       "\\end{tabular}\n",
       "\\begin{tabular}{lcccccc}\n",
       "                   & \\textbf{coef} & \\textbf{std err} & \\textbf{t} & \\textbf{P$> |$t$|$} & \\textbf{[0.025} & \\textbf{0.975]}  \\\\\n",
       "\\midrule\n",
       "\\textbf{Intercept} &      -7.5499  &        1.137     &    -6.641  &         0.000        &       -9.802    &       -5.298     \\\\\n",
       "\\textbf{x1}        &       8.4533  &        0.400     &    21.109  &         0.000        &        7.660    &        9.246     \\\\\n",
       "\\textbf{x2}        &      -0.6109  &        1.353     &    -0.451  &         0.653        &       -3.292    &        2.070     \\\\\n",
       "\\textbf{x1:x2}     &      -0.3904  &        0.484     &    -0.807  &         0.421        &       -1.348    &        0.567     \\\\\n",
       "\\bottomrule\n",
       "\\end{tabular}\n",
       "\\begin{tabular}{lclc}\n",
       "\\textbf{Omnibus:}       & 12.006 & \\textbf{  Durbin-Watson:     } &    1.719  \\\\\n",
       "\\textbf{Prob(Omnibus):} &  0.002 & \\textbf{  Jarque-Bera (JB):  } &   11.273  \\\\\n",
       "\\textbf{Skew:}          &  0.682 & \\textbf{  Prob(JB):          } &  0.00357  \\\\\n",
       "\\textbf{Kurtosis:}      &  2.371 & \\textbf{  Cond. No.          } &     19.9  \\\\\n",
       "\\bottomrule\n",
       "\\end{tabular}\n",
       "%\\caption{OLS Regression Results}\n",
       "\\end{center}\n",
       "\n",
       "Notes: \\newline\n",
       " [1] Standard Errors assume that the covariance matrix of the errors is correctly specified."
      ],
      "text/plain": [
       "<class 'statsmodels.iolib.summary.Summary'>\n",
       "\"\"\"\n",
       "                            OLS Regression Results                            \n",
       "==============================================================================\n",
       "Dep. Variable:                      y   R-squared:                       0.921\n",
       "Model:                            OLS   Adj. R-squared:                  0.919\n",
       "Method:                 Least Squares   F-statistic:                     453.4\n",
       "Date:                Thu, 05 Oct 2023   Prob (F-statistic):           7.08e-64\n",
       "Time:                        16:22:34   Log-Likelihood:                -315.29\n",
       "No. Observations:                 120   AIC:                             638.6\n",
       "Df Residuals:                     116   BIC:                             649.7\n",
       "Df Model:                           3                                         \n",
       "Covariance Type:            nonrobust                                         \n",
       "==============================================================================\n",
       "                 coef    std err          t      P>|t|      [0.025      0.975]\n",
       "------------------------------------------------------------------------------\n",
       "Intercept     -7.5499      1.137     -6.641      0.000      -9.802      -5.298\n",
       "x1             8.4533      0.400     21.109      0.000       7.660       9.246\n",
       "x2            -0.6109      1.353     -0.451      0.653      -3.292       2.070\n",
       "x1:x2         -0.3904      0.484     -0.807      0.421      -1.348       0.567\n",
       "==============================================================================\n",
       "Omnibus:                       12.006   Durbin-Watson:                   1.719\n",
       "Prob(Omnibus):                  0.002   Jarque-Bera (JB):               11.273\n",
       "Skew:                           0.682   Prob(JB):                      0.00357\n",
       "Kurtosis:                       2.371   Cond. No.                         19.9\n",
       "==============================================================================\n",
       "\n",
       "Notes:\n",
       "[1] Standard Errors assume that the covariance matrix of the errors is correctly specified.\n",
       "\"\"\""
      ]
     },
     "execution_count": 9,
     "metadata": {},
     "output_type": "execute_result"
    }
   ],
   "source": [
    "# 1 mark for fitting regression with the term x1*x2\n",
    "\n",
    "model2 = smf.ols('y ~ x1 + x2 + x1*x2', train).fit()\n",
    "model2.summary()"
   ]
  },
  {
   "cell_type": "markdown",
   "metadata": {
    "id": "zB9QB7H8hwTb"
   },
   "source": [
    "Do you think there is any interaction between `x1` and `x2`? (Answer as Yes/No.)\n",
    "Support your answer by providing reasons. The reasons should be based on models that we have fit and analysis done so far.\n",
    "\n",
    "<div align='right'>(2 marks)</div>"
   ]
  },
  {
   "cell_type": "code",
   "execution_count": 12,
   "metadata": {},
   "outputs": [],
   "source": [
    "# 1 mark for stating No\n",
    "# 1 mark for saying that the coefficient for the x1*x2 is insignificant (p-value > 0.05)"
   ]
  },
  {
   "cell_type": "markdown",
   "metadata": {},
   "source": [
    "No. The coefficient is not statistically significant."
   ]
  },
  {
   "cell_type": "markdown",
   "metadata": {
    "id": "z8ofUKdsiSyk"
   },
   "source": [
    "Perform a polynomial regression by adding quadratic terms. Train a model by keeping statistically significant predictors.\n",
    "\n",
    "Let's call this `model2`.\n",
    "\n",
    "<div align='right'>(3 marks)</div>"
   ]
  },
  {
   "cell_type": "code",
   "execution_count": 15,
   "metadata": {
    "id": "ZI4XuAHNjRWI"
   },
   "outputs": [
    {
     "data": {
      "text/html": [
       "<table class=\"simpletable\">\n",
       "<caption>OLS Regression Results</caption>\n",
       "<tr>\n",
       "  <th>Dep. Variable:</th>            <td>y</td>        <th>  R-squared:         </th> <td>   0.995</td> \n",
       "</tr>\n",
       "<tr>\n",
       "  <th>Model:</th>                   <td>OLS</td>       <th>  Adj. R-squared:    </th> <td>   0.995</td> \n",
       "</tr>\n",
       "<tr>\n",
       "  <th>Method:</th>             <td>Least Squares</td>  <th>  F-statistic:       </th> <td>1.194e+04</td>\n",
       "</tr>\n",
       "<tr>\n",
       "  <th>Date:</th>             <td>Sat, 07 Oct 2023</td> <th>  Prob (F-statistic):</th> <td>5.70e-136</td>\n",
       "</tr>\n",
       "<tr>\n",
       "  <th>Time:</th>                 <td>14:38:30</td>     <th>  Log-Likelihood:    </th> <td> -148.51</td> \n",
       "</tr>\n",
       "<tr>\n",
       "  <th>No. Observations:</th>      <td>   120</td>      <th>  AIC:               </th> <td>   303.0</td> \n",
       "</tr>\n",
       "<tr>\n",
       "  <th>Df Residuals:</th>          <td>   117</td>      <th>  BIC:               </th> <td>   311.4</td> \n",
       "</tr>\n",
       "<tr>\n",
       "  <th>Df Model:</th>              <td>     2</td>      <th>                     </th>     <td> </td>    \n",
       "</tr>\n",
       "<tr>\n",
       "  <th>Covariance Type:</th>      <td>nonrobust</td>    <th>                     </th>     <td> </td>    \n",
       "</tr>\n",
       "</table>\n",
       "<table class=\"simpletable\">\n",
       "<tr>\n",
       "       <td></td>         <th>coef</th>     <th>std err</th>      <th>t</th>      <th>P>|t|</th>  <th>[0.025</th>    <th>0.975]</th>  \n",
       "</tr>\n",
       "<tr>\n",
       "  <th>Intercept</th>  <td>    0.1366</td> <td>    0.156</td> <td>    0.877</td> <td> 0.382</td> <td>   -0.172</td> <td>    0.445</td>\n",
       "</tr>\n",
       "<tr>\n",
       "  <th>x2</th>         <td>   -2.2990</td> <td>    0.160</td> <td>  -14.349</td> <td> 0.000</td> <td>   -2.616</td> <td>   -1.982</td>\n",
       "</tr>\n",
       "<tr>\n",
       "  <th>I(x1 ** 2)</th> <td>    1.7029</td> <td>    0.011</td> <td>  152.931</td> <td> 0.000</td> <td>    1.681</td> <td>    1.725</td>\n",
       "</tr>\n",
       "</table>\n",
       "<table class=\"simpletable\">\n",
       "<tr>\n",
       "  <th>Omnibus:</th>       <td> 3.075</td> <th>  Durbin-Watson:     </th> <td>   1.820</td>\n",
       "</tr>\n",
       "<tr>\n",
       "  <th>Prob(Omnibus):</th> <td> 0.215</td> <th>  Jarque-Bera (JB):  </th> <td>   2.570</td>\n",
       "</tr>\n",
       "<tr>\n",
       "  <th>Skew:</th>          <td> 0.247</td> <th>  Prob(JB):          </th> <td>   0.277</td>\n",
       "</tr>\n",
       "<tr>\n",
       "  <th>Kurtosis:</th>      <td> 3.519</td> <th>  Cond. No.          </th> <td>    27.4</td>\n",
       "</tr>\n",
       "</table><br/><br/>Notes:<br/>[1] Standard Errors assume that the covariance matrix of the errors is correctly specified."
      ],
      "text/plain": [
       "<class 'statsmodels.iolib.summary.Summary'>\n",
       "\"\"\"\n",
       "                            OLS Regression Results                            \n",
       "==============================================================================\n",
       "Dep. Variable:                      y   R-squared:                       0.995\n",
       "Model:                            OLS   Adj. R-squared:                  0.995\n",
       "Method:                 Least Squares   F-statistic:                 1.194e+04\n",
       "Date:                Sat, 07 Oct 2023   Prob (F-statistic):          5.70e-136\n",
       "Time:                        14:38:30   Log-Likelihood:                -148.51\n",
       "No. Observations:                 120   AIC:                             303.0\n",
       "Df Residuals:                     117   BIC:                             311.4\n",
       "Df Model:                           2                                         \n",
       "Covariance Type:            nonrobust                                         \n",
       "==============================================================================\n",
       "                 coef    std err          t      P>|t|      [0.025      0.975]\n",
       "------------------------------------------------------------------------------\n",
       "Intercept      0.1366      0.156      0.877      0.382      -0.172       0.445\n",
       "x2            -2.2990      0.160    -14.349      0.000      -2.616      -1.982\n",
       "I(x1 ** 2)     1.7029      0.011    152.931      0.000       1.681       1.725\n",
       "==============================================================================\n",
       "Omnibus:                        3.075   Durbin-Watson:                   1.820\n",
       "Prob(Omnibus):                  0.215   Jarque-Bera (JB):                2.570\n",
       "Skew:                           0.247   Prob(JB):                        0.277\n",
       "Kurtosis:                       3.519   Cond. No.                         27.4\n",
       "==============================================================================\n",
       "\n",
       "Notes:\n",
       "[1] Standard Errors assume that the covariance matrix of the errors is correctly specified.\n",
       "\"\"\""
      ]
     },
     "execution_count": 15,
     "metadata": {},
     "output_type": "execute_result"
    }
   ],
   "source": [
    "# 1 mark for accurately adding quadratic term (using any means)\n",
    "# 1 mark for only keeping x1**2\n",
    "# 1 mark for not keeping x2**2 (you will end with multi-collinearity)\n",
    "\n",
    "model2 = smf.ols('y ~ x2 + I(x1**2)', train).fit()\n",
    "model2.summary()"
   ]
  },
  {
   "cell_type": "markdown",
   "metadata": {
    "id": "DZJP87bFkdA_"
   },
   "source": [
    "## Question 4: Effect of Encoding"
   ]
  },
  {
   "cell_type": "markdown",
   "metadata": {
    "id": "IAKJ13Pak0Aa"
   },
   "source": [
    "We encoded `x2` as follows: *No* as $0$ and *Yes* as $1$. We want to assess the impact of encoding on the prediction of the model.\n",
    "\n",
    "Let's re-encode `x2` as follows: *No* as $-1$ and *Yes* as $1$.\n",
    "\n",
    "Retrain the final regression model using the re-encoded data.\n",
    "\n",
    "<div align='right'>(1 point)</div>\n"
   ]
  },
  {
   "cell_type": "code",
   "execution_count": 14,
   "metadata": {},
   "outputs": [],
   "source": [
    "df2 = df.replace({0:1, 1:0})"
   ]
  },
  {
   "cell_type": "code",
   "execution_count": 19,
   "metadata": {},
   "outputs": [
    {
     "data": {
      "text/html": [
       "<table class=\"simpletable\">\n",
       "<caption>OLS Regression Results</caption>\n",
       "<tr>\n",
       "  <th>Dep. Variable:</th>            <td>y</td>        <th>  R-squared:         </th> <td>   0.996</td> \n",
       "</tr>\n",
       "<tr>\n",
       "  <th>Model:</th>                   <td>OLS</td>       <th>  Adj. R-squared:    </th> <td>   0.996</td> \n",
       "</tr>\n",
       "<tr>\n",
       "  <th>Method:</th>             <td>Least Squares</td>  <th>  F-statistic:       </th> <td>1.100e+04</td>\n",
       "</tr>\n",
       "<tr>\n",
       "  <th>Date:</th>             <td>Thu, 05 Oct 2023</td> <th>  Prob (F-statistic):</th> <td>9.69e-172</td>\n",
       "</tr>\n",
       "<tr>\n",
       "  <th>Time:</th>                 <td>16:35:01</td>     <th>  Log-Likelihood:    </th> <td> -180.38</td> \n",
       "</tr>\n",
       "<tr>\n",
       "  <th>No. Observations:</th>      <td>   150</td>      <th>  AIC:               </th> <td>   368.8</td> \n",
       "</tr>\n",
       "<tr>\n",
       "  <th>Df Residuals:</th>          <td>   146</td>      <th>  BIC:               </th> <td>   380.8</td> \n",
       "</tr>\n",
       "<tr>\n",
       "  <th>Df Model:</th>              <td>     3</td>      <th>                     </th>     <td> </td>    \n",
       "</tr>\n",
       "<tr>\n",
       "  <th>Covariance Type:</th>      <td>nonrobust</td>    <th>                     </th>     <td> </td>    \n",
       "</tr>\n",
       "</table>\n",
       "<table class=\"simpletable\">\n",
       "<tr>\n",
       "       <td></td>         <th>coef</th>     <th>std err</th>      <th>t</th>      <th>P>|t|</th>  <th>[0.025</th>    <th>0.975]</th>  \n",
       "</tr>\n",
       "<tr>\n",
       "  <th>Intercept</th>  <td>   -2.2441</td> <td>    0.196</td> <td>  -11.450</td> <td> 0.000</td> <td>   -2.632</td> <td>   -1.857</td>\n",
       "</tr>\n",
       "<tr>\n",
       "  <th>x1</th>         <td>    0.0615</td> <td>    0.178</td> <td>    0.346</td> <td> 0.730</td> <td>   -0.290</td> <td>    0.413</td>\n",
       "</tr>\n",
       "<tr>\n",
       "  <th>x2</th>         <td>    2.2490</td> <td>    0.140</td> <td>   16.059</td> <td> 0.000</td> <td>    1.972</td> <td>    2.526</td>\n",
       "</tr>\n",
       "<tr>\n",
       "  <th>I(x1 ** 2)</th> <td>    1.6953</td> <td>    0.035</td> <td>   48.485</td> <td> 0.000</td> <td>    1.626</td> <td>    1.764</td>\n",
       "</tr>\n",
       "</table>\n",
       "<table class=\"simpletable\">\n",
       "<tr>\n",
       "  <th>Omnibus:</th>       <td> 4.209</td> <th>  Durbin-Watson:     </th> <td>   2.056</td>\n",
       "</tr>\n",
       "<tr>\n",
       "  <th>Prob(Omnibus):</th> <td> 0.122</td> <th>  Jarque-Bera (JB):  </th> <td>   3.829</td>\n",
       "</tr>\n",
       "<tr>\n",
       "  <th>Skew:</th>          <td> 0.291</td> <th>  Prob(JB):          </th> <td>   0.147</td>\n",
       "</tr>\n",
       "<tr>\n",
       "  <th>Kurtosis:</th>      <td> 3.523</td> <th>  Cond. No.          </th> <td>    41.7</td>\n",
       "</tr>\n",
       "</table><br/><br/>Notes:<br/>[1] Standard Errors assume that the covariance matrix of the errors is correctly specified."
      ],
      "text/latex": [
       "\\begin{center}\n",
       "\\begin{tabular}{lclc}\n",
       "\\toprule\n",
       "\\textbf{Dep. Variable:}    &        y         & \\textbf{  R-squared:         } &     0.996   \\\\\n",
       "\\textbf{Model:}            &       OLS        & \\textbf{  Adj. R-squared:    } &     0.996   \\\\\n",
       "\\textbf{Method:}           &  Least Squares   & \\textbf{  F-statistic:       } & 1.100e+04   \\\\\n",
       "\\textbf{Date:}             & Thu, 05 Oct 2023 & \\textbf{  Prob (F-statistic):} & 9.69e-172   \\\\\n",
       "\\textbf{Time:}             &     16:35:01     & \\textbf{  Log-Likelihood:    } &   -180.38   \\\\\n",
       "\\textbf{No. Observations:} &         150      & \\textbf{  AIC:               } &     368.8   \\\\\n",
       "\\textbf{Df Residuals:}     &         146      & \\textbf{  BIC:               } &     380.8   \\\\\n",
       "\\textbf{Df Model:}         &           3      & \\textbf{                     } &             \\\\\n",
       "\\textbf{Covariance Type:}  &    nonrobust     & \\textbf{                     } &             \\\\\n",
       "\\bottomrule\n",
       "\\end{tabular}\n",
       "\\begin{tabular}{lcccccc}\n",
       "                    & \\textbf{coef} & \\textbf{std err} & \\textbf{t} & \\textbf{P$> |$t$|$} & \\textbf{[0.025} & \\textbf{0.975]}  \\\\\n",
       "\\midrule\n",
       "\\textbf{Intercept}  &      -2.2441  &        0.196     &   -11.450  &         0.000        &       -2.632    &       -1.857     \\\\\n",
       "\\textbf{x1}         &       0.0615  &        0.178     &     0.346  &         0.730        &       -0.290    &        0.413     \\\\\n",
       "\\textbf{x2}         &       2.2490  &        0.140     &    16.059  &         0.000        &        1.972    &        2.526     \\\\\n",
       "\\textbf{I(x1 ** 2)} &       1.6953  &        0.035     &    48.485  &         0.000        &        1.626    &        1.764     \\\\\n",
       "\\bottomrule\n",
       "\\end{tabular}\n",
       "\\begin{tabular}{lclc}\n",
       "\\textbf{Omnibus:}       &  4.209 & \\textbf{  Durbin-Watson:     } &    2.056  \\\\\n",
       "\\textbf{Prob(Omnibus):} &  0.122 & \\textbf{  Jarque-Bera (JB):  } &    3.829  \\\\\n",
       "\\textbf{Skew:}          &  0.291 & \\textbf{  Prob(JB):          } &    0.147  \\\\\n",
       "\\textbf{Kurtosis:}      &  3.523 & \\textbf{  Cond. No.          } &     41.7  \\\\\n",
       "\\bottomrule\n",
       "\\end{tabular}\n",
       "%\\caption{OLS Regression Results}\n",
       "\\end{center}\n",
       "\n",
       "Notes: \\newline\n",
       " [1] Standard Errors assume that the covariance matrix of the errors is correctly specified."
      ],
      "text/plain": [
       "<class 'statsmodels.iolib.summary.Summary'>\n",
       "\"\"\"\n",
       "                            OLS Regression Results                            \n",
       "==============================================================================\n",
       "Dep. Variable:                      y   R-squared:                       0.996\n",
       "Model:                            OLS   Adj. R-squared:                  0.996\n",
       "Method:                 Least Squares   F-statistic:                 1.100e+04\n",
       "Date:                Thu, 05 Oct 2023   Prob (F-statistic):          9.69e-172\n",
       "Time:                        16:35:01   Log-Likelihood:                -180.38\n",
       "No. Observations:                 150   AIC:                             368.8\n",
       "Df Residuals:                     146   BIC:                             380.8\n",
       "Df Model:                           3                                         \n",
       "Covariance Type:            nonrobust                                         \n",
       "==============================================================================\n",
       "                 coef    std err          t      P>|t|      [0.025      0.975]\n",
       "------------------------------------------------------------------------------\n",
       "Intercept     -2.2441      0.196    -11.450      0.000      -2.632      -1.857\n",
       "x1             0.0615      0.178      0.346      0.730      -0.290       0.413\n",
       "x2             2.2490      0.140     16.059      0.000       1.972       2.526\n",
       "I(x1 ** 2)     1.6953      0.035     48.485      0.000       1.626       1.764\n",
       "==============================================================================\n",
       "Omnibus:                        4.209   Durbin-Watson:                   2.056\n",
       "Prob(Omnibus):                  0.122   Jarque-Bera (JB):                3.829\n",
       "Skew:                           0.291   Prob(JB):                        0.147\n",
       "Kurtosis:                       3.523   Cond. No.                         41.7\n",
       "==============================================================================\n",
       "\n",
       "Notes:\n",
       "[1] Standard Errors assume that the covariance matrix of the errors is correctly specified.\n",
       "\"\"\""
      ]
     },
     "execution_count": 19,
     "metadata": {},
     "output_type": "execute_result"
    }
   ],
   "source": [
    "model4 = smf.ols('y ~ x1 + x2 + I(x1**2)', df2).fit()\n",
    "model4.summary()"
   ]
  },
  {
   "cell_type": "markdown",
   "metadata": {
    "id": "s1LfC701jzZw"
   },
   "source": [
    "**Answer the MCQ in the Canvas Quiz based on the final regression.**"
   ]
  }
 ],
 "metadata": {
  "colab": {
   "provenance": []
  },
  "kernelspec": {
   "display_name": "Python 3 (ipykernel)",
   "language": "python",
   "name": "python3"
  },
  "language_info": {
   "codemirror_mode": {
    "name": "ipython",
    "version": 3
   },
   "file_extension": ".py",
   "mimetype": "text/x-python",
   "name": "python",
   "nbconvert_exporter": "python",
   "pygments_lexer": "ipython3",
   "version": "3.9.12"
  }
 },
 "nbformat": 4,
 "nbformat_minor": 1
}
