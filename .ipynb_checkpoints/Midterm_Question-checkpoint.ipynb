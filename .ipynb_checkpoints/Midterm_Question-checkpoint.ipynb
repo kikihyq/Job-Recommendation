{
 "cells": [
  {
   "cell_type": "markdown",
   "metadata": {
    "id": "mszc4cJebE3Q"
   },
   "source": [
    "## Midterm Exam (IT5006 AY 23/24 Sem 1)\n",
    "\n",
    "You have been given a data set *(secret_function.csv)* that comprises of three columns `x1`, `x2` and `y`. Your job is to identify the function `f` that such that `y = f(x1, x2)`. Isn't this machine learning afterall!\n",
    "\n",
    "- Being an open-internet exam, you are allowed to refer to the online resoures.\n",
    "- We have imported some libraries for you. You are allowed to import additional libraries, if needed."
   ]
  },
  {
   "cell_type": "code",
   "execution_count": 1,
   "metadata": {
    "id": "VwSYxmVIemIy"
   },
   "outputs": [],
   "source": [
    "import numpy as np\n",
    "import pandas as pd\n",
    "import matplotlib.pyplot as plt\n",
    "import seaborn as sns"
   ]
  },
  {
   "cell_type": "markdown",
   "metadata": {
    "id": "yxMDBYOfbOCi"
   },
   "source": [
    "## Question 1: Data Loading and Preprocessing (3 points)"
   ]
  },
  {
   "cell_type": "markdown",
   "metadata": {
    "id": "MaBy8ClUbwVD"
   },
   "source": [
    "Load the dataset in a pandas dataframe `df`.\n",
    "<div align=\"right\"> (1 point) </div>"
   ]
  },
  {
   "cell_type": "code",
   "execution_count": 2,
   "metadata": {
    "id": "OSFACWerbyNV"
   },
   "outputs": [],
   "source": [
    "df = pd.read_csv(\"secret_function.csv\")"
   ]
  },
  {
   "cell_type": "markdown",
   "metadata": {
    "id": "UZv6YrGXbyxG"
   },
   "source": [
    "Display a *meaningful* scatter plot. (You are free to choose the appropriate predictor on the `x`-axis).\n",
    "\n",
    "<div align=\"right\"> (1 point) </div>"
   ]
  },
  {
   "cell_type": "code",
   "execution_count": 5,
   "metadata": {},
   "outputs": [
    {
     "data": {
      "image/png": "[encoded data removed]",
      "text/plain": [
       "<Figure size 432x288 with 1 Axes>"
      ]
     },
     "metadata": {
      "needs_background": "light"
     },
     "output_type": "display_data"
    }
   ],
   "source": [
    "sns.scatterplot( data=df, x=\"x1\", y=\"y\" )\n",
    "plt.show()"
   ]
  },
  {
   "cell_type": "markdown",
   "metadata": {
    "id": "qwZcwLemd-tE"
   },
   "source": [
    "We need to transform `x2` to numerical values in order to perform regression. Encode *No* as $0$ and *Yes* as $1$.\n",
    "\n",
    "<div align=\"right\"> (1 point) </div>"
   ]
  },
  {
   "cell_type": "code",
   "execution_count": 7,
   "metadata": {
    "id": "dDijl4znea4P"
   },
   "outputs": [],
   "source": [
    "df['x2'] = [1 if l==\"Yes\" else 0 for l in df['x2']]"
   ]
  },
  {
   "cell_type": "markdown",
   "metadata": {
    "id": "pKt2hy4JcPap"
   },
   "source": [
    "## Question 2: Multiple Linear Regression (5 points)"
   ]
  },
  {
   "cell_type": "markdown",
   "metadata": {
    "id": "svHDCbyTca5L"
   },
   "source": [
    "Split your dataset into two parts: 80% data should be training data and 20% data should be left for testing. Please use `12` as the `random_state` to ensure the reproducibility of the experiment.\n",
    "\n",
    "<div align=\"right\"> (2 points) </div>"
   ]
  },
  {
   "cell_type": "code",
   "execution_count": 9,
   "metadata": {
    "id": "bdMgnr2Lc1_8"
   },
   "outputs": [],
   "source": [
    "from sklearn.model_selection import train_test_split\n",
    "\n",
    "rng = np.random.RandomState(12)  # reproduceble\n",
    "train_data, test_data = train_test_split( df, test_size=0.20, random_state=rng ) "
   ]
  },
  {
   "cell_type": "markdown",
   "metadata": {
    "id": "I4UVPb16dT60"
   },
   "source": [
    "Train the OLS regression on the data. Let's call this `model1`. Report the mean squared error on the training and testing dataset.\n",
    "\n",
    "<div align=\"right\"> (3 points) </div>"
   ]
  },
  {
   "cell_type": "code",
   "execution_count": 41,
   "metadata": {
    "id": "NJv1PekKdTN5"
   },
   "outputs": [
    {
     "name": "stdout",
     "output_type": "stream",
     "text": [
      "The MSE of the training dataset is  36.78317071081867\n",
      "The MSE of the testing dataset is  40     0.083389\n",
      "146    0.389142\n",
      "38     0.307241\n",
      "99     0.400936\n",
      "143    0.824727\n",
      "116    0.347844\n",
      "148    0.818278\n",
      "39     0.935879\n",
      "135    0.581430\n",
      "23     0.614407\n",
      "66     0.225671\n",
      "16     0.487153\n",
      "31     0.505053\n",
      "21     0.958311\n",
      "50     0.720147\n",
      "125    0.588190\n",
      "108    0.285267\n",
      "61     0.076860\n",
      "6      0.684624\n",
      "72     0.833186\n",
      "1      0.428032\n",
      "71     0.852977\n",
      "126    0.216238\n",
      "78     0.233921\n",
      "24     0.976439\n",
      "145    0.179877\n",
      "77     0.733750\n",
      "90     0.265873\n",
      "11     0.691325\n",
      "41     0.857350\n",
      "Name: y, dtype: float64\n"
     ]
    }
   ],
   "source": [
    "import statsmodels.formula.api as smf\n",
    "\n",
    "model1 = smf.ols( formula='y ~ x1 + x2 ', data=train_data ).fit()\n",
    "y_pre = model1.predict(test_data)\n",
    " \n",
    "print(\"The MSE of the training dataset is \",np.sqrt(model1.ssr))\n",
    "print(\"The MSE of the testing dataset is \",np.sqrt(  (y_pre.iloc[0]-test_data['y'])**2 )/len(test_data))\n"
   ]
  },
  {
   "cell_type": "markdown",
   "metadata": {
    "id": "-6LyjrGpexa1"
   },
   "source": [
    "**Answer two MCQs in the Canvas Quiz based on `model1`.**"
   ]
  },
  {
   "cell_type": "markdown",
   "metadata": {
    "id": "7wQxJAkTe7t9"
   },
   "source": [
    "## Question 3: Polynomial Regression (6 points)"
   ]
  },
  {
   "cell_type": "markdown",
   "metadata": {
    "id": "KArHSi0Ie-JL"
   },
   "source": [
    "Perform the OLS by adding the interaction term between `x1` and `x2`."
   ]
  },
  {
   "cell_type": "code",
   "execution_count": 45,
   "metadata": {
    "id": "C1nMfsxhhwJA"
   },
   "outputs": [],
   "source": [
    "\n",
    "model_formula = 'y ~ x1 + x2 + x1*x2'\n",
    "poly_est = smf.ols( formula=model_formula, data=train_data ).fit()"
   ]
  },
  {
   "cell_type": "markdown",
   "metadata": {
    "id": "zB9QB7H8hwTb"
   },
   "source": [
    "Do you think there is any evidence of the interaction between `x1` and `x2`? (Answer as Yes/No.)\n",
    "Support your answer by providing reasons. The reasons should be based on the models that we have fit so far.\n",
    "\n",
    "<div align='right'>(3 marks)</div>"
   ]
  },
  {
   "cell_type": "code",
   "execution_count": 56,
   "metadata": {
    "id": "34ofJz-TiSWm"
   },
   "outputs": [
    {
     "data": {
      "text/html": [
       "<table class=\"simpletable\">\n",
       "<caption>OLS Regression Results</caption>\n",
       "<tr>\n",
       "  <th>Dep. Variable:</th>            <td>y</td>        <th>  R-squared:         </th> <td>   0.917</td>\n",
       "</tr>\n",
       "<tr>\n",
       "  <th>Model:</th>                   <td>OLS</td>       <th>  Adj. R-squared:    </th> <td>   0.916</td>\n",
       "</tr>\n",
       "<tr>\n",
       "  <th>Method:</th>             <td>Least Squares</td>  <th>  F-statistic:       </th> <td>   1303.</td>\n",
       "</tr>\n",
       "<tr>\n",
       "  <th>Date:</th>             <td>Fri, 06 Oct 2023</td> <th>  Prob (F-statistic):</th> <td>1.30e-65</td>\n",
       "</tr>\n",
       "<tr>\n",
       "  <th>Time:</th>                 <td>19:58:42</td>     <th>  Log-Likelihood:    </th> <td> -318.58</td>\n",
       "</tr>\n",
       "<tr>\n",
       "  <th>No. Observations:</th>      <td>   120</td>      <th>  AIC:               </th> <td>   641.2</td>\n",
       "</tr>\n",
       "<tr>\n",
       "  <th>Df Residuals:</th>          <td>   118</td>      <th>  BIC:               </th> <td>   646.7</td>\n",
       "</tr>\n",
       "<tr>\n",
       "  <th>Df Model:</th>              <td>     1</td>      <th>                     </th>     <td> </td>   \n",
       "</tr>\n",
       "<tr>\n",
       "  <th>Covariance Type:</th>      <td>nonrobust</td>    <th>                     </th>     <td> </td>   \n",
       "</tr>\n",
       "</table>\n",
       "<table class=\"simpletable\">\n",
       "<tr>\n",
       "      <td></td>         <th>coef</th>     <th>std err</th>      <th>t</th>      <th>P>|t|</th>  <th>[0.025</th>    <th>0.975]</th>  \n",
       "</tr>\n",
       "<tr>\n",
       "  <th>Intercept</th> <td>   -3.9870</td> <td>    0.314</td> <td>  -12.685</td> <td> 0.000</td> <td>   -4.609</td> <td>   -3.365</td>\n",
       "</tr>\n",
       "<tr>\n",
       "  <th>x1</th>        <td>    4.1154</td> <td>    0.114</td> <td>   36.103</td> <td> 0.000</td> <td>    3.890</td> <td>    4.341</td>\n",
       "</tr>\n",
       "<tr>\n",
       "  <th>x2</th>        <td>    3.9870</td> <td>    0.314</td> <td>   12.685</td> <td> 0.000</td> <td>    3.365</td> <td>    4.609</td>\n",
       "</tr>\n",
       "<tr>\n",
       "  <th>x1:x2</th>     <td>   -4.1154</td> <td>    0.114</td> <td>  -36.103</td> <td> 0.000</td> <td>   -4.341</td> <td>   -3.890</td>\n",
       "</tr>\n",
       "</table>\n",
       "<table class=\"simpletable\">\n",
       "<tr>\n",
       "  <th>Omnibus:</th>       <td> 8.679</td> <th>  Durbin-Watson:     </th> <td>   1.756</td>\n",
       "</tr>\n",
       "<tr>\n",
       "  <th>Prob(Omnibus):</th> <td> 0.013</td> <th>  Jarque-Bera (JB):  </th> <td>   8.171</td>\n",
       "</tr>\n",
       "<tr>\n",
       "  <th>Skew:</th>          <td> 0.576</td> <th>  Prob(JB):          </th> <td>  0.0168</td>\n",
       "</tr>\n",
       "<tr>\n",
       "  <th>Kurtosis:</th>      <td> 2.444</td> <th>  Cond. No.          </th> <td>2.38e+16</td>\n",
       "</tr>\n",
       "</table><br/><br/>Notes:<br/>[1] Standard Errors assume that the covariance matrix of the errors is correctly specified.<br/>[2] The smallest eigenvalue is 3.54e-30. This might indicate that there are<br/>strong multicollinearity problems or that the design matrix is singular."
      ],
      "text/plain": [
       "<class 'statsmodels.iolib.summary.Summary'>\n",
       "\"\"\"\n",
       "                            OLS Regression Results                            \n",
       "==============================================================================\n",
       "Dep. Variable:                      y   R-squared:                       0.917\n",
       "Model:                            OLS   Adj. R-squared:                  0.916\n",
       "Method:                 Least Squares   F-statistic:                     1303.\n",
       "Date:                Fri, 06 Oct 2023   Prob (F-statistic):           1.30e-65\n",
       "Time:                        19:58:42   Log-Likelihood:                -318.58\n",
       "No. Observations:                 120   AIC:                             641.2\n",
       "Df Residuals:                     118   BIC:                             646.7\n",
       "Df Model:                           1                                         \n",
       "Covariance Type:            nonrobust                                         \n",
       "==============================================================================\n",
       "                 coef    std err          t      P>|t|      [0.025      0.975]\n",
       "------------------------------------------------------------------------------\n",
       "Intercept     -3.9870      0.314    -12.685      0.000      -4.609      -3.365\n",
       "x1             4.1154      0.114     36.103      0.000       3.890       4.341\n",
       "x2             3.9870      0.314     12.685      0.000       3.365       4.609\n",
       "x1:x2         -4.1154      0.114    -36.103      0.000      -4.341      -3.890\n",
       "==============================================================================\n",
       "Omnibus:                        8.679   Durbin-Watson:                   1.756\n",
       "Prob(Omnibus):                  0.013   Jarque-Bera (JB):                8.171\n",
       "Skew:                           0.576   Prob(JB):                       0.0168\n",
       "Kurtosis:                       2.444   Cond. No.                     2.38e+16\n",
       "==============================================================================\n",
       "\n",
       "Notes:\n",
       "[1] Standard Errors assume that the covariance matrix of the errors is correctly specified.\n",
       "[2] The smallest eigenvalue is 3.54e-30. This might indicate that there are\n",
       "strong multicollinearity problems or that the design matrix is singular.\n",
       "\"\"\""
      ]
     },
     "execution_count": 56,
     "metadata": {},
     "output_type": "execute_result"
    }
   ],
   "source": [
    "poly_est.summary()"
   ]
  },
  {
   "cell_type": "markdown",
   "metadata": {},
   "source": [
    "Yes. The pvalue of the interaction term is less than 0.05(see the summary above) so this term is significant.\n"
   ]
  },
  {
   "cell_type": "markdown",
   "metadata": {
    "id": "z8ofUKdsiSyk"
   },
   "source": [
    "Perform a polynomial regression by adding quadratic terms. Train a model by keeping statistically significant predictors.\n",
    "\n",
    "Let's call this `model2`.\n",
    "\n",
    "<div align='right'>(3 marks)</div>"
   ]
  },
  {
   "cell_type": "code",
   "execution_count": 50,
   "metadata": {
    "id": "ZI4XuAHNjRWI"
   },
   "outputs": [],
   "source": [
    "predictors = [\"x1\", \"x2\"]\n",
    "\n",
    "poly2_predictors = []\n",
    "for p in predictors:\n",
    "    poly2_predictors.append( '{} + I({}**2)'.format(p, p) )\n",
    "poly2_formula = 'y ~ '+ ' + '.join( poly2_predictors )\n",
    "poly2_formula\n",
    "\n",
    "model2 = smf.ols( formula=poly2_formula, data=train_data ).fit()"
   ]
  },
  {
   "cell_type": "markdown",
   "metadata": {
    "id": "DZJP87bFkdA_"
   },
   "source": [
    "## Question 4: Effect of Encoding"
   ]
  },
  {
   "cell_type": "markdown",
   "metadata": {
    "id": "IAKJ13Pak0Aa"
   },
   "source": [
    "We had encoded `x2` as follows: *No* as $0$ and *Yes* as $1$. Now, we want to assess the impact of encoding on the prediction of the model.\n",
    "\n",
    "Let's re-encode `x2` as follows: *No* as $-1$ and *Yes* as $1$.\n",
    "\n",
    "Retrain the `model2` setting using the re-encoded data. Let's call this `model3`.\n"
   ]
  },
  {
   "cell_type": "code",
   "execution_count": 44,
   "metadata": {},
   "outputs": [],
   "source": [
    "train_data['x2'] = [1 if l==\"Yes\" else -1 for l in train_data['x2']]"
   ]
  },
  {
   "cell_type": "code",
   "execution_count": 46,
   "metadata": {},
   "outputs": [],
   "source": [
    "model3 = smf.ols( formula=poly2_formula, data=train_data ).fit()"
   ]
  },
  {
   "cell_type": "code",
   "execution_count": 51,
   "metadata": {},
   "outputs": [
    {
     "data": {
      "text/html": [
       "<table class=\"simpletable\">\n",
       "<caption>OLS Regression Results</caption>\n",
       "<tr>\n",
       "  <th>Dep. Variable:</th>            <td>y</td>        <th>  R-squared:         </th> <td>   0.987</td> \n",
       "</tr>\n",
       "<tr>\n",
       "  <th>Model:</th>                   <td>OLS</td>       <th>  Adj. R-squared:    </th> <td>   0.986</td> \n",
       "</tr>\n",
       "<tr>\n",
       "  <th>Method:</th>             <td>Least Squares</td>  <th>  F-statistic:       </th> <td>   4328.</td> \n",
       "</tr>\n",
       "<tr>\n",
       "  <th>Date:</th>             <td>Fri, 06 Oct 2023</td> <th>  Prob (F-statistic):</th> <td>2.07e-110</td>\n",
       "</tr>\n",
       "<tr>\n",
       "  <th>Time:</th>                 <td>19:54:56</td>     <th>  Log-Likelihood:    </th> <td> -208.87</td> \n",
       "</tr>\n",
       "<tr>\n",
       "  <th>No. Observations:</th>      <td>   120</td>      <th>  AIC:               </th> <td>   423.7</td> \n",
       "</tr>\n",
       "<tr>\n",
       "  <th>Df Residuals:</th>          <td>   117</td>      <th>  BIC:               </th> <td>   432.1</td> \n",
       "</tr>\n",
       "<tr>\n",
       "  <th>Df Model:</th>              <td>     2</td>      <th>                     </th>     <td> </td>    \n",
       "</tr>\n",
       "<tr>\n",
       "  <th>Covariance Type:</th>      <td>nonrobust</td>    <th>                     </th>     <td> </td>    \n",
       "</tr>\n",
       "</table>\n",
       "<table class=\"simpletable\">\n",
       "<tr>\n",
       "       <td></td>         <th>coef</th>     <th>std err</th>      <th>t</th>      <th>P>|t|</th>  <th>[0.025</th>    <th>0.975]</th>  \n",
       "</tr>\n",
       "<tr>\n",
       "  <th>Intercept</th>  <td>   -0.5647</td> <td>    0.120</td> <td>   -4.725</td> <td> 0.000</td> <td>   -0.801</td> <td>   -0.328</td>\n",
       "</tr>\n",
       "<tr>\n",
       "  <th>x1</th>         <td>    0.3420</td> <td>    0.332</td> <td>    1.030</td> <td> 0.305</td> <td>   -0.316</td> <td>    1.000</td>\n",
       "</tr>\n",
       "<tr>\n",
       "  <th>I(x1 ** 2)</th> <td>    1.6451</td> <td>    0.067</td> <td>   24.723</td> <td> 0.000</td> <td>    1.513</td> <td>    1.777</td>\n",
       "</tr>\n",
       "<tr>\n",
       "  <th>x2</th>         <td>    0.5647</td> <td>    0.120</td> <td>    4.725</td> <td> 0.000</td> <td>    0.328</td> <td>    0.801</td>\n",
       "</tr>\n",
       "<tr>\n",
       "  <th>I(x2 ** 2)</th> <td>   -0.5647</td> <td>    0.120</td> <td>   -4.725</td> <td> 0.000</td> <td>   -0.801</td> <td>   -0.328</td>\n",
       "</tr>\n",
       "</table>\n",
       "<table class=\"simpletable\">\n",
       "<tr>\n",
       "  <th>Omnibus:</th>       <td> 5.588</td> <th>  Durbin-Watson:     </th> <td>   2.119</td>\n",
       "</tr>\n",
       "<tr>\n",
       "  <th>Prob(Omnibus):</th> <td> 0.061</td> <th>  Jarque-Bera (JB):  </th> <td>   5.605</td>\n",
       "</tr>\n",
       "<tr>\n",
       "  <th>Skew:</th>          <td> 0.493</td> <th>  Prob(JB):          </th> <td>  0.0607</td>\n",
       "</tr>\n",
       "<tr>\n",
       "  <th>Kurtosis:</th>      <td> 2.616</td> <th>  Cond. No.          </th> <td>1.89e+32</td>\n",
       "</tr>\n",
       "</table><br/><br/>Notes:<br/>[1] Standard Errors assume that the covariance matrix of the errors is correctly specified.<br/>[2] The smallest eigenvalue is 3.85e-61. This might indicate that there are<br/>strong multicollinearity problems or that the design matrix is singular."
      ],
      "text/plain": [
       "<class 'statsmodels.iolib.summary.Summary'>\n",
       "\"\"\"\n",
       "                            OLS Regression Results                            \n",
       "==============================================================================\n",
       "Dep. Variable:                      y   R-squared:                       0.987\n",
       "Model:                            OLS   Adj. R-squared:                  0.986\n",
       "Method:                 Least Squares   F-statistic:                     4328.\n",
       "Date:                Fri, 06 Oct 2023   Prob (F-statistic):          2.07e-110\n",
       "Time:                        19:54:56   Log-Likelihood:                -208.87\n",
       "No. Observations:                 120   AIC:                             423.7\n",
       "Df Residuals:                     117   BIC:                             432.1\n",
       "Df Model:                           2                                         \n",
       "Covariance Type:            nonrobust                                         \n",
       "==============================================================================\n",
       "                 coef    std err          t      P>|t|      [0.025      0.975]\n",
       "------------------------------------------------------------------------------\n",
       "Intercept     -0.5647      0.120     -4.725      0.000      -0.801      -0.328\n",
       "x1             0.3420      0.332      1.030      0.305      -0.316       1.000\n",
       "I(x1 ** 2)     1.6451      0.067     24.723      0.000       1.513       1.777\n",
       "x2             0.5647      0.120      4.725      0.000       0.328       0.801\n",
       "I(x2 ** 2)    -0.5647      0.120     -4.725      0.000      -0.801      -0.328\n",
       "==============================================================================\n",
       "Omnibus:                        5.588   Durbin-Watson:                   2.119\n",
       "Prob(Omnibus):                  0.061   Jarque-Bera (JB):                5.605\n",
       "Skew:                           0.493   Prob(JB):                       0.0607\n",
       "Kurtosis:                       2.616   Cond. No.                     1.89e+32\n",
       "==============================================================================\n",
       "\n",
       "Notes:\n",
       "[1] Standard Errors assume that the covariance matrix of the errors is correctly specified.\n",
       "[2] The smallest eigenvalue is 3.85e-61. This might indicate that there are\n",
       "strong multicollinearity problems or that the design matrix is singular.\n",
       "\"\"\""
      ]
     },
     "execution_count": 51,
     "metadata": {},
     "output_type": "execute_result"
    }
   ],
   "source": [
    "model2.summary()"
   ]
  },
  {
   "cell_type": "markdown",
   "metadata": {
    "id": "s1LfC701jzZw"
   },
   "source": [
    "**Answer the MCQ in the Canvas Quiz based on `model2` abd `model3`.**"
   ]
  },
  {
   "cell_type": "code",
   "execution_count": 54,
   "metadata": {},
   "outputs": [
    {
     "data": {
      "text/plain": [
       "<AxesSubplot:xlabel='x1', ylabel='y'>"
      ]
     },
     "execution_count": 54,
     "metadata": {},
     "output_type": "execute_result"
    },
    {
     "data": {
      "image/png": "[encoded data removed]",
      "text/plain": [
       "<Figure size 432x288 with 1 Axes>"
      ]
     },
     "metadata": {
      "needs_background": "light"
     },
     "output_type": "display_data"
    }
   ],
   "source": [
    "sns.residplot( x=train_data[\"x1\"], y=train_data['y'] )"
   ]
  },
  {
   "cell_type": "code",
   "execution_count": 55,
   "metadata": {},
   "outputs": [
    {
     "data": {
      "text/plain": [
       "<AxesSubplot:xlabel='x2', ylabel='y'>"
      ]
     },
     "execution_count": 55,
     "metadata": {},
     "output_type": "execute_result"
    },
    {
     "data": {
      "image/png": "[encoded data removed]",
      "text/plain": [
       "<Figure size 432x288 with 1 Axes>"
      ]
     },
     "metadata": {
      "needs_background": "light"
     },
     "output_type": "display_data"
    }
   ],
   "source": [
    "sns.residplot( x=train_data[\"x2\"], y=train_data['y'] )"
   ]
  },
  {
   "cell_type": "code",
   "execution_count": null,
   "metadata": {},
   "outputs": [],
   "source": []
  }
 ],
 "metadata": {
  "colab": {
   "provenance": []
  },
  "kernelspec": {
   "display_name": "Python 3 (ipykernel)",
   "language": "python",
   "name": "python3"
  },
  "language_info": {
   "codemirror_mode": {
    "name": "ipython",
    "version": 3
   },
   "file_extension": ".py",
   "mimetype": "text/x-python",
   "name": "python",
   "nbconvert_exporter": "python",
   "pygments_lexer": "ipython3",
   "version": "3.9.12"
  }
 },
 "nbformat": 4,
 "nbformat_minor": 1
}
