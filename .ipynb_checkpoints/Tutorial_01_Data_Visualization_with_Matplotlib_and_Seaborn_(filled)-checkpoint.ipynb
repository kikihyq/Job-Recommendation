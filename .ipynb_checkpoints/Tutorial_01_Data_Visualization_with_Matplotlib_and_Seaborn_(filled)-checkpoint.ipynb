{
 "cells": [
  {
   "cell_type": "markdown",
   "metadata": {
    "id": "f6QvBiYT7syS"
   },
   "source": [
    "# Tutorial 1 (Week 1) - Data Visualization using Matplotlib and Seaborn\n",
    "\n",
    "## Learning Objectives\n",
    "After completing this tutorial, students should be able to:\n",
    "+ Load and inspect datasets using pandas library\n",
    "+ Visualize data using Matplotlib\n",
    "    + Describe parts of a Matplotlib figure\n",
    "    + Create plots of various types (e.g., line plots, scatter plots) using pyplot\n",
    "+ Visualize data using Seaborn\n",
    "    + Create plots using axes-level and figure-level functions in Seaborn\n",
    "    + Visualize statistical relationships\n",
    "    + Visualize distributions\n",
    "    + Visualize categorical data"
   ]
  },
  {
   "cell_type": "markdown",
   "metadata": {
    "id": "esd9jvcC7syY"
   },
   "source": [
    "This tutorial references content from the [Matplotlib tutorial](https://matplotlib.org/stable/tutorials/index.html) and [seaborn tutorial](https://seaborn.pydata.org/tutorial.html)."
   ]
  },
  {
   "cell_type": "markdown",
   "metadata": {
    "id": "TtqDnDsLdEWM"
   },
   "source": [
    "# Loading and Inspecting Datasets"
   ]
  },
  {
   "cell_type": "markdown",
   "metadata": {
    "id": "faNi6H346pe6"
   },
   "source": [
    "We will work with the dataset of [Broadway Shows](https://www.kaggle.com/datasets/mexwell/broadway-shows), which is available in csv (comma-separated values) format from Kaggle. \n",
    "\n",
    "For your convenience, the cleaned data file (\"broadway_clean.csv\") has been uploaded on Canvas along with this notebook. Please take some time to understand this dataset by going through the Data Dictionary at the above link, as it will help you appreciate the objectives of the various visualizations we are going to create.\n",
    "\n",
    "[pandas (Python Data Analysis Library)](https://pandas.pydata.org/) provides convenient functions to work with data in Python. The most-used data structure in pandas is `DataFrame`, which is essentially a table representation of the data.\n",
    "\n",
    "We use the function `read_csv()` to load our Broadway Shows data into a `DataFrame` variable.\n",
    "\n",
    "After loading the data, it is common to grab the first few rows of the resulting table to see what the dataset looks like."
   ]
  },
  {
   "cell_type": "code",
   "execution_count": null,
   "metadata": {
    "id": "juq5cFLk6zcE"
   },
   "outputs": [],
   "source": [
    "import pandas as pd\n",
    "\n",
    "shows = pd.read_csv( \"broadway_clean.csv\" )\n",
    "shows.head()"
   ]
  },
  {
   "cell_type": "markdown",
   "metadata": {},
   "source": [
    "There are various `DataFrame` properties you can query to inspect the data. For instance, `shape` gives you the dimension of the data table in the form of `(num_of_rows, num_of_columns)`. This can be useful to check that the whole dataset is properly loaded and no row / column is missed out from the file."
   ]
  },
  {
   "cell_type": "code",
   "execution_count": null,
   "metadata": {},
   "outputs": [],
   "source": [
    "shows.shape"
   ]
  },
  {
   "cell_type": "markdown",
   "metadata": {},
   "source": [
    "__EXERCISE:__\n",
    "\n",
    "A few easy tasks to get you warmed up! Look up how to do the following for the Broadway Shows dataset, and fill up the code cells that are tagged with `TODO`.\n",
    "1. Get the __last__ 8 rows.\n",
    "2. Generate descriptive statistic summary of the dataset.\n",
    "3. Select only the year, show name, and gross revenue columns.\n",
    "4. Select only rows with filled capacity of 50% or more.\n",
    "\n",
    "The guides on [pandas documentation page](https://pandas.pydata.org/docs/index.html) may come in handy!"
   ]
  },
  {
   "cell_type": "code",
   "execution_count": null,
   "metadata": {},
   "outputs": [],
   "source": [
    "# TODO: Get the last 8 rows \n",
    "shows.tail( 8 )"
   ]
  },
  {
   "cell_type": "code",
   "execution_count": null,
   "metadata": {},
   "outputs": [],
   "source": [
    "# TODO: Generate descriptive statistic summary of the dataset\n",
    "shows.describe()"
   ]
  },
  {
   "cell_type": "code",
   "execution_count": null,
   "metadata": {},
   "outputs": [],
   "source": [
    "# TODO: Select only the year, show name, and gross revenue columns\n",
    "shows[[ \"Date.Year\", \"Show.Name\", \"Statistics.Gross\" ]]"
   ]
  },
  {
   "cell_type": "code",
   "execution_count": null,
   "metadata": {},
   "outputs": [],
   "source": [
    "# TODO: Select only rows with filled capacity of 50% or more\n",
    "shows[ shows[ \"Statistics.Capacity\" ] >= 50 ]"
   ]
  },
  {
   "cell_type": "markdown",
   "metadata": {
    "id": "2X36_xTH7syZ"
   },
   "source": [
    "We are now ready to use the Broadway Shows dataset to do some data visualisations."
   ]
  },
  {
   "cell_type": "markdown",
   "metadata": {
    "id": "ojvXgRg77syc"
   },
   "source": [
    "# Introduction to Matplotlib\n",
    "\n",
    "Matplotlib is a Python plotting library that produces high-quality figures in a variety of formats and across platforms. \n",
    "\n",
    "Matplotlib graphs your data on __Figures__ (i.e., windows, Jupyter widgets, etc.), each of which can contain one or more Axes (i.e., an area where points can be specified in terms of x-y coordinates (or theta-r in a polar plot, or x-y-z in a 3D plot, etc.). \n",
    "\n",
    "Let us look at what makes up a Matplotlib Figure to get familiar with the terms.\n",
    "\n",
    "<img src = \"https://matplotlib.org/_images/anatomy.png\" width=\"600\"/>"
   ]
  },
  {
   "cell_type": "markdown",
   "metadata": {
    "id": "lL1xMm_97syd"
   },
   "source": [
    "## Introduction to Pyplot\n",
    "\n",
    "The easiest way to create a new Figure is with pyplot. ```matplotlib.pyplot``` provides a collection of functions to work with a Figure, e.g. creating a Figure, creating a plotting area in a Figure, plotting lines, etc. \n",
    "\n",
    "For Jupyter notebooks, we set ```%matplotlib inline``` magic to output the plotting commands inline in our notebooks."
   ]
  },
  {
   "cell_type": "code",
   "execution_count": null,
   "metadata": {
    "id": "ywE0zBHS7sye"
   },
   "outputs": [],
   "source": [
    "%matplotlib inline\n",
    "import matplotlib.pyplot as plt"
   ]
  },
  {
   "cell_type": "markdown",
   "metadata": {
    "id": "6ZxzBqaHs0PZ"
   },
   "source": [
    "## Basic Plot\n",
    "\n",
    "Before we work with our dataset, let's get a feel of building a basic plot and setting the Figure components. \n",
    "\n",
    "As the following code shows, we can create several plots on the same graph. A line plot is created using `pyplot.plot` and a scatter plot is created using `pyplot.scatter`.\n",
    "\n",
    "__EXERCISE:__\n",
    "\n",
    "Explore the API references for [`pyplot.plot`](https://matplotlib.org/stable/api/_as_gen/matplotlib.pyplot.plot.html) and [`pyplot.scatter`](https://matplotlib.org/stable/api/_as_gen/matplotlib.pyplot.scatter.html) to complete the `TODO` tasks below."
   ]
  },
  {
   "cell_type": "code",
   "execution_count": null,
   "metadata": {
    "id": "Of9Sefetszor"
   },
   "outputs": [],
   "source": [
    "import numpy as np\n",
    "\n",
    "# Generate 100 evenly spaced samples, calculated over the interval [0, 10].\n",
    "x = np.linspace( 0, 10, 100 )  \n",
    "\n",
    "# Create a line plot of sin(x) against x, and label it\n",
    "plt.plot( x, np.sin(x), label=\"sin(x)\" ) \n",
    "\n",
    "# TODO: Create a line plot of cos(x) against x, and label it\n",
    "plt.plot( x, np.cos(x), label=\"cos(x)\" ) \n",
    "\n",
    "# Create a scatter plot of (x^2 / 100) against x using blue diamond markers, and label it\n",
    "plt.scatter( x, x*x/100, c=\"Blue\", marker=\"D\", label=\"x^2 / 100\" )\n",
    "\n",
    "# TODO: Create a scatter plot of (x * 0.07) against x using red '+' markers, and label it\n",
    "plt.scatter( x, x*0.07, c=\"Red\", marker=\"+\", label=\"0.07x\" )\n",
    "\n",
    "# Create a legend \n",
    "plt.legend() \n",
    "\n",
    "# Label the y and x axes\n",
    "plt.ylabel( \"Y\" )\n",
    "plt.xlabel( \"X\" )\n",
    "\n",
    "# Configures grid lines to be visible\n",
    "plt.grid( visible = True ) \n",
    "\n",
    "# Display the plot\n",
    "plt.show()"
   ]
  },
  {
   "cell_type": "markdown",
   "metadata": {
    "id": "agqJyOmt7syf"
   },
   "source": [
    "Let us now create visualizations for the Broadway Shows dataset. \n",
    "\n",
    "### Line Plot\n",
    "\n",
    "Line plots are useful to explore trends in the dataset. Let's try to see how the different variables change over the months in a year. \n",
    "\n",
    "To do this, we first aggregate the data by month."
   ]
  },
  {
   "cell_type": "code",
   "execution_count": null,
   "metadata": {
    "id": "5CRfOL3k7syg"
   },
   "outputs": [],
   "source": [
    "# Aggregate using the mean function, for all variables with numeric values\n",
    "showsByMonth = shows.groupby( \"Date.Month\", sort=True ).mean( numeric_only=True )\n",
    "showsByMonth"
   ]
  },
  {
   "cell_type": "markdown",
   "metadata": {},
   "source": [
    "Let's plot the mean attendance numbers over the months."
   ]
  },
  {
   "cell_type": "code",
   "execution_count": null,
   "metadata": {
    "id": "3vlftmnX7syh"
   },
   "outputs": [],
   "source": [
    "plt.plot( showsByMonth.index, showsByMonth['Statistics.Attendance'].values )\n",
    "\n",
    "plt.xlabel( 'Month')\n",
    "plt.ylabel( 'Mean Attendance' )\n",
    "\n",
    "plt.show()"
   ]
  },
  {
   "cell_type": "markdown",
   "metadata": {
    "id": "v3skr-tM7syh"
   },
   "source": [
    "The plot suggests that the mean attendance of Broadway shows goes higher around summer months, which is reasonable.\n",
    "\n",
    "__EXERCISE:__\n",
    "\n",
    "Plot the mean gross revenue of shows grouped by year. Do you see any interesting trend of the gross revenue over the years? \n",
    "\n",
    "Is there any caveat when interpreting revenue data in real life?"
   ]
  },
  {
   "cell_type": "code",
   "execution_count": null,
   "metadata": {},
   "outputs": [],
   "source": [
    "# TODO: Plot the average gross revenue of shows grouped by year\n",
    "showsByYear = shows.groupby( \"Date.Year\", sort=True ).mean( numeric_only=True )\n",
    "showsByYear\n",
    "\n",
    "plt.plot( showsByYear.index, showsByYear['Statistics.Gross'].values )\n",
    "\n",
    "plt.xlabel( 'Year')\n",
    "plt.ylabel( 'Gross Revenue' )\n",
    "\n",
    "plt.show()"
   ]
  },
  {
   "cell_type": "markdown",
   "metadata": {
    "id": "v3skr-tM7syh"
   },
   "source": [
    "### Scatter Plot\n",
    "\n",
    "Scatter plots are useful for observing the relationship between two variables. For example, we can use it to see how the gross revenue changes when the attendance numbers changes.\n",
    "\n",
    "Here, we use `pyplot.subplots` to give us a way to plot multiple plots on a single figure, which will come into play later."
   ]
  },
  {
   "cell_type": "code",
   "execution_count": null,
   "metadata": {
    "id": "kv58rGdMK-ai"
   },
   "outputs": [],
   "source": [
    "# subplots is a utility wrapper that makes it convenient to get Figure and Axes objects in a single call\n",
    "fig, ax = plt.subplots()\n",
    "\n",
    "# To better zoom into values, we take only a subset of the dataset, for shows in the years later than 2015\n",
    "showsAfter2015 = shows[shows[\"Date.Year\"] > 2015]\n",
    "\n",
    "# Create a scatter plot using the Axes.scatter function\n",
    "ax.scatter( 'Statistics.Attendance', 'Statistics.Gross', data=showsAfter2015 ) \n",
    "\n",
    "ax.set_xlabel( 'Attendance' )\n",
    "ax.set_ylabel( 'Gross Revenue' )\n",
    "ax.set_title( 'Revenue vs Attendance for Shows After 2015')\n",
    "\n",
    "ax.legend()\n",
    "ax.grid( True )\n",
    "\n",
    "plt.show()"
   ]
  },
  {
   "cell_type": "markdown",
   "metadata": {
    "id": "keeOXvLZa6fY"
   },
   "source": [
    "### Working with Multiple Plots\n",
    "\n",
    "We can make the graph above more informative, for example, by using colors to differentiate whether the show is a Musical, a Play, or a Special.\n",
    "\n",
    "This can be achieved by essentially creating one scatter plot for each show type, using a different color for each, all placed in a single Figure.\n",
    "\n",
    "__EXERCISE:__\n",
    "\n",
    "Complete the TODO tasks below."
   ]
  },
  {
   "cell_type": "code",
   "execution_count": null,
   "metadata": {
    "id": "9KPdWqNuatMw"
   },
   "outputs": [],
   "source": [
    "fig, ax = plt.subplots()\n",
    "\n",
    "# For each subplot, we get the subset of data with the desired show type\n",
    "\n",
    "# Create a blue scatter plot for Musicals\n",
    "ax.scatter( 'Statistics.Attendance', 'Statistics.Gross', c=\"Blue\", label=\"Musical\", data=showsAfter2015[showsAfter2015[\"Show.Type\"]==\"Musical\"] )\n",
    "\n",
    "# TODO: Create a green scatter plot for Plays\n",
    "ax.scatter( 'Statistics.Attendance', 'Statistics.Gross', c=\"Green\", label=\"Play\", data=showsAfter2015[showsAfter2015[\"Show.Type\"]==\"Play\"] )\n",
    "\n",
    "# TODO: Create a red scatter plot for Specials\n",
    "ax.scatter( 'Statistics.Attendance', 'Statistics.Gross', c=\"Red\", label=\"Special\", data=showsAfter2015[showsAfter2015[\"Show.Type\"]==\"Special\"] )\n",
    "\n",
    "# Set title\n",
    "ax.set_title( 'Revenue vs Attendance by Show Type for Shows After 2015')\n",
    "\n",
    "# TODO: Set x label, y label, legend, and grid as before\n",
    "ax.set_xlabel( 'Attendance' )\n",
    "ax.set_ylabel( 'Gross Revenue' )\n",
    "\n",
    "ax.legend()\n",
    "ax.grid( True )\n",
    "\n",
    "plt.show()"
   ]
  },
  {
   "cell_type": "markdown",
   "metadata": {
    "id": "kIIPdsI0bX_9"
   },
   "source": [
    "What if we have many categories? We can define arrays to map the categories and create the subplots in a loop. The following code uses a loop to create the same graph as the previous code."
   ]
  },
  {
   "cell_type": "code",
   "execution_count": null,
   "metadata": {
    "id": "kfI26UsD7syi"
   },
   "outputs": [],
   "source": [
    "fig, ax = plt.subplots()\n",
    "\n",
    "class_map = { \"Musical\":\"Musical\", \"Play\":\"Play\", \"Special\":\"Special\" }\n",
    "colors = { \"Musical\":\"Blue\", \"Play\":\"Green\", \"Special\":\"Red\" }\n",
    "\n",
    "for cls, c in colors.items():\n",
    "    ax.scatter( 'Statistics.Attendance', 'Statistics.Gross', c=c, label=class_map[cls], data=showsAfter2015[showsAfter2015[\"Show.Type\"]==cls] )\n",
    "    \n",
    "ax.set_xlabel( 'Attendance' )\n",
    "ax.set_ylabel( 'Gross Revenue' )\n",
    "ax.set_title( 'Revenue vs Attendance by Show Type for Shows After 2015')\n",
    "\n",
    "ax.legend()\n",
    "ax.grid( True )\n",
    "\n",
    "plt.show()"
   ]
  },
  {
   "cell_type": "markdown",
   "metadata": {},
   "source": [
    "__EXERCISE:__\n",
    "\n",
    "Create scatter subplots to show how the gross revenue changes when the filled capacity changes, for five theatres with the largest number of show runs in the whole dataset. Use a loop to differentiate the theatres by color. \n",
    "\n",
    "How do the theatres differ in terms of capacity-revenue relationship?\n",
    "\n",
    "The following code helps you find out which are the top five theatres."
   ]
  },
  {
   "cell_type": "code",
   "execution_count": null,
   "metadata": {},
   "outputs": [],
   "source": [
    "shows['Show.Theatre'].value_counts().head()"
   ]
  },
  {
   "cell_type": "code",
   "execution_count": null,
   "metadata": {},
   "outputs": [],
   "source": [
    "# TODO: Create a color-differentiated scatter plot of revenue vs capacity for the top five theatres\n",
    "fig, ax = plt.subplots()\n",
    "\n",
    "class_map = { \"Majestic\":\"Majestic\", \"Broadway\":\"Broadway\", \"Gershwin\":\"Gershwin\", \"Palace\":\"Palace\", \"Ambassador\":\"Ambassador\" }\n",
    "colors = { \"Majestic\":\"Green\", \"Broadway\":\"Blue\", \"Gershwin\":\"Red\", \"Palace\":\"Cyan\", \"Ambassador\":\"Magenta\" }\n",
    "\n",
    "for cls, c in colors.items():\n",
    "    ax.scatter( 'Statistics.Capacity', 'Statistics.Gross', c=c, label=class_map[cls], data=shows[shows[\"Show.Theatre\"]==cls] )\n",
    "    \n",
    "ax.set_xlabel( 'Filled Capacity' )\n",
    "ax.set_ylabel( 'Gross Revenue' )\n",
    "ax.set_title( 'Revenue vs Filled Capacity by Theatre')\n",
    "\n",
    "ax.legend()\n",
    "ax.grid( True )\n",
    "\n",
    "plt.show()"
   ]
  },
  {
   "cell_type": "markdown",
   "metadata": {
    "id": "PbLgcdSj7syi"
   },
   "source": [
    "### Bar Plot\n",
    "\n",
    "Bar plots are useful to see counts of categorical variables. For instance, we can visualize the distribution of the different show types across all show runs. \n",
    "\n",
    "We first construct the {show type, count of show runs} table."
   ]
  },
  {
   "cell_type": "code",
   "execution_count": null,
   "metadata": {
    "id": "5EnC2l4x7syi"
   },
   "outputs": [],
   "source": [
    "# Category type is needed here\n",
    "showsByType = shows['Show.Type'].astype( \"category\" )\n",
    "showsByType = showsByType.value_counts()\n",
    "showsByType"
   ]
  },
  {
   "cell_type": "markdown",
   "metadata": {
    "id": "AboenYn07syj"
   },
   "source": [
    "We create a bar plot using the `pyplot.bar` function, specifying the x coordinates (categories) and the height of the bars (values). In our case, the categories are the show types, and the values are the count of show runs.\n",
    "\n",
    "As with other Matplotlib plotting functions, `pyplot.bar` expects numpy arrays as inputs. We will need to convert our pandas data objects to `numpy.array` objects prior to plotting."
   ]
  },
  {
   "cell_type": "code",
   "execution_count": null,
   "metadata": {
    "id": "zLfmCDW37syj"
   },
   "outputs": [],
   "source": [
    "import numpy as np\n",
    "\n",
    "# Create a numpy array for the categories\n",
    "cat = np.array( showsByType.index.values )\n",
    "\n",
    "# Convert the count table into a numpy array\n",
    "ht = showsByType.to_numpy()\n",
    "\n",
    "plt.bar( cat, ht )\n",
    "\n",
    "plt.xlabel( \"Show Type\" )\n",
    "plt.ylabel( \"Occurrence of Shows\" )\n",
    "\n",
    "plt.show()"
   ]
  },
  {
   "cell_type": "markdown",
   "metadata": {},
   "source": [
    "### Stacked Bar Plot\n",
    "\n",
    "We can create a stacked bar plot using `pyplot.subplots`, essentially by drawing a plot on top of another.\n",
    "\n",
    "__EXERCISE:__\n",
    "\n",
    "Follow the logic in [this example from Matplotlib gallery](https://matplotlib.org/stable/gallery/lines_bars_and_markers/bar_stacked.html#sphx-glr-gallery-lines-bars-and-markers-bar-stacked-py) to create a stacked bar plot of show types for two theatres: \"Walter Kerr\" and \"Neil Simon\".\n",
    "\n",
    "The below TODO tasks give you the outline of the steps you will need.\n",
    "\n",
    "The categories remain the same show types, but you will now have two count arrays, one for the \"Walter Kerr\" theatre and one for the \"Neil Simon\" theatre."
   ]
  },
  {
   "cell_type": "code",
   "execution_count": null,
   "metadata": {},
   "outputs": [],
   "source": [
    "# TODO: 1. Obtain the subset of the dataset where the theatre is \"Walter Kerr\".\n",
    "# TODO: 2. Construct the {show type, count of show runs} table for this data subset.\n",
    "# TODO: 3. Convert the count table into a numpy array for use.\n",
    "wkShows = shows[shows[\"Show.Theatre\"]==\"Walter Kerr\"]\n",
    "wkByType = wkShows['Show.Type'].astype( \"category\" ).value_counts()\n",
    "wkArray = wkByType.to_numpy()\n",
    "wkByType"
   ]
  },
  {
   "cell_type": "code",
   "execution_count": null,
   "metadata": {},
   "outputs": [],
   "source": [
    "# TODO: Repeat the above steps for \"Neil Simon\" theatre.\n",
    "nsShows = shows[shows[\"Show.Theatre\"]==\"Neil Simon\"]\n",
    "nsByType = nsShows['Show.Type'].astype( \"category\" ).value_counts()\n",
    "nsArray = nsByType.to_numpy()\n",
    "nsByType"
   ]
  },
  {
   "cell_type": "code",
   "execution_count": null,
   "metadata": {},
   "outputs": [],
   "source": [
    "# TODO: Modify the Matplotlib example, using the numpy arrays you created above for the two theaters as the counts items\n",
    "\n",
    "type_counts = {\n",
    "    \"Walter Kerr\": wkArray,\n",
    "    \"Neil Simon\": nsArray,\n",
    "}\n",
    "width = 0.5\n",
    "\n",
    "fig, ax = plt.subplots()\n",
    "bottom = np.zeros(3)\n",
    "\n",
    "for boolean, count in type_counts.items():\n",
    "    p = ax.bar( cat, count, width, label=boolean, bottom=bottom )\n",
    "    bottom += count\n",
    "\n",
    "ax.set_title( \"Show Runs by Type\" )\n",
    "ax.legend( loc=\"upper right\" )\n",
    "\n",
    "plt.show()"
   ]
  },
  {
   "cell_type": "markdown",
   "metadata": {
    "id": "VK5BCBLi44jb"
   },
   "source": [
    "### Pie Chart\n",
    "\n",
    "Pie chart is an intuitive way to see proportions in data. We can create a pie chart to see how much each show name contributes to the gross revenue of a given theatre, for example the \"Criterion\" theatre."
   ]
  },
  {
   "cell_type": "code",
   "execution_count": null,
   "metadata": {
    "id": "FlahqyIN4-cS"
   },
   "outputs": [],
   "source": [
    "# We only need the data for Criterion, and only the show names and gross revenue columns\n",
    "criterionGross = shows[shows[\"Show.Theatre\"]==\"Criterion\"][[ \"Show.Name\", \"Statistics.Gross\" ]]\n",
    "\n",
    "# Group by show names and aggregate for the total revenue\n",
    "revenueByShows = criterionGross.groupby( \"Show.Name\" ).sum( numeric_only=True )\n",
    "revenueByShows"
   ]
  },
  {
   "cell_type": "markdown",
   "metadata": {},
   "source": [
    "A pie chart can be created using the `pyplot.pie` function."
   ]
  },
  {
   "cell_type": "code",
   "execution_count": null,
   "metadata": {
    "id": "JcBZVYttIz-r"
   },
   "outputs": [],
   "source": [
    "plt.pie( revenueByShows[ \"Statistics.Gross\" ], labels = revenueByShows.index, autopct = '%0.0f%%' )"
   ]
  },
  {
   "cell_type": "markdown",
   "metadata": {},
   "source": [
    "__EXERCISE:__\n",
    "\n",
    "Create a pie chart to visualize the proportion of total attendance in each show name, for the \"Winter Garden\" theatre."
   ]
  },
  {
   "cell_type": "code",
   "execution_count": null,
   "metadata": {},
   "outputs": [],
   "source": [
    "# TODO: Create a pie chart to visualize the proportion of total attendance in each show name, for the \"Winter Garden\" theatre\n",
    "wgAttendance = shows[shows[\"Show.Theatre\"]==\"Winter Garden\"][[ \"Show.Name\", \"Statistics.Attendance\" ]]\n",
    "attendanceByShows = wgAttendance.groupby( \"Show.Name\" ).sum( numeric_only=True )\n",
    "\n",
    "plt.pie( attendanceByShows[ \"Statistics.Attendance\" ], labels = attendanceByShows.index, autopct = '%0.0f%%' )"
   ]
  },
  {
   "cell_type": "markdown",
   "metadata": {
    "id": "UzuLYKQH7syk"
   },
   "source": [
    "# Introduction to Seaborn\n",
    "\n",
    "Seaborn is a library for making statistical graphics in Python. It builds on top of matplotlib and integrates closely with pandas data structures. Seaborn is a complement, not a substitute to Matplotlib, but it makes a few-well defined hard usual tasks easy to do. \n"
   ]
  },
  {
   "cell_type": "markdown",
   "metadata": {
    "id": "Uo-RRCrWO875"
   },
   "source": [
    "## Overview of Seaborn's Plotting Functionality\n",
    "\n",
    "Seaborn organizes plotting functions into __modules__ of functions that achieve similar visualization goals through different means. \n",
    "\n",
    "The most commonly used modules are _relational_ (for visualizing statistical relationships), _distributional_ (for visualizing distributions), and _categorical_ (for visualizing categorical data). Other than these, there are also _regression_ plots and _matrix_ plots, as listed in the [documentation](https://seaborn.pydata.org/api.html#function-interface).\n",
    "\n",
    "In addition to these modules, there is a cross-cutting classification of seaborn functions as “axes-level” or “figure-level”. \n",
    "\n",
    "__Axes-level__ functions make self-contained plots. They act like drop-in replacements for matplotlib functions, plotting data onto a single ```matplotlib.pyplot.Axes``` object. While they add axis labels and legends automatically, they don’t modify anything beyond the axes that they are drawn into.\n",
    "\n",
    "In contrast, __figure-level__ functions interface with Matplotlib through a Seaborn object, usually a `FacetGrid`, that manages the figure. Because these functions \"own\" their own figure, they can implement features such as putting the legend outside of the plot.\n",
    "\n",
    "Each module has a single figure-level function, which offers a unitary interface to its various axes-level functions. The high-level view as available on the tutorial website is:\n",
    "<img src=\"https://seaborn.pydata.org/_images/function_overview_8_0.png\">"
   ]
  },
  {
   "cell_type": "markdown",
   "metadata": {
    "id": "wV4hGEj-7syl"
   },
   "source": [
    "## Visualization with Seaborn\n",
    "\n",
    "The ```set_theme``` function sets the matplotlib parameters and hence the theme will now apply to all plots using matplotlib - whether plotted through seaborn or not. This is also the default theme."
   ]
  },
  {
   "cell_type": "code",
   "execution_count": null,
   "metadata": {
    "id": "vUMGTIRv7syl"
   },
   "outputs": [],
   "source": [
    "import seaborn as sns\n",
    "\n",
    "sns.set_theme()"
   ]
  },
  {
   "cell_type": "markdown",
   "metadata": {
    "id": "Uo-RRCrWO875"
   },
   "source": [
    "## Relational Functions\n",
    "\n",
    "Let us look at a few plots that belong to the relational module, and get a sense of how we use axes-level functions (e.g., `scatterplot`) compared to how we use the corresponding figure-level function (i.e., `relplot`).\n",
    "\n",
    "### Scatterplot\n",
    "\n",
    "Using Seaborn's axes-level `scatterplot` function, we can easily recreate the scatter plot of gross revenue against attendance that we did previously using matplotlib, albeit with different colors.\n",
    "\n",
    "Unlike when using matplotlib directly, it is not necessary to specify attributes of the plot elements in terms of the color values or marker codes. Behind the scenes, seaborn handles the translation from values in the dataframe to arguments that matplotlib understands.\n",
    "\n",
    "__EXERCISE:__\n",
    "\n",
    "Refer to the [`scatterplot` API reference](https://seaborn.pydata.org/generated/seaborn.scatterplot.html) to visualize how gross revenue changes with attendance numbers, for shows after the year 2015, using different colors for different show types.\n",
    "\n",
    "_Hint:_ What arguments should you specify to the function as `data`, `x`, `y`, and `hue`?"
   ]
  },
  {
   "cell_type": "code",
   "execution_count": null,
   "metadata": {
    "id": "KWU2YijFO-Ml"
   },
   "outputs": [],
   "source": [
    "# TODO: Use Seaborn scatterplot to visualize gross revenue vs attendance for shows after 2015, color-differentiated by show types\n",
    "sns.scatterplot( data=showsAfter2015, x=\"Statistics.Attendance\", y=\"Statistics.Gross\", hue=\"Show.Type\" )"
   ]
  },
  {
   "cell_type": "markdown",
   "metadata": {
    "id": "O5uC72PPapM8"
   },
   "source": [
    "### Relplot\n",
    "\n",
    "Alternatively, we can use the figure-level function `relplot` to visualize the same relationship of gross revenue against attendance. \n",
    "\n",
    "Figure-level functions are powerful in visualising additional variables, such as the theatre and the show type, which can easily be specified within the same function.\n",
    "\n",
    "__EXERCISE:__\n",
    "\n",
    "Refer to the [`relplot` API reference](https://seaborn.pydata.org/generated/seaborn.relplot.html) for the syntax, and use `relplot` to visualize how gross revenue changes with attendance numbers, for shows after the year 2015. Use the `hue` and `style` arguments to visualize the different theatres and show types respectively."
   ]
  },
  {
   "cell_type": "code",
   "execution_count": null,
   "metadata": {
    "id": "fvA7bIWn7syl"
   },
   "outputs": [],
   "source": [
    "# TODO: Use relplot to visualize gross against attendance of shows after 2015, further differentiating the display by theatres and show types\n",
    "sns.relplot( data=showsAfter2015, x=\"Statistics.Attendance\", y=\"Statistics.Gross\", hue=\"Show.Theatre\", style=\"Show.Type\" )"
   ]
  },
  {
   "cell_type": "markdown",
   "metadata": {},
   "source": [
    "As we know, too much information becomes difficult to understand in a single plot. However, the aim here is to demonstrate how easy it is to create the plot using seaborn."
   ]
  },
  {
   "cell_type": "markdown",
   "metadata": {
    "id": "jTgSrucL7syp"
   },
   "source": [
    "### Estimating Regression Fits using `lmplot`\n",
    "\n",
    "Aside from the axes-level vs figure-level usage, the scatter plot in the above exercises can be further enhanced using Seaborn `lmplot` to include a linear regression model (and its uncertainty). \n",
    "\n",
    "In the simplest invocation, the `lmplot` function draws a scatter plot of two variables, `x` and `y`, and then fit the regression model `y` ~ `x` and plot the resulting regression line and a 95% confidence interval for that regression.\n",
    "\n",
    "__EXERCISE:__\n",
    "\n",
    "Refer to the [`lmplot` API reference](https://seaborn.pydata.org/generated/seaborn.lmplot.html) for the syntax, and use it to fit the regression model for the above scatter plot of gross revenue vs attendance of shows after 2015.\n",
    "\n",
    "_Hint:_ What arguments should you specify to the function as `data`, `x`, and `y`?"
   ]
  },
  {
   "cell_type": "code",
   "execution_count": null,
   "metadata": {
    "id": "mN5AZafi7syq"
   },
   "outputs": [],
   "source": [
    "# TODO: Use Seaborn lmplot to fit the regression model for gross revenue vs attendance of shows after 2015\n",
    "sns.lmplot( data=showsAfter2015, x=\"Statistics.Attendance\", y=\"Statistics.Gross\" )"
   ]
  },
  {
   "cell_type": "markdown",
   "metadata": {},
   "source": [
    "## Distributional Functions\n",
    "\n",
    "In the distributional module, one of the axes-level function is `kdeplot`, while the figure-level function is `displot`.\n",
    "\n",
    "### KDE Plot\n",
    "\n",
    "The ```kdeplot``` function is a kernel density estimate plot to visualise the distribution of observations in a dataset. For example, we can plot the distribution of show types across the years."
   ]
  },
  {
   "cell_type": "code",
   "execution_count": null,
   "metadata": {
    "id": "86kV70cqazfk"
   },
   "outputs": [],
   "source": [
    "sns.kdeplot( data=shows, x=\"Date.Year\", hue=\"Show.Type\", multiple=\"stack\" )"
   ]
  },
  {
   "cell_type": "markdown",
   "metadata": {
    "id": "jyyTooXK7syn"
   },
   "source": [
    "### Displot\n",
    "\n",
    "Similar to what we have seen for the relational module, the figure-level function allows us to visualize multiple features very easily.\n",
    "\n",
    "With the same objective of plotting the distribution of show types across the years, the `displot` function can be used to display bar plots along with distribution estimates (a KDE plot)."
   ]
  },
  {
   "cell_type": "code",
   "execution_count": null,
   "metadata": {
    "id": "oxjSeJvt7syo"
   },
   "outputs": [],
   "source": [
    "sns.displot( data=shows, x=\"Date.Year\", col=\"Show.Type\", kde=True )"
   ]
  },
  {
   "cell_type": "markdown",
   "metadata": {
    "id": "8boL_kmu7sym"
   },
   "source": [
    "### Jointplot\n",
    "\n",
    "Seaborn `jointplot` is a function cannot be categorized neatly, as it can be used to plot a relationship between two variables while simultaneously exploring the distribution of each underlying variable.\n",
    "\n",
    "With the same visualization objectives as previous exercises, let us visualize the relationship between the attendance and gross revenue, along with the distribution of each variable. The show type can simultaneously be shown easily."
   ]
  },
  {
   "cell_type": "code",
   "execution_count": null,
   "metadata": {
    "id": "To8eDh_m7sym"
   },
   "outputs": [],
   "source": [
    "sns.jointplot( data=shows, x=\"Statistics.Attendance\", y=\"Statistics.Gross\", hue=\"Show.Type\" )"
   ]
  },
  {
   "cell_type": "markdown",
   "metadata": {
    "id": "Qb6HUDH77syq"
   },
   "source": [
    "## Categorical Functions\n",
    "\n",
    "Categorical plotting functions visualize the distribution with respect to categories.\n",
    "\n",
    "Let us prepare our dataset by converting the month and year variables to category for visualization."
   ]
  },
  {
   "cell_type": "code",
   "execution_count": null,
   "metadata": {
    "id": "eSHQiz867syo"
   },
   "outputs": [],
   "source": [
    "shows[\"Date.Month\"] = shows[\"Date.Month\"].astype(\"category\")\n",
    "shows[\"Date.Year\"] = shows[\"Date.Year\"].astype(\"category\")"
   ]
  },
  {
   "cell_type": "markdown",
   "metadata": {
    "id": "Qb6HUDH77syq"
   },
   "source": [
    "### Boxplot\n",
    "\n",
    "Boxplots are plots that show the distribution of a dataset based on its five-number summary of data points: the minimum, first quartile (Q1), median, third quartile (Q3), and the maximum. Boxplots also show us the outliers, whether the data is symmetrical, how tightly the data is grouped, and if and how the data is skewed.\n",
    "\n",
    "The axes-level `boxplot` function visualizes boxplots with respect to a categorical variable.\n",
    "\n",
    "__EXERCISE:__\n",
    "\n",
    "Suppose we want to see whether show attendance is higher in any particular month. \n",
    "\n",
    "Refer to the examples on the [boxplot API reference](https://seaborn.pydata.org/generated/seaborn.boxplot.html) and use `boxplot` to visualize this distribution.\n",
    "\n",
    "_Hint:_ What is the categorical variable (`y`)? What is the variable whose distribution we want to see (`x`)?"
   ]
  },
  {
   "cell_type": "code",
   "execution_count": null,
   "metadata": {
    "id": "bkwh__gI_ZQU"
   },
   "outputs": [],
   "source": [
    "# TODO: Use boxplot to visualize whether show attendance is higher in any particular month\n",
    "sns.boxplot( data=shows, x=\"Statistics.Attendance\", y=\"Date.Month\" )"
   ]
  },
  {
   "cell_type": "markdown",
   "metadata": {},
   "source": [
    "### Countplot\n",
    "\n",
    "Another axes-level function in the categorical module is `countplot`, which shows the counts of observations in each categorical bin using bars. A countplot can be thought of as a histogram across a categorical, instead of quantitative, variable. \n",
    "\n",
    "__EXERCISE:__\n",
    "\n",
    "Suppose we want to see whether certain show types are more prevalent in any particular month. \n",
    "\n",
    "Refer to the examples on the [countplot API reference](https://seaborn.pydata.org/generated/seaborn.countplot.html) and use `countplot` to visualize this distribution.\n",
    "\n",
    "_Hint:_ What is the categorical variable (`x`)? Which variable occurences do we want to observe (`hue`)?"
   ]
  },
  {
   "cell_type": "code",
   "execution_count": null,
   "metadata": {
    "id": "p0t3BhD56s1y"
   },
   "outputs": [],
   "source": [
    "# TODO: Use countplot to visualize whether certain show types are more prevalent in any particular month\n",
    "sns.countplot( data=shows, x=\"Date.Month\", hue=\"Show.Type\" )"
   ]
  },
  {
   "cell_type": "markdown",
   "metadata": {
    "id": "Qb6HUDH77syq"
   },
   "source": [
    "### Catplot\n",
    "\n",
    "The figure-level ```catplot``` function provides access to several axes-level categorical plotting functions, enabling visualization of the relationship between a numerical and one or more categorical variables using one of several visual representations.\n",
    "\n",
    "The ```kind``` parameter selects the underlying axes-level function to use. \n",
    "\n",
    "Using `catplot`, it is easy to extend the earlier boxplot to include differentiation by show types."
   ]
  },
  {
   "cell_type": "code",
   "execution_count": null,
   "metadata": {
    "id": "alE4TQQHv79S"
   },
   "outputs": [],
   "source": [
    "sns.catplot( data=shows, kind=\"box\", x=\"Statistics.Attendance\", y=\"Date.Month\", hue=\"Show.Type\" )"
   ]
  },
  {
   "cell_type": "markdown",
   "metadata": {},
   "source": [
    "## Extra: Heatmap\n",
    "\n",
    "The `heatmap` function plots rectangular data as a color-encoded matrix. It can be used to find any correlation between the various numeric data types in the dataset, whether they are negatively or positively correlated and how strongly.\n",
    "\n",
    "For our Broadway Shows dataset, we can use `corr` to compute pairwise correlation of columns, then visualize this using `heatmap`."
   ]
  },
  {
   "cell_type": "code",
   "execution_count": null,
   "metadata": {},
   "outputs": [],
   "source": [
    "sns.heatmap( shows.corr( numeric_only=True ), vmin=-1, vmax=1, annot=True )"
   ]
  },
  {
   "cell_type": "markdown",
   "metadata": {},
   "source": [
    "We see relatively high correlation between gross revenue and attendance or filled capacity, which is logical.\n",
    "\n",
    "# Closing Remarks\n",
    "\n",
    "We have worked through a number of plots using Matplotlib and Seaborn in this tutorial. These are only a small part of the vast collection of visualization capabilities that the two libraries provide.\n",
    "\n",
    "As you have done in these exercises, when you encounter a visualization goal, consider the nature of the data and the purpose of the visualization (relational, distributional, and so on), then simply look up the guides and API references of the suitable modules!"
   ]
  }
 ],
 "metadata": {
  "colab": {
   "provenance": [],
   "toc_visible": true
  },
  "kernelspec": {
   "display_name": "Python 3 (ipykernel)",
   "language": "python",
   "name": "python3"
  },
  "language_info": {
   "codemirror_mode": {
    "name": "ipython",
    "version": 3
   },
   "file_extension": ".py",
   "mimetype": "text/x-python",
   "name": "python",
   "nbconvert_exporter": "python",
   "pygments_lexer": "ipython3",
   "version": "3.9.12"
  }
 },
 "nbformat": 4,
 "nbformat_minor": 1
}
