{
 "cells": [
  {
   "cell_type": "markdown",
   "metadata": {
    "id": "h1bW464F05WX"
   },
   "source": [
    "## Instructions to submit the assignment\n",
    "\n",
    "- This is an individual assessment. Refrain from working in groups. We will use plagiarism detectors after the submission. So, do not engage in unethical activities.\n",
    "- Name your jupyter notebook before the submission as `Assignment1_[StudentID].ipynb`. For instance: `Assignment1_A0123873A.ipynb`.\n",
    "- Your solution notebook must contain the python code that we can run to verify the answers.\n",
    "- Please submit the final and clean version of the code.\n",
    "- Upload your jupyter notebook on Canvas in the *Assignment 1*. **The assignment will close at 10am on 23/09/2023**. Late submissions will receive a penalty on the grade as follows:\n",
    "  - late within 1 hour: 10% reduction in grade\n",
    "  - late within 6 hours: 30% reduction in grade\n",
    "  - late within 12 hours: 50% reduction in grade\n",
    "  - late within 1 days: 70% reduction in grade\n",
    "  - after 1 days: zero mark\n",
    "\n",
    "The datasets for the assignment are available [here](https://canvas.nus.edu.sg/courses/46169/files/2348280?wrap=1) . Please download them before you work on the assignment."
   ]
  },
  {
   "cell_type": "markdown",
   "metadata": {
    "id": "0i6c6ZczDcOZ"
   },
   "source": [
    "# Assignment 1: HDB Resale Flat Prices\n",
    "\n",
    "With more than 1 million flats spread across 24 towns and 3 estates, the Singapore brand of public housing is uniquely different. The flats spell home for over 80% of Singapore's resident population, of which, about 90% own their home.\n",
    "\n",
    "Data.gov is a repository of many datasets that are made available by different public service bodies in Singapore. In this assignment we will work on [HDB Resale Price](https://data.gov.sg/dataset/resale-flat-prices) available through the same datastore. It houses the resale price data from January 1990 to December 2023 on a monthly basis.\n",
    "\n",
    "In this assignment, we will focus on the resale records from 2020 to 2023. We want to explore if the distance from the MRT station has any impact on the resale price."
   ]
  },
  {
   "cell_type": "markdown",
   "metadata": {
    "id": "Xs-zZCsKDcOg"
   },
   "source": [
    "## Loading the data"
   ]
  },
  {
   "cell_type": "code",
   "execution_count": 116,
   "metadata": {
    "id": "SicA00xJDcOg",
    "tags": []
   },
   "outputs": [],
   "source": [
    "import pandas as pd\n",
    "import numpy as np\n",
    "import matplotlib.pyplot as plt\n",
    "import seaborn as sns\n",
    "\n",
    "%matplotlib inline\n",
    "\n",
    "data = pd.read_csv(\"resale-flat-prices-based-on-registration-date-from-jan-2017-onwards.csv\")"
   ]
  },
  {
   "cell_type": "code",
   "execution_count": 117,
   "metadata": {
    "tags": []
   },
   "outputs": [
    {
     "name": "stdout",
     "output_type": "stream",
     "text": [
      "<class 'pandas.core.frame.DataFrame'>\n",
      "RangeIndex: 145518 entries, 0 to 145517\n",
      "Data columns (total 11 columns):\n",
      " #   Column               Non-Null Count   Dtype  \n",
      "---  ------               --------------   -----  \n",
      " 0   month                145518 non-null  object \n",
      " 1   town                 145518 non-null  object \n",
      " 2   flat_type            145518 non-null  object \n",
      " 3   block                145518 non-null  object \n",
      " 4   street_name          145518 non-null  object \n",
      " 5   storey_range         145518 non-null  object \n",
      " 6   floor_area_sqm       145518 non-null  float64\n",
      " 7   flat_model           145518 non-null  object \n",
      " 8   lease_commence_date  145518 non-null  int64  \n",
      " 9   remaining_lease      145518 non-null  object \n",
      " 10  resale_price         145518 non-null  float64\n",
      "dtypes: float64(2), int64(1), object(8)\n",
      "memory usage: 12.2+ MB\n",
      "None\n"
     ]
    },
    {
     "data": {
      "text/html": [
       "<div>\n",
       "<style scoped>\n",
       "    .dataframe tbody tr th:only-of-type {\n",
       "        vertical-align: middle;\n",
       "    }\n",
       "\n",
       "    .dataframe tbody tr th {\n",
       "        vertical-align: top;\n",
       "    }\n",
       "\n",
       "    .dataframe thead th {\n",
       "        text-align: right;\n",
       "    }\n",
       "</style>\n",
       "<table border=\"1\" class=\"dataframe\">\n",
       "  <thead>\n",
       "    <tr style=\"text-align: right;\">\n",
       "      <th></th>\n",
       "      <th>month</th>\n",
       "      <th>town</th>\n",
       "      <th>flat_type</th>\n",
       "      <th>block</th>\n",
       "      <th>street_name</th>\n",
       "      <th>storey_range</th>\n",
       "      <th>floor_area_sqm</th>\n",
       "      <th>flat_model</th>\n",
       "      <th>lease_commence_date</th>\n",
       "      <th>remaining_lease</th>\n",
       "      <th>resale_price</th>\n",
       "    </tr>\n",
       "  </thead>\n",
       "  <tbody>\n",
       "    <tr>\n",
       "      <th>0</th>\n",
       "      <td>2017-01</td>\n",
       "      <td>ANG MO KIO</td>\n",
       "      <td>2 ROOM</td>\n",
       "      <td>406</td>\n",
       "      <td>ANG MO KIO AVE 10</td>\n",
       "      <td>10 TO 12</td>\n",
       "      <td>44.0</td>\n",
       "      <td>Improved</td>\n",
       "      <td>1979</td>\n",
       "      <td>61 years 04 months</td>\n",
       "      <td>232000.0</td>\n",
       "    </tr>\n",
       "    <tr>\n",
       "      <th>1</th>\n",
       "      <td>2017-01</td>\n",
       "      <td>ANG MO KIO</td>\n",
       "      <td>3 ROOM</td>\n",
       "      <td>108</td>\n",
       "      <td>ANG MO KIO AVE 4</td>\n",
       "      <td>01 TO 03</td>\n",
       "      <td>67.0</td>\n",
       "      <td>New Generation</td>\n",
       "      <td>1978</td>\n",
       "      <td>60 years 07 months</td>\n",
       "      <td>250000.0</td>\n",
       "    </tr>\n",
       "    <tr>\n",
       "      <th>2</th>\n",
       "      <td>2017-01</td>\n",
       "      <td>ANG MO KIO</td>\n",
       "      <td>3 ROOM</td>\n",
       "      <td>602</td>\n",
       "      <td>ANG MO KIO AVE 5</td>\n",
       "      <td>01 TO 03</td>\n",
       "      <td>67.0</td>\n",
       "      <td>New Generation</td>\n",
       "      <td>1980</td>\n",
       "      <td>62 years 05 months</td>\n",
       "      <td>262000.0</td>\n",
       "    </tr>\n",
       "    <tr>\n",
       "      <th>3</th>\n",
       "      <td>2017-01</td>\n",
       "      <td>ANG MO KIO</td>\n",
       "      <td>3 ROOM</td>\n",
       "      <td>465</td>\n",
       "      <td>ANG MO KIO AVE 10</td>\n",
       "      <td>04 TO 06</td>\n",
       "      <td>68.0</td>\n",
       "      <td>New Generation</td>\n",
       "      <td>1980</td>\n",
       "      <td>62 years 01 month</td>\n",
       "      <td>265000.0</td>\n",
       "    </tr>\n",
       "    <tr>\n",
       "      <th>4</th>\n",
       "      <td>2017-01</td>\n",
       "      <td>ANG MO KIO</td>\n",
       "      <td>3 ROOM</td>\n",
       "      <td>601</td>\n",
       "      <td>ANG MO KIO AVE 5</td>\n",
       "      <td>01 TO 03</td>\n",
       "      <td>67.0</td>\n",
       "      <td>New Generation</td>\n",
       "      <td>1980</td>\n",
       "      <td>62 years 05 months</td>\n",
       "      <td>265000.0</td>\n",
       "    </tr>\n",
       "  </tbody>\n",
       "</table>\n",
       "</div>"
      ],
      "text/plain": [
       "     month        town flat_type block        street_name storey_range  \\\n",
       "0  2017-01  ANG MO KIO    2 ROOM   406  ANG MO KIO AVE 10     10 TO 12   \n",
       "1  2017-01  ANG MO KIO    3 ROOM   108   ANG MO KIO AVE 4     01 TO 03   \n",
       "2  2017-01  ANG MO KIO    3 ROOM   602   ANG MO KIO AVE 5     01 TO 03   \n",
       "3  2017-01  ANG MO KIO    3 ROOM   465  ANG MO KIO AVE 10     04 TO 06   \n",
       "4  2017-01  ANG MO KIO    3 ROOM   601   ANG MO KIO AVE 5     01 TO 03   \n",
       "\n",
       "   floor_area_sqm      flat_model  lease_commence_date     remaining_lease  \\\n",
       "0            44.0        Improved                 1979  61 years 04 months   \n",
       "1            67.0  New Generation                 1978  60 years 07 months   \n",
       "2            67.0  New Generation                 1980  62 years 05 months   \n",
       "3            68.0  New Generation                 1980   62 years 01 month   \n",
       "4            67.0  New Generation                 1980  62 years 05 months   \n",
       "\n",
       "   resale_price  \n",
       "0      232000.0  \n",
       "1      250000.0  \n",
       "2      262000.0  \n",
       "3      265000.0  \n",
       "4      265000.0  "
      ]
     },
     "execution_count": 117,
     "metadata": {},
     "output_type": "execute_result"
    }
   ],
   "source": [
    "#to be removed\n",
    "print(data.info())\n",
    "data.head()"
   ]
  },
  {
   "cell_type": "code",
   "execution_count": 118,
   "metadata": {
    "tags": []
   },
   "outputs": [],
   "source": [
    "# data.street_name.unique()"
   ]
  },
  {
   "cell_type": "code",
   "execution_count": 119,
   "metadata": {
    "tags": []
   },
   "outputs": [
    {
     "data": {
      "text/plain": [
       "array(['ANG MO KIO', 'BEDOK', 'BISHAN', 'BUKIT BATOK', 'BUKIT MERAH',\n",
       "       'BUKIT PANJANG', 'BUKIT TIMAH', 'CENTRAL AREA', 'CHOA CHU KANG',\n",
       "       'CLEMENTI', 'GEYLANG', 'HOUGANG', 'JURONG EAST', 'JURONG WEST',\n",
       "       'KALLANG/WHAMPOA', 'MARINE PARADE', 'PASIR RIS', 'PUNGGOL',\n",
       "       'QUEENSTOWN', 'SEMBAWANG', 'SENGKANG', 'SERANGOON', 'TAMPINES',\n",
       "       'TOA PAYOH', 'WOODLANDS', 'YISHUN'], dtype=object)"
      ]
     },
     "execution_count": 119,
     "metadata": {},
     "output_type": "execute_result"
    }
   ],
   "source": [
    "data['town'].unique()"
   ]
  },
  {
   "cell_type": "code",
   "execution_count": 120,
   "metadata": {
    "tags": []
   },
   "outputs": [
    {
     "data": {
      "text/plain": [
       "array(['2017-01', '2017-02', '2017-03', '2017-04', '2017-05', '2017-06',\n",
       "       '2017-07', '2017-08', '2017-09', '2017-10', '2017-11', '2017-12',\n",
       "       '2018-01', '2018-02', '2018-03', '2018-04', '2018-05', '2018-06',\n",
       "       '2018-07', '2018-08', '2018-09', '2018-10', '2018-11', '2018-12',\n",
       "       '2019-01', '2019-02', '2019-03', '2019-04', '2019-05', '2019-06',\n",
       "       '2019-07', '2019-08', '2019-09', '2019-10', '2019-11', '2019-12',\n",
       "       '2020-01', '2020-02', '2020-03', '2020-04', '2020-05', '2020-06',\n",
       "       '2020-07', '2020-08', '2020-09', '2020-10', '2020-11', '2020-12',\n",
       "       '2021-01', '2021-02', '2021-03', '2021-04', '2021-05', '2021-06',\n",
       "       '2021-07', '2021-08', '2021-09', '2021-10', '2021-11', '2021-12',\n",
       "       '2022-01', '2022-02', '2022-03', '2022-04', '2022-05', '2022-06',\n",
       "       '2022-07', '2022-08', '2022-09', '2022-10', '2022-11', '2022-12',\n",
       "       '2023-01'], dtype=object)"
      ]
     },
     "execution_count": 120,
     "metadata": {},
     "output_type": "execute_result"
    }
   ],
   "source": [
    "data['month'].unique()"
   ]
  },
  {
   "cell_type": "code",
   "execution_count": 121,
   "metadata": {
    "tags": []
   },
   "outputs": [
    {
     "data": {
      "text/plain": [
       "year  flat_type       \n",
       "2017  1 ROOM                  9\n",
       "      2 ROOM                219\n",
       "      3 ROOM               5047\n",
       "      4 ROOM               8604\n",
       "      5 ROOM               5002\n",
       "      EXECUTIVE            1624\n",
       "      MULTI-GENERATION        4\n",
       "2018  1 ROOM                  9\n",
       "      2 ROOM                286\n",
       "      3 ROOM               5119\n",
       "      4 ROOM               8769\n",
       "      5 ROOM               5487\n",
       "      EXECUTIVE            1876\n",
       "      MULTI-GENERATION       15\n",
       "2019  1 ROOM                 11\n",
       "      2 ROOM                414\n",
       "      3 ROOM               5423\n",
       "      4 ROOM               9228\n",
       "      5 ROOM               5427\n",
       "      EXECUTIVE            1669\n",
       "      MULTI-GENERATION       14\n",
       "2020  1 ROOM                 10\n",
       "      2 ROOM                418\n",
       "      3 ROOM               5384\n",
       "      4 ROOM               9647\n",
       "      5 ROOM               5984\n",
       "      EXECUTIVE            1882\n",
       "      MULTI-GENERATION        8\n",
       "2021  1 ROOM                  9\n",
       "      2 ROOM                385\n",
       "      3 ROOM               6266\n",
       "      4 ROOM              12346\n",
       "      5 ROOM               7804\n",
       "      EXECUTIVE            2259\n",
       "      MULTI-GENERATION       18\n",
       "2022  1 ROOM                 10\n",
       "      2 ROOM                456\n",
       "      3 ROOM               6347\n",
       "      4 ROOM              11313\n",
       "      5 ROOM               6717\n",
       "      EXECUTIVE            1885\n",
       "      MULTI-GENERATION       12\n",
       "2023  2 ROOM                 57\n",
       "      3 ROOM                559\n",
       "      4 ROOM                890\n",
       "      5 ROOM                477\n",
       "      EXECUTIVE             119\n",
       "Name: month, dtype: int64"
      ]
     },
     "execution_count": 121,
     "metadata": {},
     "output_type": "execute_result"
    }
   ],
   "source": [
    "data['month'] = pd.to_datetime(data['month'])\n",
    "data['year'] = data['month'].dt.year\n",
    "data.groupby(['year','flat_type']).count().month"
   ]
  },
  {
   "cell_type": "markdown",
   "metadata": {
    "id": "kUCzgDImRzqE",
    "tags": []
   },
   "source": [
    "## Question 1: Data Preprocessing\n",
    "\n",
    "We want to work with a subset of the available dataset. Please perform the following operations to choose and preprocess the desired subset.\n",
    "\n",
    "- Create a new column, named `year`, that isolates year of purchase from the date of resale.\n",
    "- Select the data from year **2019 to 2022**. *(We will only use this subset for the entire assignment. 2023 does not have sufficient data.)*\n",
    "- Drop the records with EXECUTIVE and MULTI-GENERATION `flat_type`s.\n",
    "- Drop the records in the CENTRAL AREA and BUKIT TIMAH `town`.\n",
    "- Create a new column, named `price_per_sqm`, that computes the resale price of the flat per square meter of the area.\n",
    "- Drop the following columns: `storey_range`, `flat_model`, `resale_price`, `floor_area_sqm`.\n",
    "\n",
    "Note: Further questions work on this preprocessed dataset.\n",
    "\n",
    "<div align=\"right\"> (3 points) </div>"
   ]
  },
  {
   "cell_type": "code",
   "execution_count": 122,
   "metadata": {
    "id": "tXjPCye0VIE-",
    "tags": []
   },
   "outputs": [],
   "source": [
    "# Create a new column, named year, that isolates year of purchase from the date of resale.\n",
    "data['month'] = pd.to_datetime(data['month'])\n",
    "data['year'] = data['month'].dt.year\n",
    "# Select the data from year 2019 to 2022. (We will only use this subset for the entire assignment. 2023 does not have sufficient data.)\n",
    "data = data[(data['year'] >= 2019) & (data['year'] <= 2022)]\n",
    "# Drop the records with EXECUTIVE and MULTI-GENERATION flat_types.\n",
    "data = data[~data['flat_type'].isin(['MULTI-GENERATION', 'EXECUTIVE'])]\n",
    "# Drop the records in the CENTRAL AREA and BUKIT TIMAH town.\n",
    "#data = data[~data['town'].isin(['CENTRAL AREA', 'BUKIT TIMAH'])]\n",
    "#Create a new column, named price_per_sqm, that computes the resale price of the flat per square meter of the area.\n",
    "data['price_per_sqm'] = data['resale_price'] / data['floor_area_sqm']\n",
    "#Drop the following columns: storey_range, flat_model, resale_price, floor_area_sqm.\n",
    "data = data.drop(columns = ['storey_range','flat_model', 'resale_price', 'floor_area_sqm'])\n"
   ]
  },
  {
   "cell_type": "markdown",
   "metadata": {
    "id": "9zxM15K5DcOi"
   },
   "source": [
    "We observe that the `remaining_lease` feature has multiple missing values. We can impute the missing values and ensure that the dataframe does not contain any missing value.\n",
    "\n",
    "*What is the lease period of every HDB flat in Singapore? [ Find out here.](https://www.gov.sg/article/do-i-really-own-my-hdb-flat)*"
   ]
  },
  {
   "cell_type": "code",
   "execution_count": 123,
   "metadata": {
    "id": "PaIBf5j8DcOi",
    "tags": []
   },
   "outputs": [],
   "source": [
    "data['remaining_lease'] = (99 + data['lease_commence_date']) - data['year']"
   ]
  },
  {
   "cell_type": "markdown",
   "metadata": {
    "id": "3bCsvJ95DcOh"
   },
   "source": [
    "## Question 2: Data Augmentation"
   ]
  },
  {
   "cell_type": "markdown",
   "metadata": {
    "id": "sLqqVRGCV7QD"
   },
   "source": [
    "Since we are interested in the distance from the MRT station, we need the geolocations of the HDBs as well as MRT stations.\n",
    "\n",
    "A quick search on Google gives us [this](https://www.kaggle.com/datasets/mylee2009/singapore-postal-code-mapper) publicly available dataset on Kaggle. We have downloaded this dataset and pre-processed it for you. *(To get a taste of preprocessing, you can try downloading it and cleaning it. You will realise that it is not a obvious task to even understand why cleaning is needed at the outset. You will have to really dive deeper to understand it.)*\n",
    "\n",
    "- Load this dataset in a dataframe `hdb_locations`.\n",
    "- Create a new dataframe, named `imputed_dataset`, by merging `hdb_locations` dataset with our `resale_dataset`. (Validate that the `imputed_dataset` has as many records as the `resale_dataset`.)\n",
    "- Drop all records with NaN values in the `imputed_dataset`. They are manifested due to incomplete `hdb_locations` dataset. We are okay to sacrifice a few records.\n",
    "\n",
    "<div align=\"right\"> (3 points) </div>"
   ]
  },
  {
   "cell_type": "code",
   "execution_count": 124,
   "metadata": {
    "tags": []
   },
   "outputs": [
    {
     "data": {
      "text/html": [
       "<div>\n",
       "<style scoped>\n",
       "    .dataframe tbody tr th:only-of-type {\n",
       "        vertical-align: middle;\n",
       "    }\n",
       "\n",
       "    .dataframe tbody tr th {\n",
       "        vertical-align: top;\n",
       "    }\n",
       "\n",
       "    .dataframe thead th {\n",
       "        text-align: right;\n",
       "    }\n",
       "</style>\n",
       "<table border=\"1\" class=\"dataframe\">\n",
       "  <thead>\n",
       "    <tr style=\"text-align: right;\">\n",
       "      <th></th>\n",
       "      <th></th>\n",
       "      <th>latitude</th>\n",
       "      <th>longitude</th>\n",
       "    </tr>\n",
       "    <tr>\n",
       "      <th>RD_name</th>\n",
       "      <th>blk_no</th>\n",
       "      <th></th>\n",
       "      <th></th>\n",
       "    </tr>\n",
       "  </thead>\n",
       "  <tbody>\n",
       "  </tbody>\n",
       "</table>\n",
       "</div>"
      ],
      "text/plain": [
       "Empty DataFrame\n",
       "Columns: [latitude, longitude]\n",
       "Index: []"
      ]
     },
     "execution_count": 124,
     "metadata": {},
     "output_type": "execute_result"
    }
   ],
   "source": [
    "hdb_count = hdb_locations.groupby(by = ['RD_name','blk_no']).count()\n",
    "duplicated_hdb_locations = hdb_count[hdb_count['latitude'] == 2]     \n",
    "duplicated_hdb_locations"
   ]
  },
  {
   "cell_type": "code",
   "execution_count": 125,
   "metadata": {
    "tags": []
   },
   "outputs": [
    {
     "data": {
      "text/plain": [
       "((25165, 4), (25165, 4))"
      ]
     },
     "execution_count": 125,
     "metadata": {},
     "output_type": "execute_result"
    }
   ],
   "source": [
    "hdb_locations.drop_duplicates().shape, hdb_locations.shape "
   ]
  },
  {
   "cell_type": "code",
   "execution_count": 126,
   "metadata": {
    "tags": []
   },
   "outputs": [
    {
     "data": {
      "text/html": [
       "<div>\n",
       "<style scoped>\n",
       "    .dataframe tbody tr th:only-of-type {\n",
       "        vertical-align: middle;\n",
       "    }\n",
       "\n",
       "    .dataframe tbody tr th {\n",
       "        vertical-align: top;\n",
       "    }\n",
       "\n",
       "    .dataframe thead th {\n",
       "        text-align: right;\n",
       "    }\n",
       "</style>\n",
       "<table border=\"1\" class=\"dataframe\">\n",
       "  <thead>\n",
       "    <tr style=\"text-align: right;\">\n",
       "      <th></th>\n",
       "      <th>blk_no</th>\n",
       "      <th>RD_name</th>\n",
       "      <th>latitude</th>\n",
       "      <th>longitude</th>\n",
       "    </tr>\n",
       "  </thead>\n",
       "  <tbody>\n",
       "  </tbody>\n",
       "</table>\n",
       "</div>"
      ],
      "text/plain": [
       "Empty DataFrame\n",
       "Columns: [blk_no, RD_name, latitude, longitude]\n",
       "Index: []"
      ]
     },
     "execution_count": 126,
     "metadata": {},
     "output_type": "execute_result"
    }
   ],
   "source": [
    "duplicate_rows = hdb_locations.duplicated()\n",
    "hdb_locations[duplicate_rows]"
   ]
  },
  {
   "cell_type": "code",
   "execution_count": 127,
   "metadata": {
    "tags": []
   },
   "outputs": [
    {
     "data": {
      "text/html": [
       "<div>\n",
       "<style scoped>\n",
       "    .dataframe tbody tr th:only-of-type {\n",
       "        vertical-align: middle;\n",
       "    }\n",
       "\n",
       "    .dataframe tbody tr th {\n",
       "        vertical-align: top;\n",
       "    }\n",
       "\n",
       "    .dataframe thead th {\n",
       "        text-align: right;\n",
       "    }\n",
       "</style>\n",
       "<table border=\"1\" class=\"dataframe\">\n",
       "  <thead>\n",
       "    <tr style=\"text-align: right;\">\n",
       "      <th></th>\n",
       "      <th>blk_no</th>\n",
       "      <th>RD_name</th>\n",
       "      <th>latitude</th>\n",
       "      <th>longitude</th>\n",
       "    </tr>\n",
       "  </thead>\n",
       "  <tbody>\n",
       "    <tr>\n",
       "      <th>4531</th>\n",
       "      <td>13</td>\n",
       "      <td>BEDOK RESERVOIR VIEW</td>\n",
       "      <td>1.337931</td>\n",
       "      <td>103.936531</td>\n",
       "    </tr>\n",
       "  </tbody>\n",
       "</table>\n",
       "</div>"
      ],
      "text/plain": [
       "     blk_no               RD_name  latitude   longitude\n",
       "4531     13  BEDOK RESERVOIR VIEW  1.337931  103.936531"
      ]
     },
     "execution_count": 127,
     "metadata": {},
     "output_type": "execute_result"
    }
   ],
   "source": [
    "hdb_locations[(hdb_locations['RD_name'] == 'BEDOK RESERVOIR VIEW') & (hdb_locations['blk_no'] == '13')]"
   ]
  },
  {
   "cell_type": "code",
   "execution_count": 128,
   "metadata": {
    "tags": []
   },
   "outputs": [
    {
     "data": {
      "text/html": [
       "<div>\n",
       "<style scoped>\n",
       "    .dataframe tbody tr th:only-of-type {\n",
       "        vertical-align: middle;\n",
       "    }\n",
       "\n",
       "    .dataframe tbody tr th {\n",
       "        vertical-align: top;\n",
       "    }\n",
       "\n",
       "    .dataframe thead th {\n",
       "        text-align: right;\n",
       "    }\n",
       "</style>\n",
       "<table border=\"1\" class=\"dataframe\">\n",
       "  <thead>\n",
       "    <tr style=\"text-align: right;\">\n",
       "      <th></th>\n",
       "      <th>postal</th>\n",
       "      <th>latitude</th>\n",
       "      <th>longtitude</th>\n",
       "      <th>searchval</th>\n",
       "      <th>blk_no</th>\n",
       "      <th>RD_name</th>\n",
       "      <th>building</th>\n",
       "      <th>address</th>\n",
       "      <th>postal.1</th>\n",
       "    </tr>\n",
       "  </thead>\n",
       "  <tbody>\n",
       "    <tr>\n",
       "      <th>4862</th>\n",
       "      <td>189677</td>\n",
       "      <td>1.295817</td>\n",
       "      <td>103.855503</td>\n",
       "      <td>BEACH CENTRE</td>\n",
       "      <td>15</td>\n",
       "      <td>BEACH RD</td>\n",
       "      <td>BEACH CENTRE</td>\n",
       "      <td>15 BEACH RD BEACH CENTRE SINGAPORE 189677</td>\n",
       "      <td>189677</td>\n",
       "    </tr>\n",
       "    <tr>\n",
       "      <th>8909</th>\n",
       "      <td>190015</td>\n",
       "      <td>1.303425</td>\n",
       "      <td>103.863153</td>\n",
       "      <td>GOLDEN BEACH VISTA</td>\n",
       "      <td>15</td>\n",
       "      <td>BEACH RD</td>\n",
       "      <td>GOLDEN BEACH VISTA</td>\n",
       "      <td>15 BEACH RD GOLDEN BEACH VISTA SINGAPORE 190015</td>\n",
       "      <td>190015</td>\n",
       "    </tr>\n",
       "  </tbody>\n",
       "</table>\n",
       "</div>"
      ],
      "text/plain": [
       "      postal  latitude  longtitude           searchval blk_no   RD_name  \\\n",
       "4862  189677  1.295817  103.855503        BEACH CENTRE     15  BEACH RD   \n",
       "8909  190015  1.303425  103.863153  GOLDEN BEACH VISTA     15  BEACH RD   \n",
       "\n",
       "                building                                          address  \\\n",
       "4862        BEACH CENTRE        15 BEACH RD BEACH CENTRE SINGAPORE 189677   \n",
       "8909  GOLDEN BEACH VISTA  15 BEACH RD GOLDEN BEACH VISTA SINGAPORE 190015   \n",
       "\n",
       "      postal.1  \n",
       "4862    189677  \n",
       "8909    190015  "
      ]
     },
     "execution_count": 128,
     "metadata": {},
     "output_type": "execute_result"
    }
   ],
   "source": [
    "hdb_locations = pd.read_csv(\"sg_zipcode_mapper_utf.csv\")\n",
    "hdb_locations[(hdb_locations['RD_name'] == 'BEACH RD') & (hdb_locations['blk_no'] == '15')]"
   ]
  },
  {
   "cell_type": "code",
   "execution_count": 129,
   "metadata": {
    "id": "GtPO0FSdV6BM",
    "tags": []
   },
   "outputs": [
    {
     "name": "stdout",
     "output_type": "stream",
     "text": [
      "93599 93599\n",
      "64282\n"
     ]
    }
   ],
   "source": [
    "hdb_locations = pd.read_csv(\"sg_zipcode_mapper_utf.csv\")\n",
    "resale_dataset = data \n",
    "# data clearning for hdb_locations \n",
    "hdb_locations = hdb_locations.rename(columns={'longtitude': 'longitude'}) \n",
    "hdb_locations = hdb_locations[['blk_no', 'RD_name', 'latitude', 'longitude']] \n",
    "hdb_locations = hdb_locations.drop_duplicates(subset = ['blk_no', 'RD_name'], keep='first') #drop the duplicate data in hdb_locations \n",
    "\n",
    "#merge data\n",
    "imputed_dataset = pd.merge(resale_dataset, hdb_locations, left_on = ['street_name', 'block'], right_on = ['RD_name', 'blk_no'], how = 'left')\n",
    "print(resale_dataset.shape[0], imputed_dataset.shape[0]) \n",
    "imputed_dataset = imputed_dataset[~imputed_dataset['RD_name'].isnull()]\n",
    "print(imputed_dataset.shape[0])"
   ]
  },
  {
   "cell_type": "code",
   "execution_count": 130,
   "metadata": {
    "tags": []
   },
   "outputs": [
    {
     "data": {
      "text/html": [
       "<div>\n",
       "<style scoped>\n",
       "    .dataframe tbody tr th:only-of-type {\n",
       "        vertical-align: middle;\n",
       "    }\n",
       "\n",
       "    .dataframe tbody tr th {\n",
       "        vertical-align: top;\n",
       "    }\n",
       "\n",
       "    .dataframe thead th {\n",
       "        text-align: right;\n",
       "    }\n",
       "</style>\n",
       "<table border=\"1\" class=\"dataframe\">\n",
       "  <thead>\n",
       "    <tr style=\"text-align: right;\">\n",
       "      <th></th>\n",
       "      <th>blk_no</th>\n",
       "      <th>RD_name</th>\n",
       "      <th>latitude</th>\n",
       "      <th>longitude</th>\n",
       "    </tr>\n",
       "  </thead>\n",
       "  <tbody>\n",
       "    <tr>\n",
       "      <th>0</th>\n",
       "      <td>1</td>\n",
       "      <td>LORONG 24 GEYLANG</td>\n",
       "      <td>1.312763</td>\n",
       "      <td>103.883519</td>\n",
       "    </tr>\n",
       "    <tr>\n",
       "      <th>1</th>\n",
       "      <td>1</td>\n",
       "      <td>LORONG 20 GEYLANG</td>\n",
       "      <td>1.312390</td>\n",
       "      <td>103.881504</td>\n",
       "    </tr>\n",
       "    <tr>\n",
       "      <th>2</th>\n",
       "      <td>1</td>\n",
       "      <td>BENOI RD</td>\n",
       "      <td>1.309135</td>\n",
       "      <td>103.679463</td>\n",
       "    </tr>\n",
       "    <tr>\n",
       "      <th>3</th>\n",
       "      <td>1</td>\n",
       "      <td>BOSCOMBE RD</td>\n",
       "      <td>1.305466</td>\n",
       "      <td>103.895674</td>\n",
       "    </tr>\n",
       "    <tr>\n",
       "      <th>4</th>\n",
       "      <td>1</td>\n",
       "      <td>BUKIT BATOK ST 22</td>\n",
       "      <td>1.344619</td>\n",
       "      <td>103.749789</td>\n",
       "    </tr>\n",
       "  </tbody>\n",
       "</table>\n",
       "</div>"
      ],
      "text/plain": [
       "  blk_no            RD_name  latitude   longitude\n",
       "0      1  LORONG 24 GEYLANG  1.312763  103.883519\n",
       "1      1  LORONG 20 GEYLANG  1.312390  103.881504\n",
       "2      1           BENOI RD  1.309135  103.679463\n",
       "3      1        BOSCOMBE RD  1.305466  103.895674\n",
       "4      1  BUKIT BATOK ST 22  1.344619  103.749789"
      ]
     },
     "execution_count": 130,
     "metadata": {},
     "output_type": "execute_result"
    }
   ],
   "source": [
    "#delete\n",
    "hdb_locations.RD_name.unique()\n",
    "\n",
    "hdb_locations.head()"
   ]
  },
  {
   "cell_type": "code",
   "execution_count": 131,
   "metadata": {
    "tags": []
   },
   "outputs": [
    {
     "data": {
      "text/html": [
       "<div>\n",
       "<style scoped>\n",
       "    .dataframe tbody tr th:only-of-type {\n",
       "        vertical-align: middle;\n",
       "    }\n",
       "\n",
       "    .dataframe tbody tr th {\n",
       "        vertical-align: top;\n",
       "    }\n",
       "\n",
       "    .dataframe thead th {\n",
       "        text-align: right;\n",
       "    }\n",
       "</style>\n",
       "<table border=\"1\" class=\"dataframe\">\n",
       "  <thead>\n",
       "    <tr style=\"text-align: right;\">\n",
       "      <th></th>\n",
       "      <th>month</th>\n",
       "      <th>town</th>\n",
       "      <th>flat_type</th>\n",
       "      <th>block</th>\n",
       "      <th>street_name</th>\n",
       "      <th>lease_commence_date</th>\n",
       "      <th>remaining_lease</th>\n",
       "      <th>year</th>\n",
       "      <th>price_per_sqm</th>\n",
       "      <th>blk_no</th>\n",
       "      <th>RD_name</th>\n",
       "      <th>latitude</th>\n",
       "      <th>longitude</th>\n",
       "    </tr>\n",
       "  </thead>\n",
       "  <tbody>\n",
       "    <tr>\n",
       "      <th>0</th>\n",
       "      <td>2019-01-01</td>\n",
       "      <td>ANG MO KIO</td>\n",
       "      <td>3 ROOM</td>\n",
       "      <td>225</td>\n",
       "      <td>ANG MO KIO AVE 1</td>\n",
       "      <td>1978</td>\n",
       "      <td>58</td>\n",
       "      <td>2019</td>\n",
       "      <td>3432.835821</td>\n",
       "      <td>225</td>\n",
       "      <td>ANG MO KIO AVE 1</td>\n",
       "      <td>1.367396</td>\n",
       "      <td>103.838150</td>\n",
       "    </tr>\n",
       "    <tr>\n",
       "      <th>1</th>\n",
       "      <td>2019-01-01</td>\n",
       "      <td>ANG MO KIO</td>\n",
       "      <td>3 ROOM</td>\n",
       "      <td>174</td>\n",
       "      <td>ANG MO KIO AVE 4</td>\n",
       "      <td>1986</td>\n",
       "      <td>66</td>\n",
       "      <td>2019</td>\n",
       "      <td>3916.666667</td>\n",
       "      <td>174</td>\n",
       "      <td>ANG MO KIO AVE 4</td>\n",
       "      <td>1.375097</td>\n",
       "      <td>103.837619</td>\n",
       "    </tr>\n",
       "    <tr>\n",
       "      <th>2</th>\n",
       "      <td>2019-01-01</td>\n",
       "      <td>ANG MO KIO</td>\n",
       "      <td>3 ROOM</td>\n",
       "      <td>440</td>\n",
       "      <td>ANG MO KIO AVE 10</td>\n",
       "      <td>1979</td>\n",
       "      <td>59</td>\n",
       "      <td>2019</td>\n",
       "      <td>3552.238806</td>\n",
       "      <td>440</td>\n",
       "      <td>ANG MO KIO AVE 10</td>\n",
       "      <td>1.366428</td>\n",
       "      <td>103.854311</td>\n",
       "    </tr>\n",
       "    <tr>\n",
       "      <th>3</th>\n",
       "      <td>2019-01-01</td>\n",
       "      <td>ANG MO KIO</td>\n",
       "      <td>3 ROOM</td>\n",
       "      <td>174</td>\n",
       "      <td>ANG MO KIO AVE 4</td>\n",
       "      <td>1986</td>\n",
       "      <td>66</td>\n",
       "      <td>2019</td>\n",
       "      <td>3934.426230</td>\n",
       "      <td>174</td>\n",
       "      <td>ANG MO KIO AVE 4</td>\n",
       "      <td>1.375097</td>\n",
       "      <td>103.837619</td>\n",
       "    </tr>\n",
       "    <tr>\n",
       "      <th>4</th>\n",
       "      <td>2019-01-01</td>\n",
       "      <td>ANG MO KIO</td>\n",
       "      <td>3 ROOM</td>\n",
       "      <td>637</td>\n",
       "      <td>ANG MO KIO AVE 6</td>\n",
       "      <td>1980</td>\n",
       "      <td>60</td>\n",
       "      <td>2019</td>\n",
       "      <td>3529.411765</td>\n",
       "      <td>637</td>\n",
       "      <td>ANG MO KIO AVE 6</td>\n",
       "      <td>1.380362</td>\n",
       "      <td>103.842335</td>\n",
       "    </tr>\n",
       "  </tbody>\n",
       "</table>\n",
       "</div>"
      ],
      "text/plain": [
       "       month        town flat_type block        street_name  \\\n",
       "0 2019-01-01  ANG MO KIO    3 ROOM   225   ANG MO KIO AVE 1   \n",
       "1 2019-01-01  ANG MO KIO    3 ROOM   174   ANG MO KIO AVE 4   \n",
       "2 2019-01-01  ANG MO KIO    3 ROOM   440  ANG MO KIO AVE 10   \n",
       "3 2019-01-01  ANG MO KIO    3 ROOM   174   ANG MO KIO AVE 4   \n",
       "4 2019-01-01  ANG MO KIO    3 ROOM   637   ANG MO KIO AVE 6   \n",
       "\n",
       "   lease_commence_date  remaining_lease  year  price_per_sqm blk_no  \\\n",
       "0                 1978               58  2019    3432.835821    225   \n",
       "1                 1986               66  2019    3916.666667    174   \n",
       "2                 1979               59  2019    3552.238806    440   \n",
       "3                 1986               66  2019    3934.426230    174   \n",
       "4                 1980               60  2019    3529.411765    637   \n",
       "\n",
       "             RD_name  latitude   longitude  \n",
       "0   ANG MO KIO AVE 1  1.367396  103.838150  \n",
       "1   ANG MO KIO AVE 4  1.375097  103.837619  \n",
       "2  ANG MO KIO AVE 10  1.366428  103.854311  \n",
       "3   ANG MO KIO AVE 4  1.375097  103.837619  \n",
       "4   ANG MO KIO AVE 6  1.380362  103.842335  "
      ]
     },
     "execution_count": 131,
     "metadata": {},
     "output_type": "execute_result"
    }
   ],
   "source": [
    "imputed_dataset.head()"
   ]
  },
  {
   "cell_type": "markdown",
   "metadata": {
    "id": "bR3YjkAKDcOj",
    "tags": []
   },
   "source": [
    "## Question 3: Finding the Nearest MRT station"
   ]
  },
  {
   "cell_type": "markdown",
   "metadata": {
    "id": "vrxdXsSwDcOj"
   },
   "source": [
    "We need geolocations of the MRT stations to locate the nearest station to the HDB. A quick search on Google gives us [this](https://www.kaggle.com/datasets/yxlee245/singapore-train-station-coordinates) publicly available dataset on Kaggle. We have downloaded the dataset for you. We have dropped the stations on LRT."
   ]
  },
  {
   "cell_type": "code",
   "execution_count": 132,
   "metadata": {
    "id": "vRgQXRLLDcOj",
    "tags": []
   },
   "outputs": [],
   "source": [
    "mrt_locations = pd.read_csv(\"mrt_data.csv\")\n",
    "mrt_locations.drop(columns=['type'], inplace=True)"
   ]
  },
  {
   "cell_type": "code",
   "execution_count": 133,
   "metadata": {
    "tags": []
   },
   "outputs": [
    {
     "data": {
      "text/html": [
       "<div>\n",
       "<style scoped>\n",
       "    .dataframe tbody tr th:only-of-type {\n",
       "        vertical-align: middle;\n",
       "    }\n",
       "\n",
       "    .dataframe tbody tr th {\n",
       "        vertical-align: top;\n",
       "    }\n",
       "\n",
       "    .dataframe thead th {\n",
       "        text-align: right;\n",
       "    }\n",
       "</style>\n",
       "<table border=\"1\" class=\"dataframe\">\n",
       "  <thead>\n",
       "    <tr style=\"text-align: right;\">\n",
       "      <th></th>\n",
       "      <th>station_name</th>\n",
       "      <th>lat</th>\n",
       "      <th>lng</th>\n",
       "    </tr>\n",
       "  </thead>\n",
       "  <tbody>\n",
       "    <tr>\n",
       "      <th>0</th>\n",
       "      <td>Jurong East</td>\n",
       "      <td>1.333207</td>\n",
       "      <td>103.742308</td>\n",
       "    </tr>\n",
       "    <tr>\n",
       "      <th>1</th>\n",
       "      <td>Bukit Batok</td>\n",
       "      <td>1.349069</td>\n",
       "      <td>103.749596</td>\n",
       "    </tr>\n",
       "    <tr>\n",
       "      <th>2</th>\n",
       "      <td>Bukit Gombak</td>\n",
       "      <td>1.359043</td>\n",
       "      <td>103.751863</td>\n",
       "    </tr>\n",
       "    <tr>\n",
       "      <th>3</th>\n",
       "      <td>Choa Chu Kang</td>\n",
       "      <td>1.385417</td>\n",
       "      <td>103.744316</td>\n",
       "    </tr>\n",
       "    <tr>\n",
       "      <th>4</th>\n",
       "      <td>Yew Tee</td>\n",
       "      <td>1.397383</td>\n",
       "      <td>103.747523</td>\n",
       "    </tr>\n",
       "    <tr>\n",
       "      <th>...</th>\n",
       "      <td>...</td>\n",
       "      <td>...</td>\n",
       "      <td>...</td>\n",
       "    </tr>\n",
       "    <tr>\n",
       "      <th>114</th>\n",
       "      <td>Bedok North</td>\n",
       "      <td>1.335268</td>\n",
       "      <td>103.918054</td>\n",
       "    </tr>\n",
       "    <tr>\n",
       "      <th>115</th>\n",
       "      <td>Bedok Reservoir</td>\n",
       "      <td>1.336595</td>\n",
       "      <td>103.933070</td>\n",
       "    </tr>\n",
       "    <tr>\n",
       "      <th>116</th>\n",
       "      <td>Tampines West</td>\n",
       "      <td>1.345583</td>\n",
       "      <td>103.938244</td>\n",
       "    </tr>\n",
       "    <tr>\n",
       "      <th>117</th>\n",
       "      <td>Tampines East</td>\n",
       "      <td>1.356310</td>\n",
       "      <td>103.955471</td>\n",
       "    </tr>\n",
       "    <tr>\n",
       "      <th>118</th>\n",
       "      <td>Upper Changi</td>\n",
       "      <td>1.342218</td>\n",
       "      <td>103.961505</td>\n",
       "    </tr>\n",
       "  </tbody>\n",
       "</table>\n",
       "<p>119 rows × 3 columns</p>\n",
       "</div>"
      ],
      "text/plain": [
       "        station_name       lat         lng\n",
       "0        Jurong East  1.333207  103.742308\n",
       "1        Bukit Batok  1.349069  103.749596\n",
       "2       Bukit Gombak  1.359043  103.751863\n",
       "3      Choa Chu Kang  1.385417  103.744316\n",
       "4            Yew Tee  1.397383  103.747523\n",
       "..               ...       ...         ...\n",
       "114      Bedok North  1.335268  103.918054\n",
       "115  Bedok Reservoir  1.336595  103.933070\n",
       "116    Tampines West  1.345583  103.938244\n",
       "117    Tampines East  1.356310  103.955471\n",
       "118     Upper Changi  1.342218  103.961505\n",
       "\n",
       "[119 rows x 3 columns]"
      ]
     },
     "execution_count": 133,
     "metadata": {},
     "output_type": "execute_result"
    }
   ],
   "source": [
    "mrt_locations"
   ]
  },
  {
   "cell_type": "markdown",
   "metadata": {
    "id": "s3lyGLaQiraJ"
   },
   "source": [
    "Using Euclidean distance between two geolocation offers us a false notion of the distance. Euclidean distance is meant for the flat space; which Earth isn't (thanks to Greek geographer Eratosthenes!).\n",
    "\n",
    "We have provided you the following function to compute the distance between to geolocations."
   ]
  },
  {
   "cell_type": "code",
   "execution_count": 134,
   "metadata": {
    "id": "7ApLCgxzjd73"
   },
   "outputs": [
    {
     "name": "stdout",
     "output_type": "stream",
     "text": [
      "Euclidean distance:  0.10545546118149039\n",
      "Realistic distance:  11.726844638513933\n"
     ]
    }
   ],
   "source": [
    "from math import sin, cos, sqrt, atan2, radians\n",
    "\n",
    "def earth_distance(x, y):\n",
    "\n",
    "  # Approximate radius of earth in km\n",
    "  R = 6373.0\n",
    "\n",
    "  lat1, lng1 = radians(x[0]), radians(x[1])\n",
    "  lat2, lng2 = radians(y[0]), radians(y[1])\n",
    "\n",
    "  dlon = lng2 - lng1\n",
    "  dlat = lat2 - lat1\n",
    "\n",
    "  a = sin(dlat / 2)**2 + cos(lat1) * cos(lat2) * sin(dlon / 2)**2\n",
    "  c = 2 * atan2(sqrt(a), sqrt(1 - a))\n",
    "\n",
    "  return R * c\n",
    "\n",
    "def euclidean_distance(x, y):\n",
    "  dx = x[0] - y[0]\n",
    "  dy = x[1] - y[1]\n",
    "\n",
    "  return sqrt(dx**2 + dy**2)\n",
    "\n",
    "jurong_east = [1.333207, 103.742308]\n",
    "near_amk = [1.365445, 103.842715]\n",
    "print(\"Euclidean distance: \", euclidean_distance(jurong_east, near_amk))\n",
    "print(\"Realistic distance: \", earth_distance(jurong_east, near_amk))"
   ]
  },
  {
   "cell_type": "markdown",
   "metadata": {
    "id": "AOUk4a1Kj3Pi"
   },
   "source": [
    "Create two columns in the `imputed_dataset` dataframe.\n",
    "- Column `nearest_mrt` that lists the name of the MRT station nearest to the resale record.\n",
    "- Column `mrt_dist` that lists the distance from the nearest MRT station.\n",
    "\n",
    "**Hint.** *Use [KNeighborsClassifier](https://scikit-learn.org/stable/modules/generated/sklearn.neighbors.KNeighborsClassifier.html) to efficiently do this task.*\n",
    "\n",
    "<div align=\"right\"> (3 points) </div>"
   ]
  },
  {
   "cell_type": "code",
   "execution_count": 135,
   "metadata": {
    "tags": []
   },
   "outputs": [
    {
     "data": {
      "text/html": [
       "<div>\n",
       "<style scoped>\n",
       "    .dataframe tbody tr th:only-of-type {\n",
       "        vertical-align: middle;\n",
       "    }\n",
       "\n",
       "    .dataframe tbody tr th {\n",
       "        vertical-align: top;\n",
       "    }\n",
       "\n",
       "    .dataframe thead th {\n",
       "        text-align: right;\n",
       "    }\n",
       "</style>\n",
       "<table border=\"1\" class=\"dataframe\">\n",
       "  <thead>\n",
       "    <tr style=\"text-align: right;\">\n",
       "      <th></th>\n",
       "      <th>lat</th>\n",
       "      <th>lng</th>\n",
       "    </tr>\n",
       "  </thead>\n",
       "  <tbody>\n",
       "    <tr>\n",
       "      <th>0</th>\n",
       "      <td>1.333207</td>\n",
       "      <td>103.742308</td>\n",
       "    </tr>\n",
       "    <tr>\n",
       "      <th>1</th>\n",
       "      <td>1.349069</td>\n",
       "      <td>103.749596</td>\n",
       "    </tr>\n",
       "    <tr>\n",
       "      <th>2</th>\n",
       "      <td>1.359043</td>\n",
       "      <td>103.751863</td>\n",
       "    </tr>\n",
       "    <tr>\n",
       "      <th>3</th>\n",
       "      <td>1.385417</td>\n",
       "      <td>103.744316</td>\n",
       "    </tr>\n",
       "    <tr>\n",
       "      <th>4</th>\n",
       "      <td>1.397383</td>\n",
       "      <td>103.747523</td>\n",
       "    </tr>\n",
       "    <tr>\n",
       "      <th>...</th>\n",
       "      <td>...</td>\n",
       "      <td>...</td>\n",
       "    </tr>\n",
       "    <tr>\n",
       "      <th>114</th>\n",
       "      <td>1.335268</td>\n",
       "      <td>103.918054</td>\n",
       "    </tr>\n",
       "    <tr>\n",
       "      <th>115</th>\n",
       "      <td>1.336595</td>\n",
       "      <td>103.933070</td>\n",
       "    </tr>\n",
       "    <tr>\n",
       "      <th>116</th>\n",
       "      <td>1.345583</td>\n",
       "      <td>103.938244</td>\n",
       "    </tr>\n",
       "    <tr>\n",
       "      <th>117</th>\n",
       "      <td>1.356310</td>\n",
       "      <td>103.955471</td>\n",
       "    </tr>\n",
       "    <tr>\n",
       "      <th>118</th>\n",
       "      <td>1.342218</td>\n",
       "      <td>103.961505</td>\n",
       "    </tr>\n",
       "  </tbody>\n",
       "</table>\n",
       "<p>119 rows × 2 columns</p>\n",
       "</div>"
      ],
      "text/plain": [
       "          lat         lng\n",
       "0    1.333207  103.742308\n",
       "1    1.349069  103.749596\n",
       "2    1.359043  103.751863\n",
       "3    1.385417  103.744316\n",
       "4    1.397383  103.747523\n",
       "..        ...         ...\n",
       "114  1.335268  103.918054\n",
       "115  1.336595  103.933070\n",
       "116  1.345583  103.938244\n",
       "117  1.356310  103.955471\n",
       "118  1.342218  103.961505\n",
       "\n",
       "[119 rows x 2 columns]"
      ]
     },
     "execution_count": 135,
     "metadata": {},
     "output_type": "execute_result"
    }
   ],
   "source": [
    "mrt_locations[['lat', 'lng']]"
   ]
  },
  {
   "cell_type": "code",
   "execution_count": 136,
   "metadata": {
    "tags": []
   },
   "outputs": [],
   "source": [
    "from sklearn.neighbors import KNeighborsClassifier\n",
    "from sklearn.metrics import pairwise_distances\n",
    "\n",
    "mrt_locations = mrt_locations.rename(columns={'lat': 'latitude', 'lng': 'longitude'})\n",
    "X, y = mrt_locations[['latitude', 'longitude']], mrt_locations['station_name']"
   ]
  },
  {
   "cell_type": "code",
   "execution_count": 137,
   "metadata": {
    "tags": []
   },
   "outputs": [],
   "source": [
    "knn = KNeighborsClassifier(n_neighbors=1, metric=earth_distance)\n",
    "knn.fit(X, y)\n",
    "imputed_dataset['nearest_mrt'] = knn.predict(imputed_dataset[['latitude','longitude']]) \n",
    "distances, indices = knn.kneighbors(imputed_dataset[['latitude','longitude']])\n",
    "imputed_dataset['mrt_dist'] = distances"
   ]
  },
  {
   "cell_type": "code",
   "execution_count": 138,
   "metadata": {
    "tags": []
   },
   "outputs": [
    {
     "data": {
      "text/html": [
       "<div>\n",
       "<style scoped>\n",
       "    .dataframe tbody tr th:only-of-type {\n",
       "        vertical-align: middle;\n",
       "    }\n",
       "\n",
       "    .dataframe tbody tr th {\n",
       "        vertical-align: top;\n",
       "    }\n",
       "\n",
       "    .dataframe thead th {\n",
       "        text-align: right;\n",
       "    }\n",
       "</style>\n",
       "<table border=\"1\" class=\"dataframe\">\n",
       "  <thead>\n",
       "    <tr style=\"text-align: right;\">\n",
       "      <th></th>\n",
       "      <th>month</th>\n",
       "      <th>town</th>\n",
       "      <th>flat_type</th>\n",
       "      <th>block</th>\n",
       "      <th>street_name</th>\n",
       "      <th>lease_commence_date</th>\n",
       "      <th>remaining_lease</th>\n",
       "      <th>year</th>\n",
       "      <th>price_per_sqm</th>\n",
       "      <th>blk_no</th>\n",
       "      <th>RD_name</th>\n",
       "      <th>latitude</th>\n",
       "      <th>longitude</th>\n",
       "      <th>nearest_mrt</th>\n",
       "      <th>mrt_dist</th>\n",
       "    </tr>\n",
       "  </thead>\n",
       "  <tbody>\n",
       "    <tr>\n",
       "      <th>0</th>\n",
       "      <td>2019-01-01</td>\n",
       "      <td>ANG MO KIO</td>\n",
       "      <td>3 ROOM</td>\n",
       "      <td>225</td>\n",
       "      <td>ANG MO KIO AVE 1</td>\n",
       "      <td>1978</td>\n",
       "      <td>58</td>\n",
       "      <td>2019</td>\n",
       "      <td>3432.835821</td>\n",
       "      <td>225</td>\n",
       "      <td>ANG MO KIO AVE 1</td>\n",
       "      <td>1.367396</td>\n",
       "      <td>103.838150</td>\n",
       "      <td>Ang Mo Kio</td>\n",
       "      <td>1.305063</td>\n",
       "    </tr>\n",
       "    <tr>\n",
       "      <th>1</th>\n",
       "      <td>2019-01-01</td>\n",
       "      <td>ANG MO KIO</td>\n",
       "      <td>3 ROOM</td>\n",
       "      <td>174</td>\n",
       "      <td>ANG MO KIO AVE 4</td>\n",
       "      <td>1986</td>\n",
       "      <td>66</td>\n",
       "      <td>2019</td>\n",
       "      <td>3916.666667</td>\n",
       "      <td>174</td>\n",
       "      <td>ANG MO KIO AVE 4</td>\n",
       "      <td>1.375097</td>\n",
       "      <td>103.837619</td>\n",
       "      <td>Yio Chu Kang</td>\n",
       "      <td>1.099849</td>\n",
       "    </tr>\n",
       "    <tr>\n",
       "      <th>2</th>\n",
       "      <td>2019-01-01</td>\n",
       "      <td>ANG MO KIO</td>\n",
       "      <td>3 ROOM</td>\n",
       "      <td>440</td>\n",
       "      <td>ANG MO KIO AVE 10</td>\n",
       "      <td>1979</td>\n",
       "      <td>59</td>\n",
       "      <td>2019</td>\n",
       "      <td>3552.238806</td>\n",
       "      <td>440</td>\n",
       "      <td>ANG MO KIO AVE 10</td>\n",
       "      <td>1.366428</td>\n",
       "      <td>103.854311</td>\n",
       "      <td>Ang Mo Kio</td>\n",
       "      <td>0.660276</td>\n",
       "    </tr>\n",
       "    <tr>\n",
       "      <th>3</th>\n",
       "      <td>2019-01-01</td>\n",
       "      <td>ANG MO KIO</td>\n",
       "      <td>3 ROOM</td>\n",
       "      <td>174</td>\n",
       "      <td>ANG MO KIO AVE 4</td>\n",
       "      <td>1986</td>\n",
       "      <td>66</td>\n",
       "      <td>2019</td>\n",
       "      <td>3934.426230</td>\n",
       "      <td>174</td>\n",
       "      <td>ANG MO KIO AVE 4</td>\n",
       "      <td>1.375097</td>\n",
       "      <td>103.837619</td>\n",
       "      <td>Yio Chu Kang</td>\n",
       "      <td>1.099849</td>\n",
       "    </tr>\n",
       "    <tr>\n",
       "      <th>4</th>\n",
       "      <td>2019-01-01</td>\n",
       "      <td>ANG MO KIO</td>\n",
       "      <td>3 ROOM</td>\n",
       "      <td>637</td>\n",
       "      <td>ANG MO KIO AVE 6</td>\n",
       "      <td>1980</td>\n",
       "      <td>60</td>\n",
       "      <td>2019</td>\n",
       "      <td>3529.411765</td>\n",
       "      <td>637</td>\n",
       "      <td>ANG MO KIO AVE 6</td>\n",
       "      <td>1.380362</td>\n",
       "      <td>103.842335</td>\n",
       "      <td>Yio Chu Kang</td>\n",
       "      <td>0.327413</td>\n",
       "    </tr>\n",
       "  </tbody>\n",
       "</table>\n",
       "</div>"
      ],
      "text/plain": [
       "       month        town flat_type block        street_name  \\\n",
       "0 2019-01-01  ANG MO KIO    3 ROOM   225   ANG MO KIO AVE 1   \n",
       "1 2019-01-01  ANG MO KIO    3 ROOM   174   ANG MO KIO AVE 4   \n",
       "2 2019-01-01  ANG MO KIO    3 ROOM   440  ANG MO KIO AVE 10   \n",
       "3 2019-01-01  ANG MO KIO    3 ROOM   174   ANG MO KIO AVE 4   \n",
       "4 2019-01-01  ANG MO KIO    3 ROOM   637   ANG MO KIO AVE 6   \n",
       "\n",
       "   lease_commence_date  remaining_lease  year  price_per_sqm blk_no  \\\n",
       "0                 1978               58  2019    3432.835821    225   \n",
       "1                 1986               66  2019    3916.666667    174   \n",
       "2                 1979               59  2019    3552.238806    440   \n",
       "3                 1986               66  2019    3934.426230    174   \n",
       "4                 1980               60  2019    3529.411765    637   \n",
       "\n",
       "             RD_name  latitude   longitude   nearest_mrt  mrt_dist  \n",
       "0   ANG MO KIO AVE 1  1.367396  103.838150    Ang Mo Kio  1.305063  \n",
       "1   ANG MO KIO AVE 4  1.375097  103.837619  Yio Chu Kang  1.099849  \n",
       "2  ANG MO KIO AVE 10  1.366428  103.854311    Ang Mo Kio  0.660276  \n",
       "3   ANG MO KIO AVE 4  1.375097  103.837619  Yio Chu Kang  1.099849  \n",
       "4   ANG MO KIO AVE 6  1.380362  103.842335  Yio Chu Kang  0.327413  "
      ]
     },
     "execution_count": 138,
     "metadata": {},
     "output_type": "execute_result"
    }
   ],
   "source": [
    "imputed_dataset.head()"
   ]
  },
  {
   "cell_type": "code",
   "execution_count": 139,
   "metadata": {
    "tags": []
   },
   "outputs": [
    {
     "data": {
      "text/html": [
       "<div>\n",
       "<style scoped>\n",
       "    .dataframe tbody tr th:only-of-type {\n",
       "        vertical-align: middle;\n",
       "    }\n",
       "\n",
       "    .dataframe tbody tr th {\n",
       "        vertical-align: top;\n",
       "    }\n",
       "\n",
       "    .dataframe thead th {\n",
       "        text-align: right;\n",
       "    }\n",
       "</style>\n",
       "<table border=\"1\" class=\"dataframe\">\n",
       "  <thead>\n",
       "    <tr style=\"text-align: right;\">\n",
       "      <th></th>\n",
       "      <th>lease_commence_date</th>\n",
       "      <th>remaining_lease</th>\n",
       "      <th>year</th>\n",
       "      <th>price_per_sqm</th>\n",
       "      <th>latitude</th>\n",
       "      <th>longitude</th>\n",
       "      <th>mrt_dist</th>\n",
       "    </tr>\n",
       "  </thead>\n",
       "  <tbody>\n",
       "    <tr>\n",
       "      <th>count</th>\n",
       "      <td>64282.000000</td>\n",
       "      <td>64282.000000</td>\n",
       "      <td>64282.000000</td>\n",
       "      <td>64282.000000</td>\n",
       "      <td>64282.000000</td>\n",
       "      <td>64282.000000</td>\n",
       "      <td>64282.000000</td>\n",
       "    </tr>\n",
       "    <tr>\n",
       "      <th>mean</th>\n",
       "      <td>1996.536340</td>\n",
       "      <td>74.945926</td>\n",
       "      <td>2020.590414</td>\n",
       "      <td>5034.050693</td>\n",
       "      <td>1.368979</td>\n",
       "      <td>103.846405</td>\n",
       "      <td>0.831441</td>\n",
       "    </tr>\n",
       "    <tr>\n",
       "      <th>std</th>\n",
       "      <td>14.258391</td>\n",
       "      <td>14.225283</td>\n",
       "      <td>1.096608</td>\n",
       "      <td>1378.448007</td>\n",
       "      <td>0.040200</td>\n",
       "      <td>0.070804</td>\n",
       "      <td>0.466513</td>\n",
       "    </tr>\n",
       "    <tr>\n",
       "      <th>min</th>\n",
       "      <td>1967.000000</td>\n",
       "      <td>44.000000</td>\n",
       "      <td>2019.000000</td>\n",
       "      <td>2089.552239</td>\n",
       "      <td>1.270380</td>\n",
       "      <td>103.685234</td>\n",
       "      <td>0.012317</td>\n",
       "    </tr>\n",
       "    <tr>\n",
       "      <th>25%</th>\n",
       "      <td>1985.000000</td>\n",
       "      <td>63.000000</td>\n",
       "      <td>2020.000000</td>\n",
       "      <td>4148.148148</td>\n",
       "      <td>1.339895</td>\n",
       "      <td>103.791457</td>\n",
       "      <td>0.484350</td>\n",
       "    </tr>\n",
       "    <tr>\n",
       "      <th>50%</th>\n",
       "      <td>1996.000000</td>\n",
       "      <td>74.000000</td>\n",
       "      <td>2021.000000</td>\n",
       "      <td>4760.600072</td>\n",
       "      <td>1.370189</td>\n",
       "      <td>103.850766</td>\n",
       "      <td>0.737422</td>\n",
       "    </tr>\n",
       "    <tr>\n",
       "      <th>75%</th>\n",
       "      <td>2013.000000</td>\n",
       "      <td>91.000000</td>\n",
       "      <td>2022.000000</td>\n",
       "      <td>5535.641791</td>\n",
       "      <td>1.394827</td>\n",
       "      <td>103.898852</td>\n",
       "      <td>1.077788</td>\n",
       "    </tr>\n",
       "    <tr>\n",
       "      <th>max</th>\n",
       "      <td>2019.000000</td>\n",
       "      <td>98.000000</td>\n",
       "      <td>2022.000000</td>\n",
       "      <td>14731.182796</td>\n",
       "      <td>1.457071</td>\n",
       "      <td>103.987805</td>\n",
       "      <td>3.440571</td>\n",
       "    </tr>\n",
       "  </tbody>\n",
       "</table>\n",
       "</div>"
      ],
      "text/plain": [
       "       lease_commence_date  remaining_lease          year  price_per_sqm  \\\n",
       "count         64282.000000     64282.000000  64282.000000   64282.000000   \n",
       "mean           1996.536340        74.945926   2020.590414    5034.050693   \n",
       "std              14.258391        14.225283      1.096608    1378.448007   \n",
       "min            1967.000000        44.000000   2019.000000    2089.552239   \n",
       "25%            1985.000000        63.000000   2020.000000    4148.148148   \n",
       "50%            1996.000000        74.000000   2021.000000    4760.600072   \n",
       "75%            2013.000000        91.000000   2022.000000    5535.641791   \n",
       "max            2019.000000        98.000000   2022.000000   14731.182796   \n",
       "\n",
       "           latitude     longitude      mrt_dist  \n",
       "count  64282.000000  64282.000000  64282.000000  \n",
       "mean       1.368979    103.846405      0.831441  \n",
       "std        0.040200      0.070804      0.466513  \n",
       "min        1.270380    103.685234      0.012317  \n",
       "25%        1.339895    103.791457      0.484350  \n",
       "50%        1.370189    103.850766      0.737422  \n",
       "75%        1.394827    103.898852      1.077788  \n",
       "max        1.457071    103.987805      3.440571  "
      ]
     },
     "execution_count": 139,
     "metadata": {},
     "output_type": "execute_result"
    }
   ],
   "source": [
    "imputed_dataset.describe()"
   ]
  },
  {
   "cell_type": "markdown",
   "metadata": {
    "id": "Ff1u07VyDcOj"
   },
   "source": [
    "## Question 4: Data Visualisation"
   ]
  },
  {
   "cell_type": "markdown",
   "metadata": {
    "id": "Hmz_lv9kDcOk"
   },
   "source": [
    "The resale price of the HDB equally depends on the remaining lease. People tend to buy newer HDBs than the ones that would soon go for re-development.\n",
    "\n",
    "Write a script that shows a scatter-plot of `price_per_sqm` against `remaining_lease`. Do you observe a positive correlation?\n",
    "\n",
    "<div align=\"right\"> (1 point) </div>"
   ]
  },
  {
   "cell_type": "markdown",
   "metadata": {
    "tags": []
   },
   "source": [
    "There is a positive correlation. From the graph, the correlation between reminaing lease and price per square meter after the remianing lease exceeds 80 years. "
   ]
  },
  {
   "cell_type": "code",
   "execution_count": 140,
   "metadata": {
    "id": "5xnireSVitZJ",
    "tags": []
   },
   "outputs": [
    {
     "data": {
      "text/plain": [
       "<Axes: xlabel='remaining_lease', ylabel='price_per_sqm'>"
      ]
     },
     "execution_count": 140,
     "metadata": {},
     "output_type": "execute_result"
    },
    {
     "data": {
      "image/png": "[encoded data removed]",
      "text/plain": [
       "<Figure size 640x480 with 1 Axes>"
      ]
     },
     "metadata": {},
     "output_type": "display_data"
    }
   ],
   "source": [
    "sns.scatterplot(y = 'price_per_sqm', x = 'remaining_lease', data = imputed_dataset)"
   ]
  },
  {
   "cell_type": "code",
   "execution_count": 141,
   "metadata": {
    "tags": []
   },
   "outputs": [
    {
     "data": {
      "text/plain": [
       "0.39735107118175467"
      ]
     },
     "execution_count": 141,
     "metadata": {},
     "output_type": "execute_result"
    }
   ],
   "source": [
    "imputed_dataset['price_per_sqm'].corr(imputed_dataset['remaining_lease'])"
   ]
  },
  {
   "cell_type": "markdown",
   "metadata": {
    "id": "XOf-iAWTDcOk"
   },
   "source": [
    "We also want to see the variation of resale price across different towns.\n",
    "\n",
    "Write a script that shows the boxplot of `price_per_sqm` against varius `town`s. All towns should be listed in alphabetical order on the x-axis.\n",
    "\n",
    "<div align=\"right\"> (1 point) </div>"
   ]
  },
  {
   "cell_type": "code",
   "execution_count": 142,
   "metadata": {
    "id": "i14vKwRmDcOk",
    "tags": []
   },
   "outputs": [
    {
     "data": {
      "image/png": "[encoded data removed]",
      "text/plain": [
       "<Figure size 1000x600 with 1 Axes>"
      ]
     },
     "metadata": {},
     "output_type": "display_data"
    }
   ],
   "source": [
    "towns = sorted(imputed_dataset['town'].unique())\n",
    "\n",
    "# Create a boxplot\n",
    "plt.figure(figsize=(10, 6))\n",
    "sns.boxplot(x='town', y='price_per_sqm', data=imputed_dataset, order=towns)\n",
    "plt.xticks(rotation=90)\n",
    "plt.xlabel('Town')\n",
    "plt.ylabel('Price per Square Meter')\n",
    "plt.title('Boxplot of Price per Square Meter by Town')\n",
    "plt.tight_layout()\n",
    "plt.show()"
   ]
  },
  {
   "cell_type": "markdown",
   "metadata": {
    "id": "a-LHCp1KDcOk"
   },
   "source": [
    "We want to observe the number of different `flat_type` that are sold over the last four years.\n",
    "\n",
    "Write a script that would generate a plot that looks as follows.\n",
    "\n",
    "<div align=\"right\"> (2 points) </div>\n",
    "\n",
    "<img src=\"https://www.comp.nus.edu.sg/~ashishd/IT5006/Assignments/Assignment_1/flat_type.png\" alt=\"flat_type\" width=\"500\"/>"
   ]
  },
  {
   "cell_type": "code",
   "execution_count": 143,
   "metadata": {
    "tags": []
   },
   "outputs": [
    {
     "data": {
      "text/plain": [
       "0        3 ROOM\n",
       "1        3 ROOM\n",
       "2        3 ROOM\n",
       "3        3 ROOM\n",
       "4        3 ROOM\n",
       "          ...  \n",
       "20498    5 ROOM\n",
       "20499    5 ROOM\n",
       "20500    5 ROOM\n",
       "20501    5 ROOM\n",
       "20502    5 ROOM\n",
       "Name: flat_type, Length: 14010, dtype: object"
      ]
     },
     "execution_count": 143,
     "metadata": {},
     "output_type": "execute_result"
    }
   ],
   "source": [
    "imputed_dataset.loc[imputed_dataset['year'] == 2019,'flat_type']"
   ]
  },
  {
   "cell_type": "code",
   "execution_count": 144,
   "metadata": {
    "tags": []
   },
   "outputs": [
    {
     "data": {
      "text/plain": [
       "[2019, 2020, 2021, 2022]"
      ]
     },
     "execution_count": 144,
     "metadata": {},
     "output_type": "execute_result"
    }
   ],
   "source": [
    "list(range(2019,2023))"
   ]
  },
  {
   "cell_type": "code",
   "execution_count": 145,
   "metadata": {
    "tags": []
   },
   "outputs": [
    {
     "data": {
      "text/plain": [
       "year\n",
       "2019    14010\n",
       "2020    15177\n",
       "2021    18227\n",
       "2022    16868\n",
       "Name: town, dtype: int64"
      ]
     },
     "execution_count": 145,
     "metadata": {},
     "output_type": "execute_result"
    }
   ],
   "source": [
    "imputed_dataset.groupby(by = ['year']).town.count()"
   ]
  },
  {
   "cell_type": "code",
   "execution_count": 146,
   "metadata": {
    "tags": []
   },
   "outputs": [
    {
     "data": {
      "text/plain": [
       "year  flat_type\n",
       "2019  2 ROOM        203\n",
       "      3 ROOM       3638\n",
       "      4 ROOM       6391\n",
       "      5 ROOM       3778\n",
       "2020  2 ROOM        220\n",
       "      3 ROOM       3715\n",
       "      4 ROOM       7083\n",
       "      5 ROOM       4159\n",
       "2021  2 ROOM        209\n",
       "      3 ROOM       4132\n",
       "      4 ROOM       8638\n",
       "      5 ROOM       5248\n",
       "2022  2 ROOM        276\n",
       "      3 ROOM       4262\n",
       "      4 ROOM       7733\n",
       "      5 ROOM       4597\n",
       "Name: town, dtype: int64"
      ]
     },
     "execution_count": 146,
     "metadata": {},
     "output_type": "execute_result"
    }
   ],
   "source": [
    "imputed_dataset.groupby(by = ['year','flat_type']).town.count()"
   ]
  },
  {
   "cell_type": "code",
   "execution_count": 147,
   "metadata": {},
   "outputs": [
    {
     "data": {
      "image/png": "[encoded data removed]",
      "text/plain": [
       "<Figure size 800x1200 with 4 Axes>"
      ]
     },
     "metadata": {},
     "output_type": "display_data"
    }
   ],
   "source": [
    "fig, axes = plt.subplots(4, 1, figsize=(8, 12))\n",
    "\n",
    "def count_subplot(years): \n",
    "    i = 0 \n",
    "    x_order = ['2 ROOM', '3 ROOM', '4 ROOM', '5 ROOM', '1 ROOM']\n",
    "    for year in years: \n",
    "        plt_data = resale_dataset.loc[resale_dataset['year'] == year,'flat_type']\n",
    "        sns.countplot(x = plt_data, ax=axes[i], order = x_order, color = 'navy')\n",
    "        axes[i].set_ylim(0,13000)\n",
    "        axes[i].set_title('year = %s' %year)\n",
    "        i += 1 \n",
    "    plt.tight_layout()\n",
    "    plt.show()\n",
    "count_subplot(years = list(range(2019,2023)))"
   ]
  },
  {
   "cell_type": "code",
   "execution_count": 148,
   "metadata": {
    "id": "cud3XpYHDcOl",
    "tags": []
   },
   "outputs": [
    {
     "data": {
      "image/png": "[encoded data removed]",
      "text/plain": [
       "<Figure size 800x1200 with 4 Axes>"
      ]
     },
     "metadata": {},
     "output_type": "display_data"
    }
   ],
   "source": [
    "fig, axes = plt.subplots(4, 1, figsize=(8, 12))\n",
    "\n",
    "def count_subplot(years): \n",
    "    i = 0 \n",
    "    x_order = ['2 ROOM', '3 ROOM', '4 ROOM', '5 ROOM', '1 ROOM']\n",
    "    for year in years: \n",
    "        plt_data = imputed_dataset.loc[imputed_dataset['year'] == year,'flat_type']\n",
    "        sns.countplot(x = plt_data, ax=axes[i], order = x_order, color = 'navy')\n",
    "        axes[i].set_ylim(0,12000)\n",
    "        axes[i].set_title('year = %s' %year)\n",
    "        i += 1 \n",
    "    plt.tight_layout()\n",
    "    plt.show()\n",
    "count_subplot(years = list(range(2019,2023)))"
   ]
  },
  {
   "cell_type": "markdown",
   "metadata": {
    "id": "-BXqvwfcr2xi"
   },
   "source": [
    "We want to observe the correlation between the resale price and the distance from the nearest MRT station.\n",
    "\n",
    "Write a script that would generate a plot that looks as follows.\n",
    "\n",
    "<div align=\"right\"> (2 points) </div>\n",
    "\n",
    "<img src=\"https://www.comp.nus.edu.sg/~ashishd/IT5006/Assignments/Assignment_1/price_mrt.png\" alt=\"flat_type\" width=\"800\"/>"
   ]
  },
  {
   "cell_type": "code",
   "execution_count": 149,
   "metadata": {
    "tags": []
   },
   "outputs": [
    {
     "data": {
      "text/html": [
       "<div>\n",
       "<style scoped>\n",
       "    .dataframe tbody tr th:only-of-type {\n",
       "        vertical-align: middle;\n",
       "    }\n",
       "\n",
       "    .dataframe tbody tr th {\n",
       "        vertical-align: top;\n",
       "    }\n",
       "\n",
       "    .dataframe thead th {\n",
       "        text-align: right;\n",
       "    }\n",
       "</style>\n",
       "<table border=\"1\" class=\"dataframe\">\n",
       "  <thead>\n",
       "    <tr style=\"text-align: right;\">\n",
       "      <th></th>\n",
       "      <th>flat_type</th>\n",
       "      <th>price_per_sqm</th>\n",
       "    </tr>\n",
       "  </thead>\n",
       "  <tbody>\n",
       "  </tbody>\n",
       "</table>\n",
       "</div>"
      ],
      "text/plain": [
       "Empty DataFrame\n",
       "Columns: [flat_type, price_per_sqm]\n",
       "Index: []"
      ]
     },
     "execution_count": 149,
     "metadata": {},
     "output_type": "execute_result"
    }
   ],
   "source": [
    "imputed_dataset.loc[imputed_dataset['town'] == 'abc',('flat_type', 'price_per_sqm')]"
   ]
  },
  {
   "cell_type": "code",
   "execution_count": 150,
   "metadata": {
    "tags": []
   },
   "outputs": [
    {
     "ename": "SyntaxError",
     "evalue": "incomplete input (3229587912.py, line 19)",
     "output_type": "error",
     "traceback": [
      "\u001b[0;36m  Cell \u001b[0;32mIn[150], line 19\u001b[0;36m\u001b[0m\n\u001b[0;31m    scatter_subplot(list(imputed_dataset.town.unique()))\u001b[0m\n\u001b[0m                                                        ^\u001b[0m\n\u001b[0;31mSyntaxError\u001b[0m\u001b[0;31m:\u001b[0m incomplete input\n"
     ]
    }
   ],
   "source": [
    "fig, axes = plt.subplots(5, 5, figsize=(24, 24))\n",
    "\n",
    "def scatter_subplot(towns): \n",
    "    i = 0 \n",
    "    j = 0 \n",
    "    for town in towns: \n",
    "        plt_data = imputed_dataset.loc[imputed_dataset['town'] == town,('mrt_dist', 'price_per_sqm')]\n",
    "        sns.scatterplot(x = 'mrt_dist', y = 'price_per_sqm', data = plt_data, ax=axes[i][j], color = 'navy')\n",
    "        axes[i][j].set_ylim(1000,13000)\n",
    "        axes[i][j].set_xlim(-0.2,4)\n",
    "        axes[i][j].set_title('town = %s' %town)\n",
    "        if j < 4:\n",
    "            j += 1\n",
    "        else:\n",
    "            j = 0\n",
    "            i += 1\n",
    "    plt.tight_layout()\n",
    "    plt.show(\n",
    "scatter_subplot(list(imputed_dataset.town.unique()))"
   ]
  },
  {
   "cell_type": "markdown",
   "metadata": {
    "id": "QkyMDVC7DcOl"
   },
   "source": [
    "## Question 5: Analysis"
   ]
  },
  {
   "cell_type": "markdown",
   "metadata": {
    "id": "wGnlvBPXDcOl"
   },
   "source": [
    "Which town shows the highest variability in the `price_per_sqm` in the last four years?\n",
    "\n",
    "<div align=\"right\"> (1 point) </div>"
   ]
  },
  {
   "cell_type": "markdown",
   "metadata": {
    "id": "fSEIJjgn2NzM"
   },
   "source": [
    "*Right your answer here.*\n",
    "QUEENSTOWN has the highest variance of price per sqauare meter, which is 4,181,122."
   ]
  },
  {
   "cell_type": "code",
   "execution_count": null,
   "metadata": {
    "tags": []
   },
   "outputs": [],
   "source": [
    "imputed_dataset[['price_per_sqm', 'town']].groupby(by = 'town').var().sort_values(by = 'price_per_sqm', ascending = False).head()"
   ]
  },
  {
   "cell_type": "markdown",
   "metadata": {
    "id": "UpdB1AwsDcOm"
   },
   "source": [
    "Which observation do you make looking at the resale records as per the `flat_type` over the years? What is a probable reason for the pattern that you observe?\n",
    "\n",
    "<div align=\"right\">(2 points)</div>"
   ]
  },
  {
   "cell_type": "markdown",
   "metadata": {
    "id": "CskzumEj2v-D"
   },
   "source": [
    "*Right your answer here.*\n",
    "\n",
    "- *Observation(s).*\n",
    "- *Probable reason(s).*"
   ]
  },
  {
   "cell_type": "markdown",
   "metadata": {
    "id": "_nj7dVzTDcOm"
   },
   "source": [
    "We can observe that for many towns (such as Clementi, Bukit Merah, Pasir Ris, etc.) the `price_per_sqm` has a -ve correlation to the `mrt_dist`. This fits our hypothesis.\n",
    "\n",
    "But some towns tend to show counter-intuitive behaviour. Please provide possible reasons behind these observation. You may support your answers by further analysing the available data.\n",
    "\n",
    "- We observe a strong positive correlation for Sembawang (which means the houses closer to MRT are cheaper than the ones that are farther!). What is a probable reason?\n",
    "\n",
    "- We observe two distinct clusters in the plot of Sengkang and Serangoon. What is a probable reason?\n",
    "<div align=\"right\">(2 points)</div>"
   ]
  },
  {
   "cell_type": "markdown",
   "metadata": {
    "id": "i5qdYUPv47jk"
   },
   "source": [
    "*Right your answer here.*\n",
    "\n",
    "- *Probable reason for Obs 1.*\n",
    "- *Probable reason for Obs 2.*"
   ]
  },
  {
   "cell_type": "code",
   "execution_count": null,
   "metadata": {},
   "outputs": [],
   "source": []
  },
  {
   "cell_type": "code",
   "execution_count": null,
   "metadata": {},
   "outputs": [],
   "source": []
  },
  {
   "cell_type": "code",
   "execution_count": null,
   "metadata": {},
   "outputs": [],
   "source": []
  },
  {
   "cell_type": "code",
   "execution_count": null,
   "metadata": {},
   "outputs": [],
   "source": []
  },
  {
   "cell_type": "code",
   "execution_count": null,
   "metadata": {},
   "outputs": [],
   "source": []
  },
  {
   "cell_type": "code",
   "execution_count": null,
   "metadata": {},
   "outputs": [],
   "source": []
  },
  {
   "cell_type": "code",
   "execution_count": null,
   "metadata": {},
   "outputs": [],
   "source": []
  },
  {
   "cell_type": "code",
   "execution_count": null,
   "metadata": {},
   "outputs": [],
   "source": []
  },
  {
   "cell_type": "code",
   "execution_count": null,
   "metadata": {},
   "outputs": [],
   "source": []
  },
  {
   "cell_type": "code",
   "execution_count": null,
   "metadata": {},
   "outputs": [],
   "source": []
  },
  {
   "cell_type": "code",
   "execution_count": null,
   "metadata": {},
   "outputs": [],
   "source": []
  }
 ],
 "metadata": {
  "colab": {
   "provenance": []
  },
  "kernelspec": {
   "display_name": "Python 3 (ipykernel)",
   "language": "python",
   "name": "python3"
  },
  "language_info": {
   "codemirror_mode": {
    "name": "ipython",
    "version": 3
   },
   "file_extension": ".py",
   "mimetype": "text/x-python",
   "name": "python",
   "nbconvert_exporter": "python",
   "pygments_lexer": "ipython3",
   "version": "3.11.4"
  }
 },
 "nbformat": 4,
 "nbformat_minor": 4
}
