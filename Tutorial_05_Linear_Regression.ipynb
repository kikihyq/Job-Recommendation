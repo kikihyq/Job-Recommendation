{
 "cells": [
  {
   "cell_type": "markdown",
   "metadata": {
    "id": "wF5mcXIWy7wL"
   },
   "source": [
    "# Tutorial 5 (Week 6) - Linear Regression\n",
    "\n",
    "## Learning Objectives\n",
    "\n",
    "After completing this tutorial, you should be able to:\n",
    "\n",
    "+ Use `statsmodels` to perform linear regression\n",
    "+ Implement Simple Linear Regression\n",
    "+ Estimate coefficients and analyze the model\n",
    "+ Apply the model for hypothesis testing\n",
    "+ Implement Multiple Linear Regression\n",
    "\n",
    "This tutorial uses the case study covered in the textbook \"An Introduction to Statistical Learning: with Applications in R\" by James G. et al. ([link](https://link-springer-com.libproxy1.nus.edu.sg/book/10.1007/978-1-4614-7138-7)). The codes are written using this [notebook](https://github.com/justmarkham/DAT4/blob/master/notebooks/08_linear_regression.ipynb) and this [notebook](https://nbviewer.jupyter.org/github/JWarmenhoven/ISL-python/blob/master/Notebooks/Chapter%203.ipynb)."
   ]
  },
  {
   "cell_type": "code",
   "execution_count": 13,
   "metadata": {
    "id": "A9KmErcOy7wQ",
    "scrolled": false
   },
   "outputs": [],
   "source": [
    "import pandas as pd\n",
    "import numpy as np\n",
    "import matplotlib.pyplot as plt\n",
    "import seaborn as sns\n",
    "\n",
    "%matplotlib inline\n",
    "#plt.style.use('seaborn-v0_8-white')"
   ]
  },
  {
   "cell_type": "markdown",
   "metadata": {
    "id": "qukyJI3qy7wP"
   },
   "source": [
    "## Dataset\n",
    "\n",
    "The Advertising data set consists of the _sales_ (in thousands on units) of a certain product in 200 different markets, along with _advertising budgets_ (in thousands of dollars) for the product in each of those markets for three different media: TV, radio, and newspaper. \n",
    "\n",
    "Suppose you are a data analyst hired to provide advice on how to improve sales of this product.\n",
    "\n",
    "It is not possible for your client to directly increase sales of the product. On the other hand, they can control the advertising expenditure in each of the three media. Therefore, if you determine that there is an association between advertising and sales, then you can instruct your client to adjust advertising budgets, thereby indirectly increasing sales.\n",
    "In other words, your goal is to develop an __accurate model that can be used to predict sales on the basis of the three media budgets__.\n",
    "\n",
    "As usual, load the data into pandas, and obtain a summary statistics to start exploring. You can specify `index_col` to treat the first column as index values."
   ]
  },
  {
   "cell_type": "code",
   "execution_count": 33,
   "metadata": {
    "id": "-Ehb3aJdy7wS",
    "scrolled": false
   },
   "outputs": [
    {
     "data": {
      "text/html": [
       "<div>\n",
       "<style scoped>\n",
       "    .dataframe tbody tr th:only-of-type {\n",
       "        vertical-align: middle;\n",
       "    }\n",
       "\n",
       "    .dataframe tbody tr th {\n",
       "        vertical-align: top;\n",
       "    }\n",
       "\n",
       "    .dataframe thead th {\n",
       "        text-align: right;\n",
       "    }\n",
       "</style>\n",
       "<table border=\"1\" class=\"dataframe\">\n",
       "  <thead>\n",
       "    <tr style=\"text-align: right;\">\n",
       "      <th></th>\n",
       "      <th>TV</th>\n",
       "      <th>Radio</th>\n",
       "      <th>Newspaper</th>\n",
       "      <th>Sales</th>\n",
       "    </tr>\n",
       "  </thead>\n",
       "  <tbody>\n",
       "    <tr>\n",
       "      <th>count</th>\n",
       "      <td>200.000000</td>\n",
       "      <td>200.000000</td>\n",
       "      <td>200.000000</td>\n",
       "      <td>200.000000</td>\n",
       "    </tr>\n",
       "    <tr>\n",
       "      <th>mean</th>\n",
       "      <td>147.042500</td>\n",
       "      <td>23.264000</td>\n",
       "      <td>30.554000</td>\n",
       "      <td>14.022500</td>\n",
       "    </tr>\n",
       "    <tr>\n",
       "      <th>std</th>\n",
       "      <td>85.854236</td>\n",
       "      <td>14.846809</td>\n",
       "      <td>21.778621</td>\n",
       "      <td>5.217457</td>\n",
       "    </tr>\n",
       "    <tr>\n",
       "      <th>min</th>\n",
       "      <td>0.700000</td>\n",
       "      <td>0.000000</td>\n",
       "      <td>0.300000</td>\n",
       "      <td>1.600000</td>\n",
       "    </tr>\n",
       "    <tr>\n",
       "      <th>25%</th>\n",
       "      <td>74.375000</td>\n",
       "      <td>9.975000</td>\n",
       "      <td>12.750000</td>\n",
       "      <td>10.375000</td>\n",
       "    </tr>\n",
       "    <tr>\n",
       "      <th>50%</th>\n",
       "      <td>149.750000</td>\n",
       "      <td>22.900000</td>\n",
       "      <td>25.750000</td>\n",
       "      <td>12.900000</td>\n",
       "    </tr>\n",
       "    <tr>\n",
       "      <th>75%</th>\n",
       "      <td>218.825000</td>\n",
       "      <td>36.525000</td>\n",
       "      <td>45.100000</td>\n",
       "      <td>17.400000</td>\n",
       "    </tr>\n",
       "    <tr>\n",
       "      <th>max</th>\n",
       "      <td>296.400000</td>\n",
       "      <td>49.600000</td>\n",
       "      <td>114.000000</td>\n",
       "      <td>27.000000</td>\n",
       "    </tr>\n",
       "  </tbody>\n",
       "</table>\n",
       "</div>"
      ],
      "text/plain": [
       "               TV       Radio   Newspaper       Sales\n",
       "count  200.000000  200.000000  200.000000  200.000000\n",
       "mean   147.042500   23.264000   30.554000   14.022500\n",
       "std     85.854236   14.846809   21.778621    5.217457\n",
       "min      0.700000    0.000000    0.300000    1.600000\n",
       "25%     74.375000    9.975000   12.750000   10.375000\n",
       "50%    149.750000   22.900000   25.750000   12.900000\n",
       "75%    218.825000   36.525000   45.100000   17.400000\n",
       "max    296.400000   49.600000  114.000000   27.000000"
      ]
     },
     "execution_count": 33,
     "metadata": {},
     "output_type": "execute_result"
    }
   ],
   "source": [
    "# TODO\n",
    "advertising= pd.read_csv('Advertising-T5.csv')\n",
    "advertising.rename_axis(index='index_col',inplace=True)\n",
    "advertising = advertising.drop(columns=advertising.columns[0])\n",
    "advertising.describe()"
   ]
  },
  {
   "cell_type": "markdown",
   "metadata": {
    "id": "_qyjFBSHy7wU"
   },
   "source": [
    "# Introduction to Statsmodels\n",
    "\n",
    "As the name implies, `statsmodels` is a Python library built specifically for statistics. It is built on top of NumPy, SciPy, and matplotlib, but it contains more advanced functions for statistical testing and modeling that you won't find in numerical libraries like NumPy or SciPy. To know more about this package, follow the tutorials in this [link](https://www.statsmodels.org/stable/user-guide.html).\n",
    "\n",
    "The `statsmodels` package is included in the Anaconda distribution."
   ]
  },
  {
   "cell_type": "code",
   "execution_count": 25,
   "metadata": {
    "id": "BOKitXn-y7wV",
    "scrolled": false
   },
   "outputs": [],
   "source": [
    "import statsmodels.api as sm\n",
    "import statsmodels.formula.api as smf"
   ]
  },
  {
   "cell_type": "markdown",
   "metadata": {
    "id": "Twg3YIM_y7wW"
   },
   "source": [
    "`statsmodels` allows users to fit statistical models using R-style formulas. The `formula.api` module is a convenience interface for specifying models using formula strings and DataFrames. It hosts lowercase counterparts for many of the same functions found in the `api` module (e.g., `ols` corresponding to `api.OLS`, `glm` corresponding to `api.GLM`). In general, the lowercase models accept `formula` and `df` arguments, whereas uppercase ones take [`endog` and `exog`](https://www.statsmodels.org/stable/endog_exog.html) design matrices."
   ]
  },
  {
   "cell_type": "markdown",
   "metadata": {
    "id": "CKnr1tD7y7wX"
   },
   "source": [
    "## Simple Linear Regression\n",
    "\n",
    "Simple Linear Regression (SLR) predicts a response _Y_ on the basis of a single predictor variable _X_. It assumes an approximately linear relationship between _X_ and _Y_. \n",
    "\n",
    "We can regress sales (Y) onto TV (X) by fitting the model:\n",
    "$sales \\approx \\beta_{0} + \\beta_{1} \\times TV$\n",
    "\n",
    "$\\beta_{0}$ (_intercept_) and $\\beta_{1}$ (_coefficient of X_) are the model coefficients. We must estimate their values, using our data, to be able to make predictions with the model.\n",
    " \n",
    "Let us first plot the regression of sales onto TV, using seaborn `regplot`."
   ]
  },
  {
   "cell_type": "code",
   "execution_count": 34,
   "metadata": {
    "id": "8dtlqPl2y7wX",
    "scrolled": false
   },
   "outputs": [
    {
     "data": {
      "text/plain": [
       "(0.0, 311.185)"
      ]
     },
     "execution_count": 34,
     "metadata": {},
     "output_type": "execute_result"
    },
    {
     "data": {
      "image/png": "[encoded data removed]",
      "text/plain": [
       "<Figure size 432x288 with 1 Axes>"
      ]
     },
     "metadata": {
      "needs_background": "light"
     },
     "output_type": "display_data"
    }
   ],
   "source": [
    "# TODO\n",
    "# ...\n",
    "\n",
    "sns.regplot(x='TV', y='Sales', data=advertising)\n",
    "# Start the x-axis at 0 to make the intercept clear\n",
    "plt.xlim( xmin=0 )"
   ]
  },
  {
   "cell_type": "markdown",
   "metadata": {
    "id": "5dIOf0ZBCBgC"
   },
   "source": [
    "We will use the _least squares_ method to estimate the coefficients. We look at two ways to perform the regression, one using the uppercase model `OLS` from `api` and the other using the lowercase model `ols` from `formula.api`.\n",
    "\n",
    "### `api.OLS`\n",
    "\n",
    "The required inputs to [`OLS`](https://www.statsmodels.org/stable/generated/statsmodels.regression.linear_model.OLS.html) are `endog` (the response y) and `exog` (the predictor x). \n",
    "\n",
    "An intercept is not included in `exog` by default and should be added by users. This is achieved by calling `statsmodels` function `add_constant`, which adds a column of ones to the `exog` array."
   ]
  },
  {
   "cell_type": "code",
   "execution_count": 35,
   "metadata": {
    "id": "J0medLwey7wY",
    "scrolled": false
   },
   "outputs": [
    {
     "data": {
      "text/html": [
       "<table class=\"simpletable\">\n",
       "<caption>OLS Regression Results</caption>\n",
       "<tr>\n",
       "  <th>Dep. Variable:</th>          <td>Sales</td>      <th>  R-squared:         </th> <td>   0.612</td>\n",
       "</tr>\n",
       "<tr>\n",
       "  <th>Model:</th>                   <td>OLS</td>       <th>  Adj. R-squared:    </th> <td>   0.610</td>\n",
       "</tr>\n",
       "<tr>\n",
       "  <th>Method:</th>             <td>Least Squares</td>  <th>  F-statistic:       </th> <td>   312.1</td>\n",
       "</tr>\n",
       "<tr>\n",
       "  <th>Date:</th>             <td>Tue, 03 Oct 2023</td> <th>  Prob (F-statistic):</th> <td>1.47e-42</td>\n",
       "</tr>\n",
       "<tr>\n",
       "  <th>Time:</th>                 <td>15:46:01</td>     <th>  Log-Likelihood:    </th> <td> -519.05</td>\n",
       "</tr>\n",
       "<tr>\n",
       "  <th>No. Observations:</th>      <td>   200</td>      <th>  AIC:               </th> <td>   1042.</td>\n",
       "</tr>\n",
       "<tr>\n",
       "  <th>Df Residuals:</th>          <td>   198</td>      <th>  BIC:               </th> <td>   1049.</td>\n",
       "</tr>\n",
       "<tr>\n",
       "  <th>Df Model:</th>              <td>     1</td>      <th>                     </th>     <td> </td>   \n",
       "</tr>\n",
       "<tr>\n",
       "  <th>Covariance Type:</th>      <td>nonrobust</td>    <th>                     </th>     <td> </td>   \n",
       "</tr>\n",
       "</table>\n",
       "<table class=\"simpletable\">\n",
       "<tr>\n",
       "    <td></td>       <th>coef</th>     <th>std err</th>      <th>t</th>      <th>P>|t|</th>  <th>[0.025</th>    <th>0.975]</th>  \n",
       "</tr>\n",
       "<tr>\n",
       "  <th>const</th> <td>    7.0326</td> <td>    0.458</td> <td>   15.360</td> <td> 0.000</td> <td>    6.130</td> <td>    7.935</td>\n",
       "</tr>\n",
       "<tr>\n",
       "  <th>TV</th>    <td>    0.0475</td> <td>    0.003</td> <td>   17.668</td> <td> 0.000</td> <td>    0.042</td> <td>    0.053</td>\n",
       "</tr>\n",
       "</table>\n",
       "<table class=\"simpletable\">\n",
       "<tr>\n",
       "  <th>Omnibus:</th>       <td> 0.531</td> <th>  Durbin-Watson:     </th> <td>   1.935</td>\n",
       "</tr>\n",
       "<tr>\n",
       "  <th>Prob(Omnibus):</th> <td> 0.767</td> <th>  Jarque-Bera (JB):  </th> <td>   0.669</td>\n",
       "</tr>\n",
       "<tr>\n",
       "  <th>Skew:</th>          <td>-0.089</td> <th>  Prob(JB):          </th> <td>   0.716</td>\n",
       "</tr>\n",
       "<tr>\n",
       "  <th>Kurtosis:</th>      <td> 2.779</td> <th>  Cond. No.          </th> <td>    338.</td>\n",
       "</tr>\n",
       "</table><br/><br/>Notes:<br/>[1] Standard Errors assume that the covariance matrix of the errors is correctly specified."
      ],
      "text/plain": [
       "<class 'statsmodels.iolib.summary.Summary'>\n",
       "\"\"\"\n",
       "                            OLS Regression Results                            \n",
       "==============================================================================\n",
       "Dep. Variable:                  Sales   R-squared:                       0.612\n",
       "Model:                            OLS   Adj. R-squared:                  0.610\n",
       "Method:                 Least Squares   F-statistic:                     312.1\n",
       "Date:                Tue, 03 Oct 2023   Prob (F-statistic):           1.47e-42\n",
       "Time:                        15:46:01   Log-Likelihood:                -519.05\n",
       "No. Observations:                 200   AIC:                             1042.\n",
       "Df Residuals:                     198   BIC:                             1049.\n",
       "Df Model:                           1                                         \n",
       "Covariance Type:            nonrobust                                         \n",
       "==============================================================================\n",
       "                 coef    std err          t      P>|t|      [0.025      0.975]\n",
       "------------------------------------------------------------------------------\n",
       "const          7.0326      0.458     15.360      0.000       6.130       7.935\n",
       "TV             0.0475      0.003     17.668      0.000       0.042       0.053\n",
       "==============================================================================\n",
       "Omnibus:                        0.531   Durbin-Watson:                   1.935\n",
       "Prob(Omnibus):                  0.767   Jarque-Bera (JB):                0.669\n",
       "Skew:                          -0.089   Prob(JB):                        0.716\n",
       "Kurtosis:                       2.779   Cond. No.                         338.\n",
       "==============================================================================\n",
       "\n",
       "Notes:\n",
       "[1] Standard Errors assume that the covariance matrix of the errors is correctly specified.\n",
       "\"\"\""
      ]
     },
     "execution_count": 35,
     "metadata": {},
     "output_type": "execute_result"
    }
   ],
   "source": [
    "X = advertising[['TV']]\n",
    "y = advertising[['Sales']]\n",
    "\n",
    "est = sm.OLS( y, sm.add_constant(X) ).fit() \n",
    "est.summary()"
   ]
  },
  {
   "cell_type": "markdown",
   "metadata": {},
   "source": [
    "### `formula.api.ols`\n",
    "\n",
    "The required inputs to [`ols`](https://www.statsmodels.org/stable/generated/statsmodels.formula.api.ols.html) are the formula string and the data. The formula syntax follows the framework of the [`patsy`](https://patsy.readthedocs.io/en/latest/formulas.html#the-formula-language) package."
   ]
  },
  {
   "cell_type": "code",
   "execution_count": 36,
   "metadata": {
    "id": "WruqItm_y7wZ",
    "scrolled": false
   },
   "outputs": [
    {
     "data": {
      "text/html": [
       "<table class=\"simpletable\">\n",
       "<caption>OLS Regression Results</caption>\n",
       "<tr>\n",
       "  <th>Dep. Variable:</th>          <td>Sales</td>      <th>  R-squared:         </th> <td>   0.612</td>\n",
       "</tr>\n",
       "<tr>\n",
       "  <th>Model:</th>                   <td>OLS</td>       <th>  Adj. R-squared:    </th> <td>   0.610</td>\n",
       "</tr>\n",
       "<tr>\n",
       "  <th>Method:</th>             <td>Least Squares</td>  <th>  F-statistic:       </th> <td>   312.1</td>\n",
       "</tr>\n",
       "<tr>\n",
       "  <th>Date:</th>             <td>Tue, 03 Oct 2023</td> <th>  Prob (F-statistic):</th> <td>1.47e-42</td>\n",
       "</tr>\n",
       "<tr>\n",
       "  <th>Time:</th>                 <td>15:47:12</td>     <th>  Log-Likelihood:    </th> <td> -519.05</td>\n",
       "</tr>\n",
       "<tr>\n",
       "  <th>No. Observations:</th>      <td>   200</td>      <th>  AIC:               </th> <td>   1042.</td>\n",
       "</tr>\n",
       "<tr>\n",
       "  <th>Df Residuals:</th>          <td>   198</td>      <th>  BIC:               </th> <td>   1049.</td>\n",
       "</tr>\n",
       "<tr>\n",
       "  <th>Df Model:</th>              <td>     1</td>      <th>                     </th>     <td> </td>   \n",
       "</tr>\n",
       "<tr>\n",
       "  <th>Covariance Type:</th>      <td>nonrobust</td>    <th>                     </th>     <td> </td>   \n",
       "</tr>\n",
       "</table>\n",
       "<table class=\"simpletable\">\n",
       "<tr>\n",
       "      <td></td>         <th>coef</th>     <th>std err</th>      <th>t</th>      <th>P>|t|</th>  <th>[0.025</th>    <th>0.975]</th>  \n",
       "</tr>\n",
       "<tr>\n",
       "  <th>Intercept</th> <td>    7.0326</td> <td>    0.458</td> <td>   15.360</td> <td> 0.000</td> <td>    6.130</td> <td>    7.935</td>\n",
       "</tr>\n",
       "<tr>\n",
       "  <th>TV</th>        <td>    0.0475</td> <td>    0.003</td> <td>   17.668</td> <td> 0.000</td> <td>    0.042</td> <td>    0.053</td>\n",
       "</tr>\n",
       "</table>\n",
       "<table class=\"simpletable\">\n",
       "<tr>\n",
       "  <th>Omnibus:</th>       <td> 0.531</td> <th>  Durbin-Watson:     </th> <td>   1.935</td>\n",
       "</tr>\n",
       "<tr>\n",
       "  <th>Prob(Omnibus):</th> <td> 0.767</td> <th>  Jarque-Bera (JB):  </th> <td>   0.669</td>\n",
       "</tr>\n",
       "<tr>\n",
       "  <th>Skew:</th>          <td>-0.089</td> <th>  Prob(JB):          </th> <td>   0.716</td>\n",
       "</tr>\n",
       "<tr>\n",
       "  <th>Kurtosis:</th>      <td> 2.779</td> <th>  Cond. No.          </th> <td>    338.</td>\n",
       "</tr>\n",
       "</table><br/><br/>Notes:<br/>[1] Standard Errors assume that the covariance matrix of the errors is correctly specified."
      ],
      "text/plain": [
       "<class 'statsmodels.iolib.summary.Summary'>\n",
       "\"\"\"\n",
       "                            OLS Regression Results                            \n",
       "==============================================================================\n",
       "Dep. Variable:                  Sales   R-squared:                       0.612\n",
       "Model:                            OLS   Adj. R-squared:                  0.610\n",
       "Method:                 Least Squares   F-statistic:                     312.1\n",
       "Date:                Tue, 03 Oct 2023   Prob (F-statistic):           1.47e-42\n",
       "Time:                        15:47:12   Log-Likelihood:                -519.05\n",
       "No. Observations:                 200   AIC:                             1042.\n",
       "Df Residuals:                     198   BIC:                             1049.\n",
       "Df Model:                           1                                         \n",
       "Covariance Type:            nonrobust                                         \n",
       "==============================================================================\n",
       "                 coef    std err          t      P>|t|      [0.025      0.975]\n",
       "------------------------------------------------------------------------------\n",
       "Intercept      7.0326      0.458     15.360      0.000       6.130       7.935\n",
       "TV             0.0475      0.003     17.668      0.000       0.042       0.053\n",
       "==============================================================================\n",
       "Omnibus:                        0.531   Durbin-Watson:                   1.935\n",
       "Prob(Omnibus):                  0.767   Jarque-Bera (JB):                0.669\n",
       "Skew:                          -0.089   Prob(JB):                        0.716\n",
       "Kurtosis:                       2.779   Cond. No.                         338.\n",
       "==============================================================================\n",
       "\n",
       "Notes:\n",
       "[1] Standard Errors assume that the covariance matrix of the errors is correctly specified.\n",
       "\"\"\""
      ]
     },
     "execution_count": 36,
     "metadata": {},
     "output_type": "execute_result"
    }
   ],
   "source": [
    "est = smf.ols( formula='Sales ~ TV', data=advertising ).fit()\n",
    "est.summary()"
   ]
  },
  {
   "cell_type": "markdown",
   "metadata": {
    "id": "fv1iIcQ6y7wZ"
   },
   "source": [
    "From the results obtained above, we can see the coefficient estimates as follows:\n",
    "+ $\\hat{\\beta_{0}} = 7.03$\n",
    "+ $\\hat{\\beta_{1}} = 0.0475$\n",
    "\n",
    "In other words, an additional 1,000 dollars spent on TV advertising is associated with selling approximately 47.5 additional units of the product. This is because $\\beta_{1}$ is the slope - the average increase in sales associated with a one-unit\n",
    "increase in TV budget (which is in thousands of dollars)."
   ]
  },
  {
   "cell_type": "code",
   "execution_count": 37,
   "metadata": {
    "id": "aPjPLdoiUhIg",
    "scrolled": false
   },
   "outputs": [
    {
     "data": {
      "text/plain": [
       "Intercept    7.032594\n",
       "TV           0.047537\n",
       "dtype: float64"
      ]
     },
     "execution_count": 37,
     "metadata": {},
     "output_type": "execute_result"
    }
   ],
   "source": [
    "est.params"
   ]
  },
  {
   "cell_type": "markdown",
   "metadata": {},
   "source": [
    "We can use the model coefficients to manually make a sales prediction. Suppose the company spends \\$25,000 in a new market, how much sales can we predict that market will have? "
   ]
  },
  {
   "cell_type": "code",
   "execution_count": 47,
   "metadata": {},
   "outputs": [
    {
     "data": {
      "text/plain": [
       "1195.4486043746215"
      ]
     },
     "execution_count": 47,
     "metadata": {},
     "output_type": "execute_result"
    }
   ],
   "source": [
    "# TODO\n",
    "##  有问题，为什么答案是8？？不是预测salse吗？   其次，怎么用OLSResults？？\n",
    "intercept = est.params[0]\n",
    "coef = est.params[1]\n",
    "intercept+coef*25"
   ]
  },
  {
   "cell_type": "code",
   "execution_count": 79,
   "metadata": {},
   "outputs": [
    {
     "data": {
      "text/plain": [
       "0    1195.448604\n",
       "dtype: float64"
      ]
     },
     "execution_count": 79,
     "metadata": {},
     "output_type": "execute_result"
    }
   ],
   "source": [
    "X_test_0 = pd.DataFrame( {'TV': [25]} )\n",
    "\n",
    "est.predict( X_test_0 )"
   ]
  },
  {
   "cell_type": "markdown",
   "metadata": {
    "id": "xp_wyvQKy7wa"
   },
   "source": [
    "You can refer to the [`OLSResults` reference](https://www.statsmodels.org/devel/generated/statsmodels.regression.linear_model.OLSResults.html) for other accessible attributes."
   ]
  },
  {
   "cell_type": "markdown",
   "metadata": {
    "id": "fv1iIcQ6y7wZ"
   },
   "source": [
    "## Residuals and Assessing Model Accuracy\n",
    "\n",
    "### Residual and RSS\n",
    "\n",
    "__Residual__ ($e_{i} = y_{i}-\\hat{y_{i}}$) is the difference between the $i^{th}$ observed response value and the $i^{th}$ response value that is predicted by our linear model. \n",
    "\n",
    "The least squares approach chooses the values for $\\hat{\\beta_{0}}$ and $\\hat{\\beta_{1}}$ to minimize the __residual sum of squares (RSS)__ ($ e^{2}_{1} + e^{2}_{2} + ...$).\n",
    "\n",
    "We can use the model coefficients to manually calculate the RSS, by summing the squared residuals. Recall that the predicted value $\\hat{y_{i}}$ is $\\beta_{0} + \\beta_{1} \\times TV_{i}$."
   ]
  },
  {
   "cell_type": "code",
   "execution_count": 57,
   "metadata": {
    "id": "-jlKwx_Yy7wa",
    "scrolled": true
   },
   "outputs": [
    {
     "data": {
      "text/plain": [
       "2102.5305831313512"
      ]
     },
     "execution_count": 57,
     "metadata": {},
     "output_type": "execute_result"
    }
   ],
   "source": [
    "# TODO\n",
    "advertising['pre_TV'] = intercept+coef*advertising[['TV']]\n",
    "advertising['RSS_TV'] = (advertising['Sales']-advertising['pre_TV'])**2\n",
    "RSS = np.sum((advertising['Sales']-advertising['pre_TV'])**2)\n",
    "RSS"
   ]
  },
  {
   "cell_type": "markdown",
   "metadata": {},
   "source": [
    "We can check our calculation against the RSS value computed by OLS, which is given by the attribute `ssr` (sum of squared residuals) in the OLS result."
   ]
  },
  {
   "cell_type": "code",
   "execution_count": 58,
   "metadata": {
    "id": "dz5ev_dty7wa",
    "scrolled": true
   },
   "outputs": [
    {
     "data": {
      "text/plain": [
       "2102.5305831313512"
      ]
     },
     "execution_count": 58,
     "metadata": {},
     "output_type": "execute_result"
    }
   ],
   "source": [
    "est.ssr"
   ]
  },
  {
   "cell_type": "markdown",
   "metadata": {
    "id": "3ylVxJNny7wb"
   },
   "source": [
    "### Residual Standard Error\n",
    "\n",
    "The RSS value can be used to compute the residual standard error (RSE), which is given by the formula: $RSE = \\sqrt{\\frac{RSS}{n-2}}$ where $n$ is the number of samples."
   ]
  },
  {
   "cell_type": "code",
   "execution_count": 62,
   "metadata": {
    "id": "3w_Le_JPldO8",
    "scrolled": false
   },
   "outputs": [
    {
     "data": {
      "text/plain": [
       "3.2586563686504624"
      ]
     },
     "execution_count": 62,
     "metadata": {},
     "output_type": "execute_result"
    }
   ],
   "source": [
    "# TODO\n",
    "rse = np.sqrt(RSS/(advertising.shape[0]-2))\n",
    "rse"
   ]
  },
  {
   "cell_type": "markdown",
   "metadata": {
    "id": "H0FKBSyJy7wc"
   },
   "source": [
    "The RSE is found to be 3.26. In other words, actual sales in each market deviate from the true regression line by approximately 3.26 units, on average."
   ]
  },
  {
   "cell_type": "markdown",
   "metadata": {
    "id": "xp_wyvQKy7wa"
   },
   "source": [
    "The OLS results also show us the standard errors of the model coefficients, which are the standard deviation over these coefficients learned from the samples. They are shown in the summary and also accessible from the attribute `bse`."
   ]
  },
  {
   "cell_type": "code",
   "execution_count": 63,
   "metadata": {},
   "outputs": [
    {
     "data": {
      "text/plain": [
       "Intercept    0.457843\n",
       "TV           0.002691\n",
       "dtype: float64"
      ]
     },
     "execution_count": 63,
     "metadata": {},
     "output_type": "execute_result"
    }
   ],
   "source": [
    "# TODO\n",
    "est.bse"
   ]
  },
  {
   "cell_type": "markdown",
   "metadata": {
    "id": "xp_wyvQKy7wa"
   },
   "source": [
    "### Confidence Interval and Hypothesis Testing\n",
    "\n",
    "We can call the function [`conf_int`](https://www.statsmodels.org/devel/generated/statsmodels.regression.linear_model.OLSResults.conf_int.html) from the OLS results to get the 95% confidence interval of the model coefficients."
   ]
  },
  {
   "cell_type": "code",
   "execution_count": 65,
   "metadata": {
    "id": "rPfLfOyMuw4Q",
    "scrolled": false
   },
   "outputs": [
    {
     "data": {
      "text/html": [
       "<div>\n",
       "<style scoped>\n",
       "    .dataframe tbody tr th:only-of-type {\n",
       "        vertical-align: middle;\n",
       "    }\n",
       "\n",
       "    .dataframe tbody tr th {\n",
       "        vertical-align: top;\n",
       "    }\n",
       "\n",
       "    .dataframe thead th {\n",
       "        text-align: right;\n",
       "    }\n",
       "</style>\n",
       "<table border=\"1\" class=\"dataframe\">\n",
       "  <thead>\n",
       "    <tr style=\"text-align: right;\">\n",
       "      <th></th>\n",
       "      <th>0</th>\n",
       "      <th>1</th>\n",
       "    </tr>\n",
       "  </thead>\n",
       "  <tbody>\n",
       "    <tr>\n",
       "      <th>Intercept</th>\n",
       "      <td>6.129719</td>\n",
       "      <td>7.935468</td>\n",
       "    </tr>\n",
       "    <tr>\n",
       "      <th>TV</th>\n",
       "      <td>0.042231</td>\n",
       "      <td>0.052843</td>\n",
       "    </tr>\n",
       "  </tbody>\n",
       "</table>\n",
       "</div>"
      ],
      "text/plain": [
       "                  0         1\n",
       "Intercept  6.129719  7.935468\n",
       "TV         0.042231  0.052843"
      ]
     },
     "execution_count": 65,
     "metadata": {},
     "output_type": "execute_result"
    }
   ],
   "source": [
    "# TODO\n",
    "est.conf_int(alpha=0.05)"
   ]
  },
  {
   "cell_type": "markdown",
   "metadata": {
    "id": "xp_wyvQKy7wa"
   },
   "source": [
    "As it relates to model coefficients, the conventional hypothesis test is as follows:\n",
    "\n",
    "+ Null hypothesis: There is no relationship between TV ads and Sales (that is, $\\beta_{1} = 0$)\n",
    "\n",
    "+ Alternative hypothesis: There is a relationship between TV ads and Sales (that is, $\\beta_{1} \\neq 0$)\n",
    "\n",
    "Intuitively, we reject the null hypothesis if the 95% confidence interval of $\\beta_{1}$ does not include zero. We can check the p-value, the probability that the coefficient is actually zero, from the OLS results as well."
   ]
  },
  {
   "cell_type": "code",
   "execution_count": 66,
   "metadata": {},
   "outputs": [
    {
     "data": {
      "text/plain": [
       "Intercept    1.406300e-35\n",
       "TV           1.467390e-42\n",
       "dtype: float64"
      ]
     },
     "execution_count": 66,
     "metadata": {},
     "output_type": "execute_result"
    }
   ],
   "source": [
    "# TODO\n",
    "est.pvalues"
   ]
  },
  {
   "cell_type": "markdown",
   "metadata": {
    "id": "kQFUKUU2ld4C"
   },
   "source": [
    "As the p-value for TV is less than 0.05, we reject the null hypothesis that there is no relationship between TV ads and Sales.\n",
    "\n",
    "Note that the p-value for the intercept is generally not used."
   ]
  },
  {
   "cell_type": "markdown",
   "metadata": {
    "id": "YImtjFdBhc3z"
   },
   "source": [
    "### R-squared statistic\n",
    "The $R^{2}$ statistic provides an alternative measure of fit. It takes the form of a proportion—the proportion of variance\n",
    "explained—and so it always takes on a value between 0 and 1, and is independent of the scale of Y.\n",
    "\n",
    "$ R^{2} = 1 - \\frac{RSS}{TSS}$\n",
    "\n",
    "The __Total Sum of Squares (TSS)__ measures the total variance in the response Y, and can be thought of as the amount of variability inherent in the response before the regression is performed. In contrast, RSS measures the amount of variability that is left unexplained after performing the regression. An $R^{2}$ statistic that is close to 1 indicates that a large proportion of the variability in the response has been explained by the regression.\n",
    "\n",
    "The OLS result already provides us with the $R^{2}$ value, and we can access it from its attributes."
   ]
  },
  {
   "cell_type": "code",
   "execution_count": 68,
   "metadata": {
    "id": "nwWvIPzly7wb",
    "scrolled": true
   },
   "outputs": [
    {
     "data": {
      "text/plain": [
       "0.611875050850071"
      ]
     },
     "execution_count": 68,
     "metadata": {},
     "output_type": "execute_result"
    }
   ],
   "source": [
    "# TODO\n",
    "est.rsquared"
   ]
  },
  {
   "cell_type": "markdown",
   "metadata": {
    "id": "Ewz7OZU6y7wc"
   },
   "source": [
    "Now let us plot the residuals with respect to the predicted values.  \n",
    "\n",
    "For this plot, we can use [`sns.residplot`](https://seaborn.pydata.org/generated/seaborn.residplot.html) which will regress y on x and then draw a scatterplot of the residuals. So the graph we will obtain will be a scatterplot for the residuals with the predictor variable.\n",
    "\n",
    "We can set the `lowess` parameter to add a LOWESS (Locally Weighted Scatterplot Smoothing) curve, to help emphasize structure in the scatterplot."
   ]
  },
  {
   "cell_type": "code",
   "execution_count": 74,
   "metadata": {
    "id": "yscfpAQIy7wc",
    "scrolled": false
   },
   "outputs": [
    {
     "name": "stderr",
     "output_type": "stream",
     "text": [
      "C:\\ProgramData\\Anaconda3\\lib\\site-packages\\seaborn\\_decorators.py:36: FutureWarning: Pass the following variables as keyword args: x, y. From version 0.12, the only valid positional argument will be `data`, and passing other arguments without an explicit keyword will result in an error or misinterpretation.\n",
      "  warnings.warn(\n"
     ]
    },
    {
     "data": {
      "text/plain": [
       "<AxesSubplot:xlabel='TV', ylabel='Sales'>"
      ]
     },
     "execution_count": 74,
     "metadata": {},
     "output_type": "execute_result"
    },
    {
     "data": {
      "image/png": "[encoded data removed]",
      "text/plain": [
       "<Figure size 432x288 with 1 Axes>"
      ]
     },
     "metadata": {
      "needs_background": "light"
     },
     "output_type": "display_data"
    }
   ],
   "source": [
    "# TODO\n",
    "sns.residplot(advertising['TV'],advertising['Sales'],lowess=True,line_kws=dict(color=\"r\"))"
   ]
  },
  {
   "cell_type": "markdown",
   "metadata": {
    "id": "voLx0EiTy7wd"
   },
   "source": [
    " Ideally, this should look like a random scatter plot with zero mean and constant variance for all predicted values. Our residual plot doesn't look like an ideal residual plot. This is because the mean line of the residuals is not close to zero for all values of  $\\hat{y}$ and the variance seems to be increasing with the predictor, TV. This means that our model assumptions are being violated.\n",
    " \n",
    "Among many possible reasons for this violation, the following are usual suspects:\n",
    "+ There is another feature other than TV that affects sales.\n",
    "+ The relation between TV and sales is not linear. \n",
    "\n",
    "We will implement the first fix using Multiple Linear Regression. But first let's break the model linearity assumption."
   ]
  },
  {
   "cell_type": "markdown",
   "metadata": {
    "id": "UT-bRKBfy7wd"
   },
   "source": [
    "## Polynomial Regression and Heteroscedasticity\n",
    "\n",
    "As we see, the assumption of linearity between TV and sales might not hold. However, from the residual plot, we observe more clearly that the standard deviation of residual keeps on increasing as the magnitude of predicted response increases. This issue is called __heteroscedasticity__. \n",
    "\n",
    "To address this issue, we could transform our response variable y with functions such as $\\sqrt y$, $\\log(y)$ or represent a new variable, $TV^2$. \n",
    "\n",
    "To differentiate the arithmetic operators we want to perform on our variables (such as $TV^2$) from Patsy operators inside the formula, we can enclose the operation in Patsy's built-in identity function `I()`."
   ]
  },
  {
   "cell_type": "code",
   "execution_count": 75,
   "metadata": {
    "id": "t7ctPacMy7wd",
    "scrolled": false
   },
   "outputs": [
    {
     "data": {
      "text/html": [
       "<table class=\"simpletable\">\n",
       "<caption>OLS Regression Results</caption>\n",
       "<tr>\n",
       "  <th>Dep. Variable:</th>      <td>np.log(Sales)</td>  <th>  R-squared:         </th> <td>   0.671</td>\n",
       "</tr>\n",
       "<tr>\n",
       "  <th>Model:</th>                   <td>OLS</td>       <th>  Adj. R-squared:    </th> <td>   0.668</td>\n",
       "</tr>\n",
       "<tr>\n",
       "  <th>Method:</th>             <td>Least Squares</td>  <th>  F-statistic:       </th> <td>   201.1</td>\n",
       "</tr>\n",
       "<tr>\n",
       "  <th>Date:</th>             <td>Tue, 03 Oct 2023</td> <th>  Prob (F-statistic):</th> <td>2.60e-48</td>\n",
       "</tr>\n",
       "<tr>\n",
       "  <th>Time:</th>                 <td>16:22:49</td>     <th>  Log-Likelihood:    </th> <td>  4.1605</td>\n",
       "</tr>\n",
       "<tr>\n",
       "  <th>No. Observations:</th>      <td>   200</td>      <th>  AIC:               </th> <td>  -2.321</td>\n",
       "</tr>\n",
       "<tr>\n",
       "  <th>Df Residuals:</th>          <td>   197</td>      <th>  BIC:               </th> <td>   7.574</td>\n",
       "</tr>\n",
       "<tr>\n",
       "  <th>Df Model:</th>              <td>     2</td>      <th>                     </th>     <td> </td>   \n",
       "</tr>\n",
       "<tr>\n",
       "  <th>Covariance Type:</th>      <td>nonrobust</td>    <th>                     </th>     <td> </td>   \n",
       "</tr>\n",
       "</table>\n",
       "<table class=\"simpletable\">\n",
       "<tr>\n",
       "       <td></td>         <th>coef</th>     <th>std err</th>      <th>t</th>      <th>P>|t|</th>  <th>[0.025</th>    <th>0.975]</th>  \n",
       "</tr>\n",
       "<tr>\n",
       "  <th>Intercept</th>  <td>    1.8039</td> <td>    0.049</td> <td>   37.091</td> <td> 0.000</td> <td>    1.708</td> <td>    1.900</td>\n",
       "</tr>\n",
       "<tr>\n",
       "  <th>TV</th>         <td>    0.0082</td> <td>    0.001</td> <td>   10.431</td> <td> 0.000</td> <td>    0.007</td> <td>    0.010</td>\n",
       "</tr>\n",
       "<tr>\n",
       "  <th>I(TV ** 2)</th> <td>-1.515e-05</td> <td> 2.62e-06</td> <td>   -5.773</td> <td> 0.000</td> <td>-2.03e-05</td> <td>-9.98e-06</td>\n",
       "</tr>\n",
       "</table>\n",
       "<table class=\"simpletable\">\n",
       "<tr>\n",
       "  <th>Omnibus:</th>       <td>54.051</td> <th>  Durbin-Watson:     </th> <td>   1.842</td>\n",
       "</tr>\n",
       "<tr>\n",
       "  <th>Prob(Omnibus):</th> <td> 0.000</td> <th>  Jarque-Bera (JB):  </th> <td> 161.339</td>\n",
       "</tr>\n",
       "<tr>\n",
       "  <th>Skew:</th>          <td>-1.106</td> <th>  Prob(JB):          </th> <td>9.24e-36</td>\n",
       "</tr>\n",
       "<tr>\n",
       "  <th>Kurtosis:</th>      <td> 6.804</td> <th>  Cond. No.          </th> <td>1.11e+05</td>\n",
       "</tr>\n",
       "</table><br/><br/>Notes:<br/>[1] Standard Errors assume that the covariance matrix of the errors is correctly specified.<br/>[2] The condition number is large, 1.11e+05. This might indicate that there are<br/>strong multicollinearity or other numerical problems."
      ],
      "text/plain": [
       "<class 'statsmodels.iolib.summary.Summary'>\n",
       "\"\"\"\n",
       "                            OLS Regression Results                            \n",
       "==============================================================================\n",
       "Dep. Variable:          np.log(Sales)   R-squared:                       0.671\n",
       "Model:                            OLS   Adj. R-squared:                  0.668\n",
       "Method:                 Least Squares   F-statistic:                     201.1\n",
       "Date:                Tue, 03 Oct 2023   Prob (F-statistic):           2.60e-48\n",
       "Time:                        16:22:49   Log-Likelihood:                 4.1605\n",
       "No. Observations:                 200   AIC:                            -2.321\n",
       "Df Residuals:                     197   BIC:                             7.574\n",
       "Df Model:                           2                                         \n",
       "Covariance Type:            nonrobust                                         \n",
       "==============================================================================\n",
       "                 coef    std err          t      P>|t|      [0.025      0.975]\n",
       "------------------------------------------------------------------------------\n",
       "Intercept      1.8039      0.049     37.091      0.000       1.708       1.900\n",
       "TV             0.0082      0.001     10.431      0.000       0.007       0.010\n",
       "I(TV ** 2) -1.515e-05   2.62e-06     -5.773      0.000   -2.03e-05   -9.98e-06\n",
       "==============================================================================\n",
       "Omnibus:                       54.051   Durbin-Watson:                   1.842\n",
       "Prob(Omnibus):                  0.000   Jarque-Bera (JB):              161.339\n",
       "Skew:                          -1.106   Prob(JB):                     9.24e-36\n",
       "Kurtosis:                       6.804   Cond. No.                     1.11e+05\n",
       "==============================================================================\n",
       "\n",
       "Notes:\n",
       "[1] Standard Errors assume that the covariance matrix of the errors is correctly specified.\n",
       "[2] The condition number is large, 1.11e+05. This might indicate that there are\n",
       "strong multicollinearity or other numerical problems.\n",
       "\"\"\""
      ]
     },
     "execution_count": 75,
     "metadata": {},
     "output_type": "execute_result"
    }
   ],
   "source": [
    "poly_est = smf.ols( 'np.log(Sales) ~ TV + I(TV**2)', data=advertising ).fit()\n",
    "poly_est.summary()"
   ]
  },
  {
   "cell_type": "markdown",
   "metadata": {
    "id": "5J9Brn2DLP2U"
   },
   "source": [
    "To see the values in the model:"
   ]
  },
  {
   "cell_type": "code",
   "execution_count": 76,
   "metadata": {
    "id": "gJ4_da05LN6d",
    "scrolled": false
   },
   "outputs": [
    {
     "data": {
      "text/plain": [
       "array([[1.000000e+00, 2.301000e+02, 5.294601e+04],\n",
       "       [1.000000e+00, 4.450000e+01, 1.980250e+03],\n",
       "       [1.000000e+00, 1.720000e+01, 2.958400e+02],\n",
       "       [1.000000e+00, 1.515000e+02, 2.295225e+04],\n",
       "       [1.000000e+00, 1.808000e+02, 3.268864e+04]])"
      ]
     },
     "execution_count": 76,
     "metadata": {},
     "output_type": "execute_result"
    }
   ],
   "source": [
    "smf.ols( 'np.log(Sales) ~ TV + I(TV**2)', data=advertising ).exog[:5,]"
   ]
  },
  {
   "cell_type": "markdown",
   "metadata": {},
   "source": [
    "Plotting the residuals, note that the order is 2."
   ]
  },
  {
   "cell_type": "code",
   "execution_count": 77,
   "metadata": {
    "id": "h_GiK3d0y7wd",
    "scrolled": false
   },
   "outputs": [
    {
     "data": {
      "text/plain": [
       "<AxesSubplot:xlabel='TV', ylabel='Sales'>"
      ]
     },
     "execution_count": 77,
     "metadata": {},
     "output_type": "execute_result"
    },
    {
     "data": {
      "image/png": "[encoded data removed]",
      "text/plain": [
       "<Figure size 432x288 with 1 Axes>"
      ]
     },
     "metadata": {
      "needs_background": "light"
     },
     "output_type": "display_data"
    }
   ],
   "source": [
    "sns.residplot( x=advertising[\"TV\"], y=np.log(advertising['Sales'] ), lowess=True, order=2, line_kws=dict(color=\"r\") )"
   ]
  },
  {
   "cell_type": "markdown",
   "metadata": {
    "id": "PPNECQ_hy7we"
   },
   "source": [
    "## Performing Model Prediction\n",
    "\n",
    "In an earlier section, we manually calculated the sales prediction for a TV ad spending of \\$25,000. We can use the multiple linear regression model we have estimated to do the prediction for us.\n",
    "\n",
    "NOTE: The sklearn library also has implementation of linear regression which can be used for such prediction. The API is the same one you are already familiar with - the `fit`, `transform` and `fit_transform` methods for the `sklearn.linear_model.LinearRegression`."
   ]
  },
  {
   "cell_type": "code",
   "execution_count": 78,
   "metadata": {
    "id": "oNJCWjgey7we",
    "scrolled": false
   },
   "outputs": [
    {
     "data": {
      "text/plain": [
       "0    8.22101\n",
       "dtype: float64"
      ]
     },
     "execution_count": 78,
     "metadata": {},
     "output_type": "execute_result"
    }
   ],
   "source": [
    "# Construct a DataFrame, which is the format expected by the statsmodels interface \n",
    "X_test = pd.DataFrame( {'TV': [25]} )\n",
    "\n",
    "est.predict( X_test )"
   ]
  },
  {
   "cell_type": "markdown",
   "metadata": {},
   "source": [
    "Linear models rely upon a lot of assumptions (such as the features being independent), and if those assumptions are violated (which they usually are), R-squared and p-values are less reliable. R-squared will always increase as we add more features to the model, even if they are unrelated to the response. Thus, selecting the model with the highest R-squared is not a reliable approach for choosing the best linear model. There is an alternative to R-squared called _adjusted R-squared_ that penalizes model complexity (to control for overfitting).\n",
    "\n",
    "In general, to select the best model to use for prediction, you might want to resort to the classical _cross validation_. This is easily possible using the `sklearn` API."
   ]
  },
  {
   "cell_type": "markdown",
   "metadata": {
    "id": "d-KKk-7uy7wg"
   },
   "source": [
    "## Multiple Linear Regression\n",
    "\n",
    "When we have more than one predictor variables, we use multiple linear regression. It essentially gives each predictor a separate slope coefficient in a single model. So, if we want to analyze whether radio ads and newspaper ads are also associated with sales, we can do a multiple linear regression as:\n",
    "\n",
    "$sales \\approx \\beta_{0} + \\beta_{1} \\times TV + \\beta_{2} \\times radio + \\beta_{3} \\times newspaper$"
   ]
  },
  {
   "cell_type": "markdown",
   "metadata": {
    "id": "wvuMt4Szy7wh"
   },
   "source": [
    "Let us first do a simple linear regression using `ols` on these features independently."
   ]
  },
  {
   "cell_type": "code",
   "execution_count": 91,
   "metadata": {
    "id": "Uidffm_Dy7wh",
    "scrolled": false
   },
   "outputs": [
    {
     "data": {
      "text/html": [
       "<table class=\"simpletable\">\n",
       "<tr>\n",
       "      <td></td>         <th>coef</th>     <th>std err</th>      <th>t</th>      <th>P>|t|</th>  <th>[0.025</th>    <th>0.975]</th>  \n",
       "</tr>\n",
       "<tr>\n",
       "  <th>Intercept</th> <td>    9.3116</td> <td>    0.563</td> <td>   16.542</td> <td> 0.000</td> <td>    8.202</td> <td>   10.422</td>\n",
       "</tr>\n",
       "<tr>\n",
       "  <th>Radio</th>     <td>    0.2025</td> <td>    0.020</td> <td>    9.921</td> <td> 0.000</td> <td>    0.162</td> <td>    0.243</td>\n",
       "</tr>\n",
       "</table>"
      ],
      "text/plain": [
       "<class 'statsmodels.iolib.table.SimpleTable'>"
      ]
     },
     "execution_count": 91,
     "metadata": {},
     "output_type": "execute_result"
    }
   ],
   "source": [
    "# TODO: Regress sales onto radio\n",
    "est = smf.ols( formula='Sales ~ Radio', data=advertising ).fit()\n",
    "est.summary().tables[1]"
   ]
  },
  {
   "cell_type": "code",
   "execution_count": 92,
   "metadata": {
    "id": "0ml9Wdlhy7wh",
    "scrolled": false
   },
   "outputs": [
    {
     "data": {
      "text/html": [
       "<table class=\"simpletable\">\n",
       "<tr>\n",
       "      <td></td>         <th>coef</th>     <th>std err</th>      <th>t</th>      <th>P>|t|</th>  <th>[0.025</th>    <th>0.975]</th>  \n",
       "</tr>\n",
       "<tr>\n",
       "  <th>Intercept</th> <td>   12.3514</td> <td>    0.621</td> <td>   19.876</td> <td> 0.000</td> <td>   11.126</td> <td>   13.577</td>\n",
       "</tr>\n",
       "<tr>\n",
       "  <th>Newspaper</th> <td>    0.0547</td> <td>    0.017</td> <td>    3.300</td> <td> 0.001</td> <td>    0.022</td> <td>    0.087</td>\n",
       "</tr>\n",
       "</table>"
      ],
      "text/plain": [
       "<class 'statsmodels.iolib.table.SimpleTable'>"
      ]
     },
     "execution_count": 92,
     "metadata": {},
     "output_type": "execute_result"
    }
   ],
   "source": [
    "# TODO: Regress sales onto newspaper\n",
    "est = smf.ols(formula='Sales ~ Newspaper', data=advertising).fit()\n",
    "est.summary().tables[1]"
   ]
  },
  {
   "cell_type": "markdown",
   "metadata": {
    "id": "aKntAXsRy7wh"
   },
   "source": [
    "From the simple linear regression, we can say that a 1,000-dollars increase in spending on radio advertising is associated with an average increase in sales by around 203 units, while the same increase in spending on newspaper advertising is associated with an average increase in sales by around 55 units.\n",
    "\n",
    "Now let us use `ols` to create a model with all three features, that is, the union of (TV + radio + newspaper)."
   ]
  },
  {
   "cell_type": "code",
   "execution_count": 96,
   "metadata": {
    "id": "mlJeZZWny7wh",
    "scrolled": false
   },
   "outputs": [
    {
     "data": {
      "text/html": [
       "<table class=\"simpletable\">\n",
       "<caption>OLS Regression Results</caption>\n",
       "<tr>\n",
       "  <th>Dep. Variable:</th>          <td>Sales</td>      <th>  R-squared:         </th> <td>   0.897</td>\n",
       "</tr>\n",
       "<tr>\n",
       "  <th>Model:</th>                   <td>OLS</td>       <th>  Adj. R-squared:    </th> <td>   0.896</td>\n",
       "</tr>\n",
       "<tr>\n",
       "  <th>Method:</th>             <td>Least Squares</td>  <th>  F-statistic:       </th> <td>   570.3</td>\n",
       "</tr>\n",
       "<tr>\n",
       "  <th>Date:</th>             <td>Tue, 03 Oct 2023</td> <th>  Prob (F-statistic):</th> <td>1.58e-96</td>\n",
       "</tr>\n",
       "<tr>\n",
       "  <th>Time:</th>                 <td>16:38:49</td>     <th>  Log-Likelihood:    </th> <td> -386.18</td>\n",
       "</tr>\n",
       "<tr>\n",
       "  <th>No. Observations:</th>      <td>   200</td>      <th>  AIC:               </th> <td>   780.4</td>\n",
       "</tr>\n",
       "<tr>\n",
       "  <th>Df Residuals:</th>          <td>   196</td>      <th>  BIC:               </th> <td>   793.6</td>\n",
       "</tr>\n",
       "<tr>\n",
       "  <th>Df Model:</th>              <td>     3</td>      <th>                     </th>     <td> </td>   \n",
       "</tr>\n",
       "<tr>\n",
       "  <th>Covariance Type:</th>      <td>nonrobust</td>    <th>                     </th>     <td> </td>   \n",
       "</tr>\n",
       "</table>\n",
       "<table class=\"simpletable\">\n",
       "<tr>\n",
       "      <td></td>         <th>coef</th>     <th>std err</th>      <th>t</th>      <th>P>|t|</th>  <th>[0.025</th>    <th>0.975]</th>  \n",
       "</tr>\n",
       "<tr>\n",
       "  <th>Intercept</th> <td>    2.9389</td> <td>    0.312</td> <td>    9.422</td> <td> 0.000</td> <td>    2.324</td> <td>    3.554</td>\n",
       "</tr>\n",
       "<tr>\n",
       "  <th>TV</th>        <td>    0.0458</td> <td>    0.001</td> <td>   32.809</td> <td> 0.000</td> <td>    0.043</td> <td>    0.049</td>\n",
       "</tr>\n",
       "<tr>\n",
       "  <th>Radio</th>     <td>    0.1885</td> <td>    0.009</td> <td>   21.893</td> <td> 0.000</td> <td>    0.172</td> <td>    0.206</td>\n",
       "</tr>\n",
       "<tr>\n",
       "  <th>Newspaper</th> <td>   -0.0010</td> <td>    0.006</td> <td>   -0.177</td> <td> 0.860</td> <td>   -0.013</td> <td>    0.011</td>\n",
       "</tr>\n",
       "</table>\n",
       "<table class=\"simpletable\">\n",
       "<tr>\n",
       "  <th>Omnibus:</th>       <td>60.414</td> <th>  Durbin-Watson:     </th> <td>   2.084</td>\n",
       "</tr>\n",
       "<tr>\n",
       "  <th>Prob(Omnibus):</th> <td> 0.000</td> <th>  Jarque-Bera (JB):  </th> <td> 151.241</td>\n",
       "</tr>\n",
       "<tr>\n",
       "  <th>Skew:</th>          <td>-1.327</td> <th>  Prob(JB):          </th> <td>1.44e-33</td>\n",
       "</tr>\n",
       "<tr>\n",
       "  <th>Kurtosis:</th>      <td> 6.332</td> <th>  Cond. No.          </th> <td>    454.</td>\n",
       "</tr>\n",
       "</table><br/><br/>Notes:<br/>[1] Standard Errors assume that the covariance matrix of the errors is correctly specified."
      ],
      "text/plain": [
       "<class 'statsmodels.iolib.summary.Summary'>\n",
       "\"\"\"\n",
       "                            OLS Regression Results                            \n",
       "==============================================================================\n",
       "Dep. Variable:                  Sales   R-squared:                       0.897\n",
       "Model:                            OLS   Adj. R-squared:                  0.896\n",
       "Method:                 Least Squares   F-statistic:                     570.3\n",
       "Date:                Tue, 03 Oct 2023   Prob (F-statistic):           1.58e-96\n",
       "Time:                        16:38:49   Log-Likelihood:                -386.18\n",
       "No. Observations:                 200   AIC:                             780.4\n",
       "Df Residuals:                     196   BIC:                             793.6\n",
       "Df Model:                           3                                         \n",
       "Covariance Type:            nonrobust                                         \n",
       "==============================================================================\n",
       "                 coef    std err          t      P>|t|      [0.025      0.975]\n",
       "------------------------------------------------------------------------------\n",
       "Intercept      2.9389      0.312      9.422      0.000       2.324       3.554\n",
       "TV             0.0458      0.001     32.809      0.000       0.043       0.049\n",
       "Radio          0.1885      0.009     21.893      0.000       0.172       0.206\n",
       "Newspaper     -0.0010      0.006     -0.177      0.860      -0.013       0.011\n",
       "==============================================================================\n",
       "Omnibus:                       60.414   Durbin-Watson:                   2.084\n",
       "Prob(Omnibus):                  0.000   Jarque-Bera (JB):              151.241\n",
       "Skew:                          -1.327   Prob(JB):                     1.44e-33\n",
       "Kurtosis:                       6.332   Cond. No.                         454.\n",
       "==============================================================================\n",
       "\n",
       "Notes:\n",
       "[1] Standard Errors assume that the covariance matrix of the errors is correctly specified.\n",
       "\"\"\""
      ]
     },
     "execution_count": 96,
     "metadata": {},
     "output_type": "execute_result"
    }
   ],
   "source": [
    "# TODO\n",
    "mul_est = smf.ols(formula='Sales ~ TV+Radio+Newspaper', data=advertising).fit()\n",
    "mul_est.summary()"
   ]
  },
  {
   "cell_type": "markdown",
   "metadata": {
    "id": "Mn3qaKPBy7wi"
   },
   "source": [
    "We notice that the multiple regression coefficient estimates for TV and Radio are pretty similar to the simple linear regression coefficients. However, while the newspaper regression coefficient estimate in SLR was significantly non-zero, the coefficient estimate for newspaper in the multiple regression model is close to zero, and the corresponding p-value is no longer significant, with a value around 0.86.\n",
    "\n",
    "Let us check the correlation matrix of the Advertising data."
   ]
  },
  {
   "cell_type": "code",
   "execution_count": 94,
   "metadata": {
    "id": "1hW37idAy7wi",
    "scrolled": false
   },
   "outputs": [
    {
     "data": {
      "text/html": [
       "<div>\n",
       "<style scoped>\n",
       "    .dataframe tbody tr th:only-of-type {\n",
       "        vertical-align: middle;\n",
       "    }\n",
       "\n",
       "    .dataframe tbody tr th {\n",
       "        vertical-align: top;\n",
       "    }\n",
       "\n",
       "    .dataframe thead th {\n",
       "        text-align: right;\n",
       "    }\n",
       "</style>\n",
       "<table border=\"1\" class=\"dataframe\">\n",
       "  <thead>\n",
       "    <tr style=\"text-align: right;\">\n",
       "      <th></th>\n",
       "      <th>TV</th>\n",
       "      <th>Radio</th>\n",
       "      <th>Newspaper</th>\n",
       "      <th>Sales</th>\n",
       "      <th>pre_TV</th>\n",
       "      <th>RSS_TV</th>\n",
       "    </tr>\n",
       "  </thead>\n",
       "  <tbody>\n",
       "    <tr>\n",
       "      <th>TV</th>\n",
       "      <td>1.000000</td>\n",
       "      <td>0.054809</td>\n",
       "      <td>0.056648</td>\n",
       "      <td>0.782224</td>\n",
       "      <td>1.000000</td>\n",
       "      <td>0.490092</td>\n",
       "    </tr>\n",
       "    <tr>\n",
       "      <th>Radio</th>\n",
       "      <td>0.054809</td>\n",
       "      <td>1.000000</td>\n",
       "      <td>0.354104</td>\n",
       "      <td>0.576223</td>\n",
       "      <td>0.054809</td>\n",
       "      <td>0.079142</td>\n",
       "    </tr>\n",
       "    <tr>\n",
       "      <th>Newspaper</th>\n",
       "      <td>0.056648</td>\n",
       "      <td>0.354104</td>\n",
       "      <td>1.000000</td>\n",
       "      <td>0.228299</td>\n",
       "      <td>0.056648</td>\n",
       "      <td>0.056566</td>\n",
       "    </tr>\n",
       "    <tr>\n",
       "      <th>Sales</th>\n",
       "      <td>0.782224</td>\n",
       "      <td>0.576223</td>\n",
       "      <td>0.228299</td>\n",
       "      <td>1.000000</td>\n",
       "      <td>0.782224</td>\n",
       "      <td>0.341963</td>\n",
       "    </tr>\n",
       "    <tr>\n",
       "      <th>pre_TV</th>\n",
       "      <td>1.000000</td>\n",
       "      <td>0.054809</td>\n",
       "      <td>0.056648</td>\n",
       "      <td>0.782224</td>\n",
       "      <td>1.000000</td>\n",
       "      <td>0.490092</td>\n",
       "    </tr>\n",
       "    <tr>\n",
       "      <th>RSS_TV</th>\n",
       "      <td>0.490092</td>\n",
       "      <td>0.079142</td>\n",
       "      <td>0.056566</td>\n",
       "      <td>0.341963</td>\n",
       "      <td>0.490092</td>\n",
       "      <td>1.000000</td>\n",
       "    </tr>\n",
       "  </tbody>\n",
       "</table>\n",
       "</div>"
      ],
      "text/plain": [
       "                 TV     Radio  Newspaper     Sales    pre_TV    RSS_TV\n",
       "TV         1.000000  0.054809   0.056648  0.782224  1.000000  0.490092\n",
       "Radio      0.054809  1.000000   0.354104  0.576223  0.054809  0.079142\n",
       "Newspaper  0.056648  0.354104   1.000000  0.228299  0.056648  0.056566\n",
       "Sales      0.782224  0.576223   0.228299  1.000000  0.782224  0.341963\n",
       "pre_TV     1.000000  0.054809   0.056648  0.782224  1.000000  0.490092\n",
       "RSS_TV     0.490092  0.079142   0.056566  0.341963  0.490092  1.000000"
      ]
     },
     "execution_count": 94,
     "metadata": {},
     "output_type": "execute_result"
    }
   ],
   "source": [
    "advertising.corr()"
   ]
  },
  {
   "cell_type": "markdown",
   "metadata": {
    "id": "qcfcXyWVy7wi"
   },
   "source": [
    "From the correlation matrix, we notice that the correlation between radio and newspaper is 0.35. This reveals a tendency to spend more on newspaper advertising in markets where more is spent on radio advertising. \n",
    "\n",
    "Now suppose that the multiple regression is correct and newspaper advertising has no direct impact on sales, but radio advertising does increase sales. Then in markets where we spend more on radio our sales will tend to be higher, and as our correlation matrix shows, we also tend to spend more on newspaper advertising in those same markets. Hence, in a simple linear regression which only examines sales versus newspaper, we will observe that higher values of newspaper tend to be associated with higher values of sales, *even though newspaper advertising does not actually affect sales*. So newspaper sales are a surrogate for radio advertising; newspaper gets “credit” for the effect of radio on sales."
   ]
  },
  {
   "cell_type": "markdown",
   "metadata": {
    "id": "dP2vgEZNy7wi"
   },
   "source": [
    "### F-statistic\n",
    "\n",
    "The F value is the ratio of the mean regression sum of squares divided by the mean error sum of squares. Its value will range from zero to an arbitrarily large number. In multiple linear regression, the null hypothesis we look at is if there is a relationship between the response and predictor.\n",
    "\n",
    "+ $H_{0}: \\beta_{1} = \\beta_{2} = \\beta_{3} = ... = 0$\n",
    "\n",
    "We can assess the accuracy of the multiple regression model."
   ]
  },
  {
   "cell_type": "code",
   "execution_count": 97,
   "metadata": {
    "id": "Ic1aLWBey7wj",
    "scrolled": false
   },
   "outputs": [
    {
     "name": "stdout",
     "output_type": "stream",
     "text": [
      "RSE: 1.6727572743844112\n",
      "R squared: 0.8972106381789522\n",
      "F-statistic: 570.2707036590942\n",
      "F-test pvalue: 1.575227256092437e-96\n"
     ]
    }
   ],
   "source": [
    "print( \"RSE:\", mul_est.resid.std() )\n",
    "print( \"R squared:\", mul_est.rsquared )\n",
    "print( \"F-statistic:\", mul_est.fvalue )\n",
    "print( \"F-test pvalue:\", mul_est.f_pvalue )"
   ]
  },
  {
   "cell_type": "markdown",
   "metadata": {
    "id": "12PmCu1Iy7wj"
   },
   "source": [
    "The large F-statistic suggests that *at least one of the advertising media must be related to sales* (at least one is non-zero). We see that the probability of the f-statistic is close to zero, so we have extremely strong evidence that at least one of the media is associated with increased sales.\n",
    "\n",
    "Suppose our null hypothesis is that specific coefficients are zero. The t-statistic for each predictor provide information about whether each individual predictor is related to the response, after adjusting for the other\n",
    "predictors."
   ]
  },
  {
   "cell_type": "markdown",
   "metadata": {
    "id": "IZAyAkGLy7wj"
   },
   "source": [
    "### Residual Plots for the Multiple Linear Regression\n",
    "\n",
    "Let us again plot the residual plots to visualize the trend in residuals as we did for simple linear regression. \n",
    "\n",
    "As the `residplot` function is not designed for multiple linear regression, but only for simple linear regression, we will write a helper function `get_vis_dataframe` to get predictions from the model to plot. \n",
    "\n",
    "We make use of the function [`wls_prediction_std`](https://www.adamsmith.haus/python/docs/statsmodels.graphics.regressionplots.wls_prediction_std) from `statsmodels` sandbox module, which takes the regression result object and provides the lower and upper values within which the prediction will lie with 95% confidence."
   ]
  },
  {
   "cell_type": "code",
   "execution_count": 98,
   "metadata": {},
   "outputs": [],
   "source": [
    "from statsmodels.sandbox.regression.predstd import wls_prediction_std\n",
    "\n",
    "def get_vis_dataframe( est, X, y, ylabel='yobs', yhlabel='ypred' ):\n",
    "    \n",
    "    # Prepare the dataframe: copy the predictors\n",
    "    rvis = X.copy()\n",
    "    \n",
    "    # Observed response and predicted response\n",
    "    rvis[ylabel], rvis[yhlabel] = y, est.predict( X )\n",
    "    \n",
    "    # Residuals obtained from OLS\n",
    "    rvis['resid'] = est.resid\n",
    "\n",
    "    # Obtain lower und upper confidence bounds using wls_prediction_std (standard error is not used)\n",
    "    std, upper, lower = wls_prediction_std( est )\n",
    "    rvis['upper'], rvis['lower'] = upper, lower\n",
    "  \n",
    "    return rvis"
   ]
  },
  {
   "cell_type": "markdown",
   "metadata": {},
   "source": [
    "Applying it on the three features:"
   ]
  },
  {
   "cell_type": "code",
   "execution_count": 99,
   "metadata": {
    "id": "VjqikHlqy7wj"
   },
   "outputs": [
    {
     "data": {
      "text/html": [
       "<div>\n",
       "<style scoped>\n",
       "    .dataframe tbody tr th:only-of-type {\n",
       "        vertical-align: middle;\n",
       "    }\n",
       "\n",
       "    .dataframe tbody tr th {\n",
       "        vertical-align: top;\n",
       "    }\n",
       "\n",
       "    .dataframe thead th {\n",
       "        text-align: right;\n",
       "    }\n",
       "</style>\n",
       "<table border=\"1\" class=\"dataframe\">\n",
       "  <thead>\n",
       "    <tr style=\"text-align: right;\">\n",
       "      <th></th>\n",
       "      <th>TV</th>\n",
       "      <th>Radio</th>\n",
       "      <th>Newspaper</th>\n",
       "      <th>yobs</th>\n",
       "      <th>ypred</th>\n",
       "      <th>resid</th>\n",
       "      <th>upper</th>\n",
       "      <th>lower</th>\n",
       "    </tr>\n",
       "    <tr>\n",
       "      <th>index_col</th>\n",
       "      <th></th>\n",
       "      <th></th>\n",
       "      <th></th>\n",
       "      <th></th>\n",
       "      <th></th>\n",
       "      <th></th>\n",
       "      <th></th>\n",
       "      <th></th>\n",
       "    </tr>\n",
       "  </thead>\n",
       "  <tbody>\n",
       "    <tr>\n",
       "      <th>0</th>\n",
       "      <td>230.1</td>\n",
       "      <td>37.8</td>\n",
       "      <td>69.2</td>\n",
       "      <td>22.1</td>\n",
       "      <td>20.523974</td>\n",
       "      <td>1.576026</td>\n",
       "      <td>17.158283</td>\n",
       "      <td>23.889666</td>\n",
       "    </tr>\n",
       "    <tr>\n",
       "      <th>1</th>\n",
       "      <td>44.5</td>\n",
       "      <td>39.3</td>\n",
       "      <td>45.1</td>\n",
       "      <td>10.4</td>\n",
       "      <td>12.337855</td>\n",
       "      <td>-1.937855</td>\n",
       "      <td>8.981672</td>\n",
       "      <td>15.694038</td>\n",
       "    </tr>\n",
       "    <tr>\n",
       "      <th>2</th>\n",
       "      <td>17.2</td>\n",
       "      <td>45.9</td>\n",
       "      <td>69.3</td>\n",
       "      <td>9.3</td>\n",
       "      <td>12.307671</td>\n",
       "      <td>-3.007671</td>\n",
       "      <td>8.919038</td>\n",
       "      <td>15.696303</td>\n",
       "    </tr>\n",
       "    <tr>\n",
       "      <th>3</th>\n",
       "      <td>151.5</td>\n",
       "      <td>41.3</td>\n",
       "      <td>58.5</td>\n",
       "      <td>18.5</td>\n",
       "      <td>17.597830</td>\n",
       "      <td>0.902170</td>\n",
       "      <td>14.246273</td>\n",
       "      <td>20.949386</td>\n",
       "    </tr>\n",
       "    <tr>\n",
       "      <th>4</th>\n",
       "      <td>180.8</td>\n",
       "      <td>10.8</td>\n",
       "      <td>58.4</td>\n",
       "      <td>12.9</td>\n",
       "      <td>13.188672</td>\n",
       "      <td>-0.288672</td>\n",
       "      <td>9.825762</td>\n",
       "      <td>16.551582</td>\n",
       "    </tr>\n",
       "  </tbody>\n",
       "</table>\n",
       "</div>"
      ],
      "text/plain": [
       "              TV  Radio  Newspaper  yobs      ypred     resid      upper  \\\n",
       "index_col                                                                  \n",
       "0          230.1   37.8       69.2  22.1  20.523974  1.576026  17.158283   \n",
       "1           44.5   39.3       45.1  10.4  12.337855 -1.937855   8.981672   \n",
       "2           17.2   45.9       69.3   9.3  12.307671 -3.007671   8.919038   \n",
       "3          151.5   41.3       58.5  18.5  17.597830  0.902170  14.246273   \n",
       "4          180.8   10.8       58.4  12.9  13.188672 -0.288672   9.825762   \n",
       "\n",
       "               lower  \n",
       "index_col             \n",
       "0          23.889666  \n",
       "1          15.694038  \n",
       "2          15.696303  \n",
       "3          20.949386  \n",
       "4          16.551582  "
      ]
     },
     "execution_count": 99,
     "metadata": {},
     "output_type": "execute_result"
    }
   ],
   "source": [
    "X = advertising[[\"TV\", \"Radio\", \"Newspaper\"]]\n",
    "y = advertising[[\"Sales\"]]\n",
    "\n",
    "mulvis = get_vis_dataframe( mul_est, X, y )\n",
    "mulvis.head()"
   ]
  },
  {
   "cell_type": "markdown",
   "metadata": {},
   "source": [
    "Now using `residplot` to plot the residuals:"
   ]
  },
  {
   "cell_type": "code",
   "execution_count": 50,
   "metadata": {
    "id": "VjqikHlqy7wj",
    "scrolled": false
   },
   "outputs": [
    {
     "data": {
      "text/plain": [
       "<Axes: xlabel='ypred', ylabel='resid'>"
      ]
     },
     "execution_count": 50,
     "metadata": {},
     "output_type": "execute_result"
    },
    {
     "data": {
      "image/png": "[encoded data removed]",
      "text/plain": [
       "<Figure size 640x480 with 1 Axes>"
      ]
     },
     "metadata": {},
     "output_type": "display_data"
    }
   ],
   "source": [
    "sns.residplot( x=mulvis[\"ypred\"], y=mulvis.resid, lowess=True, order=1, line_kws=dict(color=\"r\") )"
   ]
  },
  {
   "cell_type": "markdown",
   "metadata": {},
   "source": [
    "### Multiple Polynomial Regression\n",
    "\n",
    "Lastly, let us add polynomial terms to the multiple linear regression. We use a loop to construct the polynomial terms over the three features."
   ]
  },
  {
   "cell_type": "code",
   "execution_count": 100,
   "metadata": {
    "id": "AJk_yaaty7wj",
    "scrolled": false
   },
   "outputs": [
    {
     "name": "stdout",
     "output_type": "stream",
     "text": [
      "['TV + I(TV**2)', 'Radio + I(Radio**2)', 'Newspaper + I(Newspaper**2)']\n"
     ]
    }
   ],
   "source": [
    "predictors = [\"TV\", \"Radio\", \"Newspaper\"]\n",
    "\n",
    "poly2_predictors = []\n",
    "for p in predictors:\n",
    "    poly2_predictors.append( '{} + I({}**2)'.format(p, p) )\n",
    "\n",
    "print( poly2_predictors )"
   ]
  },
  {
   "cell_type": "markdown",
   "metadata": {},
   "source": [
    "We can then construct the formula to pass to `ols`."
   ]
  },
  {
   "cell_type": "code",
   "execution_count": 101,
   "metadata": {},
   "outputs": [
    {
     "data": {
      "text/plain": [
       "'Sales ~ TV + I(TV**2) + Radio + I(Radio**2) + Newspaper + I(Newspaper**2)'"
      ]
     },
     "execution_count": 101,
     "metadata": {},
     "output_type": "execute_result"
    }
   ],
   "source": [
    "poly2_formula = 'Sales ~ '+ ' + '.join( poly2_predictors )\n",
    "poly2_formula"
   ]
  },
  {
   "cell_type": "markdown",
   "metadata": {},
   "source": [
    "Now run `ols` with this formula."
   ]
  },
  {
   "cell_type": "code",
   "execution_count": 103,
   "metadata": {
    "id": "4V4IO07ky7wk",
    "scrolled": false
   },
   "outputs": [
    {
     "data": {
      "text/html": [
       "<table class=\"simpletable\">\n",
       "<caption>OLS Regression Results</caption>\n",
       "<tr>\n",
       "  <th>Dep. Variable:</th>          <td>Sales</td>      <th>  R-squared:         </th> <td>   0.918</td> \n",
       "</tr>\n",
       "<tr>\n",
       "  <th>Model:</th>                   <td>OLS</td>       <th>  Adj. R-squared:    </th> <td>   0.915</td> \n",
       "</tr>\n",
       "<tr>\n",
       "  <th>Method:</th>             <td>Least Squares</td>  <th>  F-statistic:       </th> <td>   358.1</td> \n",
       "</tr>\n",
       "<tr>\n",
       "  <th>Date:</th>             <td>Tue, 03 Oct 2023</td> <th>  Prob (F-statistic):</th> <td>1.01e-101</td>\n",
       "</tr>\n",
       "<tr>\n",
       "  <th>Time:</th>                 <td>16:43:33</td>     <th>  Log-Likelihood:    </th> <td> -364.09</td> \n",
       "</tr>\n",
       "<tr>\n",
       "  <th>No. Observations:</th>      <td>   200</td>      <th>  AIC:               </th> <td>   742.2</td> \n",
       "</tr>\n",
       "<tr>\n",
       "  <th>Df Residuals:</th>          <td>   193</td>      <th>  BIC:               </th> <td>   765.3</td> \n",
       "</tr>\n",
       "<tr>\n",
       "  <th>Df Model:</th>              <td>     6</td>      <th>                     </th>     <td> </td>    \n",
       "</tr>\n",
       "<tr>\n",
       "  <th>Covariance Type:</th>      <td>nonrobust</td>    <th>                     </th>     <td> </td>    \n",
       "</tr>\n",
       "</table>\n",
       "<table class=\"simpletable\">\n",
       "<tr>\n",
       "          <td></td>             <th>coef</th>     <th>std err</th>      <th>t</th>      <th>P>|t|</th>  <th>[0.025</th>    <th>0.975]</th>  \n",
       "</tr>\n",
       "<tr>\n",
       "  <th>Intercept</th>         <td>    1.4111</td> <td>    0.457</td> <td>    3.085</td> <td> 0.002</td> <td>    0.509</td> <td>    2.313</td>\n",
       "</tr>\n",
       "<tr>\n",
       "  <th>TV</th>                <td>    0.0781</td> <td>    0.005</td> <td>   15.497</td> <td> 0.000</td> <td>    0.068</td> <td>    0.088</td>\n",
       "</tr>\n",
       "<tr>\n",
       "  <th>I(TV ** 2)</th>        <td>   -0.0001</td> <td>  1.7e-05</td> <td>   -6.619</td> <td> 0.000</td> <td>   -0.000</td> <td>-7.89e-05</td>\n",
       "</tr>\n",
       "<tr>\n",
       "  <th>Radio</th>             <td>    0.1595</td> <td>    0.028</td> <td>    5.611</td> <td> 0.000</td> <td>    0.103</td> <td>    0.216</td>\n",
       "</tr>\n",
       "<tr>\n",
       "  <th>I(Radio ** 2)</th>     <td>    0.0007</td> <td>    0.001</td> <td>    1.219</td> <td> 0.224</td> <td>   -0.000</td> <td>    0.002</td>\n",
       "</tr>\n",
       "<tr>\n",
       "  <th>Newspaper</th>         <td>    0.0101</td> <td>    0.015</td> <td>    0.693</td> <td> 0.489</td> <td>   -0.019</td> <td>    0.039</td>\n",
       "</tr>\n",
       "<tr>\n",
       "  <th>I(Newspaper ** 2)</th> <td>   -0.0001</td> <td>    0.000</td> <td>   -0.717</td> <td> 0.474</td> <td>   -0.000</td> <td>    0.000</td>\n",
       "</tr>\n",
       "</table>\n",
       "<table class=\"simpletable\">\n",
       "<tr>\n",
       "  <th>Omnibus:</th>       <td>24.915</td> <th>  Durbin-Watson:     </th> <td>   2.123</td>\n",
       "</tr>\n",
       "<tr>\n",
       "  <th>Prob(Omnibus):</th> <td> 0.000</td> <th>  Jarque-Bera (JB):  </th> <td>  51.506</td>\n",
       "</tr>\n",
       "<tr>\n",
       "  <th>Skew:</th>          <td>-0.592</td> <th>  Prob(JB):          </th> <td>6.54e-12</td>\n",
       "</tr>\n",
       "<tr>\n",
       "  <th>Kurtosis:</th>      <td> 5.186</td> <th>  Cond. No.          </th> <td>1.64e+05</td>\n",
       "</tr>\n",
       "</table><br/><br/>Notes:<br/>[1] Standard Errors assume that the covariance matrix of the errors is correctly specified.<br/>[2] The condition number is large, 1.64e+05. This might indicate that there are<br/>strong multicollinearity or other numerical problems."
      ],
      "text/plain": [
       "<class 'statsmodels.iolib.summary.Summary'>\n",
       "\"\"\"\n",
       "                            OLS Regression Results                            \n",
       "==============================================================================\n",
       "Dep. Variable:                  Sales   R-squared:                       0.918\n",
       "Model:                            OLS   Adj. R-squared:                  0.915\n",
       "Method:                 Least Squares   F-statistic:                     358.1\n",
       "Date:                Tue, 03 Oct 2023   Prob (F-statistic):          1.01e-101\n",
       "Time:                        16:43:33   Log-Likelihood:                -364.09\n",
       "No. Observations:                 200   AIC:                             742.2\n",
       "Df Residuals:                     193   BIC:                             765.3\n",
       "Df Model:                           6                                         \n",
       "Covariance Type:            nonrobust                                         \n",
       "=====================================================================================\n",
       "                        coef    std err          t      P>|t|      [0.025      0.975]\n",
       "-------------------------------------------------------------------------------------\n",
       "Intercept             1.4111      0.457      3.085      0.002       0.509       2.313\n",
       "TV                    0.0781      0.005     15.497      0.000       0.068       0.088\n",
       "I(TV ** 2)           -0.0001    1.7e-05     -6.619      0.000      -0.000   -7.89e-05\n",
       "Radio                 0.1595      0.028      5.611      0.000       0.103       0.216\n",
       "I(Radio ** 2)         0.0007      0.001      1.219      0.224      -0.000       0.002\n",
       "Newspaper             0.0101      0.015      0.693      0.489      -0.019       0.039\n",
       "I(Newspaper ** 2)    -0.0001      0.000     -0.717      0.474      -0.000       0.000\n",
       "==============================================================================\n",
       "Omnibus:                       24.915   Durbin-Watson:                   2.123\n",
       "Prob(Omnibus):                  0.000   Jarque-Bera (JB):               51.506\n",
       "Skew:                          -0.592   Prob(JB):                     6.54e-12\n",
       "Kurtosis:                       5.186   Cond. No.                     1.64e+05\n",
       "==============================================================================\n",
       "\n",
       "Notes:\n",
       "[1] Standard Errors assume that the covariance matrix of the errors is correctly specified.\n",
       "[2] The condition number is large, 1.64e+05. This might indicate that there are\n",
       "strong multicollinearity or other numerical problems.\n",
       "\"\"\""
      ]
     },
     "execution_count": 103,
     "metadata": {},
     "output_type": "execute_result"
    }
   ],
   "source": [
    "# TODO\n",
    "mul_poly_est = smf.ols(formula=poly2_formula, data=advertising).fit()\n",
    "mul_poly_est.summary()"
   ]
  },
  {
   "cell_type": "markdown",
   "metadata": {
    "id": "fn5FIUBj4D-0"
   },
   "source": [
    "We can again use our `get_vis_dataframe` function and `residplot` to plot the residual plot of the multiple polynomial regression."
   ]
  },
  {
   "cell_type": "code",
   "execution_count": 104,
   "metadata": {
    "id": "9lVzVEfgy7wk"
   },
   "outputs": [
    {
     "data": {
      "text/html": [
       "<div>\n",
       "<style scoped>\n",
       "    .dataframe tbody tr th:only-of-type {\n",
       "        vertical-align: middle;\n",
       "    }\n",
       "\n",
       "    .dataframe tbody tr th {\n",
       "        vertical-align: top;\n",
       "    }\n",
       "\n",
       "    .dataframe thead th {\n",
       "        text-align: right;\n",
       "    }\n",
       "</style>\n",
       "<table border=\"1\" class=\"dataframe\">\n",
       "  <thead>\n",
       "    <tr style=\"text-align: right;\">\n",
       "      <th></th>\n",
       "      <th>TV</th>\n",
       "      <th>Radio</th>\n",
       "      <th>Newspaper</th>\n",
       "      <th>yobs</th>\n",
       "      <th>ypred</th>\n",
       "      <th>resid</th>\n",
       "      <th>upper</th>\n",
       "      <th>lower</th>\n",
       "    </tr>\n",
       "    <tr>\n",
       "      <th>index_col</th>\n",
       "      <th></th>\n",
       "      <th></th>\n",
       "      <th></th>\n",
       "      <th></th>\n",
       "      <th></th>\n",
       "      <th></th>\n",
       "      <th></th>\n",
       "      <th></th>\n",
       "    </tr>\n",
       "  </thead>\n",
       "  <tbody>\n",
       "    <tr>\n",
       "      <th>0</th>\n",
       "      <td>230.1</td>\n",
       "      <td>37.8</td>\n",
       "      <td>69.2</td>\n",
       "      <td>22.1</td>\n",
       "      <td>20.577400</td>\n",
       "      <td>1.522600</td>\n",
       "      <td>17.537951</td>\n",
       "      <td>23.616849</td>\n",
       "    </tr>\n",
       "    <tr>\n",
       "      <th>1</th>\n",
       "      <td>44.5</td>\n",
       "      <td>39.3</td>\n",
       "      <td>45.1</td>\n",
       "      <td>10.4</td>\n",
       "      <td>12.223167</td>\n",
       "      <td>-1.823167</td>\n",
       "      <td>9.187231</td>\n",
       "      <td>15.259104</td>\n",
       "    </tr>\n",
       "    <tr>\n",
       "      <th>2</th>\n",
       "      <td>17.2</td>\n",
       "      <td>45.9</td>\n",
       "      <td>69.3</td>\n",
       "      <td>9.3</td>\n",
       "      <td>11.633162</td>\n",
       "      <td>-2.333162</td>\n",
       "      <td>8.553412</td>\n",
       "      <td>14.712912</td>\n",
       "    </tr>\n",
       "    <tr>\n",
       "      <th>3</th>\n",
       "      <td>151.5</td>\n",
       "      <td>41.3</td>\n",
       "      <td>58.5</td>\n",
       "      <td>18.5</td>\n",
       "      <td>18.620470</td>\n",
       "      <td>-0.120470</td>\n",
       "      <td>15.581589</td>\n",
       "      <td>21.659351</td>\n",
       "    </tr>\n",
       "    <tr>\n",
       "      <th>4</th>\n",
       "      <td>180.8</td>\n",
       "      <td>10.8</td>\n",
       "      <td>58.4</td>\n",
       "      <td>12.9</td>\n",
       "      <td>13.835436</td>\n",
       "      <td>-0.935436</td>\n",
       "      <td>10.792764</td>\n",
       "      <td>16.878108</td>\n",
       "    </tr>\n",
       "  </tbody>\n",
       "</table>\n",
       "</div>"
      ],
      "text/plain": [
       "              TV  Radio  Newspaper  yobs      ypred     resid      upper  \\\n",
       "index_col                                                                  \n",
       "0          230.1   37.8       69.2  22.1  20.577400  1.522600  17.537951   \n",
       "1           44.5   39.3       45.1  10.4  12.223167 -1.823167   9.187231   \n",
       "2           17.2   45.9       69.3   9.3  11.633162 -2.333162   8.553412   \n",
       "3          151.5   41.3       58.5  18.5  18.620470 -0.120470  15.581589   \n",
       "4          180.8   10.8       58.4  12.9  13.835436 -0.935436  10.792764   \n",
       "\n",
       "               lower  \n",
       "index_col             \n",
       "0          23.616849  \n",
       "1          15.259104  \n",
       "2          14.712912  \n",
       "3          21.659351  \n",
       "4          16.878108  "
      ]
     },
     "execution_count": 104,
     "metadata": {},
     "output_type": "execute_result"
    }
   ],
   "source": [
    "# TODO\n",
    "X = advertising[[\"TV\", \"Radio\", \"Newspaper\"]]\n",
    "y = advertising[[\"Sales\"]]\n",
    "\n",
    "mulvis1 = get_vis_dataframe( mul_poly_est, X, y )\n",
    "mulvis1.head()"
   ]
  },
  {
   "cell_type": "code",
   "execution_count": 105,
   "metadata": {
    "id": "9lVzVEfgy7wk",
    "scrolled": false
   },
   "outputs": [
    {
     "data": {
      "text/plain": [
       "<AxesSubplot:xlabel='ypred', ylabel='resid'>"
      ]
     },
     "execution_count": 105,
     "metadata": {},
     "output_type": "execute_result"
    },
    {
     "data": {
      "image/png": "[encoded data removed]",
      "text/plain": [
       "<Figure size 432x288 with 1 Axes>"
      ]
     },
     "metadata": {
      "needs_background": "light"
     },
     "output_type": "display_data"
    }
   ],
   "source": [
    "# TODO\n",
    "sns.residplot( x=mulvis1[\"ypred\"], y=mulvis.resid, lowess=True, order=1, line_kws=dict(color=\"r\") )"
   ]
  },
  {
   "cell_type": "markdown",
   "metadata": {
    "id": "zwYsS0D329bg"
   },
   "source": [
    "This plot is equivalent to:"
   ]
  },
  {
   "cell_type": "code",
   "execution_count": 106,
   "metadata": {
    "id": "D5zaTaMUdRSG",
    "scrolled": false
   },
   "outputs": [
    {
     "data": {
      "text/plain": [
       "<matplotlib.collections.PathCollection at 0x277378af6d0>"
      ]
     },
     "execution_count": 106,
     "metadata": {},
     "output_type": "execute_result"
    },
    {
     "data": {
      "image/png": "[encoded data removed]",
      "text/plain": [
       "<Figure size 432x288 with 1 Axes>"
      ]
     },
     "metadata": {
      "needs_background": "light"
     },
     "output_type": "display_data"
    }
   ],
   "source": [
    "plt.scatter( mulvis.ypred, mulvis.resid )"
   ]
  },
  {
   "cell_type": "markdown",
   "metadata": {
    "id": "7Raa2P2K4W_p"
   },
   "source": [
    "We also plot the residual plot of the multiple linear regression. Will the residual plot with ```order = 2``` be the same as that of the polynomial regression above?"
   ]
  },
  {
   "cell_type": "code",
   "execution_count": 107,
   "metadata": {
    "id": "ZltYaAt4y7wk",
    "scrolled": false
   },
   "outputs": [
    {
     "data": {
      "text/plain": [
       "<AxesSubplot:xlabel='ypred', ylabel='yobs'>"
      ]
     },
     "execution_count": 107,
     "metadata": {},
     "output_type": "execute_result"
    },
    {
     "data": {
      "image/png": "[encoded data removed]",
      "text/plain": [
       "<Figure size 432x288 with 1 Axes>"
      ]
     },
     "metadata": {
      "needs_background": "light"
     },
     "output_type": "display_data"
    }
   ],
   "source": [
    "mulvis = get_vis_dataframe( mul_est, X, y )\n",
    "sns.residplot( x=mulvis[\"ypred\"], y=mulvis[\"yobs\"], lowess=True, order=2, line_kws=dict(color=\"r\") )"
   ]
  },
  {
   "cell_type": "markdown",
   "metadata": {},
   "source": [
    "This plot is equivalent to:"
   ]
  },
  {
   "cell_type": "code",
   "execution_count": 111,
   "metadata": {
    "id": "pBkPI-N8_f8s"
   },
   "outputs": [
    {
     "data": {
      "text/plain": [
       "<matplotlib.collections.PathCollection at 0x27737a7fb20>"
      ]
     },
     "execution_count": 111,
     "metadata": {},
     "output_type": "execute_result"
    },
    {
     "data": {
      "image/png": "[encoded data removed]",
      "text/plain": [
       "<Figure size 432x288 with 1 Axes>"
      ]
     },
     "metadata": {
      "needs_background": "light"
     },
     "output_type": "display_data"
    }
   ],
   "source": [
    "values = mulvis.resid - np.polyval( np.polyfit(mulvis.ypred, mulvis.resid, 2), mulvis.ypred )\n",
    "\n",
    "plt.scatter( mulvis.ypred, values )"
   ]
  },
  {
   "cell_type": "code",
   "execution_count": null,
   "metadata": {},
   "outputs": [],
   "source": []
  }
 ],
 "metadata": {
  "colab": {
   "provenance": []
  },
  "kernelspec": {
   "display_name": "Python 3 (ipykernel)",
   "language": "python",
   "name": "python3"
  },
  "language_info": {
   "codemirror_mode": {
    "name": "ipython",
    "version": 3
   },
   "file_extension": ".py",
   "mimetype": "text/x-python",
   "name": "python",
   "nbconvert_exporter": "python",
   "pygments_lexer": "ipython3",
   "version": "3.9.12"
  }
 },
 "nbformat": 4,
 "nbformat_minor": 1
}
