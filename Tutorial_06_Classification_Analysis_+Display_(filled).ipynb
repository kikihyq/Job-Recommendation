{
 "cells": [
  {
   "cell_type": "markdown",
   "id": "4c7fa337",
   "metadata": {},
   "source": [
    "# Tutorial 6 (Week 8) - Classification Analysis\n",
    "\n",
    "## Learning Objectives\n",
    "\n",
    "After completing this tutorial, you should be able to:\n",
    "\n",
    "+ Understand model thresholding\n",
    "+ Use sklearn to plot ROC curves in binary classification\n",
    "+ Use sklearn to calculate AUROC\n",
    "+ Use sklearn to plot ROC curves in multi-class classification\n",
    "\n",
    "This tutorial is based on this [ROC and AUC tutorial](https://www.kaggle.com/code/jacoporepossi/tutorial-roc-auc-clearly-explained) and the Scikit-learn [ROC User Guide](https://scikit-learn.org/stable/modules/model_evaluation.html#receiver-operating-characteristic-roc)."
   ]
  },
  {
   "cell_type": "markdown",
   "id": "0cdbb9ca",
   "metadata": {},
   "source": [
    "## Table of Contents\n",
    "\n",
    "* [Dataset](#Dataset)\n",
    "* [Confusion Matrix](#Confusion-Matrix)\n",
    "* [Model Thresholds](#Model-Thresholds)\n",
    "* [Receiver Operating Characteristic (ROC)](#ROC)\n",
    "* [Area Under the Curve (AUC or AUROC)](#AUROC)\n",
    "* [ROC Curve Application -- Comparability](#Comparability)\n",
    "* _[RocCurveDisplay](#RocCurveDisplay)_\n",
    "* [AUROC Properties](#AUROC-Properties)\n",
    "* [AUROC in Multi-Class Classification](#Multi-Class)"
   ]
  },
  {
   "cell_type": "markdown",
   "id": "adab82fa",
   "metadata": {},
   "source": [
    "## Dataset <a class=\"anchor\" id=\"Dataset\"></a>\n",
    "\n",
    "Let us first create a toy dataset for experimenting. The Scikit-learn `datasets` module has a handy function [`make_classification()`](http://scikit-learn.org/stable/modules/generated/sklearn.datasets.make_classification.html) to generate a random n-class classification problem. \n",
    "\n",
    "We create a dataset with 50 samples (with default number of features) and 2 classes, with 40:60 proportion of samples assigned to each class. We set the class separation to be 0.1, which is a factor determining how spread out the classes are (the larger the value, the more spread out and the easier the classification task is). "
   ]
  },
  {
   "cell_type": "code",
   "execution_count": 1,
   "id": "9e5eec66",
   "metadata": {},
   "outputs": [
    {
     "name": "stdout",
     "output_type": "stream",
     "text": [
      "(50, 20)\n",
      "(50,)\n"
     ]
    }
   ],
   "source": [
    "import numpy as np\n",
    "import pandas as pd\n",
    "\n",
    "from sklearn.datasets import make_classification\n",
    "\n",
    "x, y = make_classification( n_classes = 2,\n",
    "                            class_sep = 0.1,\n",
    "                            n_samples = 50,\n",
    "                            weights = [0.4, 0.6],\n",
    "                            random_state = 42 )\n",
    "\n",
    "# x contains the samples\n",
    "print( x.shape )\n",
    "\n",
    "# y contains the labels\n",
    "print( y.shape )"
   ]
  },
  {
   "cell_type": "markdown",
   "id": "51067c12",
   "metadata": {},
   "source": [
    "Let's visualize the generated data, taking 2 dimensions."
   ]
  },
  {
   "cell_type": "code",
   "execution_count": 2,
   "id": "bcba4c31",
   "metadata": {},
   "outputs": [
    {
     "data": {
      "image/png": "[encoded data removed]",
      "text/plain": [
       "<Figure size 432x288 with 1 Axes>"
      ]
     },
     "metadata": {
      "needs_background": "light"
     },
     "output_type": "display_data"
    }
   ],
   "source": [
    "%matplotlib inline\n",
    "import matplotlib.pyplot as plt\n",
    "\n",
    "# Associate label value 0 (resp. 1) with the color blue (resp. orange) and label text 'positive' (resp. 'negative')\n",
    "for c, i, t in zip( ['blue', 'orange'], [0, 1], ['positive', 'negative'] ):\n",
    "    plt.scatter( x[y==i, 0], x[y==i, 1], color=c, alpha=.5, label=t )\n",
    "\n",
    "plt.legend()\n",
    "plt.title( 'Data' )\n",
    "plt.show()"
   ]
  },
  {
   "cell_type": "markdown",
   "id": "fbb7e4d7",
   "metadata": {},
   "source": [
    "Next, we make a random prediction."
   ]
  },
  {
   "cell_type": "code",
   "execution_count": 3,
   "id": "34c2eda3",
   "metadata": {},
   "outputs": [
    {
     "data": {
      "text/plain": [
       "array([0, 1, 0, 0, 0, 1, 0, 0, 0, 1, 0, 0, 0, 0, 1, 0, 1, 1, 1, 0, 1, 0,\n",
       "       1, 1, 1, 1, 1, 1, 1, 1, 0, 0, 1, 1, 1, 0, 1, 0, 0, 0, 0, 0, 1, 1,\n",
       "       1, 1, 1, 0, 1, 1])"
      ]
     },
     "execution_count": 3,
     "metadata": {},
     "output_type": "execute_result"
    }
   ],
   "source": [
    "np.random.seed(42)\n",
    "\n",
    "y_pred = np.random.choice([0, 1], size=(50))\n",
    "y_pred"
   ]
  },
  {
   "cell_type": "markdown",
   "id": "cd273871",
   "metadata": {},
   "source": [
    "## Confusion Matrix <a class=\"anchor\" id=\"Confusion-Matrix\"></a>\n",
    "\n",
    "Let's build the confusion matrix for our random prediction. We can use `sklearn.metrics.confusion_matrix` to get the raw counts as we have seen in Tutorial 4."
   ]
  },
  {
   "cell_type": "code",
   "execution_count": 4,
   "id": "468e3a1b",
   "metadata": {},
   "outputs": [
    {
     "name": "stdout",
     "output_type": "stream",
     "text": [
      "[[14  6]\n",
      " [ 9 21]]\n"
     ]
    }
   ],
   "source": [
    "# TODO\n",
    "# c = ?\n",
    "from sklearn.metrics import confusion_matrix\n",
    "\n",
    "c = confusion_matrix( y, y_pred ) #[[TN, FP],[FN,TP]]\n",
    "print( c )"
   ]
  },
  {
   "cell_type": "markdown",
   "id": "deda081b",
   "metadata": {},
   "source": [
    "We can then calculate the True Positive Rate (TPR) and False Positive Rate (FPR) from those counts."
   ]
  },
  {
   "cell_type": "code",
   "execution_count": 19,
   "id": "bf740fb4",
   "metadata": {},
   "outputs": [
    {
     "name": "stdout",
     "output_type": "stream",
     "text": [
      "TPR: 0.7\n",
      "FPR: 0.3\n"
     ]
    },
    {
     "data": {
      "text/plain": [
       "array([14,  6,  9, 21], dtype=int64)"
      ]
     },
     "execution_count": 19,
     "metadata": {},
     "output_type": "execute_result"
    }
   ],
   "source": [
    "# TODO\n",
    "# tn, fp, fn, tp = ?\n",
    "# tpr = ?\n",
    "# fpr = ?\n",
    "\n",
    "tn, fp, fn, tp = c.ravel() # returns a flattened array\n",
    "\n",
    "tpr = tp / (tp + fn)\n",
    "print( \"TPR:\", tpr )\n",
    "\n",
    "fpr = fp / (fp + tn)\n",
    "print( \"FPR:\", fpr )\n",
    "c.ravel()"
   ]
  },
  {
   "cell_type": "markdown",
   "id": "6ef2ba9f",
   "metadata": {},
   "source": [
    "## Model Thresholds <a class=\"anchor\" id=\"Model-Thresholds\"></a>\n",
    "\n",
    "The goal of classification is to predict a class label. However, many machine learning algorithms predict a probability or scoring of class membership, and we need to interpret this to map the prediction to a specific class label. This mapping is achieved using a _threshold_ (e.g., 0.5), where all predictions at or above the threshold are mapped to one class and all other values are mapped to another class.\n",
    "\n",
    "In scikit-learn we can generally use two functions to perform prediction on new data: `predict` and `predict_proba`.\n",
    "\n",
    "The `predict_proba` function returns a two-dimensional array (`n_samples` x `n_classes`), containing the estimated probabilities for each instance and each class. For example, a prediction for 4 samples with 2 possible classes (0 or 'positive', and 1 or 'negative') may look like this:\n",
    "\n",
    "```\n",
    "array( [[0.90, 0.10],\n",
    "        [0.25, 0.75],\n",
    "        [0.78, 0.22],\n",
    "        [0.05, 0.95]])\n",
    "```\n",
    "This prediction says that the first sample has 90% probability of belonging to the positive class (and 10% probability of belonging to the negative class), the second sample has 75% probability of belonging to the negative class (and 25% probability of belonging to the positive class), and so on.\n",
    "\n",
    "The `predict` function simply gives the class with the maximum probability. For the above example, it will return:\n",
    "\n",
    "```\n",
    "array( [0, 1, 0, 1] )\n",
    "```\n",
    "\n",
    "Using `predict_proba`, we can adjust how our model predicts a class or the other by varying the threshold. For instance, we can set threshold = 0.8 for the negative class, so that the model will predict the negative class only for samples that have probability >= 80% of belonging to the negative class. \n",
    "\n",
    "For the above example, the model will predict the second sample as the positive class instead of the negative class as previously, since it has only 75% (<80%) probability of belonging to the negative class.\n",
    "\n",
    "Varying the thresholds will thus _affect TPR and FPR_."
   ]
  },
  {
   "cell_type": "markdown",
   "id": "37491801",
   "metadata": {},
   "source": [
    "## Receiver Operating Characteristic (ROC) <a class=\"anchor\" id=\"ROC\"></a>\n",
    "\n",
    "ROC curves are typically used in _binary classification_ to study the output of a classifier. An ROC curve is built by plotting FPR on the X axis and TPR on the Y axis using different threshold values.\n",
    "\n",
    "Let's test it with a simple model."
   ]
  },
  {
   "cell_type": "code",
   "execution_count": 6,
   "id": "809d816a",
   "metadata": {},
   "outputs": [
    {
     "data": {
      "text/plain": [
       "LogisticRegression()"
      ]
     },
     "execution_count": 6,
     "metadata": {},
     "output_type": "execute_result"
    }
   ],
   "source": [
    "from sklearn.linear_model import LogisticRegression\n",
    "\n",
    "model = LogisticRegression()\n",
    "model.fit( x, y )"
   ]
  },
  {
   "cell_type": "markdown",
   "id": "794d002a",
   "metadata": {},
   "source": [
    "We call `predict_proba()` and take the first column of the result, i.e., the probabilities of the samples belonging to the positive class."
   ]
  },
  {
   "cell_type": "code",
   "execution_count": 7,
   "id": "04aa825c",
   "metadata": {},
   "outputs": [
    {
     "data": {
      "text/plain": [
       "array([0.3958005 , 0.467882  , 0.13702421, 0.36033886, 0.97468144,\n",
       "       0.31741709, 0.12865663, 0.1341451 , 0.68652036, 0.45723294,\n",
       "       0.42296672, 0.95088364, 0.3993275 , 0.81261241, 0.54575566,\n",
       "       0.55121178, 0.30503177, 0.77271586, 0.58577112, 0.92816046,\n",
       "       0.8540682 , 0.67354602, 0.26658869, 0.48982345, 0.92780298,\n",
       "       0.68459755, 0.63726055, 0.45035582, 0.56526073, 0.87145707,\n",
       "       0.40718843, 0.90632837, 0.44544938, 0.82647063, 0.59266956,\n",
       "       0.04630259, 0.908385  , 0.90781113, 0.4941188 , 0.32176236,\n",
       "       0.84331743, 0.98632413, 0.65307855, 0.8778805 , 0.86238492,\n",
       "       0.79842378, 0.42379931, 0.08292369, 0.92315871, 0.93728311])"
      ]
     },
     "execution_count": 7,
     "metadata": {},
     "output_type": "execute_result"
    }
   ],
   "source": [
    "y_score = model.predict_proba(x)[:, 1]\n",
    "y_score"
   ]
  },
  {
   "cell_type": "markdown",
   "id": "f05da7d4",
   "metadata": {},
   "source": [
    "Now let's build the ROC curve, using the sklearn function [`roc_curve()`](https://scikit-learn.org/stable/modules/generated/sklearn.metrics.roc_curve.html) from the `metrics` module. We provide it with the true label and the predicted `y_score`, and it essentially:\n",
    "- determines various threshold values, and\n",
    "- calculates the FPR and TPR values for each threshold."
   ]
  },
  {
   "cell_type": "code",
   "execution_count": 8,
   "id": "c6fa41d1",
   "metadata": {},
   "outputs": [],
   "source": [
    "from sklearn.metrics import roc_curve\n",
    "\n",
    "fpr, tpr, thresholds = roc_curve( y, y_score )"
   ]
  },
  {
   "cell_type": "markdown",
   "id": "c960e690",
   "metadata": {},
   "source": [
    "We can gather them in a DataFrame for ease of viewing."
   ]
  },
  {
   "cell_type": "code",
   "execution_count": 9,
   "id": "793a7678",
   "metadata": {},
   "outputs": [
    {
     "name": "stdout",
     "output_type": "stream",
     "text": [
      "(20, 3)\n"
     ]
    },
    {
     "data": {
      "text/html": [
       "<div>\n",
       "<style scoped>\n",
       "    .dataframe tbody tr th:only-of-type {\n",
       "        vertical-align: middle;\n",
       "    }\n",
       "\n",
       "    .dataframe tbody tr th {\n",
       "        vertical-align: top;\n",
       "    }\n",
       "\n",
       "    .dataframe thead th {\n",
       "        text-align: right;\n",
       "    }\n",
       "</style>\n",
       "<table border=\"1\" class=\"dataframe\">\n",
       "  <thead>\n",
       "    <tr style=\"text-align: right;\">\n",
       "      <th></th>\n",
       "      <th>FPR</th>\n",
       "      <th>TPR</th>\n",
       "      <th>Threshold</th>\n",
       "    </tr>\n",
       "  </thead>\n",
       "  <tbody>\n",
       "    <tr>\n",
       "      <th>0</th>\n",
       "      <td>0.00</td>\n",
       "      <td>0.000000</td>\n",
       "      <td>1.986324</td>\n",
       "    </tr>\n",
       "    <tr>\n",
       "      <th>1</th>\n",
       "      <td>0.00</td>\n",
       "      <td>0.033333</td>\n",
       "      <td>0.986324</td>\n",
       "    </tr>\n",
       "    <tr>\n",
       "      <th>2</th>\n",
       "      <td>0.00</td>\n",
       "      <td>0.533333</td>\n",
       "      <td>0.826471</td>\n",
       "    </tr>\n",
       "    <tr>\n",
       "      <th>3</th>\n",
       "      <td>0.05</td>\n",
       "      <td>0.533333</td>\n",
       "      <td>0.812612</td>\n",
       "    </tr>\n",
       "    <tr>\n",
       "      <th>4</th>\n",
       "      <td>0.05</td>\n",
       "      <td>0.600000</td>\n",
       "      <td>0.772716</td>\n",
       "    </tr>\n",
       "  </tbody>\n",
       "</table>\n",
       "</div>"
      ],
      "text/plain": [
       "    FPR       TPR  Threshold\n",
       "0  0.00  0.000000   1.986324\n",
       "1  0.00  0.033333   0.986324\n",
       "2  0.00  0.533333   0.826471\n",
       "3  0.05  0.533333   0.812612\n",
       "4  0.05  0.600000   0.772716"
      ]
     },
     "execution_count": 9,
     "metadata": {},
     "output_type": "execute_result"
    }
   ],
   "source": [
    "roc_df = pd.DataFrame( zip(fpr, tpr, thresholds), columns = [\"FPR\", \"TPR\", \"Threshold\"])\n",
    "\n",
    "print( roc_df.shape )\n",
    "roc_df.head()"
   ]
  },
  {
   "cell_type": "markdown",
   "id": "12af0b3b",
   "metadata": {},
   "source": [
    "As explained in the API reference, `thresholds[0]` represents no instances being predicted and is arbitrarily set to `np.inf`.\n",
    "\n",
    "_Question to ponder: How do you think the `roc_curve()` function determines what threshold values to use?_"
   ]
  },
  {
   "cell_type": "markdown",
   "id": "b3fca129",
   "metadata": {},
   "source": [
    "Let's now create the plot with FPR on the X axis and TPR on the Y axis."
   ]
  },
  {
   "cell_type": "code",
   "execution_count": 10,
   "id": "df09a1a9",
   "metadata": {
    "scrolled": false
   },
   "outputs": [
    {
     "data": {
      "image/png": "[encoded data removed]",
      "text/plain": [
       "<Figure size 432x288 with 1 Axes>"
      ]
     },
     "metadata": {
      "needs_background": "light"
     },
     "output_type": "display_data"
    }
   ],
   "source": [
    "fig, ax = plt.subplots()\n",
    "\n",
    "ax.plot( fpr, tpr )\n",
    "\n",
    "ax.set_xlabel( 'False positive rate' )\n",
    "ax.set_ylabel( 'True positive rate' )\n",
    "\n",
    "# Add the random-classifier line: diagonal line from (0,0) to (1,1)\n",
    "plt.plot( [0,1], [0,1], linestyle='dashed' ) \n",
    "\n",
    "plt.show()"
   ]
  },
  {
   "cell_type": "markdown",
   "id": "eab358f4",
   "metadata": {},
   "source": [
    "The top left corner of the plot is the \"ideal\" point: FPR of zero and TPR of one."
   ]
  },
  {
   "cell_type": "markdown",
   "id": "cd974ad5",
   "metadata": {},
   "source": [
    "## Area Under the Curve (AUC or AUROC) <a class=\"anchor\" id=\"AUROC\"></a>\n",
    "\n",
    "The area underneath the entire ROC curve is called AUROC (or AUC) and is always represented as a value between 0 to 1.\n",
    "\n",
    "We can see that the nearer the ROC curve is to the \"ideal\" point, the larger the area under the curve will be. Thus, we usually want to maximize AUROC, as this means achieving highest possible TPR and lowest possible FPR. \n",
    "\n",
    "_Question to ponder: Is it always the case?_"
   ]
  },
  {
   "cell_type": "markdown",
   "id": "62246f1a",
   "metadata": {},
   "source": [
    "We can compute the AUROC using the sklearn function [`roc_auc_score`](https://scikit-learn.org/stable/modules/generated/sklearn.metrics.roc_auc_score.html), giving it the prediction scores, similar to how we use `roc_curve()`. "
   ]
  },
  {
   "cell_type": "code",
   "execution_count": 11,
   "id": "eafc283c",
   "metadata": {},
   "outputs": [
    {
     "data": {
      "text/plain": [
       "0.8766666666666667"
      ]
     },
     "execution_count": 11,
     "metadata": {},
     "output_type": "execute_result"
    }
   ],
   "source": [
    "from sklearn.metrics import roc_auc_score\n",
    "\n",
    "auroc = roc_auc_score( y, y_score )\n",
    "auroc"
   ]
  },
  {
   "cell_type": "markdown",
   "id": "b8664aaa",
   "metadata": {},
   "source": [
    "We can redraw the ROC curve plot with the area filled."
   ]
  },
  {
   "cell_type": "code",
   "execution_count": 12,
   "id": "0a361180",
   "metadata": {},
   "outputs": [
    {
     "data": {
      "image/png": "[encoded data removed]",
      "text/plain": [
       "<Figure size 432x288 with 1 Axes>"
      ]
     },
     "metadata": {
      "needs_background": "light"
     },
     "output_type": "display_data"
    }
   ],
   "source": [
    "fig, ax = plt.subplots()\n",
    "\n",
    "ax.plot(fpr, tpr)\n",
    "\n",
    "ax.fill_between( fpr, tpr, step=\"pre\", alpha=0.4 )\n",
    "\n",
    "ax.set_xlabel( 'False positive rate' )\n",
    "ax.set_ylabel( 'True positive rate' )\n",
    "\n",
    "# Project points to x-axis\n",
    "plt.vlines( fpr, 0, tpr, linestyle=\"dashed\" )\n",
    "\n",
    "plt.show()"
   ]
  },
  {
   "cell_type": "markdown",
   "id": "802c030f",
   "metadata": {},
   "source": [
    "The dashed lines illustrate how the AUROC calculation is done -- the function basically calculates the area of each rectangle and sums them up."
   ]
  },
  {
   "cell_type": "markdown",
   "id": "7df1eb7f",
   "metadata": {},
   "source": [
    "## ROC Curve Application - Comparability <a class=\"anchor\" id=\"Comparability\"></a>\n",
    "\n",
    "The ROC curve is valuable mainly for two reasons:\n",
    "\n",
    "- It lets us select an optimal threshold for that model, and \n",
    "- It gives us a visual way to compare different classifiers.\n",
    "\n",
    "Let's illustrate the second point by using another classifier together with the previous one."
   ]
  },
  {
   "cell_type": "code",
   "execution_count": 13,
   "id": "3b683c5e",
   "metadata": {},
   "outputs": [
    {
     "data": {
      "text/plain": [
       "RandomForestClassifier(max_depth=1)"
      ]
     },
     "execution_count": 13,
     "metadata": {},
     "output_type": "execute_result"
    }
   ],
   "source": [
    "from sklearn.ensemble import RandomForestClassifier\n",
    "\n",
    "rf = RandomForestClassifier( max_depth=1 )\n",
    "rf.fit( x, y )"
   ]
  },
  {
   "cell_type": "markdown",
   "id": "b2cb39fa",
   "metadata": {},
   "source": [
    "Following the same steps as the first classifier, perform the prediction, build the ROC curve, and compute the AUROC."
   ]
  },
  {
   "cell_type": "code",
   "execution_count": 20,
   "id": "c189793d",
   "metadata": {},
   "outputs": [
    {
     "data": {
      "text/plain": [
       "array([0.50569042, 0.59829193, 0.53110061, 0.54175051, 0.65429404,\n",
       "       0.56720033, 0.44503002, 0.52187612, 0.54205681, 0.60824939,\n",
       "       0.64983014, 0.65767734, 0.62986322, 0.5877154 , 0.56249081,\n",
       "       0.50960748, 0.43381159, 0.63552864, 0.63076833, 0.61966272,\n",
       "       0.62517539, 0.56382494, 0.51570041, 0.59127854, 0.66151438,\n",
       "       0.60709442, 0.62870044, 0.49349089, 0.49811241, 0.66188718,\n",
       "       0.62831395, 0.640696  , 0.55466213, 0.63595481, 0.58314628,\n",
       "       0.52686144, 0.64841261, 0.657799  , 0.53483702, 0.47460234,\n",
       "       0.69894497, 0.74144123, 0.58256003, 0.67405195, 0.69098906,\n",
       "       0.554764  , 0.5800224 , 0.49318345, 0.60427249, 0.67754342])"
      ]
     },
     "execution_count": 20,
     "metadata": {},
     "output_type": "execute_result"
    }
   ],
   "source": [
    "# TODO\n",
    "# y_score_rf = ?\n",
    "y_score_rf = rf.predict_proba(x)[:, 1]\n",
    "y_score_rf"
   ]
  },
  {
   "cell_type": "code",
   "execution_count": 15,
   "id": "2ac7518e",
   "metadata": {},
   "outputs": [],
   "source": [
    "# TODO\n",
    "# fpr_rf, tpr_rf, thresholds_rf = ?\n",
    "fpr_rf, tpr_rf, thresholds_rf = roc_curve( y, y_score_rf )"
   ]
  },
  {
   "cell_type": "code",
   "execution_count": 21,
   "id": "7fb13338",
   "metadata": {},
   "outputs": [
    {
     "data": {
      "text/plain": [
       "0.9450000000000001"
      ]
     },
     "execution_count": 21,
     "metadata": {},
     "output_type": "execute_result"
    }
   ],
   "source": [
    "# TODO\n",
    "# auroc_rf = ?\n",
    "auroc_rf = roc_auc_score( y, y_score_rf )\n",
    "auroc_rf"
   ]
  },
  {
   "cell_type": "markdown",
   "id": "5b63bd3f",
   "metadata": {},
   "source": [
    "Now we can put them together, and also add the ROC curve of a hypothetical _perfect classifier_, i.e., one that will always have TPR = 1 regardless of the FPR. "
   ]
  },
  {
   "cell_type": "code",
   "execution_count": 17,
   "id": "9eb966a4",
   "metadata": {},
   "outputs": [
    {
     "data": {
      "image/png": "[encoded data removed]",
      "text/plain": [
       "<Figure size 432x288 with 1 Axes>"
      ]
     },
     "metadata": {
      "needs_background": "light"
     },
     "output_type": "display_data"
    }
   ],
   "source": [
    "fig, ax = plt.subplots()\n",
    "\n",
    "# Logistic Regression\n",
    "ax.plot( fpr, tpr )\n",
    "\n",
    "# Random Forest\n",
    "ax.plot( fpr_rf, tpr_rf )\n",
    "\n",
    "# Perfect Classifier\n",
    "ax.plot([0, 0, 1], [0, 1, 1])\n",
    "\n",
    "ax.set_xlabel( 'False positive rate' )\n",
    "ax.set_ylabel( 'True positive rate' )\n",
    "ax.legend(\n",
    "    [\n",
    "        'LogisticRegression - AUROC {:.3f}'.format(auroc),\n",
    "        'RandomForest - AUROC {:.3f}'.format(auroc_rf),\n",
    "        'Perfect classifier'\n",
    "    ]\n",
    ")\n",
    "\n",
    "plt.show()"
   ]
  },
  {
   "cell_type": "markdown",
   "id": "49c16dc7",
   "metadata": {},
   "source": [
    "We can see that, compared to the LogisticRegression classifier, the RandomForest classifier has:\n",
    "- higher ROC curve (closer to the perfect classifier), and\n",
    "- larger AUROC value.\n",
    "\n",
    "Therefore, we can say that the RandomForest classifier is doing a better job than the LogisticRegression classifier at classifying the positive class in the dataset."
   ]
  },
  {
   "cell_type": "markdown",
   "id": "da0cdf20",
   "metadata": {},
   "source": [
    "<font color=\"blue\">\n",
    "\n",
    "## RocCurveDisplay <a class=\"anchor\" id=\"RocCurveDisplay\"></a>\n",
    "\n",
    "In the above flow, we obtain the component values of TPR, FPR, and thresholds, then build the curve and compute the AUROC.\n",
    "\n",
    "If we are not interested in these components and only need the curve display and AUROC, we can use `RocCurveDisplay` from sklearn. Two functions are available: `from_estimator()` and `from_predictions()`.\n",
    "\n",
    "We can use `from_predictions()` if we already have the predicted labels. We pass both the true labels and predicted labels to the function.\n",
    "   \n",
    "The `plot_chance_level` parameter controls whether to display the \"chance level\", that is, the performance of a model that simply make predictions randomly (aka \"No-Skill Classifier\"). In the context of the ROC curve, this random classifier would have a 50-50 chance of predicting each class, and the chance level is the diagonal line TPR = FPR.\n",
    "    \n",
    "</font>"
   ]
  },
  {
   "cell_type": "code",
   "execution_count": 25,
   "id": "f62f41ec",
   "metadata": {},
   "outputs": [
    {
     "ename": "AttributeError",
     "evalue": "'Line2D' object has no property 'plot_chance_level'",
     "output_type": "error",
     "traceback": [
      "\u001b[1;31m---------------------------------------------------------------------------\u001b[0m",
      "\u001b[1;31mAttributeError\u001b[0m                            Traceback (most recent call last)",
      "Input \u001b[1;32mIn [25]\u001b[0m, in \u001b[0;36m<cell line: 3>\u001b[1;34m()\u001b[0m\n\u001b[0;32m      1\u001b[0m \u001b[38;5;28;01mfrom\u001b[39;00m \u001b[38;5;21;01msklearn\u001b[39;00m\u001b[38;5;21;01m.\u001b[39;00m\u001b[38;5;21;01mmetrics\u001b[39;00m \u001b[38;5;28;01mimport\u001b[39;00m RocCurveDisplay\n\u001b[1;32m----> 3\u001b[0m \u001b[43mRocCurveDisplay\u001b[49m\u001b[38;5;241;43m.\u001b[39;49m\u001b[43mfrom_predictions\u001b[49m\u001b[43m(\u001b[49m\u001b[43m \u001b[49m\u001b[43my\u001b[49m\u001b[43m,\u001b[49m\u001b[43m \u001b[49m\u001b[43my_score\u001b[49m\u001b[43m,\u001b[49m\u001b[43m \u001b[49m\u001b[43mplot_chance_level\u001b[49m\u001b[38;5;241;43m=\u001b[39;49m\u001b[38;5;28;43;01mTrue\u001b[39;49;00m\u001b[43m \u001b[49m\u001b[43m)\u001b[49m\n",
      "File \u001b[1;32mC:\\ProgramData\\Anaconda3\\lib\\site-packages\\sklearn\\metrics\\_plot\\roc_curve.py:349\u001b[0m, in \u001b[0;36mRocCurveDisplay.from_predictions\u001b[1;34m(cls, y_true, y_pred, sample_weight, drop_intermediate, pos_label, name, ax, **kwargs)\u001b[0m\n\u001b[0;32m    343\u001b[0m pos_label \u001b[38;5;241m=\u001b[39m _check_pos_label_consistency(pos_label, y_true)\n\u001b[0;32m    345\u001b[0m viz \u001b[38;5;241m=\u001b[39m RocCurveDisplay(\n\u001b[0;32m    346\u001b[0m     fpr\u001b[38;5;241m=\u001b[39mfpr, tpr\u001b[38;5;241m=\u001b[39mtpr, roc_auc\u001b[38;5;241m=\u001b[39mroc_auc, estimator_name\u001b[38;5;241m=\u001b[39mname, pos_label\u001b[38;5;241m=\u001b[39mpos_label\n\u001b[0;32m    347\u001b[0m )\n\u001b[1;32m--> 349\u001b[0m \u001b[38;5;28;01mreturn\u001b[39;00m viz\u001b[38;5;241m.\u001b[39mplot(ax\u001b[38;5;241m=\u001b[39max, name\u001b[38;5;241m=\u001b[39mname, \u001b[38;5;241m*\u001b[39m\u001b[38;5;241m*\u001b[39mkwargs)\n",
      "File \u001b[1;32mC:\\ProgramData\\Anaconda3\\lib\\site-packages\\sklearn\\metrics\\_plot\\roc_curve.py:124\u001b[0m, in \u001b[0;36mRocCurveDisplay.plot\u001b[1;34m(self, ax, name, **kwargs)\u001b[0m\n\u001b[0;32m    121\u001b[0m \u001b[38;5;28;01mif\u001b[39;00m ax \u001b[38;5;129;01mis\u001b[39;00m \u001b[38;5;28;01mNone\u001b[39;00m:\n\u001b[0;32m    122\u001b[0m     fig, ax \u001b[38;5;241m=\u001b[39m plt\u001b[38;5;241m.\u001b[39msubplots()\n\u001b[1;32m--> 124\u001b[0m (\u001b[38;5;28mself\u001b[39m\u001b[38;5;241m.\u001b[39mline_,) \u001b[38;5;241m=\u001b[39m ax\u001b[38;5;241m.\u001b[39mplot(\u001b[38;5;28mself\u001b[39m\u001b[38;5;241m.\u001b[39mfpr, \u001b[38;5;28mself\u001b[39m\u001b[38;5;241m.\u001b[39mtpr, \u001b[38;5;241m*\u001b[39m\u001b[38;5;241m*\u001b[39mline_kwargs)\n\u001b[0;32m    125\u001b[0m info_pos_label \u001b[38;5;241m=\u001b[39m (\n\u001b[0;32m    126\u001b[0m     \u001b[38;5;124mf\u001b[39m\u001b[38;5;124m\"\u001b[39m\u001b[38;5;124m (Positive label: \u001b[39m\u001b[38;5;132;01m{\u001b[39;00m\u001b[38;5;28mself\u001b[39m\u001b[38;5;241m.\u001b[39mpos_label\u001b[38;5;132;01m}\u001b[39;00m\u001b[38;5;124m)\u001b[39m\u001b[38;5;124m\"\u001b[39m \u001b[38;5;28;01mif\u001b[39;00m \u001b[38;5;28mself\u001b[39m\u001b[38;5;241m.\u001b[39mpos_label \u001b[38;5;129;01mis\u001b[39;00m \u001b[38;5;129;01mnot\u001b[39;00m \u001b[38;5;28;01mNone\u001b[39;00m \u001b[38;5;28;01melse\u001b[39;00m \u001b[38;5;124m\"\u001b[39m\u001b[38;5;124m\"\u001b[39m\n\u001b[0;32m    127\u001b[0m )\n\u001b[0;32m    129\u001b[0m xlabel \u001b[38;5;241m=\u001b[39m \u001b[38;5;124m\"\u001b[39m\u001b[38;5;124mFalse Positive Rate\u001b[39m\u001b[38;5;124m\"\u001b[39m \u001b[38;5;241m+\u001b[39m info_pos_label\n",
      "File \u001b[1;32mC:\\ProgramData\\Anaconda3\\lib\\site-packages\\matplotlib\\axes\\_axes.py:1632\u001b[0m, in \u001b[0;36mAxes.plot\u001b[1;34m(self, scalex, scaley, data, *args, **kwargs)\u001b[0m\n\u001b[0;32m   1390\u001b[0m \u001b[38;5;250m\u001b[39m\u001b[38;5;124;03m\"\"\"\u001b[39;00m\n\u001b[0;32m   1391\u001b[0m \u001b[38;5;124;03mPlot y versus x as lines and/or markers.\u001b[39;00m\n\u001b[0;32m   1392\u001b[0m \n\u001b[1;32m   (...)\u001b[0m\n\u001b[0;32m   1629\u001b[0m \u001b[38;5;124;03m(``'green'``) or hex strings (``'#008000'``).\u001b[39;00m\n\u001b[0;32m   1630\u001b[0m \u001b[38;5;124;03m\"\"\"\u001b[39;00m\n\u001b[0;32m   1631\u001b[0m kwargs \u001b[38;5;241m=\u001b[39m cbook\u001b[38;5;241m.\u001b[39mnormalize_kwargs(kwargs, mlines\u001b[38;5;241m.\u001b[39mLine2D)\n\u001b[1;32m-> 1632\u001b[0m lines \u001b[38;5;241m=\u001b[39m [\u001b[38;5;241m*\u001b[39m\u001b[38;5;28mself\u001b[39m\u001b[38;5;241m.\u001b[39m_get_lines(\u001b[38;5;241m*\u001b[39margs, data\u001b[38;5;241m=\u001b[39mdata, \u001b[38;5;241m*\u001b[39m\u001b[38;5;241m*\u001b[39mkwargs)]\n\u001b[0;32m   1633\u001b[0m \u001b[38;5;28;01mfor\u001b[39;00m line \u001b[38;5;129;01min\u001b[39;00m lines:\n\u001b[0;32m   1634\u001b[0m     \u001b[38;5;28mself\u001b[39m\u001b[38;5;241m.\u001b[39madd_line(line)\n",
      "File \u001b[1;32mC:\\ProgramData\\Anaconda3\\lib\\site-packages\\matplotlib\\axes\\_base.py:312\u001b[0m, in \u001b[0;36m_process_plot_var_args.__call__\u001b[1;34m(self, data, *args, **kwargs)\u001b[0m\n\u001b[0;32m    310\u001b[0m     this \u001b[38;5;241m+\u001b[39m\u001b[38;5;241m=\u001b[39m args[\u001b[38;5;241m0\u001b[39m],\n\u001b[0;32m    311\u001b[0m     args \u001b[38;5;241m=\u001b[39m args[\u001b[38;5;241m1\u001b[39m:]\n\u001b[1;32m--> 312\u001b[0m \u001b[38;5;28;01myield from\u001b[39;00m \u001b[38;5;28;43mself\u001b[39;49m\u001b[38;5;241;43m.\u001b[39;49m\u001b[43m_plot_args\u001b[49m\u001b[43m(\u001b[49m\u001b[43mthis\u001b[49m\u001b[43m,\u001b[49m\u001b[43m \u001b[49m\u001b[43mkwargs\u001b[49m\u001b[43m)\u001b[49m\n",
      "File \u001b[1;32mC:\\ProgramData\\Anaconda3\\lib\\site-packages\\matplotlib\\axes\\_base.py:538\u001b[0m, in \u001b[0;36m_process_plot_var_args._plot_args\u001b[1;34m(self, tup, kwargs, return_kwargs)\u001b[0m\n\u001b[0;32m    536\u001b[0m     \u001b[38;5;28;01mreturn\u001b[39;00m \u001b[38;5;28mlist\u001b[39m(result)\n\u001b[0;32m    537\u001b[0m \u001b[38;5;28;01melse\u001b[39;00m:\n\u001b[1;32m--> 538\u001b[0m     \u001b[38;5;28;01mreturn\u001b[39;00m [l[\u001b[38;5;241m0\u001b[39m] \u001b[38;5;28;01mfor\u001b[39;00m l \u001b[38;5;129;01min\u001b[39;00m result]\n",
      "File \u001b[1;32mC:\\ProgramData\\Anaconda3\\lib\\site-packages\\matplotlib\\axes\\_base.py:538\u001b[0m, in \u001b[0;36m<listcomp>\u001b[1;34m(.0)\u001b[0m\n\u001b[0;32m    536\u001b[0m     \u001b[38;5;28;01mreturn\u001b[39;00m \u001b[38;5;28mlist\u001b[39m(result)\n\u001b[0;32m    537\u001b[0m \u001b[38;5;28;01melse\u001b[39;00m:\n\u001b[1;32m--> 538\u001b[0m     \u001b[38;5;28;01mreturn\u001b[39;00m [l[\u001b[38;5;241m0\u001b[39m] \u001b[38;5;28;01mfor\u001b[39;00m l \u001b[38;5;129;01min\u001b[39;00m result]\n",
      "File \u001b[1;32mC:\\ProgramData\\Anaconda3\\lib\\site-packages\\matplotlib\\axes\\_base.py:531\u001b[0m, in \u001b[0;36m<genexpr>\u001b[1;34m(.0)\u001b[0m\n\u001b[0;32m    528\u001b[0m \u001b[38;5;28;01melse\u001b[39;00m:\n\u001b[0;32m    529\u001b[0m     labels \u001b[38;5;241m=\u001b[39m [label] \u001b[38;5;241m*\u001b[39m n_datasets\n\u001b[1;32m--> 531\u001b[0m result \u001b[38;5;241m=\u001b[39m (\u001b[43mmake_artist\u001b[49m\u001b[43m(\u001b[49m\u001b[43mx\u001b[49m\u001b[43m[\u001b[49m\u001b[43m:\u001b[49m\u001b[43m,\u001b[49m\u001b[43m \u001b[49m\u001b[43mj\u001b[49m\u001b[43m \u001b[49m\u001b[38;5;241;43m%\u001b[39;49m\u001b[43m \u001b[49m\u001b[43mncx\u001b[49m\u001b[43m]\u001b[49m\u001b[43m,\u001b[49m\u001b[43m \u001b[49m\u001b[43my\u001b[49m\u001b[43m[\u001b[49m\u001b[43m:\u001b[49m\u001b[43m,\u001b[49m\u001b[43m \u001b[49m\u001b[43mj\u001b[49m\u001b[43m \u001b[49m\u001b[38;5;241;43m%\u001b[39;49m\u001b[43m \u001b[49m\u001b[43mncy\u001b[49m\u001b[43m]\u001b[49m\u001b[43m,\u001b[49m\u001b[43m \u001b[49m\u001b[43mkw\u001b[49m\u001b[43m,\u001b[49m\n\u001b[0;32m    532\u001b[0m \u001b[43m                      \u001b[49m\u001b[43m{\u001b[49m\u001b[38;5;241;43m*\u001b[39;49m\u001b[38;5;241;43m*\u001b[39;49m\u001b[43mkwargs\u001b[49m\u001b[43m,\u001b[49m\u001b[43m \u001b[49m\u001b[38;5;124;43m'\u001b[39;49m\u001b[38;5;124;43mlabel\u001b[39;49m\u001b[38;5;124;43m'\u001b[39;49m\u001b[43m:\u001b[49m\u001b[43m \u001b[49m\u001b[43mlabel\u001b[49m\u001b[43m}\u001b[49m\u001b[43m)\u001b[49m\n\u001b[0;32m    533\u001b[0m           \u001b[38;5;28;01mfor\u001b[39;00m j, label \u001b[38;5;129;01min\u001b[39;00m \u001b[38;5;28menumerate\u001b[39m(labels))\n\u001b[0;32m    535\u001b[0m \u001b[38;5;28;01mif\u001b[39;00m return_kwargs:\n\u001b[0;32m    536\u001b[0m     \u001b[38;5;28;01mreturn\u001b[39;00m \u001b[38;5;28mlist\u001b[39m(result)\n",
      "File \u001b[1;32mC:\\ProgramData\\Anaconda3\\lib\\site-packages\\matplotlib\\axes\\_base.py:351\u001b[0m, in \u001b[0;36m_process_plot_var_args._makeline\u001b[1;34m(self, x, y, kw, kwargs)\u001b[0m\n\u001b[0;32m    349\u001b[0m default_dict \u001b[38;5;241m=\u001b[39m \u001b[38;5;28mself\u001b[39m\u001b[38;5;241m.\u001b[39m_getdefaults(\u001b[38;5;28mset\u001b[39m(), kw)\n\u001b[0;32m    350\u001b[0m \u001b[38;5;28mself\u001b[39m\u001b[38;5;241m.\u001b[39m_setdefaults(default_dict, kw)\n\u001b[1;32m--> 351\u001b[0m seg \u001b[38;5;241m=\u001b[39m mlines\u001b[38;5;241m.\u001b[39mLine2D(x, y, \u001b[38;5;241m*\u001b[39m\u001b[38;5;241m*\u001b[39mkw)\n\u001b[0;32m    352\u001b[0m \u001b[38;5;28;01mreturn\u001b[39;00m seg, kw\n",
      "File \u001b[1;32mC:\\ProgramData\\Anaconda3\\lib\\site-packages\\matplotlib\\lines.py:393\u001b[0m, in \u001b[0;36mLine2D.__init__\u001b[1;34m(self, xdata, ydata, linewidth, linestyle, color, marker, markersize, markeredgewidth, markeredgecolor, markerfacecolor, markerfacecoloralt, fillstyle, antialiased, dash_capstyle, solid_capstyle, dash_joinstyle, solid_joinstyle, pickradius, drawstyle, markevery, **kwargs)\u001b[0m\n\u001b[0;32m    389\u001b[0m \u001b[38;5;28mself\u001b[39m\u001b[38;5;241m.\u001b[39mset_markeredgewidth(markeredgewidth)\n\u001b[0;32m    391\u001b[0m \u001b[38;5;66;03m# update kwargs before updating data to give the caller a\u001b[39;00m\n\u001b[0;32m    392\u001b[0m \u001b[38;5;66;03m# chance to init axes (and hence unit support)\u001b[39;00m\n\u001b[1;32m--> 393\u001b[0m \u001b[38;5;28;43mself\u001b[39;49m\u001b[38;5;241;43m.\u001b[39;49m\u001b[43mupdate\u001b[49m\u001b[43m(\u001b[49m\u001b[43mkwargs\u001b[49m\u001b[43m)\u001b[49m\n\u001b[0;32m    394\u001b[0m \u001b[38;5;28mself\u001b[39m\u001b[38;5;241m.\u001b[39mpickradius \u001b[38;5;241m=\u001b[39m pickradius\n\u001b[0;32m    395\u001b[0m \u001b[38;5;28mself\u001b[39m\u001b[38;5;241m.\u001b[39mind_offset \u001b[38;5;241m=\u001b[39m \u001b[38;5;241m0\u001b[39m\n",
      "File \u001b[1;32mC:\\ProgramData\\Anaconda3\\lib\\site-packages\\matplotlib\\artist.py:1064\u001b[0m, in \u001b[0;36mArtist.update\u001b[1;34m(self, props)\u001b[0m\n\u001b[0;32m   1062\u001b[0m             func \u001b[38;5;241m=\u001b[39m \u001b[38;5;28mgetattr\u001b[39m(\u001b[38;5;28mself\u001b[39m, \u001b[38;5;124mf\u001b[39m\u001b[38;5;124m\"\u001b[39m\u001b[38;5;124mset_\u001b[39m\u001b[38;5;132;01m{\u001b[39;00mk\u001b[38;5;132;01m}\u001b[39;00m\u001b[38;5;124m\"\u001b[39m, \u001b[38;5;28;01mNone\u001b[39;00m)\n\u001b[0;32m   1063\u001b[0m             \u001b[38;5;28;01mif\u001b[39;00m \u001b[38;5;129;01mnot\u001b[39;00m \u001b[38;5;28mcallable\u001b[39m(func):\n\u001b[1;32m-> 1064\u001b[0m                 \u001b[38;5;28;01mraise\u001b[39;00m \u001b[38;5;167;01mAttributeError\u001b[39;00m(\u001b[38;5;124mf\u001b[39m\u001b[38;5;124m\"\u001b[39m\u001b[38;5;132;01m{\u001b[39;00m\u001b[38;5;28mtype\u001b[39m(\u001b[38;5;28mself\u001b[39m)\u001b[38;5;241m.\u001b[39m\u001b[38;5;18m__name__\u001b[39m\u001b[38;5;132;01m!r}\u001b[39;00m\u001b[38;5;124m object \u001b[39m\u001b[38;5;124m\"\u001b[39m\n\u001b[0;32m   1065\u001b[0m                                      \u001b[38;5;124mf\u001b[39m\u001b[38;5;124m\"\u001b[39m\u001b[38;5;124mhas no property \u001b[39m\u001b[38;5;132;01m{\u001b[39;00mk\u001b[38;5;132;01m!r}\u001b[39;00m\u001b[38;5;124m\"\u001b[39m)\n\u001b[0;32m   1066\u001b[0m             ret\u001b[38;5;241m.\u001b[39mappend(func(v))\n\u001b[0;32m   1067\u001b[0m \u001b[38;5;28;01mif\u001b[39;00m ret:\n",
      "\u001b[1;31mAttributeError\u001b[0m: 'Line2D' object has no property 'plot_chance_level'"
     ]
    },
    {
     "data": {
      "image/png": "[encoded data removed]",
      "text/plain": [
       "<Figure size 432x288 with 1 Axes>"
      ]
     },
     "metadata": {
      "needs_background": "light"
     },
     "output_type": "display_data"
    }
   ],
   "source": [
    "from sklearn.metrics import RocCurveDisplay\n",
    "\n",
    "RocCurveDisplay.from_predictions( y, y_score, plot_chance_level=True )"
   ]
  },
  {
   "cell_type": "markdown",
   "id": "2029f93b",
   "metadata": {},
   "source": [
    "<font color=\"blue\">\n",
    "\n",
    "We use `from_estimator()` if we have not done the prediction. The function takes our (fitted) classifier, the sample to predict with, and the true labels. It does the prediction and then plot the curve. \n",
    "    \n",
    "Note that we have to fit the classifier first. Here we are experimenting with toy data and did not split it into training and test data. In actual use, we will fit the classifier on our training data, then call `from_estimator()` to predict from the test data and plot the curve.\n",
    "    \n",
    "</font>"
   ]
  },
  {
   "cell_type": "code",
   "execution_count": 23,
   "id": "eab69e08",
   "metadata": {},
   "outputs": [
    {
     "ename": "AttributeError",
     "evalue": "'Line2D' object has no property 'plot_chance_level'",
     "output_type": "error",
     "traceback": [
      "\u001b[1;31m---------------------------------------------------------------------------\u001b[0m",
      "\u001b[1;31mAttributeError\u001b[0m                            Traceback (most recent call last)",
      "Input \u001b[1;32mIn [23]\u001b[0m, in \u001b[0;36m<cell line: 1>\u001b[1;34m()\u001b[0m\n\u001b[1;32m----> 1\u001b[0m \u001b[43mRocCurveDisplay\u001b[49m\u001b[38;5;241;43m.\u001b[39;49m\u001b[43mfrom_estimator\u001b[49m\u001b[43m(\u001b[49m\u001b[43m \u001b[49m\u001b[43mmodel\u001b[49m\u001b[43m,\u001b[49m\u001b[43m \u001b[49m\u001b[43mx\u001b[49m\u001b[43m,\u001b[49m\u001b[43m \u001b[49m\u001b[43my\u001b[49m\u001b[43m,\u001b[49m\u001b[43m \u001b[49m\u001b[43mplot_chance_level\u001b[49m\u001b[38;5;241;43m=\u001b[39;49m\u001b[38;5;28;43;01mTrue\u001b[39;49;00m\u001b[43m \u001b[49m\u001b[43m)\u001b[49m\n",
      "File \u001b[1;32mC:\\ProgramData\\Anaconda3\\lib\\site-packages\\sklearn\\metrics\\_plot\\roc_curve.py:238\u001b[0m, in \u001b[0;36mRocCurveDisplay.from_estimator\u001b[1;34m(cls, estimator, X, y, sample_weight, drop_intermediate, response_method, pos_label, name, ax, **kwargs)\u001b[0m\n\u001b[0;32m    229\u001b[0m name \u001b[38;5;241m=\u001b[39m estimator\u001b[38;5;241m.\u001b[39m\u001b[38;5;18m__class__\u001b[39m\u001b[38;5;241m.\u001b[39m\u001b[38;5;18m__name__\u001b[39m \u001b[38;5;28;01mif\u001b[39;00m name \u001b[38;5;129;01mis\u001b[39;00m \u001b[38;5;28;01mNone\u001b[39;00m \u001b[38;5;28;01melse\u001b[39;00m name\n\u001b[0;32m    231\u001b[0m y_pred, pos_label \u001b[38;5;241m=\u001b[39m _get_response(\n\u001b[0;32m    232\u001b[0m     X,\n\u001b[0;32m    233\u001b[0m     estimator,\n\u001b[0;32m    234\u001b[0m     response_method\u001b[38;5;241m=\u001b[39mresponse_method,\n\u001b[0;32m    235\u001b[0m     pos_label\u001b[38;5;241m=\u001b[39mpos_label,\n\u001b[0;32m    236\u001b[0m )\n\u001b[1;32m--> 238\u001b[0m \u001b[38;5;28;01mreturn\u001b[39;00m \u001b[38;5;28mcls\u001b[39m\u001b[38;5;241m.\u001b[39mfrom_predictions(\n\u001b[0;32m    239\u001b[0m     y_true\u001b[38;5;241m=\u001b[39my,\n\u001b[0;32m    240\u001b[0m     y_pred\u001b[38;5;241m=\u001b[39my_pred,\n\u001b[0;32m    241\u001b[0m     sample_weight\u001b[38;5;241m=\u001b[39msample_weight,\n\u001b[0;32m    242\u001b[0m     drop_intermediate\u001b[38;5;241m=\u001b[39mdrop_intermediate,\n\u001b[0;32m    243\u001b[0m     name\u001b[38;5;241m=\u001b[39mname,\n\u001b[0;32m    244\u001b[0m     ax\u001b[38;5;241m=\u001b[39max,\n\u001b[0;32m    245\u001b[0m     pos_label\u001b[38;5;241m=\u001b[39mpos_label,\n\u001b[0;32m    246\u001b[0m     \u001b[38;5;241m*\u001b[39m\u001b[38;5;241m*\u001b[39mkwargs,\n\u001b[0;32m    247\u001b[0m )\n",
      "File \u001b[1;32mC:\\ProgramData\\Anaconda3\\lib\\site-packages\\sklearn\\metrics\\_plot\\roc_curve.py:349\u001b[0m, in \u001b[0;36mRocCurveDisplay.from_predictions\u001b[1;34m(cls, y_true, y_pred, sample_weight, drop_intermediate, pos_label, name, ax, **kwargs)\u001b[0m\n\u001b[0;32m    343\u001b[0m pos_label \u001b[38;5;241m=\u001b[39m _check_pos_label_consistency(pos_label, y_true)\n\u001b[0;32m    345\u001b[0m viz \u001b[38;5;241m=\u001b[39m RocCurveDisplay(\n\u001b[0;32m    346\u001b[0m     fpr\u001b[38;5;241m=\u001b[39mfpr, tpr\u001b[38;5;241m=\u001b[39mtpr, roc_auc\u001b[38;5;241m=\u001b[39mroc_auc, estimator_name\u001b[38;5;241m=\u001b[39mname, pos_label\u001b[38;5;241m=\u001b[39mpos_label\n\u001b[0;32m    347\u001b[0m )\n\u001b[1;32m--> 349\u001b[0m \u001b[38;5;28;01mreturn\u001b[39;00m viz\u001b[38;5;241m.\u001b[39mplot(ax\u001b[38;5;241m=\u001b[39max, name\u001b[38;5;241m=\u001b[39mname, \u001b[38;5;241m*\u001b[39m\u001b[38;5;241m*\u001b[39mkwargs)\n",
      "File \u001b[1;32mC:\\ProgramData\\Anaconda3\\lib\\site-packages\\sklearn\\metrics\\_plot\\roc_curve.py:124\u001b[0m, in \u001b[0;36mRocCurveDisplay.plot\u001b[1;34m(self, ax, name, **kwargs)\u001b[0m\n\u001b[0;32m    121\u001b[0m \u001b[38;5;28;01mif\u001b[39;00m ax \u001b[38;5;129;01mis\u001b[39;00m \u001b[38;5;28;01mNone\u001b[39;00m:\n\u001b[0;32m    122\u001b[0m     fig, ax \u001b[38;5;241m=\u001b[39m plt\u001b[38;5;241m.\u001b[39msubplots()\n\u001b[1;32m--> 124\u001b[0m (\u001b[38;5;28mself\u001b[39m\u001b[38;5;241m.\u001b[39mline_,) \u001b[38;5;241m=\u001b[39m ax\u001b[38;5;241m.\u001b[39mplot(\u001b[38;5;28mself\u001b[39m\u001b[38;5;241m.\u001b[39mfpr, \u001b[38;5;28mself\u001b[39m\u001b[38;5;241m.\u001b[39mtpr, \u001b[38;5;241m*\u001b[39m\u001b[38;5;241m*\u001b[39mline_kwargs)\n\u001b[0;32m    125\u001b[0m info_pos_label \u001b[38;5;241m=\u001b[39m (\n\u001b[0;32m    126\u001b[0m     \u001b[38;5;124mf\u001b[39m\u001b[38;5;124m\"\u001b[39m\u001b[38;5;124m (Positive label: \u001b[39m\u001b[38;5;132;01m{\u001b[39;00m\u001b[38;5;28mself\u001b[39m\u001b[38;5;241m.\u001b[39mpos_label\u001b[38;5;132;01m}\u001b[39;00m\u001b[38;5;124m)\u001b[39m\u001b[38;5;124m\"\u001b[39m \u001b[38;5;28;01mif\u001b[39;00m \u001b[38;5;28mself\u001b[39m\u001b[38;5;241m.\u001b[39mpos_label \u001b[38;5;129;01mis\u001b[39;00m \u001b[38;5;129;01mnot\u001b[39;00m \u001b[38;5;28;01mNone\u001b[39;00m \u001b[38;5;28;01melse\u001b[39;00m \u001b[38;5;124m\"\u001b[39m\u001b[38;5;124m\"\u001b[39m\n\u001b[0;32m    127\u001b[0m )\n\u001b[0;32m    129\u001b[0m xlabel \u001b[38;5;241m=\u001b[39m \u001b[38;5;124m\"\u001b[39m\u001b[38;5;124mFalse Positive Rate\u001b[39m\u001b[38;5;124m\"\u001b[39m \u001b[38;5;241m+\u001b[39m info_pos_label\n",
      "File \u001b[1;32mC:\\ProgramData\\Anaconda3\\lib\\site-packages\\matplotlib\\axes\\_axes.py:1632\u001b[0m, in \u001b[0;36mAxes.plot\u001b[1;34m(self, scalex, scaley, data, *args, **kwargs)\u001b[0m\n\u001b[0;32m   1390\u001b[0m \u001b[38;5;250m\u001b[39m\u001b[38;5;124;03m\"\"\"\u001b[39;00m\n\u001b[0;32m   1391\u001b[0m \u001b[38;5;124;03mPlot y versus x as lines and/or markers.\u001b[39;00m\n\u001b[0;32m   1392\u001b[0m \n\u001b[1;32m   (...)\u001b[0m\n\u001b[0;32m   1629\u001b[0m \u001b[38;5;124;03m(``'green'``) or hex strings (``'#008000'``).\u001b[39;00m\n\u001b[0;32m   1630\u001b[0m \u001b[38;5;124;03m\"\"\"\u001b[39;00m\n\u001b[0;32m   1631\u001b[0m kwargs \u001b[38;5;241m=\u001b[39m cbook\u001b[38;5;241m.\u001b[39mnormalize_kwargs(kwargs, mlines\u001b[38;5;241m.\u001b[39mLine2D)\n\u001b[1;32m-> 1632\u001b[0m lines \u001b[38;5;241m=\u001b[39m [\u001b[38;5;241m*\u001b[39m\u001b[38;5;28mself\u001b[39m\u001b[38;5;241m.\u001b[39m_get_lines(\u001b[38;5;241m*\u001b[39margs, data\u001b[38;5;241m=\u001b[39mdata, \u001b[38;5;241m*\u001b[39m\u001b[38;5;241m*\u001b[39mkwargs)]\n\u001b[0;32m   1633\u001b[0m \u001b[38;5;28;01mfor\u001b[39;00m line \u001b[38;5;129;01min\u001b[39;00m lines:\n\u001b[0;32m   1634\u001b[0m     \u001b[38;5;28mself\u001b[39m\u001b[38;5;241m.\u001b[39madd_line(line)\n",
      "File \u001b[1;32mC:\\ProgramData\\Anaconda3\\lib\\site-packages\\matplotlib\\axes\\_base.py:312\u001b[0m, in \u001b[0;36m_process_plot_var_args.__call__\u001b[1;34m(self, data, *args, **kwargs)\u001b[0m\n\u001b[0;32m    310\u001b[0m     this \u001b[38;5;241m+\u001b[39m\u001b[38;5;241m=\u001b[39m args[\u001b[38;5;241m0\u001b[39m],\n\u001b[0;32m    311\u001b[0m     args \u001b[38;5;241m=\u001b[39m args[\u001b[38;5;241m1\u001b[39m:]\n\u001b[1;32m--> 312\u001b[0m \u001b[38;5;28;01myield from\u001b[39;00m \u001b[38;5;28;43mself\u001b[39;49m\u001b[38;5;241;43m.\u001b[39;49m\u001b[43m_plot_args\u001b[49m\u001b[43m(\u001b[49m\u001b[43mthis\u001b[49m\u001b[43m,\u001b[49m\u001b[43m \u001b[49m\u001b[43mkwargs\u001b[49m\u001b[43m)\u001b[49m\n",
      "File \u001b[1;32mC:\\ProgramData\\Anaconda3\\lib\\site-packages\\matplotlib\\axes\\_base.py:538\u001b[0m, in \u001b[0;36m_process_plot_var_args._plot_args\u001b[1;34m(self, tup, kwargs, return_kwargs)\u001b[0m\n\u001b[0;32m    536\u001b[0m     \u001b[38;5;28;01mreturn\u001b[39;00m \u001b[38;5;28mlist\u001b[39m(result)\n\u001b[0;32m    537\u001b[0m \u001b[38;5;28;01melse\u001b[39;00m:\n\u001b[1;32m--> 538\u001b[0m     \u001b[38;5;28;01mreturn\u001b[39;00m [l[\u001b[38;5;241m0\u001b[39m] \u001b[38;5;28;01mfor\u001b[39;00m l \u001b[38;5;129;01min\u001b[39;00m result]\n",
      "File \u001b[1;32mC:\\ProgramData\\Anaconda3\\lib\\site-packages\\matplotlib\\axes\\_base.py:538\u001b[0m, in \u001b[0;36m<listcomp>\u001b[1;34m(.0)\u001b[0m\n\u001b[0;32m    536\u001b[0m     \u001b[38;5;28;01mreturn\u001b[39;00m \u001b[38;5;28mlist\u001b[39m(result)\n\u001b[0;32m    537\u001b[0m \u001b[38;5;28;01melse\u001b[39;00m:\n\u001b[1;32m--> 538\u001b[0m     \u001b[38;5;28;01mreturn\u001b[39;00m [l[\u001b[38;5;241m0\u001b[39m] \u001b[38;5;28;01mfor\u001b[39;00m l \u001b[38;5;129;01min\u001b[39;00m result]\n",
      "File \u001b[1;32mC:\\ProgramData\\Anaconda3\\lib\\site-packages\\matplotlib\\axes\\_base.py:531\u001b[0m, in \u001b[0;36m<genexpr>\u001b[1;34m(.0)\u001b[0m\n\u001b[0;32m    528\u001b[0m \u001b[38;5;28;01melse\u001b[39;00m:\n\u001b[0;32m    529\u001b[0m     labels \u001b[38;5;241m=\u001b[39m [label] \u001b[38;5;241m*\u001b[39m n_datasets\n\u001b[1;32m--> 531\u001b[0m result \u001b[38;5;241m=\u001b[39m (\u001b[43mmake_artist\u001b[49m\u001b[43m(\u001b[49m\u001b[43mx\u001b[49m\u001b[43m[\u001b[49m\u001b[43m:\u001b[49m\u001b[43m,\u001b[49m\u001b[43m \u001b[49m\u001b[43mj\u001b[49m\u001b[43m \u001b[49m\u001b[38;5;241;43m%\u001b[39;49m\u001b[43m \u001b[49m\u001b[43mncx\u001b[49m\u001b[43m]\u001b[49m\u001b[43m,\u001b[49m\u001b[43m \u001b[49m\u001b[43my\u001b[49m\u001b[43m[\u001b[49m\u001b[43m:\u001b[49m\u001b[43m,\u001b[49m\u001b[43m \u001b[49m\u001b[43mj\u001b[49m\u001b[43m \u001b[49m\u001b[38;5;241;43m%\u001b[39;49m\u001b[43m \u001b[49m\u001b[43mncy\u001b[49m\u001b[43m]\u001b[49m\u001b[43m,\u001b[49m\u001b[43m \u001b[49m\u001b[43mkw\u001b[49m\u001b[43m,\u001b[49m\n\u001b[0;32m    532\u001b[0m \u001b[43m                      \u001b[49m\u001b[43m{\u001b[49m\u001b[38;5;241;43m*\u001b[39;49m\u001b[38;5;241;43m*\u001b[39;49m\u001b[43mkwargs\u001b[49m\u001b[43m,\u001b[49m\u001b[43m \u001b[49m\u001b[38;5;124;43m'\u001b[39;49m\u001b[38;5;124;43mlabel\u001b[39;49m\u001b[38;5;124;43m'\u001b[39;49m\u001b[43m:\u001b[49m\u001b[43m \u001b[49m\u001b[43mlabel\u001b[49m\u001b[43m}\u001b[49m\u001b[43m)\u001b[49m\n\u001b[0;32m    533\u001b[0m           \u001b[38;5;28;01mfor\u001b[39;00m j, label \u001b[38;5;129;01min\u001b[39;00m \u001b[38;5;28menumerate\u001b[39m(labels))\n\u001b[0;32m    535\u001b[0m \u001b[38;5;28;01mif\u001b[39;00m return_kwargs:\n\u001b[0;32m    536\u001b[0m     \u001b[38;5;28;01mreturn\u001b[39;00m \u001b[38;5;28mlist\u001b[39m(result)\n",
      "File \u001b[1;32mC:\\ProgramData\\Anaconda3\\lib\\site-packages\\matplotlib\\axes\\_base.py:351\u001b[0m, in \u001b[0;36m_process_plot_var_args._makeline\u001b[1;34m(self, x, y, kw, kwargs)\u001b[0m\n\u001b[0;32m    349\u001b[0m default_dict \u001b[38;5;241m=\u001b[39m \u001b[38;5;28mself\u001b[39m\u001b[38;5;241m.\u001b[39m_getdefaults(\u001b[38;5;28mset\u001b[39m(), kw)\n\u001b[0;32m    350\u001b[0m \u001b[38;5;28mself\u001b[39m\u001b[38;5;241m.\u001b[39m_setdefaults(default_dict, kw)\n\u001b[1;32m--> 351\u001b[0m seg \u001b[38;5;241m=\u001b[39m mlines\u001b[38;5;241m.\u001b[39mLine2D(x, y, \u001b[38;5;241m*\u001b[39m\u001b[38;5;241m*\u001b[39mkw)\n\u001b[0;32m    352\u001b[0m \u001b[38;5;28;01mreturn\u001b[39;00m seg, kw\n",
      "File \u001b[1;32mC:\\ProgramData\\Anaconda3\\lib\\site-packages\\matplotlib\\lines.py:393\u001b[0m, in \u001b[0;36mLine2D.__init__\u001b[1;34m(self, xdata, ydata, linewidth, linestyle, color, marker, markersize, markeredgewidth, markeredgecolor, markerfacecolor, markerfacecoloralt, fillstyle, antialiased, dash_capstyle, solid_capstyle, dash_joinstyle, solid_joinstyle, pickradius, drawstyle, markevery, **kwargs)\u001b[0m\n\u001b[0;32m    389\u001b[0m \u001b[38;5;28mself\u001b[39m\u001b[38;5;241m.\u001b[39mset_markeredgewidth(markeredgewidth)\n\u001b[0;32m    391\u001b[0m \u001b[38;5;66;03m# update kwargs before updating data to give the caller a\u001b[39;00m\n\u001b[0;32m    392\u001b[0m \u001b[38;5;66;03m# chance to init axes (and hence unit support)\u001b[39;00m\n\u001b[1;32m--> 393\u001b[0m \u001b[38;5;28;43mself\u001b[39;49m\u001b[38;5;241;43m.\u001b[39;49m\u001b[43mupdate\u001b[49m\u001b[43m(\u001b[49m\u001b[43mkwargs\u001b[49m\u001b[43m)\u001b[49m\n\u001b[0;32m    394\u001b[0m \u001b[38;5;28mself\u001b[39m\u001b[38;5;241m.\u001b[39mpickradius \u001b[38;5;241m=\u001b[39m pickradius\n\u001b[0;32m    395\u001b[0m \u001b[38;5;28mself\u001b[39m\u001b[38;5;241m.\u001b[39mind_offset \u001b[38;5;241m=\u001b[39m \u001b[38;5;241m0\u001b[39m\n",
      "File \u001b[1;32mC:\\ProgramData\\Anaconda3\\lib\\site-packages\\matplotlib\\artist.py:1064\u001b[0m, in \u001b[0;36mArtist.update\u001b[1;34m(self, props)\u001b[0m\n\u001b[0;32m   1062\u001b[0m             func \u001b[38;5;241m=\u001b[39m \u001b[38;5;28mgetattr\u001b[39m(\u001b[38;5;28mself\u001b[39m, \u001b[38;5;124mf\u001b[39m\u001b[38;5;124m\"\u001b[39m\u001b[38;5;124mset_\u001b[39m\u001b[38;5;132;01m{\u001b[39;00mk\u001b[38;5;132;01m}\u001b[39;00m\u001b[38;5;124m\"\u001b[39m, \u001b[38;5;28;01mNone\u001b[39;00m)\n\u001b[0;32m   1063\u001b[0m             \u001b[38;5;28;01mif\u001b[39;00m \u001b[38;5;129;01mnot\u001b[39;00m \u001b[38;5;28mcallable\u001b[39m(func):\n\u001b[1;32m-> 1064\u001b[0m                 \u001b[38;5;28;01mraise\u001b[39;00m \u001b[38;5;167;01mAttributeError\u001b[39;00m(\u001b[38;5;124mf\u001b[39m\u001b[38;5;124m\"\u001b[39m\u001b[38;5;132;01m{\u001b[39;00m\u001b[38;5;28mtype\u001b[39m(\u001b[38;5;28mself\u001b[39m)\u001b[38;5;241m.\u001b[39m\u001b[38;5;18m__name__\u001b[39m\u001b[38;5;132;01m!r}\u001b[39;00m\u001b[38;5;124m object \u001b[39m\u001b[38;5;124m\"\u001b[39m\n\u001b[0;32m   1065\u001b[0m                                      \u001b[38;5;124mf\u001b[39m\u001b[38;5;124m\"\u001b[39m\u001b[38;5;124mhas no property \u001b[39m\u001b[38;5;132;01m{\u001b[39;00mk\u001b[38;5;132;01m!r}\u001b[39;00m\u001b[38;5;124m\"\u001b[39m)\n\u001b[0;32m   1066\u001b[0m             ret\u001b[38;5;241m.\u001b[39mappend(func(v))\n\u001b[0;32m   1067\u001b[0m \u001b[38;5;28;01mif\u001b[39;00m ret:\n",
      "\u001b[1;31mAttributeError\u001b[0m: 'Line2D' object has no property 'plot_chance_level'"
     ]
    },
    {
     "data": {
      "image/png": "[encoded data removed]",
      "text/plain": [
       "<Figure size 432x288 with 1 Axes>"
      ]
     },
     "metadata": {
      "needs_background": "light"
     },
     "output_type": "display_data"
    }
   ],
   "source": [
    "RocCurveDisplay.from_estimator( model, x, y, plot_chance_level=True )"
   ]
  },
  {
   "cell_type": "markdown",
   "id": "48343e22",
   "metadata": {},
   "source": [
    "<font color=\"blue\">\n",
    "    \n",
    "The ROC curves from these two functions should be exactly the same as the ROC curve we built in the earlier section.\n",
    "    \n",
    "We see that the functions also compute AUROC (or AUC) and display the value on the plot legends.\n",
    "\n",
    "As an additional note, sklearn also provides [`PrecisionRecallDisplay`](https://scikit-learn.org/stable/modules/generated/sklearn.metrics.PrecisionRecallDisplay.html) module that works very similarly to `RocCurveDisplay`, and plots Precision against Recall for various thresholds. These are metrics that are more suited to situations involving imbalanced datasets.\n",
    "\n",
    "</font>"
   ]
  },
  {
   "cell_type": "markdown",
   "id": "d3e85d6b",
   "metadata": {},
   "source": [
    "## AUROC Properties <a class=\"anchor\" id=\"AUROC-Properties\"></a>\n",
    "\n",
    "AUROC has the following properties that are desirable for measuring classification performance:\n",
    "\n",
    "- Scale-invariant: It measures how well predictions are ranked, rather than their absolute values.\n",
    "- Threshold-invariant: It measures the quality of the model's predictions irrespective of what classification threshold is chosen.\n"
   ]
  },
  {
   "cell_type": "markdown",
   "id": "a9f1a527",
   "metadata": {},
   "source": [
    "## AUROC in Multi-Class Classification <a class=\"anchor\" id=\"Multi-Class\"></a>\n",
    "\n",
    "We have so far talked about binary classification. The `roc_auc_score` function can also be used in _multi-class classification_. Scikit-learn currently supports two averaging strategies:\n",
    "\n",
    "- The __one-vs-one (OvO)__ algorithm computes the average of the pairwise AUROC scores.\n",
    "\n",
    "- The __one-vs-rest (OvR)__ algorithm computes the average of the AUROC scores for each class against all other classes.\n",
    "\n",
    "In both cases, the predicted labels are provided in an array with values from 0 to` n_classes`, and the scores correspond to the probability estimates that a sample belongs to a particular class. Both algorithms support weighting uniformly (`average='macro'`) and by prevalence (`average='weighted'`).\n",
    "\n",
    "Let's illustrate using the iris dataset which we have seen in past tutorial."
   ]
  },
  {
   "cell_type": "code",
   "execution_count": 26,
   "id": "ff3515cc",
   "metadata": {},
   "outputs": [],
   "source": [
    "from sklearn import svm, datasets\n",
    "from sklearn.preprocessing import label_binarize\n",
    "from sklearn.model_selection import train_test_split\n",
    "from sklearn.multiclass import OneVsRestClassifier"
   ]
  },
  {
   "cell_type": "code",
   "execution_count": 27,
   "id": "112d4e95",
   "metadata": {},
   "outputs": [],
   "source": [
    "iris = datasets.load_iris()\n",
    "X = iris.data\n",
    "y = iris.target\n",
    "\n",
    "# Binarize the output\n",
    "y = label_binarize(y, classes=[0, 1, 2])\n",
    "n_classes = y.shape[1]"
   ]
  },
  {
   "cell_type": "markdown",
   "id": "f6f16121",
   "metadata": {},
   "source": [
    "Let's shuffle and split it into training and test datasets."
   ]
  },
  {
   "cell_type": "code",
   "execution_count": null,
   "id": "8611e57c",
   "metadata": {},
   "outputs": [],
   "source": [
    "X_train, X_test, y_train, y_test = train_test_split( X, y, test_size=0.5, random_state=0 )"
   ]
  },
  {
   "cell_type": "markdown",
   "id": "2ba86374",
   "metadata": {},
   "source": [
    "For the purpose of this illustration, we use [`OneVsRestClassifier`](https://scikit-learn.org/stable/modules/generated/sklearn.multiclass.OneVsRestClassifier.html) with [`SVC`](https://scikit-learn.org/1.0/modules/generated/sklearn.svm.SVC.html#sklearn.svm.SVC) as the estimator to learn from the data."
   ]
  },
  {
   "cell_type": "code",
   "execution_count": null,
   "id": "8177c2bd",
   "metadata": {},
   "outputs": [],
   "source": [
    "random_state = np.random.RandomState(0)\n",
    "\n",
    "classifier = OneVsRestClassifier(\n",
    "    svm.SVC( kernel=\"linear\", probability=True, random_state=random_state )\n",
    ")\n",
    "y_score = classifier.fit( X_train, y_train ).decision_function( X_test )"
   ]
  },
  {
   "cell_type": "markdown",
   "id": "ea947237",
   "metadata": {},
   "source": [
    "We can now perform the prediction."
   ]
  },
  {
   "cell_type": "code",
   "execution_count": null,
   "id": "77dc1c7b",
   "metadata": {},
   "outputs": [],
   "source": [
    "y_prob = classifier.predict_proba( X_test )"
   ]
  },
  {
   "cell_type": "markdown",
   "id": "f170c91d",
   "metadata": {},
   "source": [
    "Let's calculate the AUROC values for each of the algorithms, OvO and OvR, each with macro-averaging and weighted-averaging. "
   ]
  },
  {
   "cell_type": "code",
   "execution_count": null,
   "id": "0227485d",
   "metadata": {},
   "outputs": [],
   "source": [
    "macro_roc_auc_ovo = roc_auc_score( y_test, y_prob, multi_class=\"ovo\", average=\"macro\" )\n",
    "weighted_roc_auc_ovo = roc_auc_score( y_test, y_prob, multi_class=\"ovo\", average=\"weighted\" )\n",
    "print(\n",
    "    \"One-vs-One ROC AUC scores:\\n{:.6f} (macro),\\n{:.6f} \"\n",
    "    \"(weighted by prevalence)\".format(macro_roc_auc_ovo, weighted_roc_auc_ovo)\n",
    ")"
   ]
  },
  {
   "cell_type": "code",
   "execution_count": null,
   "id": "84ed3719",
   "metadata": {},
   "outputs": [],
   "source": [
    "macro_roc_auc_ovr = roc_auc_score( y_test, y_prob, multi_class=\"ovr\", average=\"macro\" )\n",
    "weighted_roc_auc_ovr = roc_auc_score( y_test, y_prob, multi_class=\"ovr\", average=\"weighted\" )\n",
    "print(\n",
    "    \"One-vs-Rest ROC AUC scores:\\n{:.6f} (macro),\\n{:.6f} \"\n",
    "    \"(weighted by prevalence)\".format(macro_roc_auc_ovr, weighted_roc_auc_ovr)\n",
    ")"
   ]
  }
 ],
 "metadata": {
  "kernelspec": {
   "display_name": "Python 3 (ipykernel)",
   "language": "python",
   "name": "python3"
  },
  "language_info": {
   "codemirror_mode": {
    "name": "ipython",
    "version": 3
   },
   "file_extension": ".py",
   "mimetype": "text/x-python",
   "name": "python",
   "nbconvert_exporter": "python",
   "pygments_lexer": "ipython3",
   "version": "3.9.12"
  }
 },
 "nbformat": 4,
 "nbformat_minor": 5
}
