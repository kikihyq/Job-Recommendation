{
 "cells": [
  {
   "cell_type": "markdown",
   "metadata": {
    "id": "pZQkk_-8Uzmh"
   },
   "source": [
    "# Tutorial 3 (Week 4) - Data Preprocessing\n",
    "\n",
    "## Learning Objectives\n",
    "\n",
    "After completing this tutorial, you should be able to:\n",
    "\n",
    "+ Perform data transformation using `sklearn.preprocessing`\n",
    "  + Perform standardization and normalization\n",
    "  + Encode ordinal and nominal values as numerical values\n",
    "  + Perform discretization\n",
    "  + Generate polynomial features\n",
    "+ Combine preprocessing steps for heterogenous data\n",
    "+ Handle missing values using `sklearn.impute`\n",
    "+ Perform dimensionality reduction using PCA\n",
    "\n",
    "References:\n",
    "- [scikit-tutorials](https://scikit-learn.org/stable/auto_examples/index.html#preprocessing)\n",
    "- [Preprocessing tutorial](https://scikit-learn.org/stable/modules/preprocessing.html#preprocessing)\n",
    "- [Column transformers tutorial](https://scikit-learn.org/stable/auto_examples/compose/plot_column_transformer_mixed_types.html#sphx-glr-auto-examples-compose-plot-column-transformer-mixed-types-py)\n",
    "- [Pipelines tutorial](https://scikit-learn.org/stable/modules/compose.html#combining-estimators).\n",
    "\n",
    "\n",
    "We have learned data visualization in a previous tutorial. In practise, data cleaning and visualization go hand in hand, and are usually done together too. We will go over a few data cleaning strategies in this tutorial."
   ]
  },
  {
   "cell_type": "code",
   "execution_count": 1,
   "metadata": {
    "id": "scBIhwZEUzmq"
   },
   "outputs": [],
   "source": [
    "import pandas as pd\n",
    "import numpy as np"
   ]
  },
  {
   "cell_type": "markdown",
   "metadata": {
    "id": "75jnkJDAUzmp"
   },
   "source": [
    "# Dataset\n",
    "\n",
    "Let us work on the heart disease dataset [\"Statlog (Heart)\"](https://archive.ics.uci.edu/dataset/145/statlog+heart). The csv file and txt files with the dataset info are available from this Tutorial folder.\n",
    "\n",
    "This dataset has 13 attributes and 1 label column (presence or absence of heart disease). In this tutorial, we are working on only data preprocessing, and not concerning ourselves with any model and its prediction. Thus for simplicity, we will work on the whole dataset without splitting it into training and testing datasets. \n",
    "\n",
    "Go ahead and read the dataset using Pandas as usual, loading it into a variable `data`."
   ]
  },
  {
   "cell_type": "code",
   "execution_count": 2,
   "metadata": {
    "id": "S4NAmvE0Uzms",
    "scrolled": true
   },
   "outputs": [
    {
     "data": {
      "text/html": [
       "<div>\n",
       "<style scoped>\n",
       "    .dataframe tbody tr th:only-of-type {\n",
       "        vertical-align: middle;\n",
       "    }\n",
       "\n",
       "    .dataframe tbody tr th {\n",
       "        vertical-align: top;\n",
       "    }\n",
       "\n",
       "    .dataframe thead th {\n",
       "        text-align: right;\n",
       "    }\n",
       "</style>\n",
       "<table border=\"1\" class=\"dataframe\">\n",
       "  <thead>\n",
       "    <tr style=\"text-align: right;\">\n",
       "      <th></th>\n",
       "      <th>age</th>\n",
       "      <th>sex</th>\n",
       "      <th>chest</th>\n",
       "      <th>resting_blood_pressure</th>\n",
       "      <th>serum_cholestoral</th>\n",
       "      <th>fasting_blood_sugar</th>\n",
       "      <th>resting_electrocardiographic_results</th>\n",
       "      <th>maximum_heart_rate_achieved</th>\n",
       "      <th>exercise_induced_angina</th>\n",
       "      <th>oldpeak</th>\n",
       "      <th>slope</th>\n",
       "      <th>number_of_major_vessels</th>\n",
       "      <th>thal</th>\n",
       "      <th>class</th>\n",
       "    </tr>\n",
       "  </thead>\n",
       "  <tbody>\n",
       "    <tr>\n",
       "      <th>0</th>\n",
       "      <td>70</td>\n",
       "      <td>1</td>\n",
       "      <td>4</td>\n",
       "      <td>130</td>\n",
       "      <td>322</td>\n",
       "      <td>0</td>\n",
       "      <td>2</td>\n",
       "      <td>109</td>\n",
       "      <td>0</td>\n",
       "      <td>2.4</td>\n",
       "      <td>2</td>\n",
       "      <td>3</td>\n",
       "      <td>3</td>\n",
       "      <td>present</td>\n",
       "    </tr>\n",
       "    <tr>\n",
       "      <th>1</th>\n",
       "      <td>67</td>\n",
       "      <td>0</td>\n",
       "      <td>3</td>\n",
       "      <td>115</td>\n",
       "      <td>564</td>\n",
       "      <td>0</td>\n",
       "      <td>2</td>\n",
       "      <td>160</td>\n",
       "      <td>0</td>\n",
       "      <td>1.6</td>\n",
       "      <td>2</td>\n",
       "      <td>0</td>\n",
       "      <td>7</td>\n",
       "      <td>absent</td>\n",
       "    </tr>\n",
       "    <tr>\n",
       "      <th>2</th>\n",
       "      <td>57</td>\n",
       "      <td>1</td>\n",
       "      <td>2</td>\n",
       "      <td>124</td>\n",
       "      <td>261</td>\n",
       "      <td>0</td>\n",
       "      <td>0</td>\n",
       "      <td>141</td>\n",
       "      <td>0</td>\n",
       "      <td>0.3</td>\n",
       "      <td>1</td>\n",
       "      <td>0</td>\n",
       "      <td>7</td>\n",
       "      <td>present</td>\n",
       "    </tr>\n",
       "    <tr>\n",
       "      <th>3</th>\n",
       "      <td>64</td>\n",
       "      <td>1</td>\n",
       "      <td>4</td>\n",
       "      <td>128</td>\n",
       "      <td>263</td>\n",
       "      <td>0</td>\n",
       "      <td>0</td>\n",
       "      <td>105</td>\n",
       "      <td>1</td>\n",
       "      <td>0.2</td>\n",
       "      <td>2</td>\n",
       "      <td>1</td>\n",
       "      <td>7</td>\n",
       "      <td>absent</td>\n",
       "    </tr>\n",
       "    <tr>\n",
       "      <th>4</th>\n",
       "      <td>74</td>\n",
       "      <td>0</td>\n",
       "      <td>2</td>\n",
       "      <td>120</td>\n",
       "      <td>269</td>\n",
       "      <td>0</td>\n",
       "      <td>2</td>\n",
       "      <td>121</td>\n",
       "      <td>1</td>\n",
       "      <td>0.2</td>\n",
       "      <td>1</td>\n",
       "      <td>1</td>\n",
       "      <td>3</td>\n",
       "      <td>absent</td>\n",
       "    </tr>\n",
       "  </tbody>\n",
       "</table>\n",
       "</div>"
      ],
      "text/plain": [
       "   age  sex  chest  resting_blood_pressure  serum_cholestoral  \\\n",
       "0   70    1      4                     130                322   \n",
       "1   67    0      3                     115                564   \n",
       "2   57    1      2                     124                261   \n",
       "3   64    1      4                     128                263   \n",
       "4   74    0      2                     120                269   \n",
       "\n",
       "   fasting_blood_sugar  resting_electrocardiographic_results  \\\n",
       "0                    0                                     2   \n",
       "1                    0                                     2   \n",
       "2                    0                                     0   \n",
       "3                    0                                     0   \n",
       "4                    0                                     2   \n",
       "\n",
       "   maximum_heart_rate_achieved  exercise_induced_angina  oldpeak  slope  \\\n",
       "0                          109                        0      2.4      2   \n",
       "1                          160                        0      1.6      2   \n",
       "2                          141                        0      0.3      1   \n",
       "3                          105                        1      0.2      2   \n",
       "4                          121                        1      0.2      1   \n",
       "\n",
       "   number_of_major_vessels  thal    class  \n",
       "0                        3     3  present  \n",
       "1                        0     7   absent  \n",
       "2                        0     7  present  \n",
       "3                        1     7   absent  \n",
       "4                        1     3   absent  "
      ]
     },
     "execution_count": 2,
     "metadata": {},
     "output_type": "execute_result"
    }
   ],
   "source": [
    "# TODO\n",
    "data = pd.read_csv(\"heart-statlog-T3.csv\")\n",
    "data.head()"
   ]
  },
  {
   "cell_type": "markdown",
   "metadata": {
    "id": "KOt7a-CrUzmt"
   },
   "source": [
    "The `class` column indicates the presence and absence of disease, which we are not using for preprocessing in this tutorial. \n",
    "\n",
    "Use the `DataFrame.drop` function to drop the `class` column from the data."
   ]
  },
  {
   "cell_type": "code",
   "execution_count": 3,
   "metadata": {
    "id": "SGrpWVrTUzmu",
    "scrolled": true
   },
   "outputs": [],
   "source": [
    "# TODO\n",
    "data = data.drop(columns=['class'])"
   ]
  },
  {
   "cell_type": "markdown",
   "metadata": {},
   "source": [
    "Let's rename some of the columns for easier handling.\n",
    "\n",
    "```\n",
    "resting_blood_pressure               --> rest_BP\n",
    "serum_cholestoral                    --> cholesterol\n",
    "fasting_blood_sugar                  --> fast_sugar\n",
    "resting_electrocardiographic_results --> rest_ECG\n",
    "maximum_heart_rate_achieved          --> max_HR\n",
    "exercise_induced_angina              --> exer_angina\n",
    "number_of_major_vessels              --> vessels\n",
    "```"
   ]
  },
  {
   "cell_type": "code",
   "execution_count": 4,
   "metadata": {},
   "outputs": [],
   "source": [
    "# TODO\n",
    "data = data.rename(columns={'resting_blood_pressure' : 'rest_BP'\n",
    "                    ,'serum_cholestoral' : 'cholesterol'\n",
    "                    ,'fasting_blood_sugar' : 'fast_sugar'\n",
    "                    ,'resting_electrocardiographic_results' : 'rest_ECG'\n",
    "                    ,'maximum_heart_rate_achieved' : 'max_HR'\n",
    "                    ,'exercise_induced_angina' : 'exer_angina'\n",
    "                    ,'number_of_major_vessels' : 'vessels'})"
   ]
  },
  {
   "cell_type": "markdown",
   "metadata": {
    "id": "NrpiT-FNUzmu"
   },
   "source": [
    "The data has no missing values - this is stated in the accompanying txt file. Let's have a quick check on its descriptive statistics."
   ]
  },
  {
   "cell_type": "code",
   "execution_count": 6,
   "metadata": {
    "id": "QkOUypfaUzmv"
   },
   "outputs": [
    {
     "data": {
      "text/html": [
       "<div>\n",
       "<style scoped>\n",
       "    .dataframe tbody tr th:only-of-type {\n",
       "        vertical-align: middle;\n",
       "    }\n",
       "\n",
       "    .dataframe tbody tr th {\n",
       "        vertical-align: top;\n",
       "    }\n",
       "\n",
       "    .dataframe thead th {\n",
       "        text-align: right;\n",
       "    }\n",
       "</style>\n",
       "<table border=\"1\" class=\"dataframe\">\n",
       "  <thead>\n",
       "    <tr style=\"text-align: right;\">\n",
       "      <th></th>\n",
       "      <th>age</th>\n",
       "      <th>sex</th>\n",
       "      <th>chest</th>\n",
       "      <th>rest_BP</th>\n",
       "      <th>cholesterol</th>\n",
       "      <th>fast_sugar</th>\n",
       "      <th>rest_ECG</th>\n",
       "      <th>max_HR</th>\n",
       "      <th>exer_angina</th>\n",
       "      <th>oldpeak</th>\n",
       "      <th>slope</th>\n",
       "      <th>vessels</th>\n",
       "      <th>thal</th>\n",
       "    </tr>\n",
       "  </thead>\n",
       "  <tbody>\n",
       "    <tr>\n",
       "      <th>count</th>\n",
       "      <td>270.000000</td>\n",
       "      <td>270.000000</td>\n",
       "      <td>270.000000</td>\n",
       "      <td>270.000000</td>\n",
       "      <td>270.000000</td>\n",
       "      <td>270.000000</td>\n",
       "      <td>270.000000</td>\n",
       "      <td>270.000000</td>\n",
       "      <td>270.000000</td>\n",
       "      <td>270.00000</td>\n",
       "      <td>270.000000</td>\n",
       "      <td>270.000000</td>\n",
       "      <td>270.000000</td>\n",
       "    </tr>\n",
       "    <tr>\n",
       "      <th>mean</th>\n",
       "      <td>54.433333</td>\n",
       "      <td>0.677778</td>\n",
       "      <td>3.174074</td>\n",
       "      <td>131.344444</td>\n",
       "      <td>249.659259</td>\n",
       "      <td>0.148148</td>\n",
       "      <td>1.022222</td>\n",
       "      <td>149.677778</td>\n",
       "      <td>0.329630</td>\n",
       "      <td>1.05000</td>\n",
       "      <td>1.585185</td>\n",
       "      <td>0.670370</td>\n",
       "      <td>4.696296</td>\n",
       "    </tr>\n",
       "    <tr>\n",
       "      <th>std</th>\n",
       "      <td>9.109067</td>\n",
       "      <td>0.468195</td>\n",
       "      <td>0.950090</td>\n",
       "      <td>17.861608</td>\n",
       "      <td>51.686237</td>\n",
       "      <td>0.355906</td>\n",
       "      <td>0.997891</td>\n",
       "      <td>23.165717</td>\n",
       "      <td>0.470952</td>\n",
       "      <td>1.14521</td>\n",
       "      <td>0.614390</td>\n",
       "      <td>0.943896</td>\n",
       "      <td>1.940659</td>\n",
       "    </tr>\n",
       "    <tr>\n",
       "      <th>min</th>\n",
       "      <td>29.000000</td>\n",
       "      <td>0.000000</td>\n",
       "      <td>1.000000</td>\n",
       "      <td>94.000000</td>\n",
       "      <td>126.000000</td>\n",
       "      <td>0.000000</td>\n",
       "      <td>0.000000</td>\n",
       "      <td>71.000000</td>\n",
       "      <td>0.000000</td>\n",
       "      <td>0.00000</td>\n",
       "      <td>1.000000</td>\n",
       "      <td>0.000000</td>\n",
       "      <td>3.000000</td>\n",
       "    </tr>\n",
       "    <tr>\n",
       "      <th>25%</th>\n",
       "      <td>48.000000</td>\n",
       "      <td>0.000000</td>\n",
       "      <td>3.000000</td>\n",
       "      <td>120.000000</td>\n",
       "      <td>213.000000</td>\n",
       "      <td>0.000000</td>\n",
       "      <td>0.000000</td>\n",
       "      <td>133.000000</td>\n",
       "      <td>0.000000</td>\n",
       "      <td>0.00000</td>\n",
       "      <td>1.000000</td>\n",
       "      <td>0.000000</td>\n",
       "      <td>3.000000</td>\n",
       "    </tr>\n",
       "    <tr>\n",
       "      <th>50%</th>\n",
       "      <td>55.000000</td>\n",
       "      <td>1.000000</td>\n",
       "      <td>3.000000</td>\n",
       "      <td>130.000000</td>\n",
       "      <td>245.000000</td>\n",
       "      <td>0.000000</td>\n",
       "      <td>2.000000</td>\n",
       "      <td>153.500000</td>\n",
       "      <td>0.000000</td>\n",
       "      <td>0.80000</td>\n",
       "      <td>2.000000</td>\n",
       "      <td>0.000000</td>\n",
       "      <td>3.000000</td>\n",
       "    </tr>\n",
       "    <tr>\n",
       "      <th>75%</th>\n",
       "      <td>61.000000</td>\n",
       "      <td>1.000000</td>\n",
       "      <td>4.000000</td>\n",
       "      <td>140.000000</td>\n",
       "      <td>280.000000</td>\n",
       "      <td>0.000000</td>\n",
       "      <td>2.000000</td>\n",
       "      <td>166.000000</td>\n",
       "      <td>1.000000</td>\n",
       "      <td>1.60000</td>\n",
       "      <td>2.000000</td>\n",
       "      <td>1.000000</td>\n",
       "      <td>7.000000</td>\n",
       "    </tr>\n",
       "    <tr>\n",
       "      <th>max</th>\n",
       "      <td>77.000000</td>\n",
       "      <td>1.000000</td>\n",
       "      <td>4.000000</td>\n",
       "      <td>200.000000</td>\n",
       "      <td>564.000000</td>\n",
       "      <td>1.000000</td>\n",
       "      <td>2.000000</td>\n",
       "      <td>202.000000</td>\n",
       "      <td>1.000000</td>\n",
       "      <td>6.20000</td>\n",
       "      <td>3.000000</td>\n",
       "      <td>3.000000</td>\n",
       "      <td>7.000000</td>\n",
       "    </tr>\n",
       "  </tbody>\n",
       "</table>\n",
       "</div>"
      ],
      "text/plain": [
       "              age         sex       chest     rest_BP  cholesterol  \\\n",
       "count  270.000000  270.000000  270.000000  270.000000   270.000000   \n",
       "mean    54.433333    0.677778    3.174074  131.344444   249.659259   \n",
       "std      9.109067    0.468195    0.950090   17.861608    51.686237   \n",
       "min     29.000000    0.000000    1.000000   94.000000   126.000000   \n",
       "25%     48.000000    0.000000    3.000000  120.000000   213.000000   \n",
       "50%     55.000000    1.000000    3.000000  130.000000   245.000000   \n",
       "75%     61.000000    1.000000    4.000000  140.000000   280.000000   \n",
       "max     77.000000    1.000000    4.000000  200.000000   564.000000   \n",
       "\n",
       "       fast_sugar    rest_ECG      max_HR  exer_angina    oldpeak       slope  \\\n",
       "count  270.000000  270.000000  270.000000   270.000000  270.00000  270.000000   \n",
       "mean     0.148148    1.022222  149.677778     0.329630    1.05000    1.585185   \n",
       "std      0.355906    0.997891   23.165717     0.470952    1.14521    0.614390   \n",
       "min      0.000000    0.000000   71.000000     0.000000    0.00000    1.000000   \n",
       "25%      0.000000    0.000000  133.000000     0.000000    0.00000    1.000000   \n",
       "50%      0.000000    2.000000  153.500000     0.000000    0.80000    2.000000   \n",
       "75%      0.000000    2.000000  166.000000     1.000000    1.60000    2.000000   \n",
       "max      1.000000    2.000000  202.000000     1.000000    6.20000    3.000000   \n",
       "\n",
       "          vessels        thal  \n",
       "count  270.000000  270.000000  \n",
       "mean     0.670370    4.696296  \n",
       "std      0.943896    1.940659  \n",
       "min      0.000000    3.000000  \n",
       "25%      0.000000    3.000000  \n",
       "50%      0.000000    3.000000  \n",
       "75%      1.000000    7.000000  \n",
       "max      3.000000    7.000000  "
      ]
     },
     "execution_count": 6,
     "metadata": {},
     "output_type": "execute_result"
    }
   ],
   "source": [
    "# TODO\n",
    "data.describe()"
   ]
  },
  {
   "cell_type": "markdown",
   "metadata": {},
   "source": [
    "The `heart-statlog.txt` file lists the data type of each attribute in the dataset: numerical (real), ordinal, binary, or categorical (nominal).\n",
    "\n",
    "We will perform different preprocessing operations:\n",
    "- Discretization on the `age` data\n",
    "- Normalization and Polynomial Feature Construction on the other numerical data\n",
    "- Encoding the ordinal and nominal data\n",
    "\n",
    "Let's save the column indices for each of these types in a list for our later use. Complete the code below using the information from `heart-statlog.txt`. _(Note that the numbering in the txt file starts from 1, while column indexing starts from 0 -- adjust accordingly.)_"
   ]
  },
  {
   "cell_type": "code",
   "execution_count": 7,
   "metadata": {
    "id": "pwSiPnR6Uzmw"
   },
   "outputs": [],
   "source": [
    "# Discrete (the age column)\n",
    "disc_features = [0]\n",
    "\n",
    "# Numerical (the rest of the real columns)\n",
    "num_features = [3,4,7,9,11]\n",
    "\n",
    "# TODO\n",
    "\n",
    "# Ordinal\n",
    "# ordinal_features = ?\n",
    "ordinal_features = [10]\n",
    "\n",
    "# Binary\n",
    "# bin_features = ?\n",
    "bin_features = [1,5,8]\n",
    "# Categorical (nominal)\n",
    "# cat_features = ?\n",
    "cat_features = [6,2,12]"
   ]
  },
  {
   "cell_type": "markdown",
   "metadata": {
    "id": "i2TZ8f1zvVuQ"
   },
   "source": [
    "# Introduction to scikit-learn\n",
    "\n",
    "The [`scikit-learn`](https://scikit-learn.org/stable/index.html) library is a part of the SciPy (Scientific Python) group, which has a set of libraries created for scientific computing. The first part of the name refers to this origin of the library, while the second part refers to the discipline this library pertains to: Machine Learning. It is built on NumPy, and has extremely efficient and reusable codes. The library is included in the Anaconda distribution.\n",
    "\n",
    "## Transformers and Estimators\n",
    "\n",
    "__Transformers__ is a term used for classes in `scikit-learn` (or `sklearn`) that enable data transformations. `scikit-learn` provides a library of transformers, which may _clean_ (for preprocessing), _reduce_ (for unsupervised dimensionality reduction), _expand_ (for kernel approximation) or _generate_ (for feature extraction) feature representations.\n",
    "\n",
    "All standard transformers in `sklearn` have the following methods:\n",
    "\n",
    "- `fit`, which learns model parameters (e.g., mean and standard deviation for normalization) from a training set;\n",
    "- `transform`, which applies this transformation model to unseen data;\n",
    "- `fit_transform`, which models and transforms the training data simultaneously for convenience and efficiency.\n",
    "\n",
    "We will use transformers for scaling (standardization and normalisation) as well as for encoding in this tutorial.\n",
    "\n",
    "\n",
    "__Estimators__ is a term used for classes which manage the estimation and decoding of a model. Estimators must provide a `fit` method, and should provide `set_params` and `get_params`, although these are usually provided by inheritance from `base.BaseEstimator`. \n",
    "\n",
    "We will use an estimator for discretization in this tutorial. \n",
    "\n",
    "A useful estimator class, but which we are not using in this tutorial, is _Predictors_. It is an estimator supporting `predict` and/or `fit_predict`. This encompasses classifier, regressor, outlier detector and clusterer.\n",
    "\n",
    "\n",
    "## Preprocessing Module\n",
    "\n",
    "A package in `scikit-learn`, named [`sklearn.preprocessing`](https://scikit-learn.org/stable/modules/classes.html#module-sklearn.preprocessing), provides several common utility functions and transformer classes to change raw feature vectors into a representation that is more suitable for tasks such as classification, regression, etc."
   ]
  },
  {
   "cell_type": "code",
   "execution_count": 8,
   "metadata": {
    "id": "pwSiPnR6Uzmw"
   },
   "outputs": [],
   "source": [
    "from sklearn import preprocessing"
   ]
  },
  {
   "cell_type": "markdown",
   "metadata": {
    "id": "jmlCcfdzUzmx"
   },
   "source": [
    "# Standardization and Normalization\n",
    "\n",
    "_Standardization_ involves rescaling the features such that they have the properties of a standard normal distribution with a mean of zero and a standard deviation of one. Feature scaling through standardization (or Z-score normalization) can be an important preprocessing step for many machine learning algorithms. If a feature has a variance that is orders of magnitude larger than others, it might end up dominating the estimator, which might not learn well from other features. \n",
    "\n",
    "_Normalization_ is the process of scaling individual samples to have unit norm, independently of the distribution of the samples. \n",
    "\n",
    "Note that standardization is a _feature-wise_ operation, while normalization is a _sample-wise_ operation. \n",
    "\n",
    "## Standardization\n",
    "\n",
    "Let's perform standardization on the numerical columns. We can select these columns by passing the indices list we constructed earlier to `DataFrame.iloc`."
   ]
  },
  {
   "cell_type": "code",
   "execution_count": 9,
   "metadata": {
    "id": "d-6xcSddUzmy",
    "scrolled": false
   },
   "outputs": [
    {
     "data": {
      "text/html": [
       "<div>\n",
       "<style scoped>\n",
       "    .dataframe tbody tr th:only-of-type {\n",
       "        vertical-align: middle;\n",
       "    }\n",
       "\n",
       "    .dataframe tbody tr th {\n",
       "        vertical-align: top;\n",
       "    }\n",
       "\n",
       "    .dataframe thead th {\n",
       "        text-align: right;\n",
       "    }\n",
       "</style>\n",
       "<table border=\"1\" class=\"dataframe\">\n",
       "  <thead>\n",
       "    <tr style=\"text-align: right;\">\n",
       "      <th></th>\n",
       "      <th>rest_BP</th>\n",
       "      <th>cholesterol</th>\n",
       "      <th>max_HR</th>\n",
       "      <th>oldpeak</th>\n",
       "      <th>vessels</th>\n",
       "    </tr>\n",
       "  </thead>\n",
       "  <tbody>\n",
       "    <tr>\n",
       "      <th>0</th>\n",
       "      <td>130</td>\n",
       "      <td>322</td>\n",
       "      <td>109</td>\n",
       "      <td>2.4</td>\n",
       "      <td>3</td>\n",
       "    </tr>\n",
       "    <tr>\n",
       "      <th>1</th>\n",
       "      <td>115</td>\n",
       "      <td>564</td>\n",
       "      <td>160</td>\n",
       "      <td>1.6</td>\n",
       "      <td>0</td>\n",
       "    </tr>\n",
       "    <tr>\n",
       "      <th>2</th>\n",
       "      <td>124</td>\n",
       "      <td>261</td>\n",
       "      <td>141</td>\n",
       "      <td>0.3</td>\n",
       "      <td>0</td>\n",
       "    </tr>\n",
       "    <tr>\n",
       "      <th>3</th>\n",
       "      <td>128</td>\n",
       "      <td>263</td>\n",
       "      <td>105</td>\n",
       "      <td>0.2</td>\n",
       "      <td>1</td>\n",
       "    </tr>\n",
       "    <tr>\n",
       "      <th>4</th>\n",
       "      <td>120</td>\n",
       "      <td>269</td>\n",
       "      <td>121</td>\n",
       "      <td>0.2</td>\n",
       "      <td>1</td>\n",
       "    </tr>\n",
       "    <tr>\n",
       "      <th>...</th>\n",
       "      <td>...</td>\n",
       "      <td>...</td>\n",
       "      <td>...</td>\n",
       "      <td>...</td>\n",
       "      <td>...</td>\n",
       "    </tr>\n",
       "    <tr>\n",
       "      <th>265</th>\n",
       "      <td>172</td>\n",
       "      <td>199</td>\n",
       "      <td>162</td>\n",
       "      <td>0.5</td>\n",
       "      <td>0</td>\n",
       "    </tr>\n",
       "    <tr>\n",
       "      <th>266</th>\n",
       "      <td>120</td>\n",
       "      <td>263</td>\n",
       "      <td>173</td>\n",
       "      <td>0.0</td>\n",
       "      <td>0</td>\n",
       "    </tr>\n",
       "    <tr>\n",
       "      <th>267</th>\n",
       "      <td>140</td>\n",
       "      <td>294</td>\n",
       "      <td>153</td>\n",
       "      <td>1.3</td>\n",
       "      <td>0</td>\n",
       "    </tr>\n",
       "    <tr>\n",
       "      <th>268</th>\n",
       "      <td>140</td>\n",
       "      <td>192</td>\n",
       "      <td>148</td>\n",
       "      <td>0.4</td>\n",
       "      <td>0</td>\n",
       "    </tr>\n",
       "    <tr>\n",
       "      <th>269</th>\n",
       "      <td>160</td>\n",
       "      <td>286</td>\n",
       "      <td>108</td>\n",
       "      <td>1.5</td>\n",
       "      <td>3</td>\n",
       "    </tr>\n",
       "  </tbody>\n",
       "</table>\n",
       "<p>270 rows × 5 columns</p>\n",
       "</div>"
      ],
      "text/plain": [
       "     rest_BP  cholesterol  max_HR  oldpeak  vessels\n",
       "0        130          322     109      2.4        3\n",
       "1        115          564     160      1.6        0\n",
       "2        124          261     141      0.3        0\n",
       "3        128          263     105      0.2        1\n",
       "4        120          269     121      0.2        1\n",
       "..       ...          ...     ...      ...      ...\n",
       "265      172          199     162      0.5        0\n",
       "266      120          263     173      0.0        0\n",
       "267      140          294     153      1.3        0\n",
       "268      140          192     148      0.4        0\n",
       "269      160          286     108      1.5        3\n",
       "\n",
       "[270 rows x 5 columns]"
      ]
     },
     "execution_count": 9,
     "metadata": {},
     "output_type": "execute_result"
    }
   ],
   "source": [
    "data.iloc[:,num_features]"
   ]
  },
  {
   "cell_type": "markdown",
   "metadata": {},
   "source": [
    "The `preprocessing` module provides the [`StandardScaler`](https://scikit-learn.org/stable/modules/generated/sklearn.preprocessing.StandardScaler.html#sklearn.preprocessing.StandardScaler) utility class, which is a quick and easy way to perform standardization on an array-like dataset. The scaled data will have zero mean and a unit variance.\n",
    "\n",
    "The `fit_transform` method of `StandardScaler` works on each feature to first calculate the mean and variance of the feature (_fit_), then transforms the feature using the calculated mean and variance values as scaling parameters (_transform_). The method returns the transformed data as an array.\n",
    "\n",
    "Let's run this method on the numerical columns."
   ]
  },
  {
   "cell_type": "code",
   "execution_count": 10,
   "metadata": {
    "id": "Wcyb7raaUzmx"
   },
   "outputs": [],
   "source": [
    "scaler = preprocessing.StandardScaler()"
   ]
  },
  {
   "cell_type": "code",
   "execution_count": 11,
   "metadata": {
    "id": "FtSmu3YKUzmy"
   },
   "outputs": [
    {
     "data": {
      "text/plain": [
       "array([[-0.07540984,  1.40221232, -1.75920811,  1.18101235,  2.47268219],\n",
       "       [-0.91675934,  6.0930045 ,  0.44640927,  0.48115318, -0.71153494],\n",
       "       [-0.41194964,  0.21982255, -0.37529132, -0.65611797, -0.71153494],\n",
       "       ...,\n",
       "       [ 0.48548982,  0.85947603,  0.14367747,  0.21870599, -0.71153494],\n",
       "       [ 0.48548982, -1.11763472, -0.07255953, -0.56863558, -0.71153494],\n",
       "       [ 1.60728915,  0.70440852, -1.80245551,  0.39367078,  2.47268219]])"
      ]
     },
     "execution_count": 11,
     "metadata": {},
     "output_type": "execute_result"
    }
   ],
   "source": [
    "num_scaled = scaler.fit_transform( data.iloc[:,num_features] )\n",
    "num_scaled"
   ]
  },
  {
   "cell_type": "markdown",
   "metadata": {},
   "source": [
    "Verify that the standardization works: what are the mean values of the original columns, and what are the mean values of the transformed columns? Are the latter exactly zero?\n",
    "\n",
    "_(Note: For the multidimensional array, you will need to specify the axis in order to apply mean computation on individual columns.)_"
   ]
  },
  {
   "cell_type": "code",
   "execution_count": 14,
   "metadata": {
    "id": "ssEvErt_Uzmy",
    "scrolled": true
   },
   "outputs": [
    {
     "data": {
      "text/plain": [
       "age             54.433333\n",
       "sex              0.677778\n",
       "chest            3.174074\n",
       "rest_BP        131.344444\n",
       "cholesterol    249.659259\n",
       "fast_sugar       0.148148\n",
       "rest_ECG         1.022222\n",
       "max_HR         149.677778\n",
       "exer_angina      0.329630\n",
       "oldpeak          1.050000\n",
       "slope            1.585185\n",
       "vessels          0.670370\n",
       "thal             4.696296\n",
       "dtype: float64"
      ]
     },
     "execution_count": 14,
     "metadata": {},
     "output_type": "execute_result"
    }
   ],
   "source": [
    "# TODO: Original means\n",
    "data.iloc[:,num_features].mean()\n",
    "# 或者\n",
    "data.mean(axis=0)"
   ]
  },
  {
   "cell_type": "code",
   "execution_count": 15,
   "metadata": {
    "id": "P4A5I4d2jtqr",
    "scrolled": true
   },
   "outputs": [
    {
     "data": {
      "text/plain": [
       "0    5.723816e-16\n",
       "1   -2.343804e-16\n",
       "2   -1.266477e-16\n",
       "3    4.111937e-17\n",
       "4   -7.894919e-17\n",
       "dtype: float64"
      ]
     },
     "execution_count": 15,
     "metadata": {},
     "output_type": "execute_result"
    }
   ],
   "source": [
    "# TODO: Transformed mean\n",
    "num_scaled = pd.DataFrame(num_scaled)\n",
    "num_scaled.mean()"
   ]
  },
  {
   "cell_type": "markdown",
   "metadata": {},
   "source": [
    "How about the variance?"
   ]
  },
  {
   "cell_type": "code",
   "execution_count": 20,
   "metadata": {},
   "outputs": [
    {
     "data": {
      "text/plain": [
       "rest_BP         319.037051\n",
       "cholesterol    2671.467107\n",
       "max_HR          536.650434\n",
       "oldpeak           1.311506\n",
       "vessels           0.890940\n",
       "dtype: float64"
      ]
     },
     "execution_count": 20,
     "metadata": {},
     "output_type": "execute_result"
    }
   ],
   "source": [
    "# TODO: Original variance\n",
    "data.iloc[:,num_features].var(axis=0)"
   ]
  },
  {
   "cell_type": "code",
   "execution_count": 21,
   "metadata": {},
   "outputs": [
    {
     "data": {
      "text/plain": [
       "0    1.003717\n",
       "1    1.003717\n",
       "2    1.003717\n",
       "3    1.003717\n",
       "4    1.003717\n",
       "dtype: float64"
      ]
     },
     "execution_count": 21,
     "metadata": {},
     "output_type": "execute_result"
    }
   ],
   "source": [
    "# TODO: Transformed variance\n",
    "num_scaled.var(axis=0)"
   ]
  },
  {
   "cell_type": "markdown",
   "metadata": {},
   "source": [
    "## Normalisation\n",
    "\n",
    "The `preprocessing` module has the [`Normalizer`](https://scikit-learn.org/stable/modules/generated/sklearn.preprocessing.Normalizer.html#sklearn.preprocessing.Normalizer) utility class, which transforms individual samples to unit norm. We can specify which norm to use (i.e., how the unit norm is defined); the default is the `l2` norm (Euclidean).\n",
    "\n",
    "The `Normalizer` class also provides a `fit_transform` method. Run this method on our numerical columns."
   ]
  },
  {
   "cell_type": "code",
   "execution_count": 25,
   "metadata": {
    "id": "AXFEEsdrpvz6"
   },
   "outputs": [
    {
     "data": {
      "text/plain": [
       "array([[3.57164747e-01, 8.84669603e-01, 2.99468903e-01, 6.59381071e-03,\n",
       "        8.24226338e-03],\n",
       "       [1.92490913e-01, 9.44042391e-01, 2.67813444e-01, 2.67813444e-03,\n",
       "        0.00000000e+00],\n",
       "       [3.85662519e-01, 8.11757398e-01, 4.38535606e-01, 9.33054481e-04,\n",
       "        0.00000000e+00],\n",
       "       ...,\n",
       "       [3.89119111e-01, 8.17150133e-01, 4.25251600e-01, 3.61324889e-03,\n",
       "        0.00000000e+00],\n",
       "       [5.00101562e-01, 6.85853570e-01, 5.28678794e-01, 1.42886160e-03,\n",
       "        0.00000000e+00],\n",
       "       [4.63678038e-01, 8.28824493e-01, 3.12982676e-01, 4.34698161e-03,\n",
       "        8.69396321e-03]])"
      ]
     },
     "execution_count": 25,
     "metadata": {},
     "output_type": "execute_result"
    }
   ],
   "source": [
    "# TODO\n",
    "preprocessing.Normalizer().fit_transform(data.iloc[:,num_features])"
   ]
  },
  {
   "cell_type": "markdown",
   "metadata": {},
   "source": [
    "Another way to perform normalisation is to use the [`normalize`](https://scikit-learn.org/stable/modules/generated/sklearn.preprocessing.normalize.html#sklearn.preprocessing.normalize) method from the `preprocessing` module directly. Refer to the [Guide](https://scikit-learn.org/stable/modules/preprocessing.html#normalization) and try it below."
   ]
  },
  {
   "cell_type": "code",
   "execution_count": 26,
   "metadata": {
    "id": "zfEsq0h4o5li"
   },
   "outputs": [
    {
     "data": {
      "text/plain": [
       "array([[3.57164747e-01, 8.84669603e-01, 2.99468903e-01, 6.59381071e-03,\n",
       "        8.24226338e-03],\n",
       "       [1.92490913e-01, 9.44042391e-01, 2.67813444e-01, 2.67813444e-03,\n",
       "        0.00000000e+00],\n",
       "       [3.85662519e-01, 8.11757398e-01, 4.38535606e-01, 9.33054481e-04,\n",
       "        0.00000000e+00],\n",
       "       ...,\n",
       "       [3.89119111e-01, 8.17150133e-01, 4.25251600e-01, 3.61324889e-03,\n",
       "        0.00000000e+00],\n",
       "       [5.00101562e-01, 6.85853570e-01, 5.28678794e-01, 1.42886160e-03,\n",
       "        0.00000000e+00],\n",
       "       [4.63678038e-01, 8.28824493e-01, 3.12982676e-01, 4.34698161e-03,\n",
       "        8.69396321e-03]])"
      ]
     },
     "execution_count": 26,
     "metadata": {},
     "output_type": "execute_result"
    }
   ],
   "source": [
    "# TODO\n",
    "preprocessing.normalize(data.iloc[:,num_features], norm='l2')"
   ]
  },
  {
   "cell_type": "markdown",
   "metadata": {
    "id": "L599gSPKUzmz"
   },
   "source": [
    "# Encoding Ordinal and Nominal Values\n",
    "\n",
    "Ordinal data can be encoded into numerical data using [`OrdinalEncoder`](https://scikit-learn.org/stable/modules/generated/sklearn.preprocessing.OrdinalEncoder.html#sklearn.preprocessing.OrdinalEncoder). This results in a single column of integers (0 to `n_categories - 1`) per feature. \n",
    "\n",
    "For our ordinal data, we do not actually need to use ordinal encoder, as the data is already in integer form. We will just instantiate this class here for a later use."
   ]
  },
  {
   "cell_type": "code",
   "execution_count": 27,
   "metadata": {
    "id": "KhBci-W0Uzmz"
   },
   "outputs": [],
   "source": [
    "ord_enc = preprocessing.OrdinalEncoder( categories='auto' )"
   ]
  },
  {
   "cell_type": "markdown",
   "metadata": {
    "id": "walGvTSWUzmz"
   },
   "source": [
    "## One-Hot Encoding\n",
    "\n",
    "A common technique for encoding categorical variables is [`OneHotEncoder`](https://scikit-learn.org/stable/modules/generated/sklearn.preprocessing.OneHotEncoder.html#sklearn.preprocessing.OneHotEncoder). It transforms a categorical feature that has `n` possible values into `n` binary features. Exactly one of the binary features will have value 1 (corresponding to the feature value), and all others 0. \n",
    "\n",
    "For example, for a feature that has 4 categories named [1,2,3,4], the one-hot encoding will be:\n",
    "```\n",
    "1 -> [1, 0, 0, 0]\n",
    "\n",
    "2 -> [0, 1, 0, 0]\n",
    "\n",
    "3 -> [0, 0, 1, 0]\n",
    "\n",
    "4 -> [0, 0, 0, 1]\n",
    "```\n",
    "\n",
    "What will happen if the encoder encounters unknown categories during transform? When `handle_unknown='ignore'` is specified, no error will be raised but the resulting one-hot encoded columns for this feature will be all zeros."
   ]
  },
  {
   "cell_type": "code",
   "execution_count": 28,
   "metadata": {
    "id": "pQxwZz58Uzm0"
   },
   "outputs": [],
   "source": [
    "oh_enc = preprocessing.OneHotEncoder( categories='auto', handle_unknown='ignore' )"
   ]
  },
  {
   "cell_type": "markdown",
   "metadata": {},
   "source": [
    "Let's apply one-hot encoding on our categorical (nominal) data. Select the relevant columns from the data. "
   ]
  },
  {
   "cell_type": "code",
   "execution_count": 30,
   "metadata": {
    "id": "pQxwZz58Uzm0",
    "scrolled": true
   },
   "outputs": [
    {
     "data": {
      "text/html": [
       "<div>\n",
       "<style scoped>\n",
       "    .dataframe tbody tr th:only-of-type {\n",
       "        vertical-align: middle;\n",
       "    }\n",
       "\n",
       "    .dataframe tbody tr th {\n",
       "        vertical-align: top;\n",
       "    }\n",
       "\n",
       "    .dataframe thead th {\n",
       "        text-align: right;\n",
       "    }\n",
       "</style>\n",
       "<table border=\"1\" class=\"dataframe\">\n",
       "  <thead>\n",
       "    <tr style=\"text-align: right;\">\n",
       "      <th></th>\n",
       "      <th>rest_ECG</th>\n",
       "      <th>chest</th>\n",
       "      <th>thal</th>\n",
       "    </tr>\n",
       "  </thead>\n",
       "  <tbody>\n",
       "    <tr>\n",
       "      <th>0</th>\n",
       "      <td>2</td>\n",
       "      <td>4</td>\n",
       "      <td>3</td>\n",
       "    </tr>\n",
       "    <tr>\n",
       "      <th>1</th>\n",
       "      <td>2</td>\n",
       "      <td>3</td>\n",
       "      <td>7</td>\n",
       "    </tr>\n",
       "    <tr>\n",
       "      <th>2</th>\n",
       "      <td>0</td>\n",
       "      <td>2</td>\n",
       "      <td>7</td>\n",
       "    </tr>\n",
       "    <tr>\n",
       "      <th>3</th>\n",
       "      <td>0</td>\n",
       "      <td>4</td>\n",
       "      <td>7</td>\n",
       "    </tr>\n",
       "    <tr>\n",
       "      <th>4</th>\n",
       "      <td>2</td>\n",
       "      <td>2</td>\n",
       "      <td>3</td>\n",
       "    </tr>\n",
       "    <tr>\n",
       "      <th>...</th>\n",
       "      <td>...</td>\n",
       "      <td>...</td>\n",
       "      <td>...</td>\n",
       "    </tr>\n",
       "    <tr>\n",
       "      <th>265</th>\n",
       "      <td>0</td>\n",
       "      <td>3</td>\n",
       "      <td>7</td>\n",
       "    </tr>\n",
       "    <tr>\n",
       "      <th>266</th>\n",
       "      <td>0</td>\n",
       "      <td>2</td>\n",
       "      <td>7</td>\n",
       "    </tr>\n",
       "    <tr>\n",
       "      <th>267</th>\n",
       "      <td>2</td>\n",
       "      <td>2</td>\n",
       "      <td>3</td>\n",
       "    </tr>\n",
       "    <tr>\n",
       "      <th>268</th>\n",
       "      <td>0</td>\n",
       "      <td>4</td>\n",
       "      <td>6</td>\n",
       "    </tr>\n",
       "    <tr>\n",
       "      <th>269</th>\n",
       "      <td>2</td>\n",
       "      <td>4</td>\n",
       "      <td>3</td>\n",
       "    </tr>\n",
       "  </tbody>\n",
       "</table>\n",
       "<p>270 rows × 3 columns</p>\n",
       "</div>"
      ],
      "text/plain": [
       "     rest_ECG  chest  thal\n",
       "0           2      4     3\n",
       "1           2      3     7\n",
       "2           0      2     7\n",
       "3           0      4     7\n",
       "4           2      2     3\n",
       "..        ...    ...   ...\n",
       "265         0      3     7\n",
       "266         0      2     7\n",
       "267         2      2     3\n",
       "268         0      4     6\n",
       "269         2      4     3\n",
       "\n",
       "[270 rows x 3 columns]"
      ]
     },
     "execution_count": 30,
     "metadata": {},
     "output_type": "execute_result"
    }
   ],
   "source": [
    "# TODO\n",
    "data.iloc[:,cat_features]"
   ]
  },
  {
   "cell_type": "markdown",
   "metadata": {},
   "source": [
    "Apply the `fit_transform` method of `OneHotEncoder` on those columns. How many columns do you expect to see in the output? (How many possible values does each feature have?)"
   ]
  },
  {
   "cell_type": "code",
   "execution_count": 31,
   "metadata": {
    "id": "7lko2-jDUzm0",
    "scrolled": true
   },
   "outputs": [
    {
     "data": {
      "text/plain": [
       "<270x10 sparse matrix of type '<class 'numpy.float64'>'\n",
       "\twith 810 stored elements in Compressed Sparse Row format>"
      ]
     },
     "execution_count": 31,
     "metadata": {},
     "output_type": "execute_result"
    }
   ],
   "source": [
    "# TODO\n",
    "oh_enc.fit_transform(data.iloc[:,cat_features])\n"
   ]
  },
  {
   "cell_type": "markdown",
   "metadata": {},
   "source": [
    "Let's convert that sparse matrix output to NumPy multidimensional array so that we can view it, and save it as `data_cat` for further use."
   ]
  },
  {
   "cell_type": "code",
   "execution_count": 32,
   "metadata": {
    "id": "7lko2-jDUzm0"
   },
   "outputs": [
    {
     "data": {
      "text/plain": [
       "array([[0., 0., 1., ..., 1., 0., 0.],\n",
       "       [0., 0., 1., ..., 0., 0., 1.],\n",
       "       [1., 0., 0., ..., 0., 0., 1.],\n",
       "       ...,\n",
       "       [0., 0., 1., ..., 1., 0., 0.],\n",
       "       [1., 0., 0., ..., 0., 1., 0.],\n",
       "       [0., 0., 1., ..., 1., 0., 0.]])"
      ]
     },
     "execution_count": 32,
     "metadata": {},
     "output_type": "execute_result"
    }
   ],
   "source": [
    "# TODO\n",
    "data_cat = oh_enc.fit_transform(data.iloc[:,cat_features]).toarray()\n",
    "data_cat"
   ]
  },
  {
   "cell_type": "markdown",
   "metadata": {
    "id": "mlTa2nA4uKzB"
   },
   "source": [
    "As there are three transformed features, we will expect to see three 1 values in each row of the transformed data if there are no unknown categories."
   ]
  },
  {
   "cell_type": "code",
   "execution_count": 33,
   "metadata": {
    "id": "07wHz4dCUzm0"
   },
   "outputs": [
    {
     "data": {
      "text/plain": [
       "array([0., 0., 1., 0., 0., 0., 1., 1., 0., 0.])"
      ]
     },
     "execution_count": 33,
     "metadata": {},
     "output_type": "execute_result"
    }
   ],
   "source": [
    "data_cat[0]"
   ]
  },
  {
   "cell_type": "markdown",
   "metadata": {
    "id": "mlTa2nA4uKzB"
   },
   "source": [
    "We have earlier instantiated OneHotEncoder with `categories=auto`, so that it determines categories automatically from the data. We can check the `categories_` properties to see them. "
   ]
  },
  {
   "cell_type": "code",
   "execution_count": 34,
   "metadata": {
    "id": "s2D3lKpNUzm0",
    "scrolled": true
   },
   "outputs": [
    {
     "data": {
      "text/plain": [
       "[array([0, 1, 2], dtype=int64),\n",
       " array([1, 2, 3, 4], dtype=int64),\n",
       " array([3, 6, 7], dtype=int64)]"
      ]
     },
     "execution_count": 34,
     "metadata": {},
     "output_type": "execute_result"
    }
   ],
   "source": [
    "# TODO\n",
    "oh_enc.categories_"
   ]
  },
  {
   "cell_type": "markdown",
   "metadata": {
    "id": "Vw23Bf56Uzm1"
   },
   "source": [
    "# Discretization\n",
    "\n",
    "Discretization (otherwise known as _quantization_ or _binning_) provides a way to partition continuous features into discrete values. One-hot encoded discretized features can make a model more expressive, while maintaining interpretability. \n",
    "\n",
    "In our example, we can perform discretization on the `age` column. Let's check its value range again. "
   ]
  },
  {
   "cell_type": "code",
   "execution_count": 35,
   "metadata": {
    "id": "Vw23Bf56Uzm1"
   },
   "outputs": [
    {
     "data": {
      "text/plain": [
       "count    270.000000\n",
       "mean      54.433333\n",
       "std        9.109067\n",
       "min       29.000000\n",
       "25%       48.000000\n",
       "50%       55.000000\n",
       "75%       61.000000\n",
       "max       77.000000\n",
       "Name: age, dtype: float64"
      ]
     },
     "execution_count": 35,
     "metadata": {},
     "output_type": "execute_result"
    }
   ],
   "source": [
    "data['age'].describe()"
   ]
  },
  {
   "cell_type": "markdown",
   "metadata": {
    "id": "Vw23Bf56Uzm1"
   },
   "source": [
    "As the range of the column is 29 to 77, we can do a binning into 5 bins to express different age-groups. \n",
    "\n",
    "We will use the estimater class [`KBinsDiscretizer`](https://scikit-learn.org/stable/modules/generated/sklearn.preprocessing.KBinsDiscretizer.html#sklearn.preprocessing.KBinsDiscretizer) for this. Let's instantiate it with 5 bins and onehot encoding, specify a strategy that will give us equal-sized bins, and a subsample option that will use all the samples for computing the quantiles that determine the binning thresholds."
   ]
  },
  {
   "cell_type": "code",
   "execution_count": 36,
   "metadata": {
    "id": "jg-ts7f-Uzm1"
   },
   "outputs": [],
   "source": [
    "# TODO\n",
    "# discretizer = ?\n",
    "discretizer = preprocessing.KBinsDiscretizer(n_bins=5, encode='onehot', strategy='uniform')\n",
    "\n",
    "\n",
    "# n_bins=5 specifies that you want to create 5 bins.\n",
    "# encode='onehot' indicates that you want to use one-hot encoding after discretization.\n",
    "# strategy='uniform' ensures that you get equal-sized bins.\n",
    "# quantile_range=(0, 100): This parameter ensures that the entire dataset is used to compute quantiles for binning thresholds.\n",
    "\n",
    "# subsample=1:This specifies that all samples are used for computing quantiles."
   ]
  },
  {
   "cell_type": "markdown",
   "metadata": {},
   "source": [
    "## 上面的代码，sub_sample和quantile_range不是参数!"
   ]
  },
  {
   "cell_type": "markdown",
   "metadata": {},
   "source": [
    "As `KBinDiscretizer` works with an array, we first need to convert the `age` column to a NumPy array of dimension `num_values` x 1, where the single column corresponds to the single feature. (You can use `reshape` to control the dimension.)"
   ]
  },
  {
   "cell_type": "code",
   "execution_count": 37,
   "metadata": {
    "scrolled": false
   },
   "outputs": [
    {
     "data": {
      "text/plain": [
       "(270, 1)"
      ]
     },
     "execution_count": 37,
     "metadata": {},
     "output_type": "execute_result"
    }
   ],
   "source": [
    "# TODO\n",
    "# age_arr = ?\n",
    "age_arr =np.array(data['age']).reshape(270,1)\n",
    "age_arr.shape"
   ]
  },
  {
   "cell_type": "markdown",
   "metadata": {},
   "source": [
    "Now use the discretizer's `fit` method to fit the data into bins. We can view the result by checking the `bin_edges_` property of the output."
   ]
  },
  {
   "cell_type": "code",
   "execution_count": 38,
   "metadata": {
    "id": "jg-ts7f-Uzm1"
   },
   "outputs": [
    {
     "data": {
      "text/plain": [
       "array([array([29. , 38.6, 48.2, 57.8, 67.4, 77. ])], dtype=object)"
      ]
     },
     "execution_count": 38,
     "metadata": {},
     "output_type": "execute_result"
    }
   ],
   "source": [
    "# TODO\n",
    "dis = discretizer.fit(age_arr)\n",
    "discretizer.bin_edges_"
   ]
  },
  {
   "cell_type": "markdown",
   "metadata": {},
   "source": [
    "Now we can use the discretizer's `transform` method to discretize the data."
   ]
  },
  {
   "cell_type": "code",
   "execution_count": 39,
   "metadata": {
    "id": "aBPxj1MRKCHL"
   },
   "outputs": [],
   "source": [
    "# TODO\n",
    "dis_newdata = discretizer.transform(age_arr)"
   ]
  },
  {
   "cell_type": "markdown",
   "metadata": {},
   "source": [
    "The output is a sparse matrix, which we can convert to NumPy multidimensional array for viewing. We will expect to see one-hot encoding format as we specified earlier."
   ]
  },
  {
   "cell_type": "code",
   "execution_count": 40,
   "metadata": {
    "id": "aBPxj1MRKCHL",
    "scrolled": true
   },
   "outputs": [
    {
     "data": {
      "text/plain": [
       "array([[0., 0., 0., 0., 1.],\n",
       "       [0., 0., 0., 1., 0.],\n",
       "       [0., 0., 1., 0., 0.],\n",
       "       ...,\n",
       "       [0., 0., 1., 0., 0.],\n",
       "       [0., 0., 1., 0., 0.],\n",
       "       [0., 0., 0., 1., 0.]])"
      ]
     },
     "execution_count": 40,
     "metadata": {},
     "output_type": "execute_result"
    }
   ],
   "source": [
    "# TODO\n",
    "dis_newdata.toarray()"
   ]
  },
  {
   "cell_type": "markdown",
   "metadata": {
    "id": "jvcECuwGUzm1"
   },
   "source": [
    "# Polynomial Feature Construction\n",
    "\n",
    "It is often useful to add complexity to the model by considering nonlinear features of the input data. The transformer class [`PolynomialFeatures`](https://scikit-learn.org/stable/modules/generated/sklearn.preprocessing.PolynomialFeatures.html#sklearn.preprocessing.PolynomialFeatures) allows us to generate higher order terms and interaction terms (representing joint effects of multiple features) to consider this non-linearity. \n",
    "\n",
    "Refer to the class documentation for the definitions and default values of the parameters. Let's instantiate this class with degree 2, exclude bias columns, and only produce interaction features."
   ]
  },
  {
   "cell_type": "code",
   "execution_count": 41,
   "metadata": {
    "id": "3kSK25OMUzm2"
   },
   "outputs": [],
   "source": [
    "# TODO\n",
    "# poly_tfr = ?\n",
    "poly_tfr = preprocessing.PolynomialFeatures(degree=2, include_bias=False,interaction_only=True)"
   ]
  },
  {
   "cell_type": "markdown",
   "metadata": {},
   "source": [
    "Apply its `fit_transform` method to our numerical data columns. How many columns are there in the transformed data?"
   ]
  },
  {
   "cell_type": "code",
   "execution_count": 43,
   "metadata": {
    "id": "3kSK25OMUzm2",
    "scrolled": true
   },
   "outputs": [
    {
     "name": "stdout",
     "output_type": "stream",
     "text": [
      "     rest_BP  cholesterol  max_HR  oldpeak  vessels\n",
      "0        130          322     109      2.4        3\n",
      "1        115          564     160      1.6        0\n",
      "2        124          261     141      0.3        0\n",
      "3        128          263     105      0.2        1\n",
      "4        120          269     121      0.2        1\n",
      "..       ...          ...     ...      ...      ...\n",
      "265      172          199     162      0.5        0\n",
      "266      120          263     173      0.0        0\n",
      "267      140          294     153      1.3        0\n",
      "268      140          192     148      0.4        0\n",
      "269      160          286     108      1.5        3\n",
      "\n",
      "[270 rows x 5 columns]\n",
      "(270, 5)\n",
      "(270, 15)\n"
     ]
    }
   ],
   "source": [
    "# TODO\n",
    "# poly_feats = ?\n",
    "print(data.iloc[:,num_features])\n",
    "poly_feats = poly_tfr.fit_transform(data.iloc[:,num_features])\n",
    "print(data.iloc[:,num_features].shape)\n",
    "print(poly_feats.shape)"
   ]
  },
  {
   "cell_type": "markdown",
   "metadata": {},
   "source": [
    "We can view the names of the constructed features using the `get_feature_names_out` method of `PolynomialFeatures`."
   ]
  },
  {
   "cell_type": "code",
   "execution_count": 45,
   "metadata": {
    "id": "HGCLFrl1Uzm2",
    "scrolled": true
   },
   "outputs": [
    {
     "data": {
      "text/plain": [
       "array(['rest_BP', 'cholesterol', 'max_HR', 'oldpeak', 'vessels',\n",
       "       'rest_BP cholesterol', 'rest_BP max_HR', 'rest_BP oldpeak',\n",
       "       'rest_BP vessels', 'cholesterol max_HR', 'cholesterol oldpeak',\n",
       "       'cholesterol vessels', 'max_HR oldpeak', 'max_HR vessels',\n",
       "       'oldpeak vessels'], dtype=object)"
      ]
     },
     "execution_count": 45,
     "metadata": {},
     "output_type": "execute_result"
    }
   ],
   "source": [
    "# TODO\n",
    "poly_tfr.get_feature_names_out()"
   ]
  },
  {
   "cell_type": "markdown",
   "metadata": {},
   "source": [
    "Those form the columns of the transformed data, comprising original and constructed features. Let's see the values on the first row before and after feature construction."
   ]
  },
  {
   "cell_type": "code",
   "execution_count": 46,
   "metadata": {
    "id": "EDcdEzmUUzm2"
   },
   "outputs": [
    {
     "data": {
      "text/plain": [
       "rest_BP        130.0\n",
       "cholesterol    322.0\n",
       "max_HR         109.0\n",
       "oldpeak          2.4\n",
       "vessels          3.0\n",
       "Name: 0, dtype: float64"
      ]
     },
     "execution_count": 46,
     "metadata": {},
     "output_type": "execute_result"
    }
   ],
   "source": [
    "# TODO: Original feature values in first row\n",
    "data.iloc[0,num_features]"
   ]
  },
  {
   "cell_type": "code",
   "execution_count": 47,
   "metadata": {
    "id": "pP_i1HFhUzm2",
    "scrolled": true
   },
   "outputs": [
    {
     "data": {
      "text/plain": [
       "array([1.3000e+02, 3.2200e+02, 1.0900e+02, 2.4000e+00, 3.0000e+00,\n",
       "       4.1860e+04, 1.4170e+04, 3.1200e+02, 3.9000e+02, 3.5098e+04,\n",
       "       7.7280e+02, 9.6600e+02, 2.6160e+02, 3.2700e+02, 7.2000e+00])"
      ]
     },
     "execution_count": 47,
     "metadata": {},
     "output_type": "execute_result"
    }
   ],
   "source": [
    "# TODO: Transformed feature values in first row\n",
    "poly_feats[0]"
   ]
  },
  {
   "cell_type": "markdown",
   "metadata": {
    "id": "J_dgDexPUzm3"
   },
   "source": [
    "# Putting It Together: Pipeline and ColumnTransformer\n",
    "\n",
    "Our dataset contains heterogeneous data types. As we have done various different preprocessing on different columns - how do we put it all together? A simple approach could be to stitch it all together in a new DataFrame. The following code snippet could do categorical encoding and binning. \n",
    "```\n",
    "new_data = pd.DataFrame()\n",
    "\n",
    "for i in range(6):\n",
    "    new_data['age_'+str(i)] = data_disc[:,i]\n",
    "new_data['sex'] = data.sex\n",
    "for i in range(4):\n",
    "    new_data['chest_pain_'+str(i)] = data_cat[:,i]\n",
    "new_data['restBP'] = data.restBP\n",
    "new_data['cholesterol'] = data.cholesterol\n",
    "new_data['fast_sugar'] = data.fast_sugar\n",
    "for i in range(3):\n",
    "    new_data['rest_ECG_'+str(i)] = data_cat[:,4+i]\n",
    "new_data['max_HR'] = data.max_HR\n",
    "new_data['exer_angina'] = data.exer_angina\n",
    "new_data['oldpeak'] = data.oldpeak\n",
    "new_data['slope'] = data.slope\n",
    "new_data['vessels'] = data.vessels\n",
    "for i in range(3):\n",
    "    new_data['thal_'+str(i)] = data_cat[:,7+i]\n",
    "    \n",
    "new_data.head()\n",
    "```\n",
    "\n",
    "However, as the number of preprocessing steps increase and change, this approach becomes difficult to scale. To rescue us from this difficulty, sklearn has the [`sklearn.pipeline`](https://scikit-learn.org/stable/modules/classes.html#module-sklearn.pipeline) and [`sklearn.compose`](https://scikit-learn.org/stable/modules/classes.html#module-sklearn.compose) packages. "
   ]
  },
  {
   "cell_type": "code",
   "execution_count": 48,
   "metadata": {
    "id": "lBzfgtICUzm3"
   },
   "outputs": [],
   "source": [
    "from sklearn import pipeline\n",
    "from sklearn import compose"
   ]
  },
  {
   "cell_type": "markdown",
   "metadata": {
    "id": "26CQgpH7Uzm3"
   },
   "source": [
    "[__`pipeline.Pipeline`__](https://scikit-learn.org/stable/modules/generated/sklearn.pipeline.Pipeline.html#sklearn.pipeline.Pipeline) can be used to chain multiple _fixed_ steps into one. \n",
    "\n",
    "For example, our preprocessing steps for numeric columns are fixed: scaling, and doing polynomial feature creation. So we can essentially encapsulate these into a pipeline.\n",
    "\n",
    "Let's instantiate `Pipeline` to chain our `StandardScaler` and `PolynomialFeatures` transformers from earlier."
   ]
  },
  {
   "cell_type": "code",
   "execution_count": 51,
   "metadata": {
    "id": "MPbYcZF1Uzm3"
   },
   "outputs": [],
   "source": [
    "# TODO\n",
    "# numeric_transformer = ?\n",
    "numeric_transformer = pipeline.Pipeline(steps=[('scaler', preprocessing.StandardScaler()), \n",
    "                                               ('poly_fea', preprocessing.PolynomialFeatures(degree=2,include_bias=False,interaction_only=True))])"
   ]
  },
  {
   "cell_type": "markdown",
   "metadata": {
    "id": "_CG1TXlj42JA"
   },
   "source": [
    "We can blindly apply this numeric transformer (with `fit_transform`) to all our columns of data. Starting with 13 columns, how many columns will the fitted product have?"
   ]
  },
  {
   "cell_type": "code",
   "execution_count": 52,
   "metadata": {
    "id": "qgvtnKff4SxY"
   },
   "outputs": [
    {
     "data": {
      "text/plain": [
       "(270, 91)"
      ]
     },
     "execution_count": 52,
     "metadata": {},
     "output_type": "execute_result"
    }
   ],
   "source": [
    "# TODO\n",
    "numeric_transformer.fit_transform(data).shape\n",
    "# have 105 columns"
   ]
  },
  {
   "cell_type": "markdown",
   "metadata": {
    "id": "ogPCWB7k5UfY"
   },
   "source": [
    "However, this is not very useful -- what is the meaning of a polynomial variable comprising a nominal variable multiplied by a real variable?\n",
    "\n",
    "[__`compose.ColumnTransformer`__](https://scikit-learn.org/stable/modules/generated/sklearn.compose.ColumnTransformer.html#sklearn.compose.ColumnTransformer) helps to perform different transformations for different columns of the data, within a Pipeline that is safe from data leakage and that can be parameterized. To each column, a different transformation can be applied, such as preprocessing for different types of data.\n",
    "\n",
    "Let's instantiate `ColumnTransformer` to combine the following transformers that we have seen earlier:\n",
    "- apply the numeric transformation `Pipeline` to our numeric features;\n",
    "- apply the discretizer to our discrete feature;\n",
    "- apply the one-hot encoder to our categorical features;\n",
    "- apply the ordinal encoder to our ordinal features.\n",
    "\n",
    "We can specify that we want all remaining columns that were not specified in transformers, but present in the data passed to fit, to be automatically passed through."
   ]
  },
  {
   "cell_type": "code",
   "execution_count": 53,
   "metadata": {
    "id": "Mk1I09NqUzm4"
   },
   "outputs": [],
   "source": [
    "# TODO\n",
    "# preprocessor = ?\n",
    "\n",
    "numeric_transformer = pipeline.Pipeline([\n",
    "    ('scaler', preprocessing.StandardScaler()),          # Step 1: StandardScaler\n",
    "    ('poly_fea', preprocessing.PolynomialFeatures())    # Step 2: PolynomialFeatures\n",
    "])\n",
    "\n",
    "preprocessor = compose.ColumnTransformer(\n",
    "    transformers=[\n",
    "        ('num', numeric_transformer, num_features),  # Apply numeric_transformer to numeric_features\n",
    "        ('discrete', preprocessing.KBinsDiscretizer(n_bins=3, encode='ordinal'), disc_features),  # Apply discretizer to discrete_features\n",
    "        ('oh_enc', preprocessing.OneHotEncoder(), cat_features),  # Apply one-hot encoder to categorical_features\n",
    "        ('ord_enc', preprocessing.OrdinalEncoder(), ordinal_features)  # Apply ordinal encoder to ordinal_features\n",
    "    ])\n",
    "\n",
    "\n"
   ]
  },
  {
   "cell_type": "markdown",
   "metadata": {},
   "source": [
    "Now run its `fit_transform` and check the result."
   ]
  },
  {
   "cell_type": "code",
   "execution_count": 55,
   "metadata": {
    "id": "w1fT78O4Uzm4"
   },
   "outputs": [
    {
     "name": "stdout",
     "output_type": "stream",
     "text": [
      "(270, 33)\n"
     ]
    },
    {
     "data": {
      "text/plain": [
       "array([[ 1.        , -0.07540984,  1.40221232, ...,  0.        ,\n",
       "         0.        ,  1.        ],\n",
       "       [ 1.        , -0.91675934,  6.0930045 , ...,  0.        ,\n",
       "         1.        ,  1.        ],\n",
       "       [ 1.        , -0.41194964,  0.21982255, ...,  0.        ,\n",
       "         1.        ,  0.        ],\n",
       "       ...,\n",
       "       [ 1.        ,  0.48548982,  0.85947603, ...,  0.        ,\n",
       "         0.        ,  1.        ],\n",
       "       [ 1.        ,  0.48548982, -1.11763472, ...,  1.        ,\n",
       "         0.        ,  1.        ],\n",
       "       [ 1.        ,  1.60728915,  0.70440852, ...,  0.        ,\n",
       "         0.        ,  1.        ]])"
      ]
     },
     "execution_count": 55,
     "metadata": {},
     "output_type": "execute_result"
    }
   ],
   "source": [
    "# TODO\n",
    "compose = preprocessor.fit_transform(data)\n",
    "print(compose.shape)\n",
    "compose"
   ]
  },
  {
   "cell_type": "markdown",
   "metadata": {},
   "source": [
    "Finally, we can convert the preprocessed data back to DataFrame format for our use in analysis."
   ]
  },
  {
   "cell_type": "code",
   "execution_count": 60,
   "metadata": {
    "id": "JPULFDvxzSyG"
   },
   "outputs": [
    {
     "data": {
      "text/html": [
       "<div>\n",
       "<style scoped>\n",
       "    .dataframe tbody tr th:only-of-type {\n",
       "        vertical-align: middle;\n",
       "    }\n",
       "\n",
       "    .dataframe tbody tr th {\n",
       "        vertical-align: top;\n",
       "    }\n",
       "\n",
       "    .dataframe thead th {\n",
       "        text-align: right;\n",
       "    }\n",
       "</style>\n",
       "<table border=\"1\" class=\"dataframe\">\n",
       "  <thead>\n",
       "    <tr style=\"text-align: right;\">\n",
       "      <th></th>\n",
       "      <th>0</th>\n",
       "      <th>1</th>\n",
       "      <th>2</th>\n",
       "      <th>3</th>\n",
       "      <th>4</th>\n",
       "      <th>5</th>\n",
       "      <th>6</th>\n",
       "      <th>7</th>\n",
       "      <th>8</th>\n",
       "      <th>9</th>\n",
       "      <th>...</th>\n",
       "      <th>23</th>\n",
       "      <th>24</th>\n",
       "      <th>25</th>\n",
       "      <th>26</th>\n",
       "      <th>27</th>\n",
       "      <th>28</th>\n",
       "      <th>29</th>\n",
       "      <th>30</th>\n",
       "      <th>31</th>\n",
       "      <th>32</th>\n",
       "    </tr>\n",
       "  </thead>\n",
       "  <tbody>\n",
       "    <tr>\n",
       "      <th>0</th>\n",
       "      <td>1.0</td>\n",
       "      <td>-0.075410</td>\n",
       "      <td>1.402212</td>\n",
       "      <td>-1.759208</td>\n",
       "      <td>1.181012</td>\n",
       "      <td>2.472682</td>\n",
       "      <td>0.005687</td>\n",
       "      <td>-0.105741</td>\n",
       "      <td>0.132662</td>\n",
       "      <td>-0.089060</td>\n",
       "      <td>...</td>\n",
       "      <td>0.0</td>\n",
       "      <td>1.0</td>\n",
       "      <td>0.0</td>\n",
       "      <td>0.0</td>\n",
       "      <td>0.0</td>\n",
       "      <td>1.0</td>\n",
       "      <td>1.0</td>\n",
       "      <td>0.0</td>\n",
       "      <td>0.0</td>\n",
       "      <td>1.0</td>\n",
       "    </tr>\n",
       "    <tr>\n",
       "      <th>1</th>\n",
       "      <td>1.0</td>\n",
       "      <td>-0.916759</td>\n",
       "      <td>6.093004</td>\n",
       "      <td>0.446409</td>\n",
       "      <td>0.481153</td>\n",
       "      <td>-0.711535</td>\n",
       "      <td>0.840448</td>\n",
       "      <td>-5.585819</td>\n",
       "      <td>-0.409250</td>\n",
       "      <td>-0.441102</td>\n",
       "      <td>...</td>\n",
       "      <td>0.0</td>\n",
       "      <td>1.0</td>\n",
       "      <td>0.0</td>\n",
       "      <td>0.0</td>\n",
       "      <td>1.0</td>\n",
       "      <td>0.0</td>\n",
       "      <td>0.0</td>\n",
       "      <td>0.0</td>\n",
       "      <td>1.0</td>\n",
       "      <td>1.0</td>\n",
       "    </tr>\n",
       "    <tr>\n",
       "      <th>2</th>\n",
       "      <td>1.0</td>\n",
       "      <td>-0.411950</td>\n",
       "      <td>0.219823</td>\n",
       "      <td>-0.375291</td>\n",
       "      <td>-0.656118</td>\n",
       "      <td>-0.711535</td>\n",
       "      <td>0.169703</td>\n",
       "      <td>-0.090556</td>\n",
       "      <td>0.154601</td>\n",
       "      <td>0.270288</td>\n",
       "      <td>...</td>\n",
       "      <td>0.0</td>\n",
       "      <td>0.0</td>\n",
       "      <td>0.0</td>\n",
       "      <td>1.0</td>\n",
       "      <td>0.0</td>\n",
       "      <td>0.0</td>\n",
       "      <td>0.0</td>\n",
       "      <td>0.0</td>\n",
       "      <td>1.0</td>\n",
       "      <td>0.0</td>\n",
       "    </tr>\n",
       "    <tr>\n",
       "      <th>3</th>\n",
       "      <td>1.0</td>\n",
       "      <td>-0.187590</td>\n",
       "      <td>0.258589</td>\n",
       "      <td>-1.932198</td>\n",
       "      <td>-0.743600</td>\n",
       "      <td>0.349871</td>\n",
       "      <td>0.035190</td>\n",
       "      <td>-0.048509</td>\n",
       "      <td>0.362461</td>\n",
       "      <td>0.139492</td>\n",
       "      <td>...</td>\n",
       "      <td>0.0</td>\n",
       "      <td>0.0</td>\n",
       "      <td>0.0</td>\n",
       "      <td>0.0</td>\n",
       "      <td>0.0</td>\n",
       "      <td>1.0</td>\n",
       "      <td>0.0</td>\n",
       "      <td>0.0</td>\n",
       "      <td>1.0</td>\n",
       "      <td>1.0</td>\n",
       "    </tr>\n",
       "    <tr>\n",
       "      <th>4</th>\n",
       "      <td>1.0</td>\n",
       "      <td>-0.636310</td>\n",
       "      <td>0.374890</td>\n",
       "      <td>-1.240239</td>\n",
       "      <td>-0.743600</td>\n",
       "      <td>0.349871</td>\n",
       "      <td>0.404890</td>\n",
       "      <td>-0.238546</td>\n",
       "      <td>0.789176</td>\n",
       "      <td>0.473160</td>\n",
       "      <td>...</td>\n",
       "      <td>0.0</td>\n",
       "      <td>1.0</td>\n",
       "      <td>0.0</td>\n",
       "      <td>1.0</td>\n",
       "      <td>0.0</td>\n",
       "      <td>0.0</td>\n",
       "      <td>1.0</td>\n",
       "      <td>0.0</td>\n",
       "      <td>0.0</td>\n",
       "      <td>0.0</td>\n",
       "    </tr>\n",
       "    <tr>\n",
       "      <th>...</th>\n",
       "      <td>...</td>\n",
       "      <td>...</td>\n",
       "      <td>...</td>\n",
       "      <td>...</td>\n",
       "      <td>...</td>\n",
       "      <td>...</td>\n",
       "      <td>...</td>\n",
       "      <td>...</td>\n",
       "      <td>...</td>\n",
       "      <td>...</td>\n",
       "      <td>...</td>\n",
       "      <td>...</td>\n",
       "      <td>...</td>\n",
       "      <td>...</td>\n",
       "      <td>...</td>\n",
       "      <td>...</td>\n",
       "      <td>...</td>\n",
       "      <td>...</td>\n",
       "      <td>...</td>\n",
       "      <td>...</td>\n",
       "      <td>...</td>\n",
       "    </tr>\n",
       "    <tr>\n",
       "      <th>265</th>\n",
       "      <td>1.0</td>\n",
       "      <td>2.280369</td>\n",
       "      <td>-0.981951</td>\n",
       "      <td>0.532904</td>\n",
       "      <td>-0.481153</td>\n",
       "      <td>-0.711535</td>\n",
       "      <td>5.200082</td>\n",
       "      <td>-2.239210</td>\n",
       "      <td>1.215218</td>\n",
       "      <td>-1.097207</td>\n",
       "      <td>...</td>\n",
       "      <td>0.0</td>\n",
       "      <td>0.0</td>\n",
       "      <td>0.0</td>\n",
       "      <td>0.0</td>\n",
       "      <td>1.0</td>\n",
       "      <td>0.0</td>\n",
       "      <td>0.0</td>\n",
       "      <td>0.0</td>\n",
       "      <td>1.0</td>\n",
       "      <td>0.0</td>\n",
       "    </tr>\n",
       "    <tr>\n",
       "      <th>266</th>\n",
       "      <td>1.0</td>\n",
       "      <td>-0.636310</td>\n",
       "      <td>0.258589</td>\n",
       "      <td>1.008625</td>\n",
       "      <td>-0.918565</td>\n",
       "      <td>-0.711535</td>\n",
       "      <td>0.404890</td>\n",
       "      <td>-0.164543</td>\n",
       "      <td>-0.641798</td>\n",
       "      <td>0.584492</td>\n",
       "      <td>...</td>\n",
       "      <td>0.0</td>\n",
       "      <td>0.0</td>\n",
       "      <td>0.0</td>\n",
       "      <td>1.0</td>\n",
       "      <td>0.0</td>\n",
       "      <td>0.0</td>\n",
       "      <td>0.0</td>\n",
       "      <td>0.0</td>\n",
       "      <td>1.0</td>\n",
       "      <td>0.0</td>\n",
       "    </tr>\n",
       "    <tr>\n",
       "      <th>267</th>\n",
       "      <td>1.0</td>\n",
       "      <td>0.485490</td>\n",
       "      <td>0.859476</td>\n",
       "      <td>0.143677</td>\n",
       "      <td>0.218706</td>\n",
       "      <td>-0.711535</td>\n",
       "      <td>0.235700</td>\n",
       "      <td>0.417267</td>\n",
       "      <td>0.069754</td>\n",
       "      <td>0.106180</td>\n",
       "      <td>...</td>\n",
       "      <td>0.0</td>\n",
       "      <td>1.0</td>\n",
       "      <td>0.0</td>\n",
       "      <td>1.0</td>\n",
       "      <td>0.0</td>\n",
       "      <td>0.0</td>\n",
       "      <td>1.0</td>\n",
       "      <td>0.0</td>\n",
       "      <td>0.0</td>\n",
       "      <td>1.0</td>\n",
       "    </tr>\n",
       "    <tr>\n",
       "      <th>268</th>\n",
       "      <td>1.0</td>\n",
       "      <td>0.485490</td>\n",
       "      <td>-1.117635</td>\n",
       "      <td>-0.072560</td>\n",
       "      <td>-0.568636</td>\n",
       "      <td>-0.711535</td>\n",
       "      <td>0.235700</td>\n",
       "      <td>-0.542600</td>\n",
       "      <td>-0.035227</td>\n",
       "      <td>-0.276067</td>\n",
       "      <td>...</td>\n",
       "      <td>0.0</td>\n",
       "      <td>0.0</td>\n",
       "      <td>0.0</td>\n",
       "      <td>0.0</td>\n",
       "      <td>0.0</td>\n",
       "      <td>1.0</td>\n",
       "      <td>0.0</td>\n",
       "      <td>1.0</td>\n",
       "      <td>0.0</td>\n",
       "      <td>1.0</td>\n",
       "    </tr>\n",
       "    <tr>\n",
       "      <th>269</th>\n",
       "      <td>1.0</td>\n",
       "      <td>1.607289</td>\n",
       "      <td>0.704409</td>\n",
       "      <td>-1.802456</td>\n",
       "      <td>0.393671</td>\n",
       "      <td>2.472682</td>\n",
       "      <td>2.583378</td>\n",
       "      <td>1.132188</td>\n",
       "      <td>-2.897067</td>\n",
       "      <td>0.632743</td>\n",
       "      <td>...</td>\n",
       "      <td>0.0</td>\n",
       "      <td>1.0</td>\n",
       "      <td>0.0</td>\n",
       "      <td>0.0</td>\n",
       "      <td>0.0</td>\n",
       "      <td>1.0</td>\n",
       "      <td>1.0</td>\n",
       "      <td>0.0</td>\n",
       "      <td>0.0</td>\n",
       "      <td>1.0</td>\n",
       "    </tr>\n",
       "  </tbody>\n",
       "</table>\n",
       "<p>270 rows × 33 columns</p>\n",
       "</div>"
      ],
      "text/plain": [
       "      0         1         2         3         4         5         6   \\\n",
       "0    1.0 -0.075410  1.402212 -1.759208  1.181012  2.472682  0.005687   \n",
       "1    1.0 -0.916759  6.093004  0.446409  0.481153 -0.711535  0.840448   \n",
       "2    1.0 -0.411950  0.219823 -0.375291 -0.656118 -0.711535  0.169703   \n",
       "3    1.0 -0.187590  0.258589 -1.932198 -0.743600  0.349871  0.035190   \n",
       "4    1.0 -0.636310  0.374890 -1.240239 -0.743600  0.349871  0.404890   \n",
       "..   ...       ...       ...       ...       ...       ...       ...   \n",
       "265  1.0  2.280369 -0.981951  0.532904 -0.481153 -0.711535  5.200082   \n",
       "266  1.0 -0.636310  0.258589  1.008625 -0.918565 -0.711535  0.404890   \n",
       "267  1.0  0.485490  0.859476  0.143677  0.218706 -0.711535  0.235700   \n",
       "268  1.0  0.485490 -1.117635 -0.072560 -0.568636 -0.711535  0.235700   \n",
       "269  1.0  1.607289  0.704409 -1.802456  0.393671  2.472682  2.583378   \n",
       "\n",
       "           7         8         9   ...   23   24   25   26   27   28   29  \\\n",
       "0   -0.105741  0.132662 -0.089060  ...  0.0  1.0  0.0  0.0  0.0  1.0  1.0   \n",
       "1   -5.585819 -0.409250 -0.441102  ...  0.0  1.0  0.0  0.0  1.0  0.0  0.0   \n",
       "2   -0.090556  0.154601  0.270288  ...  0.0  0.0  0.0  1.0  0.0  0.0  0.0   \n",
       "3   -0.048509  0.362461  0.139492  ...  0.0  0.0  0.0  0.0  0.0  1.0  0.0   \n",
       "4   -0.238546  0.789176  0.473160  ...  0.0  1.0  0.0  1.0  0.0  0.0  1.0   \n",
       "..        ...       ...       ...  ...  ...  ...  ...  ...  ...  ...  ...   \n",
       "265 -2.239210  1.215218 -1.097207  ...  0.0  0.0  0.0  0.0  1.0  0.0  0.0   \n",
       "266 -0.164543 -0.641798  0.584492  ...  0.0  0.0  0.0  1.0  0.0  0.0  0.0   \n",
       "267  0.417267  0.069754  0.106180  ...  0.0  1.0  0.0  1.0  0.0  0.0  1.0   \n",
       "268 -0.542600 -0.035227 -0.276067  ...  0.0  0.0  0.0  0.0  0.0  1.0  0.0   \n",
       "269  1.132188 -2.897067  0.632743  ...  0.0  1.0  0.0  0.0  0.0  1.0  1.0   \n",
       "\n",
       "      30   31   32  \n",
       "0    0.0  0.0  1.0  \n",
       "1    0.0  1.0  1.0  \n",
       "2    0.0  1.0  0.0  \n",
       "3    0.0  1.0  1.0  \n",
       "4    0.0  0.0  0.0  \n",
       "..   ...  ...  ...  \n",
       "265  0.0  1.0  0.0  \n",
       "266  0.0  1.0  0.0  \n",
       "267  0.0  0.0  1.0  \n",
       "268  1.0  0.0  1.0  \n",
       "269  0.0  0.0  1.0  \n",
       "\n",
       "[270 rows x 33 columns]"
      ]
     },
     "execution_count": 60,
     "metadata": {},
     "output_type": "execute_result"
    }
   ],
   "source": [
    "# TODO\n",
    "pd.DataFrame(compose)"
   ]
  },
  {
   "cell_type": "markdown",
   "metadata": {
    "id": "aXAlgEAyzagu"
   },
   "source": [
    "# Dealing with Missing Values using `SimpleImputer`\n",
    "\n",
    "Since our dataset has no missing values, let us randomly remove some `age` values for the purpose of this tutorial."
   ]
  },
  {
   "cell_type": "code",
   "execution_count": 56,
   "metadata": {
    "id": "8JN1x-5mzhBW"
   },
   "outputs": [
    {
     "data": {
      "text/plain": [
       "array([70., 67., 57., 64., 74., 65., 56., nan, 60., 63., 59., 53., 44.,\n",
       "       61., 57., 71., 46., 53., 64., 40., 67., 48., 43., 47., 54., 48.,\n",
       "       46., 51., 58., 71., 57., 66., nan, 59., 50., 48., 61., 59., 42.,\n",
       "       48., 40., 62., 44., 46., 59., 58., 49., 44., 66., 65., 42., 52.,\n",
       "       65., 63., 45., 41., 61., 60., 59., 62., 57., 51., 44., 60., 63.,\n",
       "       nan, 51., 58., 44., 47., 61., 57., 70., 76., 67., 45., 45., 39.,\n",
       "       42., 56., 58., 35., 58., 41., 57., nan, 62., 59., 41., 50., 59.,\n",
       "       61., 54., 54., 52., 47., 66., 58., 64., 50., 44., 67., 49., 57.,\n",
       "       63., 48., 51., 60., nan, 45., 55., 41., 60., 54., 42., 49., 46.,\n",
       "       56., 66., 56., 49., 54., 57., 65., nan, 54., 62., 52., 52., 60.,\n",
       "       63., 66., 42., 64., 54., 46., nan, 56., 34., 57., 64., 59., 50.,\n",
       "       51., 54., 53., 52., 40., 58., 41., 41., 50., 54., 64., 51., 46.,\n",
       "       55., 45., 56., 66., nan, 62., 55., 58., 43., 64., 50., 53., 45.,\n",
       "       65., 69., 69., 67., 68., 34., 62., 51., 46., 67., 50., 42., 56.,\n",
       "       41., 42., nan, 43., 56., 52., 62., 70., 54., 70., 54., 35., 48.,\n",
       "       55., 58., 54., 69., 77., 68., 58., 60., 51., 55., 52., 60., 58.,\n",
       "       64., 37., 59., 51., 43., 58., 29., 41., 63., 51., 54., 44., 54.,\n",
       "       65., 57., 63., 35., 41., 62., 43., 58., 52., 61., 39., 45., 52.,\n",
       "       62., 62., 53., 43., 47., 52., 68., 39., 53., 62., 51., 60., 65.,\n",
       "       65., 60., 60., 54., 44., 44., 51., 59., 71., 61., 55., 64., 43.,\n",
       "       58., 60., 58., 49., 48., 52., 44., 56., 57., 67.])"
      ]
     },
     "execution_count": 56,
     "metadata": {},
     "output_type": "execute_result"
    }
   ],
   "source": [
    "data_drop = data.copy()\n",
    "data_drop.iloc[ np.random.randint(0, 268, size = 10).tolist(), 0 ] = np.nan\n",
    "data_drop.age.to_numpy()"
   ]
  },
  {
   "cell_type": "markdown",
   "metadata": {
    "id": "B5HKQ82L29fw"
   },
   "source": [
    "`sklearn.impute` package provides a [__`SimpleImputer`__](https://scikit-learn.org/stable/modules/generated/sklearn.impute.SimpleImputer.html) that can help us fill these missing values."
   ]
  },
  {
   "cell_type": "code",
   "execution_count": 57,
   "metadata": {
    "id": "p-N9AAhY05ff"
   },
   "outputs": [],
   "source": [
    "from sklearn.impute import SimpleImputer"
   ]
  },
  {
   "cell_type": "markdown",
   "metadata": {},
   "source": [
    "Let's instantiate the class to replace missing values with the mean of the column."
   ]
  },
  {
   "cell_type": "code",
   "execution_count": 58,
   "metadata": {
    "id": "p-N9AAhY05ff"
   },
   "outputs": [],
   "source": [
    "# TODO\n",
    "# imp_mean = ?\n",
    "imp_mean = SimpleImputer(missing_values=np.nan, strategy='mean')"
   ]
  },
  {
   "cell_type": "markdown",
   "metadata": {},
   "source": [
    "We can run the `fit` method first and see the computed values, in particular the mean `age` which will be used to replace the values we removed."
   ]
  },
  {
   "cell_type": "code",
   "execution_count": 59,
   "metadata": {
    "id": "p-N9AAhY05ff"
   },
   "outputs": [
    {
     "data": {
      "text/plain": [
       "SimpleImputer()"
      ]
     },
     "execution_count": 59,
     "metadata": {},
     "output_type": "execute_result"
    }
   ],
   "source": [
    "# TODO\n",
    "imp_mean.fit(data_drop)"
   ]
  },
  {
   "cell_type": "markdown",
   "metadata": {},
   "source": [
    "Now we can run the `transform` method to actually do the filling, and convert the result back to a DataFrame."
   ]
  },
  {
   "cell_type": "code",
   "execution_count": 60,
   "metadata": {
    "id": "jn2-2F983ZKc"
   },
   "outputs": [],
   "source": [
    "# TODO\n",
    "# data_filled = ?\n",
    "data_filled = pd.DataFrame(imp_mean.transform(data_drop), columns=data_drop.columns)"
   ]
  },
  {
   "cell_type": "markdown",
   "metadata": {},
   "source": [
    "The NumPy array format will enable us to see the entire column and check the replaced missing values."
   ]
  },
  {
   "cell_type": "code",
   "execution_count": 61,
   "metadata": {
    "id": "jn2-2F983ZKc"
   },
   "outputs": [
    {
     "data": {
      "text/plain": [
       "array([70.        , 67.        , 57.        , 64.        , 74.        ,\n",
       "       65.        , 56.        , 54.52490421, 60.        , 63.        ,\n",
       "       59.        , 53.        , 44.        , 61.        , 57.        ,\n",
       "       71.        , 46.        , 53.        , 64.        , 40.        ,\n",
       "       67.        , 48.        , 43.        , 47.        , 54.        ,\n",
       "       48.        , 46.        , 51.        , 58.        , 71.        ,\n",
       "       57.        , 66.        , 54.52490421, 59.        , 50.        ,\n",
       "       48.        , 61.        , 59.        , 42.        , 48.        ,\n",
       "       40.        , 62.        , 44.        , 46.        , 59.        ,\n",
       "       58.        , 49.        , 44.        , 66.        , 65.        ,\n",
       "       42.        , 52.        , 65.        , 63.        , 45.        ,\n",
       "       41.        , 61.        , 60.        , 59.        , 62.        ,\n",
       "       57.        , 51.        , 44.        , 60.        , 63.        ,\n",
       "       54.52490421, 51.        , 58.        , 44.        , 47.        ,\n",
       "       61.        , 57.        , 70.        , 76.        , 67.        ,\n",
       "       45.        , 45.        , 39.        , 42.        , 56.        ,\n",
       "       58.        , 35.        , 58.        , 41.        , 57.        ,\n",
       "       54.52490421, 62.        , 59.        , 41.        , 50.        ,\n",
       "       59.        , 61.        , 54.        , 54.        , 52.        ,\n",
       "       47.        , 66.        , 58.        , 64.        , 50.        ,\n",
       "       44.        , 67.        , 49.        , 57.        , 63.        ,\n",
       "       48.        , 51.        , 60.        , 54.52490421, 45.        ,\n",
       "       55.        , 41.        , 60.        , 54.        , 42.        ,\n",
       "       49.        , 46.        , 56.        , 66.        , 56.        ,\n",
       "       49.        , 54.        , 57.        , 65.        , 54.52490421,\n",
       "       54.        , 62.        , 52.        , 52.        , 60.        ,\n",
       "       63.        , 66.        , 42.        , 64.        , 54.        ,\n",
       "       46.        , 54.52490421, 56.        , 34.        , 57.        ,\n",
       "       64.        , 59.        , 50.        , 51.        , 54.        ,\n",
       "       53.        , 52.        , 40.        , 58.        , 41.        ,\n",
       "       41.        , 50.        , 54.        , 64.        , 51.        ,\n",
       "       46.        , 55.        , 45.        , 56.        , 66.        ,\n",
       "       54.52490421, 62.        , 55.        , 58.        , 43.        ,\n",
       "       64.        , 50.        , 53.        , 45.        , 65.        ,\n",
       "       69.        , 69.        , 67.        , 68.        , 34.        ,\n",
       "       62.        , 51.        , 46.        , 67.        , 50.        ,\n",
       "       42.        , 56.        , 41.        , 42.        , 54.52490421,\n",
       "       43.        , 56.        , 52.        , 62.        , 70.        ,\n",
       "       54.        , 70.        , 54.        , 35.        , 48.        ,\n",
       "       55.        , 58.        , 54.        , 69.        , 77.        ,\n",
       "       68.        , 58.        , 60.        , 51.        , 55.        ,\n",
       "       52.        , 60.        , 58.        , 64.        , 37.        ,\n",
       "       59.        , 51.        , 43.        , 58.        , 29.        ,\n",
       "       41.        , 63.        , 51.        , 54.        , 44.        ,\n",
       "       54.        , 65.        , 57.        , 63.        , 35.        ,\n",
       "       41.        , 62.        , 43.        , 58.        , 52.        ,\n",
       "       61.        , 39.        , 45.        , 52.        , 62.        ,\n",
       "       62.        , 53.        , 43.        , 47.        , 52.        ,\n",
       "       68.        , 39.        , 53.        , 62.        , 51.        ,\n",
       "       60.        , 65.        , 65.        , 60.        , 60.        ,\n",
       "       54.        , 44.        , 44.        , 51.        , 59.        ,\n",
       "       71.        , 61.        , 55.        , 64.        , 43.        ,\n",
       "       58.        , 60.        , 58.        , 49.        , 48.        ,\n",
       "       52.        , 44.        , 56.        , 57.        , 67.        ])"
      ]
     },
     "execution_count": 61,
     "metadata": {},
     "output_type": "execute_result"
    }
   ],
   "source": [
    "data_filled.age.to_numpy()"
   ]
  },
  {
   "cell_type": "markdown",
   "metadata": {
    "id": "eQV9l3FTUzm4"
   },
   "source": [
    "# Image Data and PCA (Feature Decomposition)\n",
    "\n",
    "## Dataset\n",
    "\n",
    "Now let us work on image data, as we have already explored tabular, hierarchical and array data in the previous tutorials. Let us use the [Olivetti dataset](https://cam-orl.co.uk/facedatabase.html), which was used in the context of a face recognition project at AT&T Laboratories Cambridge. This dataset contains a set of face images of 40 different subjects. This dataset is available in `sklearn` itself. \n",
    "\n",
    "The below code will fetch the dataset."
   ]
  },
  {
   "cell_type": "code",
   "execution_count": 62,
   "metadata": {
    "id": "BHE9WdVhUzm4"
   },
   "outputs": [],
   "source": [
    "from sklearn.datasets import fetch_olivetti_faces\n",
    "\n",
    "faces, targets = fetch_olivetti_faces( return_X_y=True )"
   ]
  },
  {
   "cell_type": "markdown",
   "metadata": {},
   "source": [
    "The returned data `faces` is an array representation of the images, where each row corresponds to a ravelled face image of original size 64 x 64 pixels."
   ]
  },
  {
   "cell_type": "code",
   "execution_count": 63,
   "metadata": {
    "scrolled": true
   },
   "outputs": [
    {
     "name": "stdout",
     "output_type": "stream",
     "text": [
      "(400, 4096)\n"
     ]
    },
    {
     "data": {
      "text/plain": [
       "array([[0.30991736, 0.3677686 , 0.41735536, ..., 0.15289256, 0.16115703,\n",
       "        0.1570248 ],\n",
       "       [0.45454547, 0.47107437, 0.5123967 , ..., 0.15289256, 0.15289256,\n",
       "        0.15289256],\n",
       "       [0.3181818 , 0.40082645, 0.49173555, ..., 0.14049587, 0.14876033,\n",
       "        0.15289256],\n",
       "       ...,\n",
       "       [0.5       , 0.53305787, 0.607438  , ..., 0.17768595, 0.14876033,\n",
       "        0.19008264],\n",
       "       [0.21487603, 0.21900827, 0.21900827, ..., 0.57438016, 0.59090906,\n",
       "        0.60330576],\n",
       "       [0.5165289 , 0.46280992, 0.28099173, ..., 0.35950413, 0.3553719 ,\n",
       "        0.38429752]], dtype=float32)"
      ]
     },
     "execution_count": 63,
     "metadata": {},
     "output_type": "execute_result"
    }
   ],
   "source": [
    "print( faces.shape )\n",
    "faces"
   ]
  },
  {
   "cell_type": "markdown",
   "metadata": {},
   "source": [
    "The returned `targets` are labels associated to each face image, ranging from 0-39 and correspond to the Subject IDs."
   ]
  },
  {
   "cell_type": "code",
   "execution_count": 64,
   "metadata": {
    "id": "3kLOh_ar33EJ",
    "scrolled": true
   },
   "outputs": [
    {
     "data": {
      "text/plain": [
       "array([ 0,  0,  0,  0,  0,  0,  0,  0,  0,  0,  1,  1,  1,  1,  1,  1,  1,\n",
       "        1,  1,  1,  2,  2,  2,  2,  2,  2,  2,  2,  2,  2,  3,  3,  3,  3,\n",
       "        3,  3,  3,  3,  3,  3,  4,  4,  4,  4,  4,  4,  4,  4,  4,  4,  5,\n",
       "        5,  5,  5,  5,  5,  5,  5,  5,  5,  6,  6,  6,  6,  6,  6,  6,  6,\n",
       "        6,  6,  7,  7,  7,  7,  7,  7,  7,  7,  7,  7,  8,  8,  8,  8,  8,\n",
       "        8,  8,  8,  8,  8,  9,  9,  9,  9,  9,  9,  9,  9,  9,  9, 10, 10,\n",
       "       10, 10, 10, 10, 10, 10, 10, 10, 11, 11, 11, 11, 11, 11, 11, 11, 11,\n",
       "       11, 12, 12, 12, 12, 12, 12, 12, 12, 12, 12, 13, 13, 13, 13, 13, 13,\n",
       "       13, 13, 13, 13, 14, 14, 14, 14, 14, 14, 14, 14, 14, 14, 15, 15, 15,\n",
       "       15, 15, 15, 15, 15, 15, 15, 16, 16, 16, 16, 16, 16, 16, 16, 16, 16,\n",
       "       17, 17, 17, 17, 17, 17, 17, 17, 17, 17, 18, 18, 18, 18, 18, 18, 18,\n",
       "       18, 18, 18, 19, 19, 19, 19, 19, 19, 19, 19, 19, 19, 20, 20, 20, 20,\n",
       "       20, 20, 20, 20, 20, 20, 21, 21, 21, 21, 21, 21, 21, 21, 21, 21, 22,\n",
       "       22, 22, 22, 22, 22, 22, 22, 22, 22, 23, 23, 23, 23, 23, 23, 23, 23,\n",
       "       23, 23, 24, 24, 24, 24, 24, 24, 24, 24, 24, 24, 25, 25, 25, 25, 25,\n",
       "       25, 25, 25, 25, 25, 26, 26, 26, 26, 26, 26, 26, 26, 26, 26, 27, 27,\n",
       "       27, 27, 27, 27, 27, 27, 27, 27, 28, 28, 28, 28, 28, 28, 28, 28, 28,\n",
       "       28, 29, 29, 29, 29, 29, 29, 29, 29, 29, 29, 30, 30, 30, 30, 30, 30,\n",
       "       30, 30, 30, 30, 31, 31, 31, 31, 31, 31, 31, 31, 31, 31, 32, 32, 32,\n",
       "       32, 32, 32, 32, 32, 32, 32, 33, 33, 33, 33, 33, 33, 33, 33, 33, 33,\n",
       "       34, 34, 34, 34, 34, 34, 34, 34, 34, 34, 35, 35, 35, 35, 35, 35, 35,\n",
       "       35, 35, 35, 36, 36, 36, 36, 36, 36, 36, 36, 36, 36, 37, 37, 37, 37,\n",
       "       37, 37, 37, 37, 37, 37, 38, 38, 38, 38, 38, 38, 38, 38, 38, 38, 39,\n",
       "       39, 39, 39, 39, 39, 39, 39, 39, 39])"
      ]
     },
     "execution_count": 64,
     "metadata": {},
     "output_type": "execute_result"
    }
   ],
   "source": [
    "targets"
   ]
  },
  {
   "cell_type": "markdown",
   "metadata": {},
   "source": [
    "We can use Matplotlib's function [`imshow`](https://matplotlib.org/stable/api/_as_gen/matplotlib.pyplot.imshow.html) to display data as an image. For example, let's display the 25th sample."
   ]
  },
  {
   "cell_type": "code",
   "execution_count": 65,
   "metadata": {
    "id": "dZjgzPG1Uzm4"
   },
   "outputs": [
    {
     "data": {
      "text/plain": [
       "<matplotlib.image.AxesImage at 0x1d52087c700>"
      ]
     },
     "execution_count": 65,
     "metadata": {},
     "output_type": "execute_result"
    },
    {
     "data": {
      "image/png": "[encoded data removed]",
      "text/plain": [
       "<Figure size 432x288 with 1 Axes>"
      ]
     },
     "metadata": {
      "needs_background": "light"
     },
     "output_type": "display_data"
    }
   ],
   "source": [
    "import matplotlib.pyplot as plt\n",
    "\n",
    "image_shape = (64,64)\n",
    "plt.imshow( faces[24].reshape(image_shape), cmap=plt.cm.gray )"
   ]
  },
  {
   "cell_type": "markdown",
   "metadata": {},
   "source": [
    "Let's perform standardization on this image data using `StandardScaler`."
   ]
  },
  {
   "cell_type": "code",
   "execution_count": 66,
   "metadata": {
    "id": "NdqZ6QiaUzm5"
   },
   "outputs": [],
   "source": [
    "# TODO\n",
    "scaler = preprocessing.StandardScaler()\n",
    "faces_scaled = scaler.fit_transform(faces)"
   ]
  },
  {
   "cell_type": "markdown",
   "metadata": {},
   "source": [
    "The transformation will also be visible when we display the resulting data using Matplotlib."
   ]
  },
  {
   "cell_type": "code",
   "execution_count": 69,
   "metadata": {
    "id": "NdqZ6QiaUzm5"
   },
   "outputs": [
    {
     "data": {
      "text/plain": [
       "<matplotlib.image.AxesImage at 0x1d5226de520>"
      ]
     },
     "execution_count": 69,
     "metadata": {},
     "output_type": "execute_result"
    },
    {
     "data": {
      "image/png": "[encoded data removed]",
      "text/plain": [
       "<Figure size 432x288 with 1 Axes>"
      ]
     },
     "metadata": {
      "needs_background": "light"
     },
     "output_type": "display_data"
    }
   ],
   "source": [
    "# TODO: Display the scaled 25th sample\n",
    "image_shape = (64,64)\n",
    "plt.imshow( faces_scaled[24].reshape(image_shape), cmap=plt.cm.gray )"
   ]
  },
  {
   "cell_type": "markdown",
   "metadata": {
    "id": "or9hnEP2Uzm5"
   },
   "source": [
    "## Principal Component Analysis\n",
    "\n",
    "Principal Component Analysis is used to decompose a multivariate dataset in a set of successive orthogonal components that explain a maximum amount of the variance. It is a technique which essentially helps us to reduce the dimensionality of our dataset. \n",
    "\n",
    "The [`sklearn.decomposition`](https://scikit-learn.org/stable/modules/classes.html#module-sklearn.decomposition) module provides the transformer [`PCA`](https://scikit-learn.org/stable/modules/generated/sklearn.decomposition.PCA.html#sklearn.decomposition.PCA). It learns `n_components` in its `fit` method, and can be used on new data to project it on these components. "
   ]
  },
  {
   "cell_type": "code",
   "execution_count": 71,
   "metadata": {
    "id": "l1c3gAZiUzm5"
   },
   "outputs": [
    {
     "data": {
      "text/plain": [
       "PCA()"
      ]
     },
     "execution_count": 71,
     "metadata": {},
     "output_type": "execute_result"
    }
   ],
   "source": [
    "from sklearn.decomposition import PCA\n",
    "\n",
    "# TODO: instantiate PCA and apply it to the standardized faces data\n",
    "# pca = ?\n",
    "pca = PCA()\n",
    "pca.fit(faces_scaled)"
   ]
  },
  {
   "cell_type": "markdown",
   "metadata": {
    "id": "or9hnEP2Uzm5"
   },
   "source": [
    "Let us find out how many components are sufficient to explain our faces dataset, by plotting the cumulative explained variance against the number of components."
   ]
  },
  {
   "cell_type": "code",
   "execution_count": 99,
   "metadata": {
    "id": "l1c3gAZiUzm5"
   },
   "outputs": [
    {
     "data": {
      "image/png": "[encoded data removed]",
      "text/plain": [
       "<Figure size 432x288 with 1 Axes>"
      ]
     },
     "metadata": {
      "needs_background": "light"
     },
     "output_type": "display_data"
    }
   ],
   "source": [
    "plt.plot( np.cumsum( pca.explained_variance_ratio_ ))\n",
    "plt.xlabel( 'number of components' )\n",
    "plt.ylabel( 'cumulative explained variance' )\n",
    "plt.grid()"
   ]
  },
  {
   "cell_type": "markdown",
   "metadata": {
    "id": "sohXCoGiUzm5"
   },
   "source": [
    "We see that 100 components explain about 90% of the variance in the dataset. Thus, those 100 components might be sufficient for our downstream tasks like prediction. \n",
    "\n",
    "As we have image data however, we can actually view these orthogonal components that PCA has learnt. These are called _Eigenfaces_. A combination of these eigenfaces is usually sufficient to recreate the original sample. "
   ]
  },
  {
   "cell_type": "code",
   "execution_count": 100,
   "metadata": {
    "colab": {
     "base_uri": "https://localhost:8080/"
    },
    "id": "bPaqtSEYUzm6",
    "outputId": "9b6b6046-8161-471c-ef7d-0a2c435554ec"
   },
   "outputs": [
    {
     "name": "stdout",
     "output_type": "stream",
     "text": [
      "Extracting the top 100 eigenfaces from 400 faces\n"
     ]
    }
   ],
   "source": [
    "n_components=100\n",
    "h = w = 64\n",
    "\n",
    "print( \"Extracting the top %d eigenfaces from %d faces\" % (n_components, faces_scaled.shape[0]) )\n",
    "pca = PCA( n_components=n_components, svd_solver='randomized', whiten=True ).fit( faces_scaled )\n",
    "\n",
    "eigenfaces = pca.components_.reshape(( n_components, h, w ))"
   ]
  },
  {
   "cell_type": "code",
   "execution_count": 101,
   "metadata": {
    "id": "RCqy4fwn9cox"
   },
   "outputs": [
    {
     "data": {
      "text/plain": [
       "(100, 4096)"
      ]
     },
     "execution_count": 101,
     "metadata": {},
     "output_type": "execute_result"
    }
   ],
   "source": [
    "pca.components_.shape"
   ]
  },
  {
   "cell_type": "code",
   "execution_count": 102,
   "metadata": {
    "id": "t_ykPcWLS7df"
   },
   "outputs": [
    {
     "data": {
      "text/plain": [
       "(100, 64, 64)"
      ]
     },
     "execution_count": 102,
     "metadata": {},
     "output_type": "execute_result"
    }
   ],
   "source": [
    "eigenfaces.shape"
   ]
  },
  {
   "cell_type": "markdown",
   "metadata": {},
   "source": [
    "Let's see how these Eigenfaces look like. The below code plots a gallery of portraits, with preset numbers of rows and columns."
   ]
  },
  {
   "cell_type": "code",
   "execution_count": 108,
   "metadata": {
    "id": "2hskJ_3EUzm6"
   },
   "outputs": [
    {
     "data": {
      "image/png": "[encoded data removed]",
      "text/plain": [
       "<Figure size 648x518.4 with 15 Axes>"
      ]
     },
     "metadata": {},
     "output_type": "display_data"
    }
   ],
   "source": [
    "def plot_gallery( images, titles, h, w, n_row=3, n_col=5 ):\n",
    "    \"Helper function to plot a gallery of portraits\"\n",
    "    plt.figure( figsize=(1.8 * n_col, 2.4 * n_row) )\n",
    "    plt.subplots_adjust( bottom=0, left=.01, right=.99, top=.90, hspace=.35 )\n",
    "    for i in range( n_row * n_col ):\n",
    "        plt.subplot( n_row, n_col,i+1)\n",
    "        plt.imshow( images[i].reshape((h, w)), cmap=plt.cm.gray )\n",
    "        plt.title( titles[i], size=12 )\n",
    "        plt.xticks(())\n",
    "        plt.yticks(())\n",
    "\n",
    "eigenface_titles = [\"eigenface %d\" % i for i in range(eigenfaces.shape[0])]\n",
    "plot_gallery( eigenfaces, eigenface_titles, h, w )\n",
    "\n",
    "plt.show()"
   ]
  },
  {
   "cell_type": "markdown",
   "metadata": {
    "id": "bCVTMmjQvt4f"
   },
   "source": [
    "Eigenfaces are eigenvectors used in the computer vision problem of human face recognition. They are the principal components of a distribution of faces. They determine the variance in faces in a dataset, and the variances can be used to encode and decode a face in machine learning. "
   ]
  }
 ],
 "metadata": {
  "colab": {
   "provenance": []
  },
  "kernelspec": {
   "display_name": "Python 3 (ipykernel)",
   "language": "python",
   "name": "python3"
  },
  "language_info": {
   "codemirror_mode": {
    "name": "ipython",
    "version": 3
   },
   "file_extension": ".py",
   "mimetype": "text/x-python",
   "name": "python",
   "nbconvert_exporter": "python",
   "pygments_lexer": "ipython3",
   "version": "3.9.12"
  }
 },
 "nbformat": 4,
 "nbformat_minor": 1
}
