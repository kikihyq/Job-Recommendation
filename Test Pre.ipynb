{
 "cells": [
  {
   "cell_type": "code",
   "execution_count": 1,
   "id": "c12e7e08",
   "metadata": {},
   "outputs": [],
   "source": [
    "import pandas as pd\n",
    "import numpy as np\n",
    "\n",
    "from scipy import stats\n",
    "from scipy.stats import norm\n",
    "from sklearn.model_selection import train_test_split"
   ]
  },
  {
   "cell_type": "code",
   "execution_count": 4,
   "id": "8f4a9896",
   "metadata": {},
   "outputs": [
    {
     "name": "stdout",
     "output_type": "stream",
     "text": [
      "实物期权的价格为：55.36053260774027\n"
     ]
    }
   ],
   "source": [
    "import math\n",
    "from scipy.stats import norm\n",
    "\n",
    "def 实物期权价格(S, K, r, T, sigma):\n",
    "    d1 = (math.log(S / K) + (r + (sigma**2) / 2) * T) / (sigma * math.sqrt(T))\n",
    "    d2 = d1 - sigma * math.sqrt(T)\n",
    "    N_d1 = norm.cdf(d1)\n",
    "    N_d2 = norm.cdf(d2)\n",
    "    \n",
    "    期权价格 = S * N_d1 - K * math.exp(-r * T) * N_d2\n",
    "\n",
    "    return 期权价格\n",
    "\n",
    "# 例子：\n",
    "S = 464  # 当前股价\n",
    "K = 900  # 行权价\n",
    "r = 0.06  # 无风险利率\n",
    "T = 3  # 到期时间（年）\n",
    "sigma = 0.395  # 波动率\n",
    "\n",
    "期权价格 = 实物期权价格(S, K, r, T, sigma)\n",
    "print(f\"实物期权的价格为：{期权价格}\")"
   ]
  },
  {
   "cell_type": "code",
   "execution_count": null,
   "id": "dce3b170",
   "metadata": {},
   "outputs": [],
   "source": [
    "# train-test split \n",
    "rng = np.random.RandomState(0)  # reproduceble\n",
    "sms_train, sms_test = train_test_split( 数据, test_size=0.20, random_state=rng ) "
   ]
  },
  {
   "cell_type": "code",
   "execution_count": null,
   "id": "c94246f2",
   "metadata": {},
   "outputs": [],
   "source": [
    "# TODO: Generate length feature\n",
    "sms_train['length'] = sms_train['message'].apply(len)"
   ]
  },
  {
   "cell_type": "code",
   "execution_count": null,
   "id": "7562d960",
   "metadata": {},
   "outputs": [],
   "source": [
    "# TODO: Generate word_count feature\n",
    "sms_train['word_count'] = sms_train['message'].apply( lambda x: len( [w for w in x.split(' ')] ))"
   ]
  },
  {
   "cell_type": "code",
   "execution_count": null,
   "id": "f63d6d13",
   "metadata": {},
   "outputs": [],
   "source": [
    "# change categorical to numerical\n",
    "y_train = [1 if l==\"spam\" else 0 for l in sms_train['label']]"
   ]
  },
  {
   "cell_type": "code",
   "execution_count": null,
   "id": "51ad1c90",
   "metadata": {},
   "outputs": [],
   "source": [
    "# get the nonzero_idx\n",
    "nonzero_idx = np.nonzero( data)\n",
    "\n",
    "# get the content of the nonzero_idx\n",
    "data[nonzero_idx]"
   ]
  },
  {
   "cell_type": "code",
   "execution_count": 11,
   "id": "a50a6642",
   "metadata": {},
   "outputs": [
    {
     "data": {
      "text/plain": [
       "2.0"
      ]
     },
     "execution_count": 11,
     "metadata": {},
     "output_type": "execute_result"
    }
   ],
   "source": [
    "#calculate IQR\n",
    "np.percentile(a, 25)"
   ]
  },
  {
   "cell_type": "code",
   "execution_count": null,
   "id": "331afcd4",
   "metadata": {},
   "outputs": [],
   "source": [
    "df.to_numpy()"
   ]
  },
  {
   "cell_type": "markdown",
   "id": "7d6d5630",
   "metadata": {},
   "source": [
    "## Visualization"
   ]
  },
  {
   "cell_type": "code",
   "execution_count": 32,
   "id": "71e94a64",
   "metadata": {},
   "outputs": [],
   "source": [
    "%matplotlib inline\n",
    "import matplotlib.pyplot as plt"
   ]
  },
  {
   "cell_type": "code",
   "execution_count": 33,
   "id": "0ccbe94a",
   "metadata": {},
   "outputs": [],
   "source": [
    "import seaborn as sns\n",
    "\n",
    "sns.set_theme()"
   ]
  },
  {
   "cell_type": "code",
   "execution_count": null,
   "id": "77b7453e",
   "metadata": {},
   "outputs": [],
   "source": [
    "sns.scatterplot( data=showsAfter2015, x=\"Statistics.Attendance\", y=\"Statistics.Gross\", hue=\"Show.Type\" )\n",
    "\n",
    "sns.relplot( data=showsAfter2015, x=\"Statistics.Attendance\", y=\"Statistics.Gross\", hue=\"Show.Theatre\", style=\"Show.Type\" )"
   ]
  },
  {
   "cell_type": "code",
   "execution_count": null,
   "id": "83949975",
   "metadata": {},
   "outputs": [],
   "source": []
  },
  {
   "cell_type": "markdown",
   "id": "a3e8fa01",
   "metadata": {},
   "source": [
    "## Descriptive Statistics"
   ]
  },
  {
   "cell_type": "code",
   "execution_count": null,
   "id": "22d2c3ae",
   "metadata": {},
   "outputs": [],
   "source": [
    "import scipy.stats as stats\n",
    "\n",
    "df[\"Rider_Age\"].max()-df[\"Rider_Age\"].min()\n",
    "df[\"Rider_Ratings\"].mean()\n",
    "df[\"Time\"].median()\n",
    "\n",
    "df.describe()\n",
    "\n",
    "df[\"Time\"].describe().median()\n",
    "\n",
    "df[\"Order_Type\"].mode()\n",
    "\n",
    "df[\"Order_Type\"].value_counts()\n",
    "\n",
    "stats.describe( df[\"Rider_Ratings\"] )"
   ]
  },
  {
   "cell_type": "code",
   "execution_count": 16,
   "id": "59bb49d5",
   "metadata": {},
   "outputs": [
    {
     "data": {
      "text/plain": [
       "array([ 1,  4,  9, 16, 16], dtype=int32)"
      ]
     },
     "execution_count": 16,
     "metadata": {},
     "output_type": "execute_result"
    }
   ],
   "source": [
    "# calculate mean\n",
    "a = np.array([1,2,3,4,4])\n",
    "b = np.array([1,2,3,4,4])\n",
    "a.mean()\n",
    "a.var()\n",
    "a.std()\n",
    "stats.mode(a)\n",
    "np.median(a)\n",
    "np.cov(a)\n",
    "np.corrcoef(a,b)\n",
    "np.exp(a)\n",
    "np.square(a)"
   ]
  },
  {
   "cell_type": "markdown",
   "id": "ac464a8b",
   "metadata": {},
   "source": [
    "## Group and filter\n"
   ]
  },
  {
   "cell_type": "code",
   "execution_count": 17,
   "id": "68a608ac",
   "metadata": {},
   "outputs": [
    {
     "data": {
      "text/html": [
       "<div>\n",
       "<style scoped>\n",
       "    .dataframe tbody tr th:only-of-type {\n",
       "        vertical-align: middle;\n",
       "    }\n",
       "\n",
       "    .dataframe tbody tr th {\n",
       "        vertical-align: top;\n",
       "    }\n",
       "\n",
       "    .dataframe thead th {\n",
       "        text-align: right;\n",
       "    }\n",
       "</style>\n",
       "<table border=\"1\" class=\"dataframe\">\n",
       "  <thead>\n",
       "    <tr style=\"text-align: right;\">\n",
       "      <th></th>\n",
       "      <th>type</th>\n",
       "      <th>Amount</th>\n",
       "    </tr>\n",
       "  </thead>\n",
       "  <tbody>\n",
       "    <tr>\n",
       "      <th>0</th>\n",
       "      <td>A</td>\n",
       "      <td>10</td>\n",
       "    </tr>\n",
       "    <tr>\n",
       "      <th>1</th>\n",
       "      <td>A</td>\n",
       "      <td>20</td>\n",
       "    </tr>\n",
       "    <tr>\n",
       "      <th>2</th>\n",
       "      <td>B</td>\n",
       "      <td>50</td>\n",
       "    </tr>\n",
       "    <tr>\n",
       "      <th>3</th>\n",
       "      <td>A</td>\n",
       "      <td>40</td>\n",
       "    </tr>\n",
       "    <tr>\n",
       "      <th>4</th>\n",
       "      <td>B</td>\n",
       "      <td>60</td>\n",
       "    </tr>\n",
       "    <tr>\n",
       "      <th>5</th>\n",
       "      <td>A</td>\n",
       "      <td>30</td>\n",
       "    </tr>\n",
       "  </tbody>\n",
       "</table>\n",
       "</div>"
      ],
      "text/plain": [
       "  type  Amount\n",
       "0    A      10\n",
       "1    A      20\n",
       "2    B      50\n",
       "3    A      40\n",
       "4    B      60\n",
       "5    A      30"
      ]
     },
     "execution_count": 17,
     "metadata": {},
     "output_type": "execute_result"
    }
   ],
   "source": [
    "a = pd.DataFrame({\"type\":[\"A\",\"A\",\"B\",\"A\",\"B\",\"A\"]\n",
    "                 ,\"Amount\":[10,20,50,40,60,30]})\n",
    "a"
   ]
  },
  {
   "cell_type": "code",
   "execution_count": 19,
   "id": "b4686c4a",
   "metadata": {},
   "outputs": [
    {
     "data": {
      "text/plain": [
       "{'A': [0, 1, 3, 5], 'B': [2, 4]}"
      ]
     },
     "execution_count": 19,
     "metadata": {},
     "output_type": "execute_result"
    }
   ],
   "source": [
    "a.groupby([\"type\"]).groups\n",
    "#a.groupby([\"type\"]).get_group(\"A\")\n",
    "a.groupby([\"Vehicle\"])[\"Time\"].median()"
   ]
  },
  {
   "cell_type": "markdown",
   "id": "d6442b6b",
   "metadata": {},
   "source": [
    "## Probability"
   ]
  },
  {
   "cell_type": "code",
   "execution_count": 42,
   "id": "d5bbf821",
   "metadata": {},
   "outputs": [
    {
     "data": {
      "text/plain": [
       "0.03875953108451433"
      ]
     },
     "execution_count": 42,
     "metadata": {},
     "output_type": "execute_result"
    }
   ],
   "source": [
    "p = stats.binom(20,0.15)\n",
    "p.pmf(0) #r.pmf(0) 表示在概率质量函数（PMF）中计算随机变量 r 取值为 0 的概率。"
   ]
  },
  {
   "cell_type": "code",
   "execution_count": 62,
   "id": "32179ae6",
   "metadata": {},
   "outputs": [
    {
     "data": {
      "text/plain": [
       "0.3522748258432967"
      ]
     },
     "execution_count": 62,
     "metadata": {},
     "output_type": "execute_result"
    }
   ],
   "source": [
    "1-p.cdf(3)"
   ]
  },
  {
   "cell_type": "code",
   "execution_count": 63,
   "id": "7d767145",
   "metadata": {},
   "outputs": [
    {
     "data": {
      "text/plain": [
       "6.0"
      ]
     },
     "execution_count": 63,
     "metadata": {},
     "output_type": "execute_result"
    }
   ],
   "source": [
    "p.ppf(0.95)"
   ]
  },
  {
   "cell_type": "code",
   "execution_count": 2,
   "id": "24ba8bfa",
   "metadata": {},
   "outputs": [],
   "source": [
    "# calculate probability\n",
    "z = norm(4,3)\n",
    "x = 1"
   ]
  },
  {
   "cell_type": "code",
   "execution_count": 4,
   "id": "d7885e68",
   "metadata": {},
   "outputs": [
    {
     "data": {
      "text/plain": [
       "0.12579440923099774"
      ]
     },
     "execution_count": 4,
     "metadata": {},
     "output_type": "execute_result"
    }
   ],
   "source": [
    "z.pdf(x)"
   ]
  },
  {
   "cell_type": "code",
   "execution_count": 5,
   "id": "54d07793",
   "metadata": {},
   "outputs": [
    {
     "data": {
      "text/plain": [
       "0.36944134018176367"
      ]
     },
     "execution_count": 5,
     "metadata": {},
     "output_type": "execute_result"
    }
   ],
   "source": [
    "z.cdf(x)"
   ]
  },
  {
   "cell_type": "code",
   "execution_count": 6,
   "id": "a111910d",
   "metadata": {},
   "outputs": [
    {
     "data": {
      "text/plain": [
       "inf"
      ]
     },
     "execution_count": 6,
     "metadata": {},
     "output_type": "execute_result"
    }
   ],
   "source": [
    "z.ppf(x)"
   ]
  },
  {
   "cell_type": "code",
   "execution_count": 13,
   "id": "d28ecadd",
   "metadata": {},
   "outputs": [],
   "source": [
    "def f(x):\n",
    "    return x"
   ]
  },
  {
   "cell_type": "code",
   "execution_count": 14,
   "id": "c3f9d3f5",
   "metadata": {},
   "outputs": [
    {
     "data": {
      "text/plain": [
       "2.0"
      ]
     },
     "execution_count": 14,
     "metadata": {},
     "output_type": "execute_result"
    }
   ],
   "source": [
    "z.expect(f)"
   ]
  },
  {
   "cell_type": "markdown",
   "id": "48bf459e",
   "metadata": {},
   "source": [
    "## Preprocess"
   ]
  },
  {
   "cell_type": "code",
   "execution_count": 22,
   "id": "8cf652b0",
   "metadata": {},
   "outputs": [],
   "source": [
    "from sklearn import preprocessing"
   ]
  },
  {
   "cell_type": "code",
   "execution_count": null,
   "id": "190468d2",
   "metadata": {},
   "outputs": [],
   "source": [
    "# standarization\n",
    "scaler = preprocessing.StandardScaler()\n",
    "num_scaled = scaler.fit_transform( data.iloc[:,num_features] )"
   ]
  },
  {
   "cell_type": "code",
   "execution_count": null,
   "id": "44397101",
   "metadata": {},
   "outputs": [],
   "source": [
    "# normalization\n",
    "preprocessing.Normalizer( norm='l2' ).fit_transform( data.iloc[:,num_features] )  # the default is the l2 norm (Euclidean)."
   ]
  },
  {
   "cell_type": "code",
   "execution_count": null,
   "id": "8155e39d",
   "metadata": {},
   "outputs": [],
   "source": [
    "# OrdinalEncoder : 处理有序类别数据\n",
    "ord_enc = preprocessing.OrdinalEncoder( categories='auto' )\n",
    "num_encoded = ord_enc.fit_transform(data)"
   ]
  },
  {
   "cell_type": "code",
   "execution_count": null,
   "id": "daffa70d",
   "metadata": {},
   "outputs": [],
   "source": [
    "# OoneHotEncoder : 处理无序类别数据\n",
    "oh_enc = preprocessing.OneHotEncoder( categories='auto', handle_unknown='ignore' )\n",
    "oh_enc.fit_transform( data.iloc[:, cat_features] )\n",
    "\n",
    "# 一般得到的结果是稀疏矩阵，需要转为Numpy类型才能查看\n",
    "# convert that sparse matrix output to NumPy multidimensional array so that we can view it, and save it as data_cat for further use.\n",
    "data_cat = oh_enc.fit_transform( data.iloc[:, cat_features] ).toarray()\n",
    "data_cat\n",
    "\n",
    "oh_enc.categories_"
   ]
  },
  {
   "cell_type": "code",
   "execution_count": null,
   "id": "0f052c09",
   "metadata": {},
   "outputs": [],
   "source": [
    "# Discretization\n",
    "discretizer = preprocessing.KBinsDiscretizer( n_bins=5, strategy='uniform', encode='onehot' )\n",
    "\n",
    "# 因为这个KBinDiscretizer只能处理array，需要转为列向量，\n",
    "#As KBinDiscretizer works with an array, we first need to convert the age column to a NumPy array of dimension num_values x 1, \n",
    "#where the single column corresponds to the single feature. (You can use reshape to control the dimension.)\n",
    "age_arr = np.array(data['age']).reshape(-1,1)\n",
    "age_arr.shape\n",
    "\n",
    "discretizer.fit( age_arr ).bin_edges_\n",
    "k = discretizer.transform( age_arr )"
   ]
  },
  {
   "cell_type": "markdown",
   "id": "86405b88",
   "metadata": {},
   "source": [
    "## Polynomial Feature Construction"
   ]
  },
  {
   "cell_type": "code",
   "execution_count": null,
   "id": "37262951",
   "metadata": {},
   "outputs": [],
   "source": [
    "poly_tfr = preprocessing.PolynomialFeatures( degree=2, include_bias=False, interaction_only=True )\n",
    "poly_feats = poly_tfr.fit_transform( data.iloc[:,num_features] )"
   ]
  },
  {
   "cell_type": "markdown",
   "id": "d88b66df",
   "metadata": {},
   "source": [
    "## Pipeline and column transform"
   ]
  },
  {
   "cell_type": "code",
   "execution_count": 23,
   "id": "15d2a91c",
   "metadata": {},
   "outputs": [],
   "source": [
    "from sklearn import pipeline\n",
    "from sklearn import compose"
   ]
  },
  {
   "cell_type": "markdown",
   "id": "3d3feb6e",
   "metadata": {},
   "source": [
    "`pipeline.Pipeline` can be used to chain multiple fixed steps into one."
   ]
  },
  {
   "cell_type": "code",
   "execution_count": null,
   "id": "37993052",
   "metadata": {},
   "outputs": [],
   "source": [
    "# 数值型数据都是先scale再构建polynomial feature\n",
    "numeric_transformer = pipeline.Pipeline( steps=[('scaler', scaler), ('poly', poly_tfr)] )\n",
    "\n",
    "'''\n",
    "This is the same as:\n",
    "\n",
    "numeric_transformer = pipeline.Pipeline( steps=[('scaler', preprocessing.StandardScaler()), \n",
    "                                                ('poly', preprocessing.PolynomialFeatures( degree=2, include_bias=False, interaction_only=True ))] )\n",
    "'''\n",
    "\n",
    "numeric_transformer.fit_transform( data )"
   ]
  },
  {
   "cell_type": "markdown",
   "id": "33361c32",
   "metadata": {},
   "source": [
    "`compose.ColumnTransformer` 更好用，对于每一列，可以应用不同的转换，例如对不同类型的数据进行预处理。"
   ]
  },
  {
   "cell_type": "code",
   "execution_count": null,
   "id": "edc3a0c8",
   "metadata": {},
   "outputs": [],
   "source": [
    "# 其中，每一个都需要先实例化，再给出对应的feature\n",
    "preprocessor = compose.ColumnTransformer(\n",
    "                transformers=[\n",
    "                    ('num', numeric_transformer, num_features),\n",
    "                    ('disc', discretizer, disc_features),\n",
    "                    ('cat', oh_enc, cat_features),\n",
    "                    ('ord', ord_enc, ordinal_features)\n",
    "                ], remainder=\"passthrough\"\n",
    "                )"
   ]
  },
  {
   "cell_type": "code",
   "execution_count": null,
   "id": "2a493355",
   "metadata": {},
   "outputs": [],
   "source": [
    "preprocd_data = preprocessor.fit_transform(data)"
   ]
  },
  {
   "cell_type": "markdown",
   "id": "fdf8f0d2",
   "metadata": {},
   "source": [
    "## Missing values"
   ]
  },
  {
   "cell_type": "code",
   "execution_count": 24,
   "id": "fc1dbe0f",
   "metadata": {},
   "outputs": [],
   "source": [
    "from sklearn.impute import SimpleImputer"
   ]
  },
  {
   "cell_type": "code",
   "execution_count": null,
   "id": "d08df7f9",
   "metadata": {},
   "outputs": [],
   "source": [
    "imp_mean = SimpleImputer( missing_values=np.nan, strategy='mean' )\n",
    "imp_mean.fit( data_drop ).statistics_\n",
    "imp_mean.transform( data_drop )"
   ]
  },
  {
   "cell_type": "markdown",
   "id": "63329b0f",
   "metadata": {},
   "source": [
    "## PCA"
   ]
  },
  {
   "cell_type": "code",
   "execution_count": 25,
   "id": "ff527361",
   "metadata": {},
   "outputs": [],
   "source": [
    "from sklearn.decomposition import PCA\n"
   ]
  },
  {
   "cell_type": "code",
   "execution_count": null,
   "id": "c4a1f4a9",
   "metadata": {},
   "outputs": [],
   "source": [
    "pca = PCA( n_components=n_components, svd_solver='randomized', whiten=True ).fit( faces_scaled )\n",
    "\n",
    "eigenfaces = pca.components_"
   ]
  },
  {
   "cell_type": "code",
   "execution_count": 26,
   "id": "d74844d5",
   "metadata": {},
   "outputs": [],
   "source": [
    "import seaborn as sns"
   ]
  },
  {
   "cell_type": "markdown",
   "id": "538dbe0d",
   "metadata": {},
   "source": [
    "# Statsmodels"
   ]
  },
  {
   "cell_type": "code",
   "execution_count": 29,
   "id": "f4c308a2",
   "metadata": {},
   "outputs": [],
   "source": [
    "import statsmodels.api as sm\n",
    "import statsmodels.formula.api as smf"
   ]
  },
  {
   "cell_type": "markdown",
   "id": "a796ac5d",
   "metadata": {},
   "source": [
    "### Simple Linear Regression\n",
    "\n",
    "`endog` (the response y) and `exog` (the predictor x)."
   ]
  },
  {
   "cell_type": "code",
   "execution_count": null,
   "id": "cf090325",
   "metadata": {},
   "outputs": [],
   "source": [
    "# plot the regression of sales onto TV, using seaborn regplot.\n",
    "sns.regplot( x=advertising.TV, y=advertising.Sales, ci=None, scatter_kws={'color':'r', 's':9}  )\n",
    "\n",
    "# Start the x-axis at 0 to make the intercept clear\n",
    "plt.xlim( xmin=0 )"
   ]
  },
  {
   "cell_type": "code",
   "execution_count": 30,
   "id": "12aab5fa",
   "metadata": {},
   "outputs": [],
   "source": [
    "# 计算参数，两种方法，一种是`OLS` from `api` ,另一种是`ols` from `formula.api`.\n",
    "\n",
    "# 第一种\n",
    "X = advertising[['TV']]\n",
    "y = advertising[['Sales']]\n",
    "est = sm.OLS( y, sm.add_constant(X) ).fit() \n",
    "est.summary()\n",
    "\n",
    "#第二种\n",
    "est = smf.ols( formula='Sales ~ TV', data=advertising ).fit()\n",
    "est.summary()\n",
    "\n",
    "# 看计算出来的参数结果\n",
    "est.params"
   ]
  },
  {
   "cell_type": "code",
   "execution_count": null,
   "id": "a96b3c86",
   "metadata": {},
   "outputs": [],
   "source": [
    "# 模型预测\n",
    "# Construct a DataFrame, which is the format expected by the statsmodels interface \n",
    "X_test = pd.DataFrame( {'TV': [25]} )\n",
    "\n",
    "est.predict( X_test )"
   ]
  },
  {
   "cell_type": "code",
   "execution_count": null,
   "id": "2ed74322",
   "metadata": {},
   "outputs": [],
   "source": [
    "# 计算残差和衡量误差\n",
    "\n",
    "# RSS - residual sum of squares (RSS) ( 𝑒21+𝑒22+...)\n",
    "est.ssr  #(sum of squared residuals) in the OLS result.\n",
    "\n",
    "# RSE -   √𝑅𝑆𝐸=𝑅𝑆𝑆/(𝑛−2) ; where  𝑛  is the number of samples.\n",
    "np.sqrt( est.ssr / (len(advertising.TV) - 2) )\n",
    "#The RSE is found to be 3.26. In other words, \n",
    "#actual sales in each market deviate from the true regression line by approximately 3.26 units, on average.\n",
    "\n",
    "\n",
    "# standard errors of the model coefficients,\n",
    "est.bse\n",
    "\n",
    "est.resid"
   ]
  },
  {
   "cell_type": "code",
   "execution_count": null,
   "id": "64b20ee3",
   "metadata": {},
   "outputs": [],
   "source": [
    "#置信区间与假设检验\n",
    "\n",
    "# get 95% confidence interval of the model coefficients.\n",
    "est.conf_int( alpha = .05 )\n",
    "\n",
    "est.pvalues\n",
    "\n",
    "est.rsquared\n"
   ]
  },
  {
   "cell_type": "markdown",
   "id": "66461db7",
   "metadata": {},
   "source": [
    " `sns.residplot` which will regress y on x and then draw a scatterplot of the residuals. So the graph we will obtain will be a scatterplot for the residuals with the predictor variable."
   ]
  },
  {
   "cell_type": "code",
   "execution_count": null,
   "id": "945dae3c",
   "metadata": {},
   "outputs": [],
   "source": [
    "# plot the residuals with respect to the predicted values.\n",
    "sns.residplot( x=advertising['TV'], y=advertising['Sales'], lowess=True, order=1, line_kws=dict(color=\"r\") )"
   ]
  },
  {
   "cell_type": "code",
   "execution_count": null,
   "id": "305fccff",
   "metadata": {},
   "outputs": [],
   "source": [
    "# 构建多项式回归\n",
    "poly_est = smf.ols( 'np.log(Sales) ~ TV + I(TV**2)', data=advertising ).fit()\n",
    "poly_est.summary()\n",
    "\n",
    "# To see the values in the model:\n",
    "smf.ols( 'np.log(Sales) ~ TV + I(TV**2)', data=advertising ).exog[:5,]\n",
    "\n",
    "# 继续画residplot，注意此时的order为2\n",
    "sns.residplot( x=advertising[\"TV\"], y=np.log(advertising['Sales'] ), lowess=True, order=2, line_kws=dict(color=\"r\") )"
   ]
  },
  {
   "cell_type": "code",
   "execution_count": 31,
   "id": "bc2b3d03",
   "metadata": {
    "collapsed": true
   },
   "outputs": [
    {
     "ename": "NameError",
     "evalue": "name 'est' is not defined",
     "output_type": "error",
     "traceback": [
      "\u001b[1;31m---------------------------------------------------------------------------\u001b[0m",
      "\u001b[1;31mNameError\u001b[0m                                 Traceback (most recent call last)",
      "Input \u001b[1;32mIn [31]\u001b[0m, in \u001b[0;36m<cell line: 5>\u001b[1;34m()\u001b[0m\n\u001b[0;32m      1\u001b[0m \u001b[38;5;66;03m# 模型预测\u001b[39;00m\n\u001b[0;32m      2\u001b[0m \u001b[38;5;66;03m# Construct a DataFrame, which is the format expected by the statsmodels interface \u001b[39;00m\n\u001b[0;32m      3\u001b[0m X_test \u001b[38;5;241m=\u001b[39m pd\u001b[38;5;241m.\u001b[39mDataFrame( {\u001b[38;5;124m'\u001b[39m\u001b[38;5;124mTV\u001b[39m\u001b[38;5;124m'\u001b[39m: [\u001b[38;5;241m25\u001b[39m]} )\n\u001b[1;32m----> 5\u001b[0m \u001b[43mest\u001b[49m\u001b[38;5;241m.\u001b[39mpredict( X_test )\n",
      "\u001b[1;31mNameError\u001b[0m: name 'est' is not defined"
     ]
    }
   ],
   "source": [
    "# 模型预测\n",
    "# Construct a DataFrame, which is the format expected by the statsmodels interface \n",
    "X_test = pd.DataFrame( {'TV': [25]} )\n",
    "\n",
    "est.predict( X_test )"
   ]
  },
  {
   "cell_type": "markdown",
   "id": "eb46ede6",
   "metadata": {},
   "source": [
    "### Multiple Linear regression\n"
   ]
  },
  {
   "cell_type": "code",
   "execution_count": null,
   "id": "5c045de9",
   "metadata": {},
   "outputs": [],
   "source": [
    "mul_est = smf.ols( formula='Sales ~ TV + Radio + Newspaper', data=advertising ).fit()\n",
    "mul_est.summary()\n",
    "\n",
    "# 检查数据的correlation\n",
    "advertising.corr()"
   ]
  },
  {
   "cell_type": "code",
   "execution_count": null,
   "id": "52d4e0ce",
   "metadata": {},
   "outputs": [],
   "source": [
    "print( \"RSE:\", mul_est.resid.std() )\n",
    "print( \"R squared:\", mul_est.rsquared )\n",
    "print( \"F-statistic:\", mul_est.fvalue )\n",
    "print( \"F-test pvalue:\", mul_est.f_pvalue )"
   ]
  }
 ],
 "metadata": {
  "kernelspec": {
   "display_name": "Python 3 (ipykernel)",
   "language": "python",
   "name": "python3"
  },
  "language_info": {
   "codemirror_mode": {
    "name": "ipython",
    "version": 3
   },
   "file_extension": ".py",
   "mimetype": "text/x-python",
   "name": "python",
   "nbconvert_exporter": "python",
   "pygments_lexer": "ipython3",
   "version": "3.9.12"
  }
 },
 "nbformat": 4,
 "nbformat_minor": 5
}
